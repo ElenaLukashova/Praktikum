{
 "cells": [
  {
   "cell_type": "markdown",
   "metadata": {},
   "source": [
    "# Проект \"Анализ поведения пользователей в мобильном приложении\""
   ]
  },
  {
   "cell_type": "markdown",
   "metadata": {},
   "source": [
    "В нашем распоряжении данные о событиях, совершенных в мобильном приложении, где пользователи продают свои ненужные вещи. Необходимо выделить основные сценарии использования приложения, проанализировать связь целевого события (просмотра контактов) и других действий пользователей."
   ]
  },
  {
   "cell_type": "markdown",
   "metadata": {},
   "source": [
    "**Описание данных**  \n",
    "\n",
    "Колонки в *mobile_sources.csv*: \n",
    "\n",
    "- `userId` — идентификатор пользователя,\n",
    "- `source` — источник, с которого пользователь установил приложение.\n",
    "\n",
    "Колонки в *mobile_dataset.csv*:\n",
    "\n",
    "- `event.time` — время совершения,\n",
    "- `user.id` — идентификатор пользователя,\n",
    "- `event.name` — действие пользователя.\n",
    "\n",
    "Виды действий:\n",
    "\n",
    "- `advert_open` — открыл карточки объявления,\n",
    "- `photos_show` — просмотрел фотографий в объявлении,\n",
    "- `tips_show` — увидел рекомендованные объявления,\n",
    "- `tips_click` — кликнул по рекомендованному объявлению,\n",
    "- `contacts_show` и `show_contacts` — посмотрел номер телефона,\n",
    "- `contacts_call` — позвонил по номеру из объявления,\n",
    "- `map` — открыл карту объявлений,\n",
    "- `search_1`—`search_7` — разные действия, связанные с поиском по сайту,\n",
    "- `favorites_add` — добавил объявление в избранное."
   ]
  },
  {
   "cell_type": "markdown",
   "metadata": {},
   "source": [
    "**Декомпозиция задачи**\n",
    "\n",
    "**1. Загрузка, первичный осмотр и предобработка данных**\n",
    "\n",
    "1. Запись данных в переменные;\n",
    "2. Исследование пропущенных значений;\n",
    "3. Исследование соответствия типов;\n",
    "4. Исследование дубликатов;\n",
    "5. Проверка корректности наименований колонок;\n",
    "6. Переименование колонок;\n",
    "7. Удаление дубликатов;\n",
    "8. Приведение типов;\n",
    "9. Замена пропущенных значений.\n",
    "\n",
    "**2. Проведение исследовательского анализа данных**\n",
    "\n",
    "1. Расчет Retention Rate;\n",
    "2. Расчет DAU;\n",
    "3. Расчет WAU;\n",
    "4. Расчет количества событий на пользователя.\n",
    "    \n",
    "**3. Анализ связи целевого события и других действий пользователей**  \n",
    "\n",
    "1. Выделение сессий пользователя;  \n",
    "2. Выделение событий, которые часто совершают пользователи вместе с целевым событием;  \n",
    "3. Анализ воронки событий;  \n",
    "4. Анализ времени между совершениями вспомогательного и целевого событий.\n",
    "\n",
    "**4. Проверка гипотез**\n",
    "\n",
    "1. Проверка гипотезы: конверсия в просмотры контактов различается у пользователей, совершивших действия tips_show и tips_click и пользователей, совершивших только tips_show.  \n",
    "\n",
    "\n",
    "2. Проверка гипотезы: конверсия в просмотры контактов различается у пользователей, пришедших с источника установки приложения yandex и пользователей, пришедших с источника google.\n",
    "\n",
    "**5. Составление дашборда**\n",
    "\n",
    "1. Построение диаграммы, отображающей количество событий по дням;\n",
    "2. Построение гистограммы, отображающей количество пользователей, пришедших из разных источников;\n",
    "3. Добавление фильтра дашборда по типу события.\n",
    "\n",
    "**6. Подготовка презентации**"
   ]
  },
  {
   "cell_type": "markdown",
   "metadata": {},
   "source": [
    "**Материалы**\n",
    "\n",
    "[Ссылка на дашборд](https://public.tableau.com/views/Graduate_project_dashboard/Dashboard1?:language=en-US&publish=yes&:display_count=n&:origin=viz_share_link)\n",
    "\n",
    "[Ссылка на презентацию](https://disk.yandex.ru/i/Timm0n8kOpLReA)"
   ]
  },
  {
   "cell_type": "markdown",
   "metadata": {},
   "source": [
    "## Загрузка, первичный осмотр и предобработка данных"
   ]
  },
  {
   "cell_type": "markdown",
   "metadata": {},
   "source": [
    "*Импорт библиотек*"
   ]
  },
  {
   "cell_type": "code",
   "execution_count": 128,
   "metadata": {},
   "outputs": [],
   "source": [
    "import math as mth\n",
    "\n",
    "import numpy as np\n",
    "import pandas as pd\n",
    "import seaborn as sns\n",
    "\n",
    "from datetime import datetime, timedelta\n",
    "from matplotlib import pyplot as plt\n",
    "from plotly import graph_objects as go\n",
    "from plotly.subplots import make_subplots\n",
    "from scipy import stats as st"
   ]
  },
  {
   "cell_type": "markdown",
   "metadata": {},
   "source": [
    "*Запись данных в переменные*"
   ]
  },
  {
   "cell_type": "code",
   "execution_count": 129,
   "metadata": {},
   "outputs": [],
   "source": [
    "mobile_sourсes = pd.read_csv('https://code.s3.yandex.net/datasets/mobile_soures.csv')\n",
    "mobile_dataset = pd.read_csv('https://code.s3.yandex.net/datasets/mobile_dataset.csv')"
   ]
  },
  {
   "cell_type": "markdown",
   "metadata": {},
   "source": [
    "*Просмотр таблицы `mobile_sourсes`*"
   ]
  },
  {
   "cell_type": "code",
   "execution_count": 130,
   "metadata": {},
   "outputs": [
    {
     "name": "stdout",
     "output_type": "stream",
     "text": [
      "<class 'pandas.core.frame.DataFrame'>\n",
      "RangeIndex: 4293 entries, 0 to 4292\n",
      "Data columns (total 2 columns):\n",
      " #   Column  Non-Null Count  Dtype \n",
      "---  ------  --------------  ----- \n",
      " 0   userId  4293 non-null   object\n",
      " 1   source  4293 non-null   object\n",
      "dtypes: object(2)\n",
      "memory usage: 67.2+ KB\n"
     ]
    },
    {
     "data": {
      "text/html": [
       "<div>\n",
       "<style scoped>\n",
       "    .dataframe tbody tr th:only-of-type {\n",
       "        vertical-align: middle;\n",
       "    }\n",
       "\n",
       "    .dataframe tbody tr th {\n",
       "        vertical-align: top;\n",
       "    }\n",
       "\n",
       "    .dataframe thead th {\n",
       "        text-align: right;\n",
       "    }\n",
       "</style>\n",
       "<table border=\"1\" class=\"dataframe\">\n",
       "  <thead>\n",
       "    <tr style=\"text-align: right;\">\n",
       "      <th></th>\n",
       "      <th>userId</th>\n",
       "      <th>source</th>\n",
       "    </tr>\n",
       "  </thead>\n",
       "  <tbody>\n",
       "    <tr>\n",
       "      <th>0</th>\n",
       "      <td>020292ab-89bc-4156-9acf-68bc2783f894</td>\n",
       "      <td>other</td>\n",
       "    </tr>\n",
       "    <tr>\n",
       "      <th>1</th>\n",
       "      <td>cf7eda61-9349-469f-ac27-e5b6f5ec475c</td>\n",
       "      <td>yandex</td>\n",
       "    </tr>\n",
       "    <tr>\n",
       "      <th>2</th>\n",
       "      <td>8c356c42-3ba9-4cb6-80b8-3f868d0192c3</td>\n",
       "      <td>yandex</td>\n",
       "    </tr>\n",
       "    <tr>\n",
       "      <th>3</th>\n",
       "      <td>d9b06b47-0f36-419b-bbb0-3533e582a6cb</td>\n",
       "      <td>other</td>\n",
       "    </tr>\n",
       "    <tr>\n",
       "      <th>4</th>\n",
       "      <td>f32e1e2a-3027-4693-b793-b7b3ff274439</td>\n",
       "      <td>google</td>\n",
       "    </tr>\n",
       "  </tbody>\n",
       "</table>\n",
       "</div>"
      ],
      "text/plain": [
       "                                 userId  source\n",
       "0  020292ab-89bc-4156-9acf-68bc2783f894   other\n",
       "1  cf7eda61-9349-469f-ac27-e5b6f5ec475c  yandex\n",
       "2  8c356c42-3ba9-4cb6-80b8-3f868d0192c3  yandex\n",
       "3  d9b06b47-0f36-419b-bbb0-3533e582a6cb   other\n",
       "4  f32e1e2a-3027-4693-b793-b7b3ff274439  google"
      ]
     },
     "execution_count": 130,
     "metadata": {},
     "output_type": "execute_result"
    }
   ],
   "source": [
    "mobile_sourсes.info()\n",
    "mobile_sourсes.head()"
   ]
  },
  {
   "cell_type": "markdown",
   "metadata": {},
   "source": [
    "*Просмотр таблицы `mobile_dataset`*"
   ]
  },
  {
   "cell_type": "code",
   "execution_count": 131,
   "metadata": {},
   "outputs": [
    {
     "name": "stdout",
     "output_type": "stream",
     "text": [
      "<class 'pandas.core.frame.DataFrame'>\n",
      "RangeIndex: 74197 entries, 0 to 74196\n",
      "Data columns (total 3 columns):\n",
      " #   Column      Non-Null Count  Dtype \n",
      "---  ------      --------------  ----- \n",
      " 0   event.time  74197 non-null  object\n",
      " 1   event.name  74197 non-null  object\n",
      " 2   user.id     74197 non-null  object\n",
      "dtypes: object(3)\n",
      "memory usage: 1.7+ MB\n"
     ]
    },
    {
     "data": {
      "text/html": [
       "<div>\n",
       "<style scoped>\n",
       "    .dataframe tbody tr th:only-of-type {\n",
       "        vertical-align: middle;\n",
       "    }\n",
       "\n",
       "    .dataframe tbody tr th {\n",
       "        vertical-align: top;\n",
       "    }\n",
       "\n",
       "    .dataframe thead th {\n",
       "        text-align: right;\n",
       "    }\n",
       "</style>\n",
       "<table border=\"1\" class=\"dataframe\">\n",
       "  <thead>\n",
       "    <tr style=\"text-align: right;\">\n",
       "      <th></th>\n",
       "      <th>event.time</th>\n",
       "      <th>event.name</th>\n",
       "      <th>user.id</th>\n",
       "    </tr>\n",
       "  </thead>\n",
       "  <tbody>\n",
       "    <tr>\n",
       "      <th>0</th>\n",
       "      <td>2019-10-07 00:00:00.431357</td>\n",
       "      <td>advert_open</td>\n",
       "      <td>020292ab-89bc-4156-9acf-68bc2783f894</td>\n",
       "    </tr>\n",
       "    <tr>\n",
       "      <th>1</th>\n",
       "      <td>2019-10-07 00:00:01.236320</td>\n",
       "      <td>tips_show</td>\n",
       "      <td>020292ab-89bc-4156-9acf-68bc2783f894</td>\n",
       "    </tr>\n",
       "    <tr>\n",
       "      <th>2</th>\n",
       "      <td>2019-10-07 00:00:02.245341</td>\n",
       "      <td>tips_show</td>\n",
       "      <td>cf7eda61-9349-469f-ac27-e5b6f5ec475c</td>\n",
       "    </tr>\n",
       "    <tr>\n",
       "      <th>3</th>\n",
       "      <td>2019-10-07 00:00:07.039334</td>\n",
       "      <td>tips_show</td>\n",
       "      <td>020292ab-89bc-4156-9acf-68bc2783f894</td>\n",
       "    </tr>\n",
       "    <tr>\n",
       "      <th>4</th>\n",
       "      <td>2019-10-07 00:00:56.319813</td>\n",
       "      <td>advert_open</td>\n",
       "      <td>cf7eda61-9349-469f-ac27-e5b6f5ec475c</td>\n",
       "    </tr>\n",
       "  </tbody>\n",
       "</table>\n",
       "</div>"
      ],
      "text/plain": [
       "                   event.time   event.name  \\\n",
       "0  2019-10-07 00:00:00.431357  advert_open   \n",
       "1  2019-10-07 00:00:01.236320    tips_show   \n",
       "2  2019-10-07 00:00:02.245341    tips_show   \n",
       "3  2019-10-07 00:00:07.039334    tips_show   \n",
       "4  2019-10-07 00:00:56.319813  advert_open   \n",
       "\n",
       "                                user.id  \n",
       "0  020292ab-89bc-4156-9acf-68bc2783f894  \n",
       "1  020292ab-89bc-4156-9acf-68bc2783f894  \n",
       "2  cf7eda61-9349-469f-ac27-e5b6f5ec475c  \n",
       "3  020292ab-89bc-4156-9acf-68bc2783f894  \n",
       "4  cf7eda61-9349-469f-ac27-e5b6f5ec475c  "
      ]
     },
     "execution_count": 131,
     "metadata": {},
     "output_type": "execute_result"
    }
   ],
   "source": [
    "mobile_dataset.info()\n",
    "mobile_dataset.head()"
   ]
  },
  {
   "cell_type": "markdown",
   "metadata": {},
   "source": [
    "_**Пропуски в данных отсутствуют. Необходимо поменять тип данных в столбце `event.time` на datetime. Также нужно скорректировать названия столбцов.**_"
   ]
  },
  {
   "cell_type": "markdown",
   "metadata": {},
   "source": [
    "*Замена названий столбцов*"
   ]
  },
  {
   "cell_type": "code",
   "execution_count": 132,
   "metadata": {},
   "outputs": [
    {
     "name": "stdout",
     "output_type": "stream",
     "text": [
      "Index(['user_id', 'source'], dtype='object')\n",
      "Index(['event_time', 'event_name', 'user_id'], dtype='object')\n"
     ]
    }
   ],
   "source": [
    "mobile_sourсes.rename(columns = {'userId' : 'user_id'}, inplace = True)\n",
    "print(mobile_sourсes.columns)\n",
    "\n",
    "mobile_dataset.columns = mobile_dataset.columns.str.replace('.', '_', regex = True)\n",
    "print(mobile_dataset.columns)"
   ]
  },
  {
   "cell_type": "markdown",
   "metadata": {},
   "source": [
    "*Приведение даты к типу datetime*"
   ]
  },
  {
   "cell_type": "code",
   "execution_count": 133,
   "metadata": {},
   "outputs": [
    {
     "name": "stdout",
     "output_type": "stream",
     "text": [
      "<class 'pandas.core.frame.DataFrame'>\n",
      "RangeIndex: 74197 entries, 0 to 74196\n",
      "Data columns (total 3 columns):\n",
      " #   Column      Non-Null Count  Dtype         \n",
      "---  ------      --------------  -----         \n",
      " 0   event_time  74197 non-null  datetime64[ns]\n",
      " 1   event_name  74197 non-null  object        \n",
      " 2   user_id     74197 non-null  object        \n",
      "dtypes: datetime64[ns](1), object(2)\n",
      "memory usage: 1.7+ MB\n"
     ]
    },
    {
     "data": {
      "text/html": [
       "<div>\n",
       "<style scoped>\n",
       "    .dataframe tbody tr th:only-of-type {\n",
       "        vertical-align: middle;\n",
       "    }\n",
       "\n",
       "    .dataframe tbody tr th {\n",
       "        vertical-align: top;\n",
       "    }\n",
       "\n",
       "    .dataframe thead th {\n",
       "        text-align: right;\n",
       "    }\n",
       "</style>\n",
       "<table border=\"1\" class=\"dataframe\">\n",
       "  <thead>\n",
       "    <tr style=\"text-align: right;\">\n",
       "      <th></th>\n",
       "      <th>event_time</th>\n",
       "      <th>event_name</th>\n",
       "      <th>user_id</th>\n",
       "    </tr>\n",
       "  </thead>\n",
       "  <tbody>\n",
       "    <tr>\n",
       "      <th>0</th>\n",
       "      <td>2019-10-07 00:00:00.431357</td>\n",
       "      <td>advert_open</td>\n",
       "      <td>020292ab-89bc-4156-9acf-68bc2783f894</td>\n",
       "    </tr>\n",
       "    <tr>\n",
       "      <th>1</th>\n",
       "      <td>2019-10-07 00:00:01.236320</td>\n",
       "      <td>tips_show</td>\n",
       "      <td>020292ab-89bc-4156-9acf-68bc2783f894</td>\n",
       "    </tr>\n",
       "    <tr>\n",
       "      <th>2</th>\n",
       "      <td>2019-10-07 00:00:02.245341</td>\n",
       "      <td>tips_show</td>\n",
       "      <td>cf7eda61-9349-469f-ac27-e5b6f5ec475c</td>\n",
       "    </tr>\n",
       "  </tbody>\n",
       "</table>\n",
       "</div>"
      ],
      "text/plain": [
       "                  event_time   event_name  \\\n",
       "0 2019-10-07 00:00:00.431357  advert_open   \n",
       "1 2019-10-07 00:00:01.236320    tips_show   \n",
       "2 2019-10-07 00:00:02.245341    tips_show   \n",
       "\n",
       "                                user_id  \n",
       "0  020292ab-89bc-4156-9acf-68bc2783f894  \n",
       "1  020292ab-89bc-4156-9acf-68bc2783f894  \n",
       "2  cf7eda61-9349-469f-ac27-e5b6f5ec475c  "
      ]
     },
     "execution_count": 133,
     "metadata": {},
     "output_type": "execute_result"
    }
   ],
   "source": [
    "mobile_dataset['event_time'] = pd.to_datetime(mobile_dataset['event_time'], format='%Y-%m-%d %H:%M:%S.%f')\n",
    "\n",
    "mobile_dataset.info()\n",
    "mobile_dataset.head(3)"
   ]
  },
  {
   "cell_type": "markdown",
   "metadata": {},
   "source": [
    "*Подсчет количества полных дубликатов*"
   ]
  },
  {
   "cell_type": "code",
   "execution_count": 134,
   "metadata": {},
   "outputs": [
    {
     "name": "stdout",
     "output_type": "stream",
     "text": [
      "Количество явных дубликатов в таблице mobile_sourсes: 0\n",
      "Количество явных дубликатов в таблице mobile_dataset: 0\n"
     ]
    }
   ],
   "source": [
    "print('Количество явных дубликатов в таблице mobile_sourсes:', mobile_sourсes.duplicated().sum())\n",
    "\n",
    "print('Количество явных дубликатов в таблице mobile_dataset:', mobile_dataset.duplicated().sum())"
   ]
  },
  {
   "cell_type": "markdown",
   "metadata": {},
   "source": [
    "_**Явные дубликаты в обеих таблицах отсутствуют.**_"
   ]
  },
  {
   "cell_type": "markdown",
   "metadata": {},
   "source": [
    "*Просмотр уникальных значений столбцов `source` и `event_name` на предмет неявных дубликатов*"
   ]
  },
  {
   "cell_type": "code",
   "execution_count": 135,
   "metadata": {},
   "outputs": [
    {
     "name": "stdout",
     "output_type": "stream",
     "text": [
      "Уникальные значения столбца source: ['other' 'yandex' 'google']\n",
      "Уникальные значения столбца event_name: ['advert_open' 'contacts_call' 'contacts_show' 'favorites_add' 'map'\n",
      " 'photos_show' 'search_1' 'search_2' 'search_3' 'search_4' 'search_5'\n",
      " 'search_6' 'search_7' 'show_contacts' 'tips_click' 'tips_show']\n"
     ]
    }
   ],
   "source": [
    "print('Уникальные значения столбца source:',\n",
    "      mobile_sourсes['source'].unique())\n",
    "\n",
    "print('Уникальные значения столбца event_name:',\n",
    "      mobile_dataset['event_name'].sort_values().unique())"
   ]
  },
  {
   "cell_type": "markdown",
   "metadata": {},
   "source": [
    "_**Неявные дубликаты в этих столбцах отсутствуют.**_"
   ]
  },
  {
   "cell_type": "markdown",
   "metadata": {},
   "source": [
    "*Приведение целевых событий к единому названию*"
   ]
  },
  {
   "cell_type": "code",
   "execution_count": 136,
   "metadata": {},
   "outputs": [],
   "source": [
    "# замена действия show_contacts на contacts_show\n",
    "mobile_dataset['event_name'] = mobile_dataset['event_name'].replace('show_contacts', 'contacts_show')"
   ]
  },
  {
   "cell_type": "markdown",
   "metadata": {},
   "source": [
    "_**Предобработка данных завершена. Можно переходить к дальнейшему анализу.**_"
   ]
  },
  {
   "cell_type": "markdown",
   "metadata": {},
   "source": [
    "## Исследовательский анализ данных"
   ]
  },
  {
   "cell_type": "markdown",
   "metadata": {},
   "source": [
    "### Retention Rate"
   ]
  },
  {
   "cell_type": "code",
   "execution_count": 137,
   "metadata": {},
   "outputs": [],
   "source": [
    "# выделение даты в отдельный столбец\n",
    "mobile_dataset['event_date'] = pd.to_datetime(mobile_dataset['event_time']).dt.date"
   ]
  },
  {
   "cell_type": "markdown",
   "metadata": {},
   "source": [
    "*Построение таблицы удержания для недельных лайфтаймов*"
   ]
  },
  {
   "cell_type": "code",
   "execution_count": 138,
   "metadata": {
    "scrolled": true
   },
   "outputs": [
    {
     "data": {
      "text/html": [
       "<div>\n",
       "<style scoped>\n",
       "    .dataframe tbody tr th:only-of-type {\n",
       "        vertical-align: middle;\n",
       "    }\n",
       "\n",
       "    .dataframe tbody tr th {\n",
       "        vertical-align: top;\n",
       "    }\n",
       "\n",
       "    .dataframe thead th {\n",
       "        text-align: right;\n",
       "    }\n",
       "</style>\n",
       "<table border=\"1\" class=\"dataframe\">\n",
       "  <thead>\n",
       "    <tr style=\"text-align: right;\">\n",
       "      <th></th>\n",
       "      <th>cohort_size</th>\n",
       "      <th>0</th>\n",
       "      <th>1</th>\n",
       "      <th>2</th>\n",
       "      <th>3</th>\n",
       "      <th>4</th>\n",
       "      <th>5</th>\n",
       "      <th>6</th>\n",
       "    </tr>\n",
       "    <tr>\n",
       "      <th>first_date</th>\n",
       "      <th></th>\n",
       "      <th></th>\n",
       "      <th></th>\n",
       "      <th></th>\n",
       "      <th></th>\n",
       "      <th></th>\n",
       "      <th></th>\n",
       "      <th></th>\n",
       "    </tr>\n",
       "  </thead>\n",
       "  <tbody>\n",
       "    <tr>\n",
       "      <th>2019-10-07</th>\n",
       "      <td>204</td>\n",
       "      <td>1.0</td>\n",
       "      <td>0.1814</td>\n",
       "      <td>0.1029</td>\n",
       "      <td>0.1078</td>\n",
       "      <td>0.0686</td>\n",
       "      <td>0.0588</td>\n",
       "      <td>0.0392</td>\n",
       "    </tr>\n",
       "    <tr>\n",
       "      <th>2019-10-08</th>\n",
       "      <td>167</td>\n",
       "      <td>1.0</td>\n",
       "      <td>0.1796</td>\n",
       "      <td>0.1198</td>\n",
       "      <td>0.1018</td>\n",
       "      <td>0.0359</td>\n",
       "      <td>0.0359</td>\n",
       "      <td>0.0659</td>\n",
       "    </tr>\n",
       "    <tr>\n",
       "      <th>2019-10-09</th>\n",
       "      <td>176</td>\n",
       "      <td>1.0</td>\n",
       "      <td>0.0966</td>\n",
       "      <td>0.0852</td>\n",
       "      <td>0.0568</td>\n",
       "      <td>0.0568</td>\n",
       "      <td>0.0795</td>\n",
       "      <td>0.0568</td>\n",
       "    </tr>\n",
       "    <tr>\n",
       "      <th>2019-10-10</th>\n",
       "      <td>174</td>\n",
       "      <td>1.0</td>\n",
       "      <td>0.1379</td>\n",
       "      <td>0.0747</td>\n",
       "      <td>0.1034</td>\n",
       "      <td>0.0747</td>\n",
       "      <td>0.0920</td>\n",
       "      <td>0.0632</td>\n",
       "    </tr>\n",
       "    <tr>\n",
       "      <th>2019-10-11</th>\n",
       "      <td>136</td>\n",
       "      <td>1.0</td>\n",
       "      <td>0.0882</td>\n",
       "      <td>0.0809</td>\n",
       "      <td>0.1324</td>\n",
       "      <td>0.0956</td>\n",
       "      <td>0.0662</td>\n",
       "      <td>0.0588</td>\n",
       "    </tr>\n",
       "    <tr>\n",
       "      <th>2019-10-12</th>\n",
       "      <td>125</td>\n",
       "      <td>1.0</td>\n",
       "      <td>0.2000</td>\n",
       "      <td>0.1200</td>\n",
       "      <td>0.1040</td>\n",
       "      <td>0.0640</td>\n",
       "      <td>0.0720</td>\n",
       "      <td>0.1040</td>\n",
       "    </tr>\n",
       "    <tr>\n",
       "      <th>2019-10-13</th>\n",
       "      <td>148</td>\n",
       "      <td>1.0</td>\n",
       "      <td>0.1757</td>\n",
       "      <td>0.0878</td>\n",
       "      <td>0.0541</td>\n",
       "      <td>0.0743</td>\n",
       "      <td>0.0608</td>\n",
       "      <td>0.0405</td>\n",
       "    </tr>\n",
       "    <tr>\n",
       "      <th>2019-10-14</th>\n",
       "      <td>185</td>\n",
       "      <td>1.0</td>\n",
       "      <td>0.1676</td>\n",
       "      <td>0.0919</td>\n",
       "      <td>0.0973</td>\n",
       "      <td>0.1027</td>\n",
       "      <td>0.0703</td>\n",
       "      <td>0.0541</td>\n",
       "    </tr>\n",
       "    <tr>\n",
       "      <th>2019-10-15</th>\n",
       "      <td>186</td>\n",
       "      <td>1.0</td>\n",
       "      <td>0.1505</td>\n",
       "      <td>0.1022</td>\n",
       "      <td>0.0914</td>\n",
       "      <td>0.0591</td>\n",
       "      <td>0.0538</td>\n",
       "      <td>0.0645</td>\n",
       "    </tr>\n",
       "    <tr>\n",
       "      <th>2019-10-16</th>\n",
       "      <td>166</td>\n",
       "      <td>1.0</td>\n",
       "      <td>0.1566</td>\n",
       "      <td>0.1024</td>\n",
       "      <td>0.0542</td>\n",
       "      <td>0.0241</td>\n",
       "      <td>0.0602</td>\n",
       "      <td>0.0482</td>\n",
       "    </tr>\n",
       "    <tr>\n",
       "      <th>2019-10-17</th>\n",
       "      <td>170</td>\n",
       "      <td>1.0</td>\n",
       "      <td>0.1706</td>\n",
       "      <td>0.1118</td>\n",
       "      <td>0.1412</td>\n",
       "      <td>0.0765</td>\n",
       "      <td>0.1000</td>\n",
       "      <td>0.0824</td>\n",
       "    </tr>\n",
       "    <tr>\n",
       "      <th>2019-10-18</th>\n",
       "      <td>156</td>\n",
       "      <td>1.0</td>\n",
       "      <td>0.1026</td>\n",
       "      <td>0.0833</td>\n",
       "      <td>0.1218</td>\n",
       "      <td>0.0641</td>\n",
       "      <td>0.0449</td>\n",
       "      <td>0.0833</td>\n",
       "    </tr>\n",
       "    <tr>\n",
       "      <th>2019-10-19</th>\n",
       "      <td>159</td>\n",
       "      <td>1.0</td>\n",
       "      <td>0.1635</td>\n",
       "      <td>0.1258</td>\n",
       "      <td>0.0818</td>\n",
       "      <td>0.0314</td>\n",
       "      <td>0.0503</td>\n",
       "      <td>0.0566</td>\n",
       "    </tr>\n",
       "    <tr>\n",
       "      <th>2019-10-20</th>\n",
       "      <td>144</td>\n",
       "      <td>1.0</td>\n",
       "      <td>0.1667</td>\n",
       "      <td>0.0833</td>\n",
       "      <td>0.0764</td>\n",
       "      <td>0.0486</td>\n",
       "      <td>0.0764</td>\n",
       "      <td>0.0556</td>\n",
       "    </tr>\n",
       "    <tr>\n",
       "      <th>2019-10-21</th>\n",
       "      <td>161</td>\n",
       "      <td>1.0</td>\n",
       "      <td>0.1180</td>\n",
       "      <td>0.1056</td>\n",
       "      <td>0.0683</td>\n",
       "      <td>0.0683</td>\n",
       "      <td>0.0435</td>\n",
       "      <td>0.0311</td>\n",
       "    </tr>\n",
       "    <tr>\n",
       "      <th>2019-10-22</th>\n",
       "      <td>157</td>\n",
       "      <td>1.0</td>\n",
       "      <td>0.1465</td>\n",
       "      <td>0.1146</td>\n",
       "      <td>0.0637</td>\n",
       "      <td>0.0573</td>\n",
       "      <td>0.0318</td>\n",
       "      <td>0.0382</td>\n",
       "    </tr>\n",
       "    <tr>\n",
       "      <th>2019-10-23</th>\n",
       "      <td>189</td>\n",
       "      <td>1.0</td>\n",
       "      <td>0.1534</td>\n",
       "      <td>0.0794</td>\n",
       "      <td>0.0847</td>\n",
       "      <td>0.0582</td>\n",
       "      <td>0.0635</td>\n",
       "      <td>0.0423</td>\n",
       "    </tr>\n",
       "    <tr>\n",
       "      <th>2019-10-24</th>\n",
       "      <td>162</td>\n",
       "      <td>1.0</td>\n",
       "      <td>0.1296</td>\n",
       "      <td>0.0864</td>\n",
       "      <td>0.0741</td>\n",
       "      <td>0.0494</td>\n",
       "      <td>0.0741</td>\n",
       "      <td>0.0679</td>\n",
       "    </tr>\n",
       "    <tr>\n",
       "      <th>2019-10-25</th>\n",
       "      <td>147</td>\n",
       "      <td>1.0</td>\n",
       "      <td>0.1088</td>\n",
       "      <td>0.0680</td>\n",
       "      <td>0.1293</td>\n",
       "      <td>0.1088</td>\n",
       "      <td>0.0612</td>\n",
       "      <td>0.0612</td>\n",
       "    </tr>\n",
       "    <tr>\n",
       "      <th>2019-10-26</th>\n",
       "      <td>139</td>\n",
       "      <td>1.0</td>\n",
       "      <td>0.2086</td>\n",
       "      <td>0.1007</td>\n",
       "      <td>0.0719</td>\n",
       "      <td>0.0647</td>\n",
       "      <td>0.1007</td>\n",
       "      <td>0.0288</td>\n",
       "    </tr>\n",
       "    <tr>\n",
       "      <th>2019-10-27</th>\n",
       "      <td>139</td>\n",
       "      <td>1.0</td>\n",
       "      <td>0.1655</td>\n",
       "      <td>0.0719</td>\n",
       "      <td>0.0863</td>\n",
       "      <td>0.0647</td>\n",
       "      <td>0.0719</td>\n",
       "      <td>0.0791</td>\n",
       "    </tr>\n",
       "    <tr>\n",
       "      <th>2019-10-28</th>\n",
       "      <td>158</td>\n",
       "      <td>1.0</td>\n",
       "      <td>0.1456</td>\n",
       "      <td>0.0949</td>\n",
       "      <td>0.0823</td>\n",
       "      <td>0.0506</td>\n",
       "      <td>0.0316</td>\n",
       "      <td>0.0253</td>\n",
       "    </tr>\n",
       "  </tbody>\n",
       "</table>\n",
       "</div>"
      ],
      "text/plain": [
       "            cohort_size    0       1       2       3       4       5       6\n",
       "first_date                                                                  \n",
       "2019-10-07          204  1.0  0.1814  0.1029  0.1078  0.0686  0.0588  0.0392\n",
       "2019-10-08          167  1.0  0.1796  0.1198  0.1018  0.0359  0.0359  0.0659\n",
       "2019-10-09          176  1.0  0.0966  0.0852  0.0568  0.0568  0.0795  0.0568\n",
       "2019-10-10          174  1.0  0.1379  0.0747  0.1034  0.0747  0.0920  0.0632\n",
       "2019-10-11          136  1.0  0.0882  0.0809  0.1324  0.0956  0.0662  0.0588\n",
       "2019-10-12          125  1.0  0.2000  0.1200  0.1040  0.0640  0.0720  0.1040\n",
       "2019-10-13          148  1.0  0.1757  0.0878  0.0541  0.0743  0.0608  0.0405\n",
       "2019-10-14          185  1.0  0.1676  0.0919  0.0973  0.1027  0.0703  0.0541\n",
       "2019-10-15          186  1.0  0.1505  0.1022  0.0914  0.0591  0.0538  0.0645\n",
       "2019-10-16          166  1.0  0.1566  0.1024  0.0542  0.0241  0.0602  0.0482\n",
       "2019-10-17          170  1.0  0.1706  0.1118  0.1412  0.0765  0.1000  0.0824\n",
       "2019-10-18          156  1.0  0.1026  0.0833  0.1218  0.0641  0.0449  0.0833\n",
       "2019-10-19          159  1.0  0.1635  0.1258  0.0818  0.0314  0.0503  0.0566\n",
       "2019-10-20          144  1.0  0.1667  0.0833  0.0764  0.0486  0.0764  0.0556\n",
       "2019-10-21          161  1.0  0.1180  0.1056  0.0683  0.0683  0.0435  0.0311\n",
       "2019-10-22          157  1.0  0.1465  0.1146  0.0637  0.0573  0.0318  0.0382\n",
       "2019-10-23          189  1.0  0.1534  0.0794  0.0847  0.0582  0.0635  0.0423\n",
       "2019-10-24          162  1.0  0.1296  0.0864  0.0741  0.0494  0.0741  0.0679\n",
       "2019-10-25          147  1.0  0.1088  0.0680  0.1293  0.1088  0.0612  0.0612\n",
       "2019-10-26          139  1.0  0.2086  0.1007  0.0719  0.0647  0.1007  0.0288\n",
       "2019-10-27          139  1.0  0.1655  0.0719  0.0863  0.0647  0.0719  0.0791\n",
       "2019-10-28          158  1.0  0.1456  0.0949  0.0823  0.0506  0.0316  0.0253"
      ]
     },
     "execution_count": 138,
     "metadata": {},
     "output_type": "execute_result"
    }
   ],
   "source": [
    "# задание горизонта нализа данных\n",
    "horizon_days = 7\n",
    "\n",
    "# создание новой таблицы для расчета Retention Rate и добавление столбца с датами первого посещения\n",
    "result_raw = mobile_dataset.merge(\n",
    "    mobile_dataset.\n",
    "    sort_values(by='event_date').\n",
    "    groupby('user_id').\n",
    "    agg({'event_date': 'first'}).\n",
    "    rename(columns={'event_date': 'first_date'}), \n",
    "    on='user_id', how='left')\n",
    "\n",
    "# вычисление лайфтайма каждой сессии в днях\n",
    "result_raw['lifetime'] = (result_raw['event_date'] - result_raw['first_date']).dt.days\n",
    "\n",
    "# расчет максимально возможной даты привлечения\n",
    "last_suitable_acquisition_date = result_raw['first_date'].max() - timedelta(\n",
    "        days=horizon_days - 1\n",
    "    )\n",
    "\n",
    "# исключение пользователей, пришедших после максимальной даты привлечения\n",
    "result_raw = result_raw.query('first_date <= @last_suitable_acquisition_date')\n",
    "\n",
    "# построение таблицы удержания\n",
    "result_grouped = result_raw.pivot_table(\n",
    "    index='first_date', columns='lifetime', values='user_id', aggfunc='nunique'\n",
    ")\n",
    "\n",
    "# добавление размеров когорт\n",
    "result_grouped = result_grouped.merge(\n",
    "    result_raw.groupby('first_date').\n",
    "    agg({'user_id': 'nunique'}).\n",
    "    rename(columns={'user_id': 'cohort_size'}), \n",
    "    on='first_date', how='left').fillna(0)\n",
    "\n",
    "# деление данных таблицы удержания на размеры когорт\n",
    "result_grouped = result_grouped.div(\n",
    "    result_grouped['cohort_size'], axis=0).round(4)\n",
    "\n",
    "# исключение из результата лайфтаймов, превышающих горизонт анализа\n",
    "result_grouped = result_grouped[['cohort_size'] + list(range(horizon_days))]\n",
    "\n",
    "# восстанавление cohort_size\n",
    "result_grouped['cohort_size'] = result_raw.groupby('first_date').agg({'user_id': 'nunique'})\n",
    "\n",
    "result_grouped"
   ]
  },
  {
   "cell_type": "markdown",
   "metadata": {},
   "source": [
    "*Построение тепловой карты удержания*"
   ]
  },
  {
   "cell_type": "code",
   "execution_count": 139,
   "metadata": {},
   "outputs": [
    {
     "data": {
      "image/png": "[encoded data removed]",
      "text/plain": [
       "<Figure size 1080x432 with 2 Axes>"
      ]
     },
     "metadata": {
      "needs_background": "light"
     },
     "output_type": "display_data"
    }
   ],
   "source": [
    "# задание размера графика\n",
    "plt.figure(figsize=(15, 6)) \n",
    "\n",
    "sns.heatmap(\n",
    "    result_grouped.drop(columns=['cohort_size', 0]),  # удаление лишних столбцов\n",
    "    annot=True,\n",
    "    cmap = 'coolwarm',\n",
    "    fmt='.2%',\n",
    ")\n",
    "plt.title('Тепловая карта удержания')\n",
    "plt.show()"
   ]
  },
  {
   "cell_type": "markdown",
   "metadata": {},
   "source": [
    "*Построение кривых удержания*"
   ]
  },
  {
   "cell_type": "code",
   "execution_count": 140,
   "metadata": {},
   "outputs": [
    {
     "data": {
      "image/png": "[encoded data removed]",
      "text/plain": [
       "<Figure size 1080x360 with 1 Axes>"
      ]
     },
     "metadata": {
      "needs_background": "light"
     },
     "output_type": "display_data"
    }
   ],
   "source": [
    "report = result_grouped.drop(columns = ['cohort_size', 0])\n",
    "\n",
    "report.T.plot(\n",
    "    grid=True, \n",
    "    xticks=list(report.columns.values),  # отметки на оси X — названия колонок\n",
    "    figsize=(15, 5), \n",
    ")\n",
    "plt.xlabel('Лайфтайм')  # название оси X\n",
    "plt.title('Кривые удержания по дням привлечения')  # название графика\n",
    "plt.legend(loc='upper right')\n",
    "plt.show()"
   ]
  },
  {
   "cell_type": "markdown",
   "metadata": {},
   "source": [
    "*Удержание в динамике*"
   ]
  },
  {
   "cell_type": "code",
   "execution_count": 141,
   "metadata": {},
   "outputs": [
    {
     "data": {
      "image/png": "[encoded data removed]",
      "text/plain": [
       "<Figure size 1080x360 with 1 Axes>"
      ]
     },
     "metadata": {
      "needs_background": "light"
     },
     "output_type": "display_data"
    }
   ],
   "source": [
    "report.plot(grid=True, figsize=(15, 5))\n",
    "plt.xlabel('Дата привлечения')\n",
    "plt.title('Динамика удержания пользователей')\n",
    "plt.show()"
   ]
  },
  {
   "cell_type": "markdown",
   "metadata": {},
   "source": [
    "_**Лучшее удержание в течение всей недели показали пользователи, пришедшие 12, 17 и 26 октября. Лучшее удержание на 7 день показали пользователи, которые пришли 12, 17, 18 и 27 октября.**_  \n",
    "_**На второй день возвращалось от 9% до 21% пользователей. На седьмой день - от 2,5% до 10% пользователей.**_   \n",
    "_**Многие пользователи возвращаются на 4 день после привлечения.**_"
   ]
  },
  {
   "cell_type": "markdown",
   "metadata": {},
   "source": [
    "### DAU"
   ]
  },
  {
   "cell_type": "code",
   "execution_count": 142,
   "metadata": {},
   "outputs": [
    {
     "name": "stdout",
     "output_type": "stream",
     "text": [
      "Количество уникальных пользователей в день: 279\n"
     ]
    }
   ],
   "source": [
    "dau = (\n",
    "    mobile_dataset\n",
    "    .groupby('event_date')\n",
    "    .agg({'user_id': 'nunique'})\n",
    "    .mean()\n",
    ")\n",
    "\n",
    "print('Количество уникальных пользователей в день:', int(dau))"
   ]
  },
  {
   "cell_type": "markdown",
   "metadata": {},
   "source": [
    "### WAU"
   ]
  },
  {
   "cell_type": "code",
   "execution_count": 143,
   "metadata": {},
   "outputs": [
    {
     "name": "stdout",
     "output_type": "stream",
     "text": [
      "Количество уникальных пользователей в неделю: 1382\n",
      "Sticky factor: 20.19%\n"
     ]
    }
   ],
   "source": [
    "# добавление столбца с номером недели\n",
    "mobile_dataset['event_week'] = mobile_dataset['event_time'].dt.isocalendar().week\n",
    "\n",
    "wau = (\n",
    "    mobile_dataset\n",
    "    .groupby('event_week')\n",
    "    .agg({'user_id': 'nunique'})\n",
    "    .mean()\n",
    ")\n",
    "\n",
    "print('Количество уникальных пользователей в неделю:', int(wau))\n",
    "print(f'Sticky factor: {(int(dau) / int(wau)):.2%}')"
   ]
  },
  {
   "cell_type": "markdown",
   "metadata": {},
   "source": [
    "_**В день в приложение заходят 279 уникальных пользователей, в неделю - 1382. \"Липкий фактор\" составляет 20%.**_"
   ]
  },
  {
   "cell_type": "markdown",
   "metadata": {},
   "source": [
    "### Количество событий на пользователя"
   ]
  },
  {
   "cell_type": "markdown",
   "metadata": {},
   "source": [
    "*Расчет количества событий на пользователя в разрезе по событиям*"
   ]
  },
  {
   "cell_type": "code",
   "execution_count": 144,
   "metadata": {},
   "outputs": [
    {
     "data": {
      "text/html": [
       "<div>\n",
       "<style scoped>\n",
       "    .dataframe tbody tr th:only-of-type {\n",
       "        vertical-align: middle;\n",
       "    }\n",
       "\n",
       "    .dataframe tbody tr th {\n",
       "        vertical-align: top;\n",
       "    }\n",
       "\n",
       "    .dataframe thead tr th {\n",
       "        text-align: left;\n",
       "    }\n",
       "\n",
       "    .dataframe thead tr:last-of-type th {\n",
       "        text-align: right;\n",
       "    }\n",
       "</style>\n",
       "<table border=\"1\" class=\"dataframe\">\n",
       "  <thead>\n",
       "    <tr>\n",
       "      <th></th>\n",
       "      <th colspan=\"8\" halign=\"left\">event_time</th>\n",
       "    </tr>\n",
       "    <tr>\n",
       "      <th></th>\n",
       "      <th>count</th>\n",
       "      <th>mean</th>\n",
       "      <th>std</th>\n",
       "      <th>min</th>\n",
       "      <th>25%</th>\n",
       "      <th>50%</th>\n",
       "      <th>75%</th>\n",
       "      <th>max</th>\n",
       "    </tr>\n",
       "    <tr>\n",
       "      <th>event_name</th>\n",
       "      <th></th>\n",
       "      <th></th>\n",
       "      <th></th>\n",
       "      <th></th>\n",
       "      <th></th>\n",
       "      <th></th>\n",
       "      <th></th>\n",
       "      <th></th>\n",
       "    </tr>\n",
       "  </thead>\n",
       "  <tbody>\n",
       "    <tr>\n",
       "      <th>advert_open</th>\n",
       "      <td>751.0</td>\n",
       "      <td>8.207723</td>\n",
       "      <td>12.699375</td>\n",
       "      <td>1.0</td>\n",
       "      <td>2.0</td>\n",
       "      <td>4.0</td>\n",
       "      <td>8.5</td>\n",
       "      <td>137.0</td>\n",
       "    </tr>\n",
       "    <tr>\n",
       "      <th>contacts_call</th>\n",
       "      <td>213.0</td>\n",
       "      <td>2.539906</td>\n",
       "      <td>2.387972</td>\n",
       "      <td>1.0</td>\n",
       "      <td>1.0</td>\n",
       "      <td>2.0</td>\n",
       "      <td>3.0</td>\n",
       "      <td>17.0</td>\n",
       "    </tr>\n",
       "    <tr>\n",
       "      <th>contacts_show</th>\n",
       "      <td>981.0</td>\n",
       "      <td>4.616718</td>\n",
       "      <td>9.621611</td>\n",
       "      <td>1.0</td>\n",
       "      <td>1.0</td>\n",
       "      <td>2.0</td>\n",
       "      <td>4.0</td>\n",
       "      <td>137.0</td>\n",
       "    </tr>\n",
       "    <tr>\n",
       "      <th>favorites_add</th>\n",
       "      <td>351.0</td>\n",
       "      <td>4.037037</td>\n",
       "      <td>6.291609</td>\n",
       "      <td>1.0</td>\n",
       "      <td>1.0</td>\n",
       "      <td>2.0</td>\n",
       "      <td>5.0</td>\n",
       "      <td>63.0</td>\n",
       "    </tr>\n",
       "    <tr>\n",
       "      <th>map</th>\n",
       "      <td>1456.0</td>\n",
       "      <td>2.665522</td>\n",
       "      <td>4.750844</td>\n",
       "      <td>1.0</td>\n",
       "      <td>1.0</td>\n",
       "      <td>1.0</td>\n",
       "      <td>3.0</td>\n",
       "      <td>71.0</td>\n",
       "    </tr>\n",
       "    <tr>\n",
       "      <th>photos_show</th>\n",
       "      <td>1095.0</td>\n",
       "      <td>9.143379</td>\n",
       "      <td>14.614813</td>\n",
       "      <td>1.0</td>\n",
       "      <td>3.0</td>\n",
       "      <td>5.0</td>\n",
       "      <td>9.0</td>\n",
       "      <td>177.0</td>\n",
       "    </tr>\n",
       "    <tr>\n",
       "      <th>search_1</th>\n",
       "      <td>787.0</td>\n",
       "      <td>4.454892</td>\n",
       "      <td>6.042591</td>\n",
       "      <td>1.0</td>\n",
       "      <td>2.0</td>\n",
       "      <td>3.0</td>\n",
       "      <td>5.0</td>\n",
       "      <td>68.0</td>\n",
       "    </tr>\n",
       "    <tr>\n",
       "      <th>search_2</th>\n",
       "      <td>242.0</td>\n",
       "      <td>1.338843</td>\n",
       "      <td>1.508228</td>\n",
       "      <td>1.0</td>\n",
       "      <td>1.0</td>\n",
       "      <td>1.0</td>\n",
       "      <td>1.0</td>\n",
       "      <td>23.0</td>\n",
       "    </tr>\n",
       "    <tr>\n",
       "      <th>search_3</th>\n",
       "      <td>208.0</td>\n",
       "      <td>2.509615</td>\n",
       "      <td>2.624652</td>\n",
       "      <td>1.0</td>\n",
       "      <td>1.0</td>\n",
       "      <td>2.0</td>\n",
       "      <td>3.0</td>\n",
       "      <td>21.0</td>\n",
       "    </tr>\n",
       "    <tr>\n",
       "      <th>search_4</th>\n",
       "      <td>474.0</td>\n",
       "      <td>1.478903</td>\n",
       "      <td>1.986364</td>\n",
       "      <td>1.0</td>\n",
       "      <td>1.0</td>\n",
       "      <td>1.0</td>\n",
       "      <td>1.0</td>\n",
       "      <td>35.0</td>\n",
       "    </tr>\n",
       "    <tr>\n",
       "      <th>search_5</th>\n",
       "      <td>663.0</td>\n",
       "      <td>1.582202</td>\n",
       "      <td>1.806864</td>\n",
       "      <td>1.0</td>\n",
       "      <td>1.0</td>\n",
       "      <td>1.0</td>\n",
       "      <td>2.0</td>\n",
       "      <td>25.0</td>\n",
       "    </tr>\n",
       "    <tr>\n",
       "      <th>search_6</th>\n",
       "      <td>330.0</td>\n",
       "      <td>1.393939</td>\n",
       "      <td>1.206351</td>\n",
       "      <td>1.0</td>\n",
       "      <td>1.0</td>\n",
       "      <td>1.0</td>\n",
       "      <td>1.0</td>\n",
       "      <td>17.0</td>\n",
       "    </tr>\n",
       "    <tr>\n",
       "      <th>search_7</th>\n",
       "      <td>157.0</td>\n",
       "      <td>1.414013</td>\n",
       "      <td>1.310923</td>\n",
       "      <td>1.0</td>\n",
       "      <td>1.0</td>\n",
       "      <td>1.0</td>\n",
       "      <td>1.0</td>\n",
       "      <td>13.0</td>\n",
       "    </tr>\n",
       "    <tr>\n",
       "      <th>tips_click</th>\n",
       "      <td>322.0</td>\n",
       "      <td>2.527950</td>\n",
       "      <td>2.942993</td>\n",
       "      <td>1.0</td>\n",
       "      <td>1.0</td>\n",
       "      <td>1.0</td>\n",
       "      <td>3.0</td>\n",
       "      <td>30.0</td>\n",
       "    </tr>\n",
       "    <tr>\n",
       "      <th>tips_show</th>\n",
       "      <td>2801.0</td>\n",
       "      <td>14.300250</td>\n",
       "      <td>23.120743</td>\n",
       "      <td>1.0</td>\n",
       "      <td>4.0</td>\n",
       "      <td>8.0</td>\n",
       "      <td>15.0</td>\n",
       "      <td>346.0</td>\n",
       "    </tr>\n",
       "  </tbody>\n",
       "</table>\n",
       "</div>"
      ],
      "text/plain": [
       "              event_time                                                  \n",
       "                   count       mean        std  min  25%  50%   75%    max\n",
       "event_name                                                                \n",
       "advert_open        751.0   8.207723  12.699375  1.0  2.0  4.0   8.5  137.0\n",
       "contacts_call      213.0   2.539906   2.387972  1.0  1.0  2.0   3.0   17.0\n",
       "contacts_show      981.0   4.616718   9.621611  1.0  1.0  2.0   4.0  137.0\n",
       "favorites_add      351.0   4.037037   6.291609  1.0  1.0  2.0   5.0   63.0\n",
       "map               1456.0   2.665522   4.750844  1.0  1.0  1.0   3.0   71.0\n",
       "photos_show       1095.0   9.143379  14.614813  1.0  3.0  5.0   9.0  177.0\n",
       "search_1           787.0   4.454892   6.042591  1.0  2.0  3.0   5.0   68.0\n",
       "search_2           242.0   1.338843   1.508228  1.0  1.0  1.0   1.0   23.0\n",
       "search_3           208.0   2.509615   2.624652  1.0  1.0  2.0   3.0   21.0\n",
       "search_4           474.0   1.478903   1.986364  1.0  1.0  1.0   1.0   35.0\n",
       "search_5           663.0   1.582202   1.806864  1.0  1.0  1.0   2.0   25.0\n",
       "search_6           330.0   1.393939   1.206351  1.0  1.0  1.0   1.0   17.0\n",
       "search_7           157.0   1.414013   1.310923  1.0  1.0  1.0   1.0   13.0\n",
       "tips_click         322.0   2.527950   2.942993  1.0  1.0  1.0   3.0   30.0\n",
       "tips_show         2801.0  14.300250  23.120743  1.0  4.0  8.0  15.0  346.0"
      ]
     },
     "execution_count": 144,
     "metadata": {},
     "output_type": "execute_result"
    }
   ],
   "source": [
    "# создание временной таблицы с кол-вом каждого из событий, которое совершил каждый пользователь\n",
    "temp = mobile_dataset.groupby(['user_id', 'event_name'])['event_time'].count().reset_index()\n",
    "\n",
    "# группировка по событиям и просмотр распределения событий на пользователя\n",
    "temp.groupby('event_name').agg({'event_time':'describe'})"
   ]
  },
  {
   "cell_type": "markdown",
   "metadata": {},
   "source": [
    "*Построение графиков частоты событий*"
   ]
  },
  {
   "cell_type": "code",
   "execution_count": 145,
   "metadata": {},
   "outputs": [],
   "source": [
    "# функция для добавления значений по оси ординат над столбцами\n",
    "def autolabel(rects, height_factor=1.01):\n",
    "    for i, rect in enumerate(rects):\n",
    "        height = rect.get_height()\n",
    "        label = round(height, 2)\n",
    "        ax.text(rect.get_x() + rect.get_width()/2., height_factor*height,\n",
    "                '{}'.format(label),\n",
    "                ha='center', va='bottom')"
   ]
  },
  {
   "cell_type": "code",
   "execution_count": 146,
   "metadata": {},
   "outputs": [
    {
     "data": {
      "image/png": "[encoded data removed]",
      "text/plain": [
       "<Figure size 1152x432 with 2 Axes>"
      ]
     },
     "metadata": {
      "needs_background": "light"
     },
     "output_type": "display_data"
    }
   ],
   "source": [
    "# создание ячеек для графиков\n",
    "fig, axes = plt.subplots(nrows = 1, ncols = 2, figsize = (16, 6))\n",
    "\n",
    "# построение графика абсолютного количества событий\n",
    "ax=plt.subplot(1, 2, 1)\n",
    "ax = sns.countplot(\n",
    "    x='event_name', \n",
    "    palette='magma',\n",
    "    order=mobile_dataset['event_name'].value_counts().index, \n",
    "    data=mobile_dataset\n",
    ")\n",
    "\n",
    "# добавление параметров графика\n",
    "ax.set_xlabel('Название события')\n",
    "ax.set_ylabel('Количество событий')\n",
    "ax.set_title('Абсолютное количество событий')\n",
    "ax.grid(axis = 'y')\n",
    "autolabel(ax.patches)\n",
    "plt.xticks(rotation = 90);\n",
    "\n",
    "# построение графика относительного количества событий\n",
    "ax=plt.subplot(1, 2, 2)\n",
    "ax = sns.barplot(\n",
    "    x='event_name', \n",
    "    y='user_id', \n",
    "    data=(\n",
    "        mobile_dataset\n",
    "        .groupby('event_name')\n",
    "        .agg({'user_id': 'count'})\n",
    "        .reset_index()\n",
    "    ),\n",
    "    estimator=lambda x: sum(x) / len(mobile_dataset['event_name']),\n",
    "    palette=\"viridis\", \n",
    "    ci=None,\n",
    "    order=(\n",
    "        mobile_dataset\n",
    "        .groupby('event_name')\n",
    "        .agg({'user_id': 'count'})\n",
    "        .sort_values(by='user_id', ascending=False)\n",
    "        .index\n",
    "    )\n",
    "           )\n",
    "\n",
    "# добавление параметров графика\n",
    "ax.set_xlabel('Название события')\n",
    "ax.set_ylabel('Доля количества событий от общего числа')\n",
    "ax.set_title('Относительное количество событий')\n",
    "ax.grid(axis = 'y')\n",
    "autolabel(ax.patches)\n",
    "plt.xticks(rotation = 90);"
   ]
  },
  {
   "cell_type": "markdown",
   "metadata": {},
   "source": [
    "_**Более половины от всех событий составляет событие tips_show - пользователь видит рекомендованные объявления. Но кликает на них только один раз из 50.**_  \n",
    "_**13% событий составляет просмотр фотографий в объявлении. 8% - открытия карточек объявлений, 6% - просмотр номера телефона. Открытия карты объявлений и поисковые действия №1 составляют по 5% от общего числа событий. Остальные события составляют 2% и менее от общего числа.**_ "
   ]
  },
  {
   "cell_type": "markdown",
   "metadata": {},
   "source": [
    "*Т.к. рекомендуемые объявления показываются каждому пользователю автоматически, фактически пользователь не участвует в событии `tips_show`, и для некоторых расчетов его можно исключить.*\n",
    "\n",
    "*Построение графиков частоты событий без учета события `tips_show`*"
   ]
  },
  {
   "cell_type": "code",
   "execution_count": 147,
   "metadata": {
    "scrolled": true
   },
   "outputs": [
    {
     "data": {
      "image/png": "[encoded data removed]",
      "text/plain": [
       "<Figure size 1152x432 with 2 Axes>"
      ]
     },
     "metadata": {
      "needs_background": "light"
     },
     "output_type": "display_data"
    }
   ],
   "source": [
    "# создание ячеек для графиков\n",
    "fig, axes = plt.subplots(nrows = 1, ncols = 2, figsize = (16, 6))\n",
    "\n",
    "# построение графика абсолютного количества событий\n",
    "ax=plt.subplot(1, 2, 1)\n",
    "ax = sns.countplot(\n",
    "    x='event_name', \n",
    "    palette='magma',\n",
    "    order=mobile_dataset.query('event_name != \"tips_show\"')['event_name'].value_counts().index, \n",
    "    data=mobile_dataset.query('event_name != \"tips_show\"')\n",
    ")\n",
    "\n",
    "# добавление параметров графика\n",
    "ax.set_xlabel('Название события')\n",
    "ax.set_ylabel('Количество событий')\n",
    "ax.set_title('Абсолютное количество событий')\n",
    "ax.grid(axis = 'y')\n",
    "autolabel(ax.patches)\n",
    "plt.xticks(rotation = 90);\n",
    "\n",
    "# построение графика относительного количества событий\n",
    "ax=plt.subplot(1, 2, 2)\n",
    "ax = sns.barplot(\n",
    "    x='event_name', \n",
    "    y='user_id', \n",
    "    data=(\n",
    "        mobile_dataset\n",
    "        .query('event_name != \"tips_show\"')\n",
    "        .groupby('event_name')\n",
    "        .agg({'user_id': 'count'})\n",
    "        .reset_index()\n",
    "    ),\n",
    "    estimator=lambda x: sum(x) / len(mobile_dataset.query('event_name != \"tips_show\"')['event_name']),\n",
    "    palette=\"viridis\", \n",
    "    ci=None,\n",
    "    order=(\n",
    "        mobile_dataset\n",
    "        .query('event_name != \"tips_show\"')\n",
    "        .groupby('event_name')\n",
    "        .agg({'user_id': 'count'})\n",
    "        .sort_values(by='user_id', ascending=False)\n",
    "        .index\n",
    "    )\n",
    "           )\n",
    "\n",
    "# добавление параметров графика\n",
    "ax.set_xlabel('Название события')\n",
    "ax.set_ylabel('Доля количества событий от общего числа')\n",
    "ax.set_title('Относительное количество событий')\n",
    "ax.grid(axis = 'y')\n",
    "autolabel(ax.patches)\n",
    "plt.xticks(rotation = 90);"
   ]
  },
  {
   "cell_type": "markdown",
   "metadata": {},
   "source": [
    "_**Если исключить из расчета событие `tips_show`, то около трети событий будет составлять просмотр фотографий в объявлении, 18% - открытия карточек объявлений, 13% - просмотр номера телефона. Открытия карты объявлений и поисковые действия №1 составляют примерно по 10% от общего числа событий. Остальные события составляют 5% и менее от общего числа.**_"
   ]
  },
  {
   "cell_type": "markdown",
   "metadata": {},
   "source": [
    "## Анализ связи целевого события и других действий пользователей"
   ]
  },
  {
   "cell_type": "markdown",
   "metadata": {},
   "source": [
    "### Выделение сессий пользователей"
   ]
  },
  {
   "cell_type": "code",
   "execution_count": 148,
   "metadata": {},
   "outputs": [
    {
     "name": "stdout",
     "output_type": "stream",
     "text": [
      "Выделено сессий: 16366\n"
     ]
    },
    {
     "data": {
      "text/html": [
       "<div>\n",
       "<style scoped>\n",
       "    .dataframe tbody tr th:only-of-type {\n",
       "        vertical-align: middle;\n",
       "    }\n",
       "\n",
       "    .dataframe tbody tr th {\n",
       "        vertical-align: top;\n",
       "    }\n",
       "\n",
       "    .dataframe thead th {\n",
       "        text-align: right;\n",
       "    }\n",
       "</style>\n",
       "<table border=\"1\" class=\"dataframe\">\n",
       "  <thead>\n",
       "    <tr style=\"text-align: right;\">\n",
       "      <th></th>\n",
       "      <th>event_time</th>\n",
       "      <th>event_name</th>\n",
       "      <th>user_id</th>\n",
       "      <th>event_date</th>\n",
       "      <th>event_week</th>\n",
       "      <th>session_id</th>\n",
       "    </tr>\n",
       "  </thead>\n",
       "  <tbody>\n",
       "    <tr>\n",
       "      <th>0</th>\n",
       "      <td>2019-10-07 00:00:00.431357</td>\n",
       "      <td>advert_open</td>\n",
       "      <td>020292ab-89bc-4156-9acf-68bc2783f894</td>\n",
       "      <td>2019-10-07</td>\n",
       "      <td>41</td>\n",
       "      <td>1</td>\n",
       "    </tr>\n",
       "    <tr>\n",
       "      <th>1</th>\n",
       "      <td>2019-10-07 00:00:01.236320</td>\n",
       "      <td>tips_show</td>\n",
       "      <td>020292ab-89bc-4156-9acf-68bc2783f894</td>\n",
       "      <td>2019-10-07</td>\n",
       "      <td>41</td>\n",
       "      <td>1</td>\n",
       "    </tr>\n",
       "    <tr>\n",
       "      <th>2</th>\n",
       "      <td>2019-10-07 00:00:02.245341</td>\n",
       "      <td>tips_show</td>\n",
       "      <td>cf7eda61-9349-469f-ac27-e5b6f5ec475c</td>\n",
       "      <td>2019-10-07</td>\n",
       "      <td>41</td>\n",
       "      <td>2</td>\n",
       "    </tr>\n",
       "    <tr>\n",
       "      <th>3</th>\n",
       "      <td>2019-10-07 00:00:07.039334</td>\n",
       "      <td>tips_show</td>\n",
       "      <td>020292ab-89bc-4156-9acf-68bc2783f894</td>\n",
       "      <td>2019-10-07</td>\n",
       "      <td>41</td>\n",
       "      <td>1</td>\n",
       "    </tr>\n",
       "    <tr>\n",
       "      <th>4</th>\n",
       "      <td>2019-10-07 00:00:56.319813</td>\n",
       "      <td>advert_open</td>\n",
       "      <td>cf7eda61-9349-469f-ac27-e5b6f5ec475c</td>\n",
       "      <td>2019-10-07</td>\n",
       "      <td>41</td>\n",
       "      <td>2</td>\n",
       "    </tr>\n",
       "    <tr>\n",
       "      <th>5</th>\n",
       "      <td>2019-10-07 00:01:19.993624</td>\n",
       "      <td>tips_show</td>\n",
       "      <td>cf7eda61-9349-469f-ac27-e5b6f5ec475c</td>\n",
       "      <td>2019-10-07</td>\n",
       "      <td>41</td>\n",
       "      <td>2</td>\n",
       "    </tr>\n",
       "    <tr>\n",
       "      <th>6</th>\n",
       "      <td>2019-10-07 00:01:27.770232</td>\n",
       "      <td>advert_open</td>\n",
       "      <td>020292ab-89bc-4156-9acf-68bc2783f894</td>\n",
       "      <td>2019-10-07</td>\n",
       "      <td>41</td>\n",
       "      <td>1</td>\n",
       "    </tr>\n",
       "    <tr>\n",
       "      <th>7</th>\n",
       "      <td>2019-10-07 00:01:34.804591</td>\n",
       "      <td>tips_show</td>\n",
       "      <td>020292ab-89bc-4156-9acf-68bc2783f894</td>\n",
       "      <td>2019-10-07</td>\n",
       "      <td>41</td>\n",
       "      <td>1</td>\n",
       "    </tr>\n",
       "    <tr>\n",
       "      <th>8</th>\n",
       "      <td>2019-10-07 00:01:49.732803</td>\n",
       "      <td>advert_open</td>\n",
       "      <td>cf7eda61-9349-469f-ac27-e5b6f5ec475c</td>\n",
       "      <td>2019-10-07</td>\n",
       "      <td>41</td>\n",
       "      <td>2</td>\n",
       "    </tr>\n",
       "    <tr>\n",
       "      <th>9</th>\n",
       "      <td>2019-10-07 00:01:54.958298</td>\n",
       "      <td>advert_open</td>\n",
       "      <td>020292ab-89bc-4156-9acf-68bc2783f894</td>\n",
       "      <td>2019-10-07</td>\n",
       "      <td>41</td>\n",
       "      <td>1</td>\n",
       "    </tr>\n",
       "  </tbody>\n",
       "</table>\n",
       "</div>"
      ],
      "text/plain": [
       "                  event_time   event_name  \\\n",
       "0 2019-10-07 00:00:00.431357  advert_open   \n",
       "1 2019-10-07 00:00:01.236320    tips_show   \n",
       "2 2019-10-07 00:00:02.245341    tips_show   \n",
       "3 2019-10-07 00:00:07.039334    tips_show   \n",
       "4 2019-10-07 00:00:56.319813  advert_open   \n",
       "5 2019-10-07 00:01:19.993624    tips_show   \n",
       "6 2019-10-07 00:01:27.770232  advert_open   \n",
       "7 2019-10-07 00:01:34.804591    tips_show   \n",
       "8 2019-10-07 00:01:49.732803  advert_open   \n",
       "9 2019-10-07 00:01:54.958298  advert_open   \n",
       "\n",
       "                                user_id  event_date  event_week  session_id  \n",
       "0  020292ab-89bc-4156-9acf-68bc2783f894  2019-10-07          41           1  \n",
       "1  020292ab-89bc-4156-9acf-68bc2783f894  2019-10-07          41           1  \n",
       "2  cf7eda61-9349-469f-ac27-e5b6f5ec475c  2019-10-07          41           2  \n",
       "3  020292ab-89bc-4156-9acf-68bc2783f894  2019-10-07          41           1  \n",
       "4  cf7eda61-9349-469f-ac27-e5b6f5ec475c  2019-10-07          41           2  \n",
       "5  cf7eda61-9349-469f-ac27-e5b6f5ec475c  2019-10-07          41           2  \n",
       "6  020292ab-89bc-4156-9acf-68bc2783f894  2019-10-07          41           1  \n",
       "7  020292ab-89bc-4156-9acf-68bc2783f894  2019-10-07          41           1  \n",
       "8  cf7eda61-9349-469f-ac27-e5b6f5ec475c  2019-10-07          41           2  \n",
       "9  020292ab-89bc-4156-9acf-68bc2783f894  2019-10-07          41           1  "
      ]
     },
     "execution_count": 148,
     "metadata": {},
     "output_type": "execute_result"
    }
   ],
   "source": [
    "# вычисление длительности сессий при условии что между событиями прошло менее 5 минут\n",
    "session_duration = (\n",
    "    mobile_dataset\n",
    "    .sort_values(by=['user_id', 'event_time'])\n",
    "    .groupby('user_id')['event_time']\n",
    "    .diff() > pd.Timedelta('5Min')\n",
    ").cumsum()\n",
    "\n",
    "# группировка по пользователям и длительностям сессий, нумерация групп\n",
    "mobile_dataset['session_id'] = mobile_dataset.groupby(['user_id', session_duration], sort=False).ngroup() + 1\n",
    "print('Выделено сессий:', mobile_dataset['session_id'].max())\n",
    "mobile_dataset.head(10)"
   ]
  },
  {
   "cell_type": "markdown",
   "metadata": {},
   "source": [
    "_**Выделение пользовательских сессий прошло успешно.**_"
   ]
  },
  {
   "cell_type": "markdown",
   "metadata": {},
   "source": [
    "### Выделение событий, которые часто совершают пользователи вместе с целевым событием"
   ]
  },
  {
   "cell_type": "markdown",
   "metadata": {},
   "source": [
    "*Создание списка с номерами сессий, в которых присутствует целевое событие*"
   ]
  },
  {
   "cell_type": "code",
   "execution_count": 149,
   "metadata": {},
   "outputs": [
    {
     "name": "stdout",
     "output_type": "stream",
     "text": [
      "Количество сессий, в которых произошло целевое событие: 2288\n"
     ]
    }
   ],
   "source": [
    "sessions_with_target_event_list = (\n",
    "    mobile_dataset\n",
    "    .query('event_name == \"contacts_show\"')['session_id']\n",
    "    .unique()\n",
    "    .tolist()\n",
    ")\n",
    "print('Количество сессий, в которых произошло целевое событие:', \n",
    "      len(sessions_with_target_event_list))"
   ]
  },
  {
   "cell_type": "markdown",
   "metadata": {},
   "source": [
    "*Получение таблицы с сессиями, в которых присутствует целевое событие*"
   ]
  },
  {
   "cell_type": "code",
   "execution_count": 150,
   "metadata": {},
   "outputs": [
    {
     "name": "stdout",
     "output_type": "stream",
     "text": [
      "<class 'pandas.core.frame.DataFrame'>\n",
      "Int64Index: 13114 entries, 12 to 74196\n",
      "Data columns (total 6 columns):\n",
      " #   Column      Non-Null Count  Dtype         \n",
      "---  ------      --------------  -----         \n",
      " 0   event_time  13114 non-null  datetime64[ns]\n",
      " 1   event_name  13114 non-null  object        \n",
      " 2   user_id     13114 non-null  object        \n",
      " 3   event_date  13114 non-null  object        \n",
      " 4   event_week  13114 non-null  UInt32        \n",
      " 5   session_id  13114 non-null  int64         \n",
      "dtypes: UInt32(1), datetime64[ns](1), int64(1), object(3)\n",
      "memory usage: 678.8+ KB\n"
     ]
    }
   ],
   "source": [
    "sessions_with_target_event = mobile_dataset.query('session_id in @sessions_with_target_event_list')\n",
    "sessions_with_target_event.info()"
   ]
  },
  {
   "cell_type": "markdown",
   "metadata": {},
   "source": [
    "*Построение графиков количества событий*"
   ]
  },
  {
   "cell_type": "code",
   "execution_count": 151,
   "metadata": {
    "scrolled": true
   },
   "outputs": [
    {
     "data": {
      "image/png": "[encoded data removed]",
      "text/plain": [
       "<Figure size 1152x432 with 2 Axes>"
      ]
     },
     "metadata": {
      "needs_background": "light"
     },
     "output_type": "display_data"
    }
   ],
   "source": [
    "# создание ячеек для графиков\n",
    "fig, axes = plt.subplots(nrows = 1, ncols = 2, figsize = (16, 6))\n",
    "\n",
    "# построение графика абсолютного количества событий\n",
    "ax=plt.subplot(1, 2, 1)\n",
    "ax = sns.countplot(\n",
    "    x='event_name', \n",
    "    palette='magma',\n",
    "    order=(\n",
    "        sessions_with_target_event\n",
    "        .query('event_name != \"contacts_show\" and event_name != \"tips_show\"')['event_name']\n",
    "        .value_counts()\n",
    "        .index\n",
    "    ), \n",
    "    data=sessions_with_target_event.query('event_name != \"contacts_show\" and event_name != \"tips_show\"')\n",
    ")\n",
    "\n",
    "# добавление параметров графика\n",
    "ax.set_xlabel('Название события')\n",
    "ax.set_ylabel('Количество событий')\n",
    "ax.set_title('Абсолютное количество событий')\n",
    "ax.grid(axis = 'y')\n",
    "autolabel(ax.patches)\n",
    "plt.xticks(rotation = 90);\n",
    "\n",
    "# построение графика относительного количества событий\n",
    "ax=plt.subplot(1, 2, 2)\n",
    "ax = sns.barplot(\n",
    "    x='event_name', \n",
    "    y='user_id', \n",
    "    data=(\n",
    "        sessions_with_target_event\n",
    "        .query('event_name != \"contacts_show\" and event_name != \"tips_show\"')\n",
    "        .groupby('event_name')\n",
    "        .agg({'user_id': 'count'})\n",
    "        .reset_index()\n",
    "    ),\n",
    "    estimator=lambda x: sum(x) / len(\n",
    "        sessions_with_target_event.\n",
    "        query('event_name != \"contacts_show\" and event_name != \"tips_show\"')\n",
    "        ['event_name']),\n",
    "    palette=\"viridis\", \n",
    "    ci=None,\n",
    "    order=(\n",
    "        sessions_with_target_event\n",
    "        .query('event_name != \"contacts_show\" and event_name != \"tips_show\"')\n",
    "        .groupby('event_name')\n",
    "        .agg({'user_id': 'count'})\n",
    "        .sort_values(by='user_id', ascending=False)\n",
    "        .index\n",
    "    )\n",
    "           )\n",
    "\n",
    "# добавление параметров графика\n",
    "ax.set_xlabel('Название события')\n",
    "ax.set_ylabel('Доля количества событий от общего числа')\n",
    "ax.set_title('Относительное количество событий')\n",
    "ax.grid(axis = 'y')\n",
    "autolabel(ax.patches)\n",
    "plt.xticks(rotation = 90);"
   ]
  },
  {
   "cell_type": "markdown",
   "metadata": {},
   "source": [
    "_**Около трети событий, совершенных вместе с целевым, это просмотр фотографий в объявлении, в 2 раза реже совершаются звонки по номерам из объявлений и открытия карточек объявлений.**_"
   ]
  },
  {
   "cell_type": "markdown",
   "metadata": {},
   "source": [
    "### Анализ воронки событий"
   ]
  },
  {
   "cell_type": "markdown",
   "metadata": {},
   "source": [
    "*Расчет количества пользователей, совершивших каждое событие, для формирования цепочек событий*"
   ]
  },
  {
   "cell_type": "code",
   "execution_count": 152,
   "metadata": {},
   "outputs": [
    {
     "data": {
      "text/html": [
       "<div>\n",
       "<style scoped>\n",
       "    .dataframe tbody tr th:only-of-type {\n",
       "        vertical-align: middle;\n",
       "    }\n",
       "\n",
       "    .dataframe tbody tr th {\n",
       "        vertical-align: top;\n",
       "    }\n",
       "\n",
       "    .dataframe thead th {\n",
       "        text-align: right;\n",
       "    }\n",
       "</style>\n",
       "<table border=\"1\" class=\"dataframe\">\n",
       "  <thead>\n",
       "    <tr style=\"text-align: right;\">\n",
       "      <th></th>\n",
       "      <th>user_id</th>\n",
       "    </tr>\n",
       "    <tr>\n",
       "      <th>event_name</th>\n",
       "      <th></th>\n",
       "    </tr>\n",
       "  </thead>\n",
       "  <tbody>\n",
       "    <tr>\n",
       "      <th>tips_show</th>\n",
       "      <td>2801</td>\n",
       "    </tr>\n",
       "    <tr>\n",
       "      <th>map</th>\n",
       "      <td>1456</td>\n",
       "    </tr>\n",
       "    <tr>\n",
       "      <th>photos_show</th>\n",
       "      <td>1095</td>\n",
       "    </tr>\n",
       "    <tr>\n",
       "      <th>contacts_show</th>\n",
       "      <td>981</td>\n",
       "    </tr>\n",
       "    <tr>\n",
       "      <th>search_1</th>\n",
       "      <td>787</td>\n",
       "    </tr>\n",
       "    <tr>\n",
       "      <th>advert_open</th>\n",
       "      <td>751</td>\n",
       "    </tr>\n",
       "    <tr>\n",
       "      <th>search_5</th>\n",
       "      <td>663</td>\n",
       "    </tr>\n",
       "    <tr>\n",
       "      <th>search_4</th>\n",
       "      <td>474</td>\n",
       "    </tr>\n",
       "    <tr>\n",
       "      <th>favorites_add</th>\n",
       "      <td>351</td>\n",
       "    </tr>\n",
       "    <tr>\n",
       "      <th>search_6</th>\n",
       "      <td>330</td>\n",
       "    </tr>\n",
       "    <tr>\n",
       "      <th>tips_click</th>\n",
       "      <td>322</td>\n",
       "    </tr>\n",
       "    <tr>\n",
       "      <th>search_2</th>\n",
       "      <td>242</td>\n",
       "    </tr>\n",
       "    <tr>\n",
       "      <th>contacts_call</th>\n",
       "      <td>213</td>\n",
       "    </tr>\n",
       "    <tr>\n",
       "      <th>search_3</th>\n",
       "      <td>208</td>\n",
       "    </tr>\n",
       "    <tr>\n",
       "      <th>search_7</th>\n",
       "      <td>157</td>\n",
       "    </tr>\n",
       "  </tbody>\n",
       "</table>\n",
       "</div>"
      ],
      "text/plain": [
       "               user_id\n",
       "event_name            \n",
       "tips_show         2801\n",
       "map               1456\n",
       "photos_show       1095\n",
       "contacts_show      981\n",
       "search_1           787\n",
       "advert_open        751\n",
       "search_5           663\n",
       "search_4           474\n",
       "favorites_add      351\n",
       "search_6           330\n",
       "tips_click         322\n",
       "search_2           242\n",
       "contacts_call      213\n",
       "search_3           208\n",
       "search_7           157"
      ]
     },
     "execution_count": 152,
     "metadata": {},
     "output_type": "execute_result"
    }
   ],
   "source": [
    "# создание таблицы с количеством пользователей, совершивших каждое событие\n",
    "(\n",
    "    mobile_dataset\n",
    "    .groupby('event_name')\n",
    "    .agg({'user_id': 'nunique'})\n",
    "    .sort_values(by='user_id', ascending=False)\n",
    ")"
   ]
  },
  {
   "cell_type": "markdown",
   "metadata": {},
   "source": [
    "*Составление цепочек событий*  \n",
    "*1. \"Классическая\" цепочка: `search_1` -> `advert_open` -> `photos_show` -> `contacts_show`.*  \n",
    "*2. Цепочка с заходом через рекомендованные объявления: `tips_show` -> `tips_click` -> `photos_show` -> `contacts_show`.*  \n",
    "*3. Цепочка с добавлением в избранное: `advert_open` -> `photos_show` -> `favorites_add` -> `contacts_show`.*  \n",
    "*4. Цепочка с просмотром карты объявлений: `search_1` -> `map` -> `advert_open` -> `contacts_show`.*  "
   ]
  },
  {
   "cell_type": "code",
   "execution_count": 153,
   "metadata": {},
   "outputs": [],
   "source": [
    "# создание переменных с последовательностями событий\n",
    "\n",
    "sequence_of_events_classic = ('search_1', 'advert_open', 'photos_show', 'contacts_show')\n",
    "sequence_of_events_tips = ('tips_show', 'tips_click', 'photos_show', 'contacts_show')\n",
    "sequence_of_events_favorites = ('advert_open', 'photos_show', 'favorites_add', 'contacts_show')\n",
    "sequence_of_events_map = ('search_1', 'map', 'advert_open', 'contacts_show')"
   ]
  },
  {
   "cell_type": "markdown",
   "metadata": {},
   "source": [
    "*Создание функции для визуализации воронок событий*"
   ]
  },
  {
   "cell_type": "code",
   "execution_count": 154,
   "metadata": {},
   "outputs": [],
   "source": [
    "def funnel_drawing(sequence_of_events):\n",
    "    \n",
    "    #создание списка пользователей, совершивших первое событие\n",
    "    user_list = (\n",
    "        mobile_dataset\n",
    "        .query('event_name == @sequence_of_events[0]')\n",
    "        ['user_id']\n",
    "        .unique()\n",
    "    )\n",
    "    \n",
    "    #создание списка с кол-вом пользователей для сквозной воронки\n",
    "    users_in_initial_funnel = []\n",
    "    for value in sequence_of_events:\n",
    "        users_in_initial_funnel.append(mobile_dataset\n",
    "        .query('event_name == @value and user_id in @user_list')['user_id'].nunique())\n",
    "    \n",
    "    #создание пустого списка для воронки от предыдущего этапа\n",
    "    users_in_previous_funnel = []\n",
    "    \n",
    "    #добавление в список кол-ва пользователей, совершивших первый шаг воронки\n",
    "    users_in_previous_funnel.append(mobile_dataset\n",
    "            .query('event_name == @sequence_of_events[0]')['user_id'].nunique())\n",
    "    \n",
    "    #добавление в список кол-ва пользователей, совершивших остальные этапы воронки, \n",
    "    #из тех, кто совершил предыдущий этап\n",
    "    for i in range(0, len(sequence_of_events) - 1):\n",
    "        user_list = (\n",
    "                mobile_dataset\n",
    "                .query(f'event_name == @sequence_of_events[{i}] and user_id in @user_list')\n",
    "                ['user_id']\n",
    "                .unique()\n",
    "            )\n",
    "        users_in_previous_funnel.append(mobile_dataset\n",
    "                .query(f'event_name == @sequence_of_events[{i+1}] and user_id in @user_list')['user_id'].nunique())\n",
    "    \n",
    "    # визуализация воронок    \n",
    "    fig = make_subplots(rows = 1, cols = 2, subplot_titles=(\"Сквозная воронка\", \"Воронка от предыдущего этапа\"))\n",
    "    for k, value in enumerate((users_in_initial_funnel, users_in_previous_funnel), start=1):\n",
    "        fig.add_trace(\n",
    "            go.Funnel(\n",
    "                y=sequence_of_events,\n",
    "                x=value,\n",
    "                text = sequence_of_events,\n",
    "                textposition = \"inside\",\n",
    "                textinfo = \"text+value\",\n",
    "                opacity = 0.9, \n",
    "                marker = {\"color\": [\"deepskyblue\", \"lightsalmon\", \"tan\", \"teal\"],\n",
    "                          \"line\": {\"width\": [4, 2, 2, 3, 1, 1], \"color\": [\"wheat\", \"wheat\", \"teal\", \"wheat\"]}},\n",
    "                connector = {\"line\": {\"color\": \"royalblue\", \"dash\": \"dot\", \"width\": 3}}),\n",
    "            row=1, col=k\n",
    "        )\n",
    "        \n",
    "    fig.update_yaxes(row=1, col=2, showticklabels=False)\n",
    "    fig.show()"
   ]
  },
  {
   "cell_type": "markdown",
   "metadata": {},
   "source": [
    "*Визуализация \"классической\" цепочки*"
   ]
  },
  {
   "cell_type": "code",
   "execution_count": 155,
   "metadata": {
    "scrolled": true
   },
   "outputs": [
    {
     "data": {
      "application/vnd.plotly.v1+json": {
       "config": {
        "plotlyServerURL": "https://plot.ly"
       },
       "data": [
        {
         "connector": {
          "line": {
           "color": "royalblue",
           "dash": "dot",
           "width": 3
          }
         },
         "marker": {
          "color": [
           "deepskyblue",
           "lightsalmon",
           "tan",
           "teal"
          ],
          "line": {
           "color": [
            "wheat",
            "wheat",
            "teal",
            "wheat"
           ],
           "width": [
            4,
            2,
            2,
            3,
            1,
            1
           ]
          }
         },
         "opacity": 0.9,
         "text": [
          "search_1",
          "advert_open",
          "photos_show",
          "contacts_show"
         ],
         "textinfo": "text+value",
         "textposition": "inside",
         "type": "funnel",
         "x": [
          787,
          54,
          643,
          237
         ],
         "xaxis": "x",
         "y": [
          "search_1",
          "advert_open",
          "photos_show",
          "contacts_show"
         ],
         "yaxis": "y"
        },
        {
         "connector": {
          "line": {
           "color": "royalblue",
           "dash": "dot",
           "width": 3
          }
         },
         "marker": {
          "color": [
           "deepskyblue",
           "lightsalmon",
           "tan",
           "teal"
          ],
          "line": {
           "color": [
            "wheat",
            "wheat",
            "teal",
            "wheat"
           ],
           "width": [
            4,
            2,
            2,
            3,
            1,
            1
           ]
          }
         },
         "opacity": 0.9,
         "text": [
          "search_1",
          "advert_open",
          "photos_show",
          "contacts_show"
         ],
         "textinfo": "text+value",
         "textposition": "inside",
         "type": "funnel",
         "x": [
          787,
          54,
          49,
          25
         ],
         "xaxis": "x2",
         "y": [
          "search_1",
          "advert_open",
          "photos_show",
          "contacts_show"
         ],
         "yaxis": "y2"
        }
       ],
       "layout": {
        "annotations": [
         {
          "font": {
           "size": 16
          },
          "showarrow": false,
          "text": "Сквозная воронка",
          "x": 0.225,
          "xanchor": "center",
          "xref": "paper",
          "y": 1,
          "yanchor": "bottom",
          "yref": "paper"
         },
         {
          "font": {
           "size": 16
          },
          "showarrow": false,
          "text": "Воронка от предыдущего этапа",
          "x": 0.775,
          "xanchor": "center",
          "xref": "paper",
          "y": 1,
          "yanchor": "bottom",
          "yref": "paper"
         }
        ],
        "template": {
         "data": {
          "bar": [
           {
            "error_x": {
             "color": "#2a3f5f"
            },
            "error_y": {
             "color": "#2a3f5f"
            },
            "marker": {
             "line": {
              "color": "#E5ECF6",
              "width": 0.5
             },
             "pattern": {
              "fillmode": "overlay",
              "size": 10,
              "solidity": 0.2
             }
            },
            "type": "bar"
           }
          ],
          "barpolar": [
           {
            "marker": {
             "line": {
              "color": "#E5ECF6",
              "width": 0.5
             },
             "pattern": {
              "fillmode": "overlay",
              "size": 10,
              "solidity": 0.2
             }
            },
            "type": "barpolar"
           }
          ],
          "carpet": [
           {
            "aaxis": {
             "endlinecolor": "#2a3f5f",
             "gridcolor": "white",
             "linecolor": "white",
             "minorgridcolor": "white",
             "startlinecolor": "#2a3f5f"
            },
            "baxis": {
             "endlinecolor": "#2a3f5f",
             "gridcolor": "white",
             "linecolor": "white",
             "minorgridcolor": "white",
             "startlinecolor": "#2a3f5f"
            },
            "type": "carpet"
           }
          ],
          "choropleth": [
           {
            "colorbar": {
             "outlinewidth": 0,
             "ticks": ""
            },
            "type": "choropleth"
           }
          ],
          "contour": [
           {
            "colorbar": {
             "outlinewidth": 0,
             "ticks": ""
            },
            "colorscale": [
             [
              0,
              "#0d0887"
             ],
             [
              0.1111111111111111,
              "#46039f"
             ],
             [
              0.2222222222222222,
              "#7201a8"
             ],
             [
              0.3333333333333333,
              "#9c179e"
             ],
             [
              0.4444444444444444,
              "#bd3786"
             ],
             [
              0.5555555555555556,
              "#d8576b"
             ],
             [
              0.6666666666666666,
              "#ed7953"
             ],
             [
              0.7777777777777778,
              "#fb9f3a"
             ],
             [
              0.8888888888888888,
              "#fdca26"
             ],
             [
              1,
              "#f0f921"
             ]
            ],
            "type": "contour"
           }
          ],
          "contourcarpet": [
           {
            "colorbar": {
             "outlinewidth": 0,
             "ticks": ""
            },
            "type": "contourcarpet"
           }
          ],
          "heatmap": [
           {
            "colorbar": {
             "outlinewidth": 0,
             "ticks": ""
            },
            "colorscale": [
             [
              0,
              "#0d0887"
             ],
             [
              0.1111111111111111,
              "#46039f"
             ],
             [
              0.2222222222222222,
              "#7201a8"
             ],
             [
              0.3333333333333333,
              "#9c179e"
             ],
             [
              0.4444444444444444,
              "#bd3786"
             ],
             [
              0.5555555555555556,
              "#d8576b"
             ],
             [
              0.6666666666666666,
              "#ed7953"
             ],
             [
              0.7777777777777778,
              "#fb9f3a"
             ],
             [
              0.8888888888888888,
              "#fdca26"
             ],
             [
              1,
              "#f0f921"
             ]
            ],
            "type": "heatmap"
           }
          ],
          "heatmapgl": [
           {
            "colorbar": {
             "outlinewidth": 0,
             "ticks": ""
            },
            "colorscale": [
             [
              0,
              "#0d0887"
             ],
             [
              0.1111111111111111,
              "#46039f"
             ],
             [
              0.2222222222222222,
              "#7201a8"
             ],
             [
              0.3333333333333333,
              "#9c179e"
             ],
             [
              0.4444444444444444,
              "#bd3786"
             ],
             [
              0.5555555555555556,
              "#d8576b"
             ],
             [
              0.6666666666666666,
              "#ed7953"
             ],
             [
              0.7777777777777778,
              "#fb9f3a"
             ],
             [
              0.8888888888888888,
              "#fdca26"
             ],
             [
              1,
              "#f0f921"
             ]
            ],
            "type": "heatmapgl"
           }
          ],
          "histogram": [
           {
            "marker": {
             "pattern": {
              "fillmode": "overlay",
              "size": 10,
              "solidity": 0.2
             }
            },
            "type": "histogram"
           }
          ],
          "histogram2d": [
           {
            "colorbar": {
             "outlinewidth": 0,
             "ticks": ""
            },
            "colorscale": [
             [
              0,
              "#0d0887"
             ],
             [
              0.1111111111111111,
              "#46039f"
             ],
             [
              0.2222222222222222,
              "#7201a8"
             ],
             [
              0.3333333333333333,
              "#9c179e"
             ],
             [
              0.4444444444444444,
              "#bd3786"
             ],
             [
              0.5555555555555556,
              "#d8576b"
             ],
             [
              0.6666666666666666,
              "#ed7953"
             ],
             [
              0.7777777777777778,
              "#fb9f3a"
             ],
             [
              0.8888888888888888,
              "#fdca26"
             ],
             [
              1,
              "#f0f921"
             ]
            ],
            "type": "histogram2d"
           }
          ],
          "histogram2dcontour": [
           {
            "colorbar": {
             "outlinewidth": 0,
             "ticks": ""
            },
            "colorscale": [
             [
              0,
              "#0d0887"
             ],
             [
              0.1111111111111111,
              "#46039f"
             ],
             [
              0.2222222222222222,
              "#7201a8"
             ],
             [
              0.3333333333333333,
              "#9c179e"
             ],
             [
              0.4444444444444444,
              "#bd3786"
             ],
             [
              0.5555555555555556,
              "#d8576b"
             ],
             [
              0.6666666666666666,
              "#ed7953"
             ],
             [
              0.7777777777777778,
              "#fb9f3a"
             ],
             [
              0.8888888888888888,
              "#fdca26"
             ],
             [
              1,
              "#f0f921"
             ]
            ],
            "type": "histogram2dcontour"
           }
          ],
          "mesh3d": [
           {
            "colorbar": {
             "outlinewidth": 0,
             "ticks": ""
            },
            "type": "mesh3d"
           }
          ],
          "parcoords": [
           {
            "line": {
             "colorbar": {
              "outlinewidth": 0,
              "ticks": ""
             }
            },
            "type": "parcoords"
           }
          ],
          "pie": [
           {
            "automargin": true,
            "type": "pie"
           }
          ],
          "scatter": [
           {
            "fillpattern": {
             "fillmode": "overlay",
             "size": 10,
             "solidity": 0.2
            },
            "type": "scatter"
           }
          ],
          "scatter3d": [
           {
            "line": {
             "colorbar": {
              "outlinewidth": 0,
              "ticks": ""
             }
            },
            "marker": {
             "colorbar": {
              "outlinewidth": 0,
              "ticks": ""
             }
            },
            "type": "scatter3d"
           }
          ],
          "scattercarpet": [
           {
            "marker": {
             "colorbar": {
              "outlinewidth": 0,
              "ticks": ""
             }
            },
            "type": "scattercarpet"
           }
          ],
          "scattergeo": [
           {
            "marker": {
             "colorbar": {
              "outlinewidth": 0,
              "ticks": ""
             }
            },
            "type": "scattergeo"
           }
          ],
          "scattergl": [
           {
            "marker": {
             "colorbar": {
              "outlinewidth": 0,
              "ticks": ""
             }
            },
            "type": "scattergl"
           }
          ],
          "scattermapbox": [
           {
            "marker": {
             "colorbar": {
              "outlinewidth": 0,
              "ticks": ""
             }
            },
            "type": "scattermapbox"
           }
          ],
          "scatterpolar": [
           {
            "marker": {
             "colorbar": {
              "outlinewidth": 0,
              "ticks": ""
             }
            },
            "type": "scatterpolar"
           }
          ],
          "scatterpolargl": [
           {
            "marker": {
             "colorbar": {
              "outlinewidth": 0,
              "ticks": ""
             }
            },
            "type": "scatterpolargl"
           }
          ],
          "scatterternary": [
           {
            "marker": {
             "colorbar": {
              "outlinewidth": 0,
              "ticks": ""
             }
            },
            "type": "scatterternary"
           }
          ],
          "surface": [
           {
            "colorbar": {
             "outlinewidth": 0,
             "ticks": ""
            },
            "colorscale": [
             [
              0,
              "#0d0887"
             ],
             [
              0.1111111111111111,
              "#46039f"
             ],
             [
              0.2222222222222222,
              "#7201a8"
             ],
             [
              0.3333333333333333,
              "#9c179e"
             ],
             [
              0.4444444444444444,
              "#bd3786"
             ],
             [
              0.5555555555555556,
              "#d8576b"
             ],
             [
              0.6666666666666666,
              "#ed7953"
             ],
             [
              0.7777777777777778,
              "#fb9f3a"
             ],
             [
              0.8888888888888888,
              "#fdca26"
             ],
             [
              1,
              "#f0f921"
             ]
            ],
            "type": "surface"
           }
          ],
          "table": [
           {
            "cells": {
             "fill": {
              "color": "#EBF0F8"
             },
             "line": {
              "color": "white"
             }
            },
            "header": {
             "fill": {
              "color": "#C8D4E3"
             },
             "line": {
              "color": "white"
             }
            },
            "type": "table"
           }
          ]
         },
         "layout": {
          "annotationdefaults": {
           "arrowcolor": "#2a3f5f",
           "arrowhead": 0,
           "arrowwidth": 1
          },
          "autotypenumbers": "strict",
          "coloraxis": {
           "colorbar": {
            "outlinewidth": 0,
            "ticks": ""
           }
          },
          "colorscale": {
           "diverging": [
            [
             0,
             "#8e0152"
            ],
            [
             0.1,
             "#c51b7d"
            ],
            [
             0.2,
             "#de77ae"
            ],
            [
             0.3,
             "#f1b6da"
            ],
            [
             0.4,
             "#fde0ef"
            ],
            [
             0.5,
             "#f7f7f7"
            ],
            [
             0.6,
             "#e6f5d0"
            ],
            [
             0.7,
             "#b8e186"
            ],
            [
             0.8,
             "#7fbc41"
            ],
            [
             0.9,
             "#4d9221"
            ],
            [
             1,
             "#276419"
            ]
           ],
           "sequential": [
            [
             0,
             "#0d0887"
            ],
            [
             0.1111111111111111,
             "#46039f"
            ],
            [
             0.2222222222222222,
             "#7201a8"
            ],
            [
             0.3333333333333333,
             "#9c179e"
            ],
            [
             0.4444444444444444,
             "#bd3786"
            ],
            [
             0.5555555555555556,
             "#d8576b"
            ],
            [
             0.6666666666666666,
             "#ed7953"
            ],
            [
             0.7777777777777778,
             "#fb9f3a"
            ],
            [
             0.8888888888888888,
             "#fdca26"
            ],
            [
             1,
             "#f0f921"
            ]
           ],
           "sequentialminus": [
            [
             0,
             "#0d0887"
            ],
            [
             0.1111111111111111,
             "#46039f"
            ],
            [
             0.2222222222222222,
             "#7201a8"
            ],
            [
             0.3333333333333333,
             "#9c179e"
            ],
            [
             0.4444444444444444,
             "#bd3786"
            ],
            [
             0.5555555555555556,
             "#d8576b"
            ],
            [
             0.6666666666666666,
             "#ed7953"
            ],
            [
             0.7777777777777778,
             "#fb9f3a"
            ],
            [
             0.8888888888888888,
             "#fdca26"
            ],
            [
             1,
             "#f0f921"
            ]
           ]
          },
          "colorway": [
           "#636efa",
           "#EF553B",
           "#00cc96",
           "#ab63fa",
           "#FFA15A",
           "#19d3f3",
           "#FF6692",
           "#B6E880",
           "#FF97FF",
           "#FECB52"
          ],
          "font": {
           "color": "#2a3f5f"
          },
          "geo": {
           "bgcolor": "white",
           "lakecolor": "white",
           "landcolor": "#E5ECF6",
           "showlakes": true,
           "showland": true,
           "subunitcolor": "white"
          },
          "hoverlabel": {
           "align": "left"
          },
          "hovermode": "closest",
          "mapbox": {
           "style": "light"
          },
          "paper_bgcolor": "white",
          "plot_bgcolor": "#E5ECF6",
          "polar": {
           "angularaxis": {
            "gridcolor": "white",
            "linecolor": "white",
            "ticks": ""
           },
           "bgcolor": "#E5ECF6",
           "radialaxis": {
            "gridcolor": "white",
            "linecolor": "white",
            "ticks": ""
           }
          },
          "scene": {
           "xaxis": {
            "backgroundcolor": "#E5ECF6",
            "gridcolor": "white",
            "gridwidth": 2,
            "linecolor": "white",
            "showbackground": true,
            "ticks": "",
            "zerolinecolor": "white"
           },
           "yaxis": {
            "backgroundcolor": "#E5ECF6",
            "gridcolor": "white",
            "gridwidth": 2,
            "linecolor": "white",
            "showbackground": true,
            "ticks": "",
            "zerolinecolor": "white"
           },
           "zaxis": {
            "backgroundcolor": "#E5ECF6",
            "gridcolor": "white",
            "gridwidth": 2,
            "linecolor": "white",
            "showbackground": true,
            "ticks": "",
            "zerolinecolor": "white"
           }
          },
          "shapedefaults": {
           "line": {
            "color": "#2a3f5f"
           }
          },
          "ternary": {
           "aaxis": {
            "gridcolor": "white",
            "linecolor": "white",
            "ticks": ""
           },
           "baxis": {
            "gridcolor": "white",
            "linecolor": "white",
            "ticks": ""
           },
           "bgcolor": "#E5ECF6",
           "caxis": {
            "gridcolor": "white",
            "linecolor": "white",
            "ticks": ""
           }
          },
          "title": {
           "x": 0.05
          },
          "xaxis": {
           "automargin": true,
           "gridcolor": "white",
           "linecolor": "white",
           "ticks": "",
           "title": {
            "standoff": 15
           },
           "zerolinecolor": "white",
           "zerolinewidth": 2
          },
          "yaxis": {
           "automargin": true,
           "gridcolor": "white",
           "linecolor": "white",
           "ticks": "",
           "title": {
            "standoff": 15
           },
           "zerolinecolor": "white",
           "zerolinewidth": 2
          }
         }
        },
        "xaxis": {
         "anchor": "y",
         "domain": [
          0,
          0.45
         ]
        },
        "xaxis2": {
         "anchor": "y2",
         "domain": [
          0.55,
          1
         ]
        },
        "yaxis": {
         "anchor": "x",
         "domain": [
          0,
          1
         ]
        },
        "yaxis2": {
         "anchor": "x2",
         "domain": [
          0,
          1
         ],
         "showticklabels": false
        }
       }
      },
      "text/html": [
       "<div>                            <div id=\"3e4a361b-0db1-450a-bfd1-5cf1d2316ea6\" class=\"plotly-graph-div\" style=\"height:525px; width:100%;\"></div>            <script type=\"text/javascript\">                require([\"plotly\"], function(Plotly) {                    window.PLOTLYENV=window.PLOTLYENV || {};                                    if (document.getElementById(\"3e4a361b-0db1-450a-bfd1-5cf1d2316ea6\")) {                    Plotly.newPlot(                        \"3e4a361b-0db1-450a-bfd1-5cf1d2316ea6\",                        [{\"connector\":{\"line\":{\"color\":\"royalblue\",\"dash\":\"dot\",\"width\":3}},\"marker\":{\"color\":[\"deepskyblue\",\"lightsalmon\",\"tan\",\"teal\"],\"line\":{\"color\":[\"wheat\",\"wheat\",\"teal\",\"wheat\"],\"width\":[4,2,2,3,1,1]}},\"opacity\":0.9,\"text\":[\"search_1\",\"advert_open\",\"photos_show\",\"contacts_show\"],\"textinfo\":\"text+value\",\"textposition\":\"inside\",\"x\":[787,54,643,237],\"y\":[\"search_1\",\"advert_open\",\"photos_show\",\"contacts_show\"],\"type\":\"funnel\",\"xaxis\":\"x\",\"yaxis\":\"y\"},{\"connector\":{\"line\":{\"color\":\"royalblue\",\"dash\":\"dot\",\"width\":3}},\"marker\":{\"color\":[\"deepskyblue\",\"lightsalmon\",\"tan\",\"teal\"],\"line\":{\"color\":[\"wheat\",\"wheat\",\"teal\",\"wheat\"],\"width\":[4,2,2,3,1,1]}},\"opacity\":0.9,\"text\":[\"search_1\",\"advert_open\",\"photos_show\",\"contacts_show\"],\"textinfo\":\"text+value\",\"textposition\":\"inside\",\"x\":[787,54,49,25],\"y\":[\"search_1\",\"advert_open\",\"photos_show\",\"contacts_show\"],\"type\":\"funnel\",\"xaxis\":\"x2\",\"yaxis\":\"y2\"}],                        {\"template\":{\"data\":{\"histogram2dcontour\":[{\"type\":\"histogram2dcontour\",\"colorbar\":{\"outlinewidth\":0,\"ticks\":\"\"},\"colorscale\":[[0.0,\"#0d0887\"],[0.1111111111111111,\"#46039f\"],[0.2222222222222222,\"#7201a8\"],[0.3333333333333333,\"#9c179e\"],[0.4444444444444444,\"#bd3786\"],[0.5555555555555556,\"#d8576b\"],[0.6666666666666666,\"#ed7953\"],[0.7777777777777778,\"#fb9f3a\"],[0.8888888888888888,\"#fdca26\"],[1.0,\"#f0f921\"]]}],\"choropleth\":[{\"type\":\"choropleth\",\"colorbar\":{\"outlinewidth\":0,\"ticks\":\"\"}}],\"histogram2d\":[{\"type\":\"histogram2d\",\"colorbar\":{\"outlinewidth\":0,\"ticks\":\"\"},\"colorscale\":[[0.0,\"#0d0887\"],[0.1111111111111111,\"#46039f\"],[0.2222222222222222,\"#7201a8\"],[0.3333333333333333,\"#9c179e\"],[0.4444444444444444,\"#bd3786\"],[0.5555555555555556,\"#d8576b\"],[0.6666666666666666,\"#ed7953\"],[0.7777777777777778,\"#fb9f3a\"],[0.8888888888888888,\"#fdca26\"],[1.0,\"#f0f921\"]]}],\"heatmap\":[{\"type\":\"heatmap\",\"colorbar\":{\"outlinewidth\":0,\"ticks\":\"\"},\"colorscale\":[[0.0,\"#0d0887\"],[0.1111111111111111,\"#46039f\"],[0.2222222222222222,\"#7201a8\"],[0.3333333333333333,\"#9c179e\"],[0.4444444444444444,\"#bd3786\"],[0.5555555555555556,\"#d8576b\"],[0.6666666666666666,\"#ed7953\"],[0.7777777777777778,\"#fb9f3a\"],[0.8888888888888888,\"#fdca26\"],[1.0,\"#f0f921\"]]}],\"heatmapgl\":[{\"type\":\"heatmapgl\",\"colorbar\":{\"outlinewidth\":0,\"ticks\":\"\"},\"colorscale\":[[0.0,\"#0d0887\"],[0.1111111111111111,\"#46039f\"],[0.2222222222222222,\"#7201a8\"],[0.3333333333333333,\"#9c179e\"],[0.4444444444444444,\"#bd3786\"],[0.5555555555555556,\"#d8576b\"],[0.6666666666666666,\"#ed7953\"],[0.7777777777777778,\"#fb9f3a\"],[0.8888888888888888,\"#fdca26\"],[1.0,\"#f0f921\"]]}],\"contourcarpet\":[{\"type\":\"contourcarpet\",\"colorbar\":{\"outlinewidth\":0,\"ticks\":\"\"}}],\"contour\":[{\"type\":\"contour\",\"colorbar\":{\"outlinewidth\":0,\"ticks\":\"\"},\"colorscale\":[[0.0,\"#0d0887\"],[0.1111111111111111,\"#46039f\"],[0.2222222222222222,\"#7201a8\"],[0.3333333333333333,\"#9c179e\"],[0.4444444444444444,\"#bd3786\"],[0.5555555555555556,\"#d8576b\"],[0.6666666666666666,\"#ed7953\"],[0.7777777777777778,\"#fb9f3a\"],[0.8888888888888888,\"#fdca26\"],[1.0,\"#f0f921\"]]}],\"surface\":[{\"type\":\"surface\",\"colorbar\":{\"outlinewidth\":0,\"ticks\":\"\"},\"colorscale\":[[0.0,\"#0d0887\"],[0.1111111111111111,\"#46039f\"],[0.2222222222222222,\"#7201a8\"],[0.3333333333333333,\"#9c179e\"],[0.4444444444444444,\"#bd3786\"],[0.5555555555555556,\"#d8576b\"],[0.6666666666666666,\"#ed7953\"],[0.7777777777777778,\"#fb9f3a\"],[0.8888888888888888,\"#fdca26\"],[1.0,\"#f0f921\"]]}],\"mesh3d\":[{\"type\":\"mesh3d\",\"colorbar\":{\"outlinewidth\":0,\"ticks\":\"\"}}],\"scatter\":[{\"fillpattern\":{\"fillmode\":\"overlay\",\"size\":10,\"solidity\":0.2},\"type\":\"scatter\"}],\"parcoords\":[{\"type\":\"parcoords\",\"line\":{\"colorbar\":{\"outlinewidth\":0,\"ticks\":\"\"}}}],\"scatterpolargl\":[{\"type\":\"scatterpolargl\",\"marker\":{\"colorbar\":{\"outlinewidth\":0,\"ticks\":\"\"}}}],\"bar\":[{\"error_x\":{\"color\":\"#2a3f5f\"},\"error_y\":{\"color\":\"#2a3f5f\"},\"marker\":{\"line\":{\"color\":\"#E5ECF6\",\"width\":0.5},\"pattern\":{\"fillmode\":\"overlay\",\"size\":10,\"solidity\":0.2}},\"type\":\"bar\"}],\"scattergeo\":[{\"type\":\"scattergeo\",\"marker\":{\"colorbar\":{\"outlinewidth\":0,\"ticks\":\"\"}}}],\"scatterpolar\":[{\"type\":\"scatterpolar\",\"marker\":{\"colorbar\":{\"outlinewidth\":0,\"ticks\":\"\"}}}],\"histogram\":[{\"marker\":{\"pattern\":{\"fillmode\":\"overlay\",\"size\":10,\"solidity\":0.2}},\"type\":\"histogram\"}],\"scattergl\":[{\"type\":\"scattergl\",\"marker\":{\"colorbar\":{\"outlinewidth\":0,\"ticks\":\"\"}}}],\"scatter3d\":[{\"type\":\"scatter3d\",\"line\":{\"colorbar\":{\"outlinewidth\":0,\"ticks\":\"\"}},\"marker\":{\"colorbar\":{\"outlinewidth\":0,\"ticks\":\"\"}}}],\"scattermapbox\":[{\"type\":\"scattermapbox\",\"marker\":{\"colorbar\":{\"outlinewidth\":0,\"ticks\":\"\"}}}],\"scatterternary\":[{\"type\":\"scatterternary\",\"marker\":{\"colorbar\":{\"outlinewidth\":0,\"ticks\":\"\"}}}],\"scattercarpet\":[{\"type\":\"scattercarpet\",\"marker\":{\"colorbar\":{\"outlinewidth\":0,\"ticks\":\"\"}}}],\"carpet\":[{\"aaxis\":{\"endlinecolor\":\"#2a3f5f\",\"gridcolor\":\"white\",\"linecolor\":\"white\",\"minorgridcolor\":\"white\",\"startlinecolor\":\"#2a3f5f\"},\"baxis\":{\"endlinecolor\":\"#2a3f5f\",\"gridcolor\":\"white\",\"linecolor\":\"white\",\"minorgridcolor\":\"white\",\"startlinecolor\":\"#2a3f5f\"},\"type\":\"carpet\"}],\"table\":[{\"cells\":{\"fill\":{\"color\":\"#EBF0F8\"},\"line\":{\"color\":\"white\"}},\"header\":{\"fill\":{\"color\":\"#C8D4E3\"},\"line\":{\"color\":\"white\"}},\"type\":\"table\"}],\"barpolar\":[{\"marker\":{\"line\":{\"color\":\"#E5ECF6\",\"width\":0.5},\"pattern\":{\"fillmode\":\"overlay\",\"size\":10,\"solidity\":0.2}},\"type\":\"barpolar\"}],\"pie\":[{\"automargin\":true,\"type\":\"pie\"}]},\"layout\":{\"autotypenumbers\":\"strict\",\"colorway\":[\"#636efa\",\"#EF553B\",\"#00cc96\",\"#ab63fa\",\"#FFA15A\",\"#19d3f3\",\"#FF6692\",\"#B6E880\",\"#FF97FF\",\"#FECB52\"],\"font\":{\"color\":\"#2a3f5f\"},\"hovermode\":\"closest\",\"hoverlabel\":{\"align\":\"left\"},\"paper_bgcolor\":\"white\",\"plot_bgcolor\":\"#E5ECF6\",\"polar\":{\"bgcolor\":\"#E5ECF6\",\"angularaxis\":{\"gridcolor\":\"white\",\"linecolor\":\"white\",\"ticks\":\"\"},\"radialaxis\":{\"gridcolor\":\"white\",\"linecolor\":\"white\",\"ticks\":\"\"}},\"ternary\":{\"bgcolor\":\"#E5ECF6\",\"aaxis\":{\"gridcolor\":\"white\",\"linecolor\":\"white\",\"ticks\":\"\"},\"baxis\":{\"gridcolor\":\"white\",\"linecolor\":\"white\",\"ticks\":\"\"},\"caxis\":{\"gridcolor\":\"white\",\"linecolor\":\"white\",\"ticks\":\"\"}},\"coloraxis\":{\"colorbar\":{\"outlinewidth\":0,\"ticks\":\"\"}},\"colorscale\":{\"sequential\":[[0.0,\"#0d0887\"],[0.1111111111111111,\"#46039f\"],[0.2222222222222222,\"#7201a8\"],[0.3333333333333333,\"#9c179e\"],[0.4444444444444444,\"#bd3786\"],[0.5555555555555556,\"#d8576b\"],[0.6666666666666666,\"#ed7953\"],[0.7777777777777778,\"#fb9f3a\"],[0.8888888888888888,\"#fdca26\"],[1.0,\"#f0f921\"]],\"sequentialminus\":[[0.0,\"#0d0887\"],[0.1111111111111111,\"#46039f\"],[0.2222222222222222,\"#7201a8\"],[0.3333333333333333,\"#9c179e\"],[0.4444444444444444,\"#bd3786\"],[0.5555555555555556,\"#d8576b\"],[0.6666666666666666,\"#ed7953\"],[0.7777777777777778,\"#fb9f3a\"],[0.8888888888888888,\"#fdca26\"],[1.0,\"#f0f921\"]],\"diverging\":[[0,\"#8e0152\"],[0.1,\"#c51b7d\"],[0.2,\"#de77ae\"],[0.3,\"#f1b6da\"],[0.4,\"#fde0ef\"],[0.5,\"#f7f7f7\"],[0.6,\"#e6f5d0\"],[0.7,\"#b8e186\"],[0.8,\"#7fbc41\"],[0.9,\"#4d9221\"],[1,\"#276419\"]]},\"xaxis\":{\"gridcolor\":\"white\",\"linecolor\":\"white\",\"ticks\":\"\",\"title\":{\"standoff\":15},\"zerolinecolor\":\"white\",\"automargin\":true,\"zerolinewidth\":2},\"yaxis\":{\"gridcolor\":\"white\",\"linecolor\":\"white\",\"ticks\":\"\",\"title\":{\"standoff\":15},\"zerolinecolor\":\"white\",\"automargin\":true,\"zerolinewidth\":2},\"scene\":{\"xaxis\":{\"backgroundcolor\":\"#E5ECF6\",\"gridcolor\":\"white\",\"linecolor\":\"white\",\"showbackground\":true,\"ticks\":\"\",\"zerolinecolor\":\"white\",\"gridwidth\":2},\"yaxis\":{\"backgroundcolor\":\"#E5ECF6\",\"gridcolor\":\"white\",\"linecolor\":\"white\",\"showbackground\":true,\"ticks\":\"\",\"zerolinecolor\":\"white\",\"gridwidth\":2},\"zaxis\":{\"backgroundcolor\":\"#E5ECF6\",\"gridcolor\":\"white\",\"linecolor\":\"white\",\"showbackground\":true,\"ticks\":\"\",\"zerolinecolor\":\"white\",\"gridwidth\":2}},\"shapedefaults\":{\"line\":{\"color\":\"#2a3f5f\"}},\"annotationdefaults\":{\"arrowcolor\":\"#2a3f5f\",\"arrowhead\":0,\"arrowwidth\":1},\"geo\":{\"bgcolor\":\"white\",\"landcolor\":\"#E5ECF6\",\"subunitcolor\":\"white\",\"showland\":true,\"showlakes\":true,\"lakecolor\":\"white\"},\"title\":{\"x\":0.05},\"mapbox\":{\"style\":\"light\"}}},\"xaxis\":{\"anchor\":\"y\",\"domain\":[0.0,0.45]},\"yaxis\":{\"anchor\":\"x\",\"domain\":[0.0,1.0]},\"xaxis2\":{\"anchor\":\"y2\",\"domain\":[0.55,1.0]},\"yaxis2\":{\"anchor\":\"x2\",\"domain\":[0.0,1.0],\"showticklabels\":false},\"annotations\":[{\"font\":{\"size\":16},\"showarrow\":false,\"text\":\"\\u0421\\u043a\\u0432\\u043e\\u0437\\u043d\\u0430\\u044f \\u0432\\u043e\\u0440\\u043e\\u043d\\u043a\\u0430\",\"x\":0.225,\"xanchor\":\"center\",\"xref\":\"paper\",\"y\":1.0,\"yanchor\":\"bottom\",\"yref\":\"paper\"},{\"font\":{\"size\":16},\"showarrow\":false,\"text\":\"\\u0412\\u043e\\u0440\\u043e\\u043d\\u043a\\u0430 \\u043e\\u0442 \\u043f\\u0440\\u0435\\u0434\\u044b\\u0434\\u0443\\u0449\\u0435\\u0433\\u043e \\u044d\\u0442\\u0430\\u043f\\u0430\",\"x\":0.775,\"xanchor\":\"center\",\"xref\":\"paper\",\"y\":1.0,\"yanchor\":\"bottom\",\"yref\":\"paper\"}]},                        {\"responsive\": true}                    ).then(function(){\n",
       "                            \n",
       "var gd = document.getElementById('3e4a361b-0db1-450a-bfd1-5cf1d2316ea6');\n",
       "var x = new MutationObserver(function (mutations, observer) {{\n",
       "        var display = window.getComputedStyle(gd).display;\n",
       "        if (!display || display === 'none') {{\n",
       "            console.log([gd, 'removed!']);\n",
       "            Plotly.purge(gd);\n",
       "            observer.disconnect();\n",
       "        }}\n",
       "}});\n",
       "\n",
       "// Listen for the removal of the full notebook cells\n",
       "var notebookContainer = gd.closest('#notebook-container');\n",
       "if (notebookContainer) {{\n",
       "    x.observe(notebookContainer, {childList: true});\n",
       "}}\n",
       "\n",
       "// Listen for the clearing of the current output cell\n",
       "var outputEl = gd.closest('.output');\n",
       "if (outputEl) {{\n",
       "    x.observe(outputEl, {childList: true});\n",
       "}}\n",
       "\n",
       "                        })                };                });            </script>        </div>"
      ]
     },
     "metadata": {},
     "output_type": "display_data"
    }
   ],
   "source": [
    "funnel_drawing(sequence_of_events_classic)"
   ]
  },
  {
   "cell_type": "markdown",
   "metadata": {},
   "source": [
    "_**Данные события не составляют какую-либо воронку. Карточку объявления открывают в 16 раз меньше пользователей, чем совершают поисковое событие `search_1`.**_"
   ]
  },
  {
   "cell_type": "markdown",
   "metadata": {},
   "source": [
    "*Визуализация цепочки с заходом через рекомендованные объявления*"
   ]
  },
  {
   "cell_type": "code",
   "execution_count": 156,
   "metadata": {
    "scrolled": true
   },
   "outputs": [
    {
     "data": {
      "application/vnd.plotly.v1+json": {
       "config": {
        "plotlyServerURL": "https://plot.ly"
       },
       "data": [
        {
         "connector": {
          "line": {
           "color": "royalblue",
           "dash": "dot",
           "width": 3
          }
         },
         "marker": {
          "color": [
           "deepskyblue",
           "lightsalmon",
           "tan",
           "teal"
          ],
          "line": {
           "color": [
            "wheat",
            "wheat",
            "teal",
            "wheat"
           ],
           "width": [
            4,
            2,
            2,
            3,
            1,
            1
           ]
          }
         },
         "opacity": 0.9,
         "text": [
          "tips_show",
          "tips_click",
          "photos_show",
          "contacts_show"
         ],
         "textinfo": "text+value",
         "textposition": "inside",
         "type": "funnel",
         "x": [
          2801,
          297,
          13,
          516
         ],
         "xaxis": "x",
         "y": [
          "tips_show",
          "tips_click",
          "photos_show",
          "contacts_show"
         ],
         "yaxis": "y"
        },
        {
         "connector": {
          "line": {
           "color": "royalblue",
           "dash": "dot",
           "width": 3
          }
         },
         "marker": {
          "color": [
           "deepskyblue",
           "lightsalmon",
           "tan",
           "teal"
          ],
          "line": {
           "color": [
            "wheat",
            "wheat",
            "teal",
            "wheat"
           ],
           "width": [
            4,
            2,
            2,
            3,
            1,
            1
           ]
          }
         },
         "opacity": 0.9,
         "text": [
          "tips_show",
          "tips_click",
          "photos_show",
          "contacts_show"
         ],
         "textinfo": "text+value",
         "textposition": "inside",
         "type": "funnel",
         "x": [
          2801,
          297,
          4,
          4
         ],
         "xaxis": "x2",
         "y": [
          "tips_show",
          "tips_click",
          "photos_show",
          "contacts_show"
         ],
         "yaxis": "y2"
        }
       ],
       "layout": {
        "annotations": [
         {
          "font": {
           "size": 16
          },
          "showarrow": false,
          "text": "Сквозная воронка",
          "x": 0.225,
          "xanchor": "center",
          "xref": "paper",
          "y": 1,
          "yanchor": "bottom",
          "yref": "paper"
         },
         {
          "font": {
           "size": 16
          },
          "showarrow": false,
          "text": "Воронка от предыдущего этапа",
          "x": 0.775,
          "xanchor": "center",
          "xref": "paper",
          "y": 1,
          "yanchor": "bottom",
          "yref": "paper"
         }
        ],
        "template": {
         "data": {
          "bar": [
           {
            "error_x": {
             "color": "#2a3f5f"
            },
            "error_y": {
             "color": "#2a3f5f"
            },
            "marker": {
             "line": {
              "color": "#E5ECF6",
              "width": 0.5
             },
             "pattern": {
              "fillmode": "overlay",
              "size": 10,
              "solidity": 0.2
             }
            },
            "type": "bar"
           }
          ],
          "barpolar": [
           {
            "marker": {
             "line": {
              "color": "#E5ECF6",
              "width": 0.5
             },
             "pattern": {
              "fillmode": "overlay",
              "size": 10,
              "solidity": 0.2
             }
            },
            "type": "barpolar"
           }
          ],
          "carpet": [
           {
            "aaxis": {
             "endlinecolor": "#2a3f5f",
             "gridcolor": "white",
             "linecolor": "white",
             "minorgridcolor": "white",
             "startlinecolor": "#2a3f5f"
            },
            "baxis": {
             "endlinecolor": "#2a3f5f",
             "gridcolor": "white",
             "linecolor": "white",
             "minorgridcolor": "white",
             "startlinecolor": "#2a3f5f"
            },
            "type": "carpet"
           }
          ],
          "choropleth": [
           {
            "colorbar": {
             "outlinewidth": 0,
             "ticks": ""
            },
            "type": "choropleth"
           }
          ],
          "contour": [
           {
            "colorbar": {
             "outlinewidth": 0,
             "ticks": ""
            },
            "colorscale": [
             [
              0,
              "#0d0887"
             ],
             [
              0.1111111111111111,
              "#46039f"
             ],
             [
              0.2222222222222222,
              "#7201a8"
             ],
             [
              0.3333333333333333,
              "#9c179e"
             ],
             [
              0.4444444444444444,
              "#bd3786"
             ],
             [
              0.5555555555555556,
              "#d8576b"
             ],
             [
              0.6666666666666666,
              "#ed7953"
             ],
             [
              0.7777777777777778,
              "#fb9f3a"
             ],
             [
              0.8888888888888888,
              "#fdca26"
             ],
             [
              1,
              "#f0f921"
             ]
            ],
            "type": "contour"
           }
          ],
          "contourcarpet": [
           {
            "colorbar": {
             "outlinewidth": 0,
             "ticks": ""
            },
            "type": "contourcarpet"
           }
          ],
          "heatmap": [
           {
            "colorbar": {
             "outlinewidth": 0,
             "ticks": ""
            },
            "colorscale": [
             [
              0,
              "#0d0887"
             ],
             [
              0.1111111111111111,
              "#46039f"
             ],
             [
              0.2222222222222222,
              "#7201a8"
             ],
             [
              0.3333333333333333,
              "#9c179e"
             ],
             [
              0.4444444444444444,
              "#bd3786"
             ],
             [
              0.5555555555555556,
              "#d8576b"
             ],
             [
              0.6666666666666666,
              "#ed7953"
             ],
             [
              0.7777777777777778,
              "#fb9f3a"
             ],
             [
              0.8888888888888888,
              "#fdca26"
             ],
             [
              1,
              "#f0f921"
             ]
            ],
            "type": "heatmap"
           }
          ],
          "heatmapgl": [
           {
            "colorbar": {
             "outlinewidth": 0,
             "ticks": ""
            },
            "colorscale": [
             [
              0,
              "#0d0887"
             ],
             [
              0.1111111111111111,
              "#46039f"
             ],
             [
              0.2222222222222222,
              "#7201a8"
             ],
             [
              0.3333333333333333,
              "#9c179e"
             ],
             [
              0.4444444444444444,
              "#bd3786"
             ],
             [
              0.5555555555555556,
              "#d8576b"
             ],
             [
              0.6666666666666666,
              "#ed7953"
             ],
             [
              0.7777777777777778,
              "#fb9f3a"
             ],
             [
              0.8888888888888888,
              "#fdca26"
             ],
             [
              1,
              "#f0f921"
             ]
            ],
            "type": "heatmapgl"
           }
          ],
          "histogram": [
           {
            "marker": {
             "pattern": {
              "fillmode": "overlay",
              "size": 10,
              "solidity": 0.2
             }
            },
            "type": "histogram"
           }
          ],
          "histogram2d": [
           {
            "colorbar": {
             "outlinewidth": 0,
             "ticks": ""
            },
            "colorscale": [
             [
              0,
              "#0d0887"
             ],
             [
              0.1111111111111111,
              "#46039f"
             ],
             [
              0.2222222222222222,
              "#7201a8"
             ],
             [
              0.3333333333333333,
              "#9c179e"
             ],
             [
              0.4444444444444444,
              "#bd3786"
             ],
             [
              0.5555555555555556,
              "#d8576b"
             ],
             [
              0.6666666666666666,
              "#ed7953"
             ],
             [
              0.7777777777777778,
              "#fb9f3a"
             ],
             [
              0.8888888888888888,
              "#fdca26"
             ],
             [
              1,
              "#f0f921"
             ]
            ],
            "type": "histogram2d"
           }
          ],
          "histogram2dcontour": [
           {
            "colorbar": {
             "outlinewidth": 0,
             "ticks": ""
            },
            "colorscale": [
             [
              0,
              "#0d0887"
             ],
             [
              0.1111111111111111,
              "#46039f"
             ],
             [
              0.2222222222222222,
              "#7201a8"
             ],
             [
              0.3333333333333333,
              "#9c179e"
             ],
             [
              0.4444444444444444,
              "#bd3786"
             ],
             [
              0.5555555555555556,
              "#d8576b"
             ],
             [
              0.6666666666666666,
              "#ed7953"
             ],
             [
              0.7777777777777778,
              "#fb9f3a"
             ],
             [
              0.8888888888888888,
              "#fdca26"
             ],
             [
              1,
              "#f0f921"
             ]
            ],
            "type": "histogram2dcontour"
           }
          ],
          "mesh3d": [
           {
            "colorbar": {
             "outlinewidth": 0,
             "ticks": ""
            },
            "type": "mesh3d"
           }
          ],
          "parcoords": [
           {
            "line": {
             "colorbar": {
              "outlinewidth": 0,
              "ticks": ""
             }
            },
            "type": "parcoords"
           }
          ],
          "pie": [
           {
            "automargin": true,
            "type": "pie"
           }
          ],
          "scatter": [
           {
            "fillpattern": {
             "fillmode": "overlay",
             "size": 10,
             "solidity": 0.2
            },
            "type": "scatter"
           }
          ],
          "scatter3d": [
           {
            "line": {
             "colorbar": {
              "outlinewidth": 0,
              "ticks": ""
             }
            },
            "marker": {
             "colorbar": {
              "outlinewidth": 0,
              "ticks": ""
             }
            },
            "type": "scatter3d"
           }
          ],
          "scattercarpet": [
           {
            "marker": {
             "colorbar": {
              "outlinewidth": 0,
              "ticks": ""
             }
            },
            "type": "scattercarpet"
           }
          ],
          "scattergeo": [
           {
            "marker": {
             "colorbar": {
              "outlinewidth": 0,
              "ticks": ""
             }
            },
            "type": "scattergeo"
           }
          ],
          "scattergl": [
           {
            "marker": {
             "colorbar": {
              "outlinewidth": 0,
              "ticks": ""
             }
            },
            "type": "scattergl"
           }
          ],
          "scattermapbox": [
           {
            "marker": {
             "colorbar": {
              "outlinewidth": 0,
              "ticks": ""
             }
            },
            "type": "scattermapbox"
           }
          ],
          "scatterpolar": [
           {
            "marker": {
             "colorbar": {
              "outlinewidth": 0,
              "ticks": ""
             }
            },
            "type": "scatterpolar"
           }
          ],
          "scatterpolargl": [
           {
            "marker": {
             "colorbar": {
              "outlinewidth": 0,
              "ticks": ""
             }
            },
            "type": "scatterpolargl"
           }
          ],
          "scatterternary": [
           {
            "marker": {
             "colorbar": {
              "outlinewidth": 0,
              "ticks": ""
             }
            },
            "type": "scatterternary"
           }
          ],
          "surface": [
           {
            "colorbar": {
             "outlinewidth": 0,
             "ticks": ""
            },
            "colorscale": [
             [
              0,
              "#0d0887"
             ],
             [
              0.1111111111111111,
              "#46039f"
             ],
             [
              0.2222222222222222,
              "#7201a8"
             ],
             [
              0.3333333333333333,
              "#9c179e"
             ],
             [
              0.4444444444444444,
              "#bd3786"
             ],
             [
              0.5555555555555556,
              "#d8576b"
             ],
             [
              0.6666666666666666,
              "#ed7953"
             ],
             [
              0.7777777777777778,
              "#fb9f3a"
             ],
             [
              0.8888888888888888,
              "#fdca26"
             ],
             [
              1,
              "#f0f921"
             ]
            ],
            "type": "surface"
           }
          ],
          "table": [
           {
            "cells": {
             "fill": {
              "color": "#EBF0F8"
             },
             "line": {
              "color": "white"
             }
            },
            "header": {
             "fill": {
              "color": "#C8D4E3"
             },
             "line": {
              "color": "white"
             }
            },
            "type": "table"
           }
          ]
         },
         "layout": {
          "annotationdefaults": {
           "arrowcolor": "#2a3f5f",
           "arrowhead": 0,
           "arrowwidth": 1
          },
          "autotypenumbers": "strict",
          "coloraxis": {
           "colorbar": {
            "outlinewidth": 0,
            "ticks": ""
           }
          },
          "colorscale": {
           "diverging": [
            [
             0,
             "#8e0152"
            ],
            [
             0.1,
             "#c51b7d"
            ],
            [
             0.2,
             "#de77ae"
            ],
            [
             0.3,
             "#f1b6da"
            ],
            [
             0.4,
             "#fde0ef"
            ],
            [
             0.5,
             "#f7f7f7"
            ],
            [
             0.6,
             "#e6f5d0"
            ],
            [
             0.7,
             "#b8e186"
            ],
            [
             0.8,
             "#7fbc41"
            ],
            [
             0.9,
             "#4d9221"
            ],
            [
             1,
             "#276419"
            ]
           ],
           "sequential": [
            [
             0,
             "#0d0887"
            ],
            [
             0.1111111111111111,
             "#46039f"
            ],
            [
             0.2222222222222222,
             "#7201a8"
            ],
            [
             0.3333333333333333,
             "#9c179e"
            ],
            [
             0.4444444444444444,
             "#bd3786"
            ],
            [
             0.5555555555555556,
             "#d8576b"
            ],
            [
             0.6666666666666666,
             "#ed7953"
            ],
            [
             0.7777777777777778,
             "#fb9f3a"
            ],
            [
             0.8888888888888888,
             "#fdca26"
            ],
            [
             1,
             "#f0f921"
            ]
           ],
           "sequentialminus": [
            [
             0,
             "#0d0887"
            ],
            [
             0.1111111111111111,
             "#46039f"
            ],
            [
             0.2222222222222222,
             "#7201a8"
            ],
            [
             0.3333333333333333,
             "#9c179e"
            ],
            [
             0.4444444444444444,
             "#bd3786"
            ],
            [
             0.5555555555555556,
             "#d8576b"
            ],
            [
             0.6666666666666666,
             "#ed7953"
            ],
            [
             0.7777777777777778,
             "#fb9f3a"
            ],
            [
             0.8888888888888888,
             "#fdca26"
            ],
            [
             1,
             "#f0f921"
            ]
           ]
          },
          "colorway": [
           "#636efa",
           "#EF553B",
           "#00cc96",
           "#ab63fa",
           "#FFA15A",
           "#19d3f3",
           "#FF6692",
           "#B6E880",
           "#FF97FF",
           "#FECB52"
          ],
          "font": {
           "color": "#2a3f5f"
          },
          "geo": {
           "bgcolor": "white",
           "lakecolor": "white",
           "landcolor": "#E5ECF6",
           "showlakes": true,
           "showland": true,
           "subunitcolor": "white"
          },
          "hoverlabel": {
           "align": "left"
          },
          "hovermode": "closest",
          "mapbox": {
           "style": "light"
          },
          "paper_bgcolor": "white",
          "plot_bgcolor": "#E5ECF6",
          "polar": {
           "angularaxis": {
            "gridcolor": "white",
            "linecolor": "white",
            "ticks": ""
           },
           "bgcolor": "#E5ECF6",
           "radialaxis": {
            "gridcolor": "white",
            "linecolor": "white",
            "ticks": ""
           }
          },
          "scene": {
           "xaxis": {
            "backgroundcolor": "#E5ECF6",
            "gridcolor": "white",
            "gridwidth": 2,
            "linecolor": "white",
            "showbackground": true,
            "ticks": "",
            "zerolinecolor": "white"
           },
           "yaxis": {
            "backgroundcolor": "#E5ECF6",
            "gridcolor": "white",
            "gridwidth": 2,
            "linecolor": "white",
            "showbackground": true,
            "ticks": "",
            "zerolinecolor": "white"
           },
           "zaxis": {
            "backgroundcolor": "#E5ECF6",
            "gridcolor": "white",
            "gridwidth": 2,
            "linecolor": "white",
            "showbackground": true,
            "ticks": "",
            "zerolinecolor": "white"
           }
          },
          "shapedefaults": {
           "line": {
            "color": "#2a3f5f"
           }
          },
          "ternary": {
           "aaxis": {
            "gridcolor": "white",
            "linecolor": "white",
            "ticks": ""
           },
           "baxis": {
            "gridcolor": "white",
            "linecolor": "white",
            "ticks": ""
           },
           "bgcolor": "#E5ECF6",
           "caxis": {
            "gridcolor": "white",
            "linecolor": "white",
            "ticks": ""
           }
          },
          "title": {
           "x": 0.05
          },
          "xaxis": {
           "automargin": true,
           "gridcolor": "white",
           "linecolor": "white",
           "ticks": "",
           "title": {
            "standoff": 15
           },
           "zerolinecolor": "white",
           "zerolinewidth": 2
          },
          "yaxis": {
           "automargin": true,
           "gridcolor": "white",
           "linecolor": "white",
           "ticks": "",
           "title": {
            "standoff": 15
           },
           "zerolinecolor": "white",
           "zerolinewidth": 2
          }
         }
        },
        "xaxis": {
         "anchor": "y",
         "domain": [
          0,
          0.45
         ]
        },
        "xaxis2": {
         "anchor": "y2",
         "domain": [
          0.55,
          1
         ]
        },
        "yaxis": {
         "anchor": "x",
         "domain": [
          0,
          1
         ]
        },
        "yaxis2": {
         "anchor": "x2",
         "domain": [
          0,
          1
         ],
         "showticklabels": false
        }
       }
      },
      "text/html": [
       "<div>                            <div id=\"a7158149-c7a5-42a6-88f4-8ced74d48928\" class=\"plotly-graph-div\" style=\"height:525px; width:100%;\"></div>            <script type=\"text/javascript\">                require([\"plotly\"], function(Plotly) {                    window.PLOTLYENV=window.PLOTLYENV || {};                                    if (document.getElementById(\"a7158149-c7a5-42a6-88f4-8ced74d48928\")) {                    Plotly.newPlot(                        \"a7158149-c7a5-42a6-88f4-8ced74d48928\",                        [{\"connector\":{\"line\":{\"color\":\"royalblue\",\"dash\":\"dot\",\"width\":3}},\"marker\":{\"color\":[\"deepskyblue\",\"lightsalmon\",\"tan\",\"teal\"],\"line\":{\"color\":[\"wheat\",\"wheat\",\"teal\",\"wheat\"],\"width\":[4,2,2,3,1,1]}},\"opacity\":0.9,\"text\":[\"tips_show\",\"tips_click\",\"photos_show\",\"contacts_show\"],\"textinfo\":\"text+value\",\"textposition\":\"inside\",\"x\":[2801,297,13,516],\"y\":[\"tips_show\",\"tips_click\",\"photos_show\",\"contacts_show\"],\"type\":\"funnel\",\"xaxis\":\"x\",\"yaxis\":\"y\"},{\"connector\":{\"line\":{\"color\":\"royalblue\",\"dash\":\"dot\",\"width\":3}},\"marker\":{\"color\":[\"deepskyblue\",\"lightsalmon\",\"tan\",\"teal\"],\"line\":{\"color\":[\"wheat\",\"wheat\",\"teal\",\"wheat\"],\"width\":[4,2,2,3,1,1]}},\"opacity\":0.9,\"text\":[\"tips_show\",\"tips_click\",\"photos_show\",\"contacts_show\"],\"textinfo\":\"text+value\",\"textposition\":\"inside\",\"x\":[2801,297,4,4],\"y\":[\"tips_show\",\"tips_click\",\"photos_show\",\"contacts_show\"],\"type\":\"funnel\",\"xaxis\":\"x2\",\"yaxis\":\"y2\"}],                        {\"template\":{\"data\":{\"histogram2dcontour\":[{\"type\":\"histogram2dcontour\",\"colorbar\":{\"outlinewidth\":0,\"ticks\":\"\"},\"colorscale\":[[0.0,\"#0d0887\"],[0.1111111111111111,\"#46039f\"],[0.2222222222222222,\"#7201a8\"],[0.3333333333333333,\"#9c179e\"],[0.4444444444444444,\"#bd3786\"],[0.5555555555555556,\"#d8576b\"],[0.6666666666666666,\"#ed7953\"],[0.7777777777777778,\"#fb9f3a\"],[0.8888888888888888,\"#fdca26\"],[1.0,\"#f0f921\"]]}],\"choropleth\":[{\"type\":\"choropleth\",\"colorbar\":{\"outlinewidth\":0,\"ticks\":\"\"}}],\"histogram2d\":[{\"type\":\"histogram2d\",\"colorbar\":{\"outlinewidth\":0,\"ticks\":\"\"},\"colorscale\":[[0.0,\"#0d0887\"],[0.1111111111111111,\"#46039f\"],[0.2222222222222222,\"#7201a8\"],[0.3333333333333333,\"#9c179e\"],[0.4444444444444444,\"#bd3786\"],[0.5555555555555556,\"#d8576b\"],[0.6666666666666666,\"#ed7953\"],[0.7777777777777778,\"#fb9f3a\"],[0.8888888888888888,\"#fdca26\"],[1.0,\"#f0f921\"]]}],\"heatmap\":[{\"type\":\"heatmap\",\"colorbar\":{\"outlinewidth\":0,\"ticks\":\"\"},\"colorscale\":[[0.0,\"#0d0887\"],[0.1111111111111111,\"#46039f\"],[0.2222222222222222,\"#7201a8\"],[0.3333333333333333,\"#9c179e\"],[0.4444444444444444,\"#bd3786\"],[0.5555555555555556,\"#d8576b\"],[0.6666666666666666,\"#ed7953\"],[0.7777777777777778,\"#fb9f3a\"],[0.8888888888888888,\"#fdca26\"],[1.0,\"#f0f921\"]]}],\"heatmapgl\":[{\"type\":\"heatmapgl\",\"colorbar\":{\"outlinewidth\":0,\"ticks\":\"\"},\"colorscale\":[[0.0,\"#0d0887\"],[0.1111111111111111,\"#46039f\"],[0.2222222222222222,\"#7201a8\"],[0.3333333333333333,\"#9c179e\"],[0.4444444444444444,\"#bd3786\"],[0.5555555555555556,\"#d8576b\"],[0.6666666666666666,\"#ed7953\"],[0.7777777777777778,\"#fb9f3a\"],[0.8888888888888888,\"#fdca26\"],[1.0,\"#f0f921\"]]}],\"contourcarpet\":[{\"type\":\"contourcarpet\",\"colorbar\":{\"outlinewidth\":0,\"ticks\":\"\"}}],\"contour\":[{\"type\":\"contour\",\"colorbar\":{\"outlinewidth\":0,\"ticks\":\"\"},\"colorscale\":[[0.0,\"#0d0887\"],[0.1111111111111111,\"#46039f\"],[0.2222222222222222,\"#7201a8\"],[0.3333333333333333,\"#9c179e\"],[0.4444444444444444,\"#bd3786\"],[0.5555555555555556,\"#d8576b\"],[0.6666666666666666,\"#ed7953\"],[0.7777777777777778,\"#fb9f3a\"],[0.8888888888888888,\"#fdca26\"],[1.0,\"#f0f921\"]]}],\"surface\":[{\"type\":\"surface\",\"colorbar\":{\"outlinewidth\":0,\"ticks\":\"\"},\"colorscale\":[[0.0,\"#0d0887\"],[0.1111111111111111,\"#46039f\"],[0.2222222222222222,\"#7201a8\"],[0.3333333333333333,\"#9c179e\"],[0.4444444444444444,\"#bd3786\"],[0.5555555555555556,\"#d8576b\"],[0.6666666666666666,\"#ed7953\"],[0.7777777777777778,\"#fb9f3a\"],[0.8888888888888888,\"#fdca26\"],[1.0,\"#f0f921\"]]}],\"mesh3d\":[{\"type\":\"mesh3d\",\"colorbar\":{\"outlinewidth\":0,\"ticks\":\"\"}}],\"scatter\":[{\"fillpattern\":{\"fillmode\":\"overlay\",\"size\":10,\"solidity\":0.2},\"type\":\"scatter\"}],\"parcoords\":[{\"type\":\"parcoords\",\"line\":{\"colorbar\":{\"outlinewidth\":0,\"ticks\":\"\"}}}],\"scatterpolargl\":[{\"type\":\"scatterpolargl\",\"marker\":{\"colorbar\":{\"outlinewidth\":0,\"ticks\":\"\"}}}],\"bar\":[{\"error_x\":{\"color\":\"#2a3f5f\"},\"error_y\":{\"color\":\"#2a3f5f\"},\"marker\":{\"line\":{\"color\":\"#E5ECF6\",\"width\":0.5},\"pattern\":{\"fillmode\":\"overlay\",\"size\":10,\"solidity\":0.2}},\"type\":\"bar\"}],\"scattergeo\":[{\"type\":\"scattergeo\",\"marker\":{\"colorbar\":{\"outlinewidth\":0,\"ticks\":\"\"}}}],\"scatterpolar\":[{\"type\":\"scatterpolar\",\"marker\":{\"colorbar\":{\"outlinewidth\":0,\"ticks\":\"\"}}}],\"histogram\":[{\"marker\":{\"pattern\":{\"fillmode\":\"overlay\",\"size\":10,\"solidity\":0.2}},\"type\":\"histogram\"}],\"scattergl\":[{\"type\":\"scattergl\",\"marker\":{\"colorbar\":{\"outlinewidth\":0,\"ticks\":\"\"}}}],\"scatter3d\":[{\"type\":\"scatter3d\",\"line\":{\"colorbar\":{\"outlinewidth\":0,\"ticks\":\"\"}},\"marker\":{\"colorbar\":{\"outlinewidth\":0,\"ticks\":\"\"}}}],\"scattermapbox\":[{\"type\":\"scattermapbox\",\"marker\":{\"colorbar\":{\"outlinewidth\":0,\"ticks\":\"\"}}}],\"scatterternary\":[{\"type\":\"scatterternary\",\"marker\":{\"colorbar\":{\"outlinewidth\":0,\"ticks\":\"\"}}}],\"scattercarpet\":[{\"type\":\"scattercarpet\",\"marker\":{\"colorbar\":{\"outlinewidth\":0,\"ticks\":\"\"}}}],\"carpet\":[{\"aaxis\":{\"endlinecolor\":\"#2a3f5f\",\"gridcolor\":\"white\",\"linecolor\":\"white\",\"minorgridcolor\":\"white\",\"startlinecolor\":\"#2a3f5f\"},\"baxis\":{\"endlinecolor\":\"#2a3f5f\",\"gridcolor\":\"white\",\"linecolor\":\"white\",\"minorgridcolor\":\"white\",\"startlinecolor\":\"#2a3f5f\"},\"type\":\"carpet\"}],\"table\":[{\"cells\":{\"fill\":{\"color\":\"#EBF0F8\"},\"line\":{\"color\":\"white\"}},\"header\":{\"fill\":{\"color\":\"#C8D4E3\"},\"line\":{\"color\":\"white\"}},\"type\":\"table\"}],\"barpolar\":[{\"marker\":{\"line\":{\"color\":\"#E5ECF6\",\"width\":0.5},\"pattern\":{\"fillmode\":\"overlay\",\"size\":10,\"solidity\":0.2}},\"type\":\"barpolar\"}],\"pie\":[{\"automargin\":true,\"type\":\"pie\"}]},\"layout\":{\"autotypenumbers\":\"strict\",\"colorway\":[\"#636efa\",\"#EF553B\",\"#00cc96\",\"#ab63fa\",\"#FFA15A\",\"#19d3f3\",\"#FF6692\",\"#B6E880\",\"#FF97FF\",\"#FECB52\"],\"font\":{\"color\":\"#2a3f5f\"},\"hovermode\":\"closest\",\"hoverlabel\":{\"align\":\"left\"},\"paper_bgcolor\":\"white\",\"plot_bgcolor\":\"#E5ECF6\",\"polar\":{\"bgcolor\":\"#E5ECF6\",\"angularaxis\":{\"gridcolor\":\"white\",\"linecolor\":\"white\",\"ticks\":\"\"},\"radialaxis\":{\"gridcolor\":\"white\",\"linecolor\":\"white\",\"ticks\":\"\"}},\"ternary\":{\"bgcolor\":\"#E5ECF6\",\"aaxis\":{\"gridcolor\":\"white\",\"linecolor\":\"white\",\"ticks\":\"\"},\"baxis\":{\"gridcolor\":\"white\",\"linecolor\":\"white\",\"ticks\":\"\"},\"caxis\":{\"gridcolor\":\"white\",\"linecolor\":\"white\",\"ticks\":\"\"}},\"coloraxis\":{\"colorbar\":{\"outlinewidth\":0,\"ticks\":\"\"}},\"colorscale\":{\"sequential\":[[0.0,\"#0d0887\"],[0.1111111111111111,\"#46039f\"],[0.2222222222222222,\"#7201a8\"],[0.3333333333333333,\"#9c179e\"],[0.4444444444444444,\"#bd3786\"],[0.5555555555555556,\"#d8576b\"],[0.6666666666666666,\"#ed7953\"],[0.7777777777777778,\"#fb9f3a\"],[0.8888888888888888,\"#fdca26\"],[1.0,\"#f0f921\"]],\"sequentialminus\":[[0.0,\"#0d0887\"],[0.1111111111111111,\"#46039f\"],[0.2222222222222222,\"#7201a8\"],[0.3333333333333333,\"#9c179e\"],[0.4444444444444444,\"#bd3786\"],[0.5555555555555556,\"#d8576b\"],[0.6666666666666666,\"#ed7953\"],[0.7777777777777778,\"#fb9f3a\"],[0.8888888888888888,\"#fdca26\"],[1.0,\"#f0f921\"]],\"diverging\":[[0,\"#8e0152\"],[0.1,\"#c51b7d\"],[0.2,\"#de77ae\"],[0.3,\"#f1b6da\"],[0.4,\"#fde0ef\"],[0.5,\"#f7f7f7\"],[0.6,\"#e6f5d0\"],[0.7,\"#b8e186\"],[0.8,\"#7fbc41\"],[0.9,\"#4d9221\"],[1,\"#276419\"]]},\"xaxis\":{\"gridcolor\":\"white\",\"linecolor\":\"white\",\"ticks\":\"\",\"title\":{\"standoff\":15},\"zerolinecolor\":\"white\",\"automargin\":true,\"zerolinewidth\":2},\"yaxis\":{\"gridcolor\":\"white\",\"linecolor\":\"white\",\"ticks\":\"\",\"title\":{\"standoff\":15},\"zerolinecolor\":\"white\",\"automargin\":true,\"zerolinewidth\":2},\"scene\":{\"xaxis\":{\"backgroundcolor\":\"#E5ECF6\",\"gridcolor\":\"white\",\"linecolor\":\"white\",\"showbackground\":true,\"ticks\":\"\",\"zerolinecolor\":\"white\",\"gridwidth\":2},\"yaxis\":{\"backgroundcolor\":\"#E5ECF6\",\"gridcolor\":\"white\",\"linecolor\":\"white\",\"showbackground\":true,\"ticks\":\"\",\"zerolinecolor\":\"white\",\"gridwidth\":2},\"zaxis\":{\"backgroundcolor\":\"#E5ECF6\",\"gridcolor\":\"white\",\"linecolor\":\"white\",\"showbackground\":true,\"ticks\":\"\",\"zerolinecolor\":\"white\",\"gridwidth\":2}},\"shapedefaults\":{\"line\":{\"color\":\"#2a3f5f\"}},\"annotationdefaults\":{\"arrowcolor\":\"#2a3f5f\",\"arrowhead\":0,\"arrowwidth\":1},\"geo\":{\"bgcolor\":\"white\",\"landcolor\":\"#E5ECF6\",\"subunitcolor\":\"white\",\"showland\":true,\"showlakes\":true,\"lakecolor\":\"white\"},\"title\":{\"x\":0.05},\"mapbox\":{\"style\":\"light\"}}},\"xaxis\":{\"anchor\":\"y\",\"domain\":[0.0,0.45]},\"yaxis\":{\"anchor\":\"x\",\"domain\":[0.0,1.0]},\"xaxis2\":{\"anchor\":\"y2\",\"domain\":[0.55,1.0]},\"yaxis2\":{\"anchor\":\"x2\",\"domain\":[0.0,1.0],\"showticklabels\":false},\"annotations\":[{\"font\":{\"size\":16},\"showarrow\":false,\"text\":\"\\u0421\\u043a\\u0432\\u043e\\u0437\\u043d\\u0430\\u044f \\u0432\\u043e\\u0440\\u043e\\u043d\\u043a\\u0430\",\"x\":0.225,\"xanchor\":\"center\",\"xref\":\"paper\",\"y\":1.0,\"yanchor\":\"bottom\",\"yref\":\"paper\"},{\"font\":{\"size\":16},\"showarrow\":false,\"text\":\"\\u0412\\u043e\\u0440\\u043e\\u043d\\u043a\\u0430 \\u043e\\u0442 \\u043f\\u0440\\u0435\\u0434\\u044b\\u0434\\u0443\\u0449\\u0435\\u0433\\u043e \\u044d\\u0442\\u0430\\u043f\\u0430\",\"x\":0.775,\"xanchor\":\"center\",\"xref\":\"paper\",\"y\":1.0,\"yanchor\":\"bottom\",\"yref\":\"paper\"}]},                        {\"responsive\": true}                    ).then(function(){\n",
       "                            \n",
       "var gd = document.getElementById('a7158149-c7a5-42a6-88f4-8ced74d48928');\n",
       "var x = new MutationObserver(function (mutations, observer) {{\n",
       "        var display = window.getComputedStyle(gd).display;\n",
       "        if (!display || display === 'none') {{\n",
       "            console.log([gd, 'removed!']);\n",
       "            Plotly.purge(gd);\n",
       "            observer.disconnect();\n",
       "        }}\n",
       "}});\n",
       "\n",
       "// Listen for the removal of the full notebook cells\n",
       "var notebookContainer = gd.closest('#notebook-container');\n",
       "if (notebookContainer) {{\n",
       "    x.observe(notebookContainer, {childList: true});\n",
       "}}\n",
       "\n",
       "// Listen for the clearing of the current output cell\n",
       "var outputEl = gd.closest('.output');\n",
       "if (outputEl) {{\n",
       "    x.observe(outputEl, {childList: true});\n",
       "}}\n",
       "\n",
       "                        })                };                });            </script>        </div>"
      ]
     },
     "metadata": {},
     "output_type": "display_data"
    }
   ],
   "source": [
    "funnel_drawing(sequence_of_events_tips)"
   ]
  },
  {
   "cell_type": "markdown",
   "metadata": {},
   "source": [
    "_**Данные события также не составляют воронку. Лишь каждый 9й пользователь, увидевший рекомендованные объявления, переходит на них.**_"
   ]
  },
  {
   "cell_type": "markdown",
   "metadata": {},
   "source": [
    "*Визуализация цепочки с добавлением в избранное*"
   ]
  },
  {
   "cell_type": "code",
   "execution_count": 157,
   "metadata": {},
   "outputs": [
    {
     "data": {
      "application/vnd.plotly.v1+json": {
       "config": {
        "plotlyServerURL": "https://plot.ly"
       },
       "data": [
        {
         "connector": {
          "line": {
           "color": "royalblue",
           "dash": "dot",
           "width": 3
          }
         },
         "marker": {
          "color": [
           "deepskyblue",
           "lightsalmon",
           "tan",
           "teal"
          ],
          "line": {
           "color": [
            "wheat",
            "wheat",
            "teal",
            "wheat"
           ],
           "width": [
            4,
            2,
            2,
            3,
            1,
            1
           ]
          }
         },
         "opacity": 0.9,
         "text": [
          "advert_open",
          "photos_show",
          "favorites_add",
          "contacts_show"
         ],
         "textinfo": "text+value",
         "textposition": "inside",
         "type": "funnel",
         "x": [
          751,
          73,
          120,
          138
         ],
         "xaxis": "x",
         "y": [
          "advert_open",
          "photos_show",
          "favorites_add",
          "contacts_show"
         ],
         "yaxis": "y"
        },
        {
         "connector": {
          "line": {
           "color": "royalblue",
           "dash": "dot",
           "width": 3
          }
         },
         "marker": {
          "color": [
           "deepskyblue",
           "lightsalmon",
           "tan",
           "teal"
          ],
          "line": {
           "color": [
            "wheat",
            "wheat",
            "teal",
            "wheat"
           ],
           "width": [
            4,
            2,
            2,
            3,
            1,
            1
           ]
          }
         },
         "opacity": 0.9,
         "text": [
          "advert_open",
          "photos_show",
          "favorites_add",
          "contacts_show"
         ],
         "textinfo": "text+value",
         "textposition": "inside",
         "type": "funnel",
         "x": [
          751,
          73,
          67,
          37
         ],
         "xaxis": "x2",
         "y": [
          "advert_open",
          "photos_show",
          "favorites_add",
          "contacts_show"
         ],
         "yaxis": "y2"
        }
       ],
       "layout": {
        "annotations": [
         {
          "font": {
           "size": 16
          },
          "showarrow": false,
          "text": "Сквозная воронка",
          "x": 0.225,
          "xanchor": "center",
          "xref": "paper",
          "y": 1,
          "yanchor": "bottom",
          "yref": "paper"
         },
         {
          "font": {
           "size": 16
          },
          "showarrow": false,
          "text": "Воронка от предыдущего этапа",
          "x": 0.775,
          "xanchor": "center",
          "xref": "paper",
          "y": 1,
          "yanchor": "bottom",
          "yref": "paper"
         }
        ],
        "template": {
         "data": {
          "bar": [
           {
            "error_x": {
             "color": "#2a3f5f"
            },
            "error_y": {
             "color": "#2a3f5f"
            },
            "marker": {
             "line": {
              "color": "#E5ECF6",
              "width": 0.5
             },
             "pattern": {
              "fillmode": "overlay",
              "size": 10,
              "solidity": 0.2
             }
            },
            "type": "bar"
           }
          ],
          "barpolar": [
           {
            "marker": {
             "line": {
              "color": "#E5ECF6",
              "width": 0.5
             },
             "pattern": {
              "fillmode": "overlay",
              "size": 10,
              "solidity": 0.2
             }
            },
            "type": "barpolar"
           }
          ],
          "carpet": [
           {
            "aaxis": {
             "endlinecolor": "#2a3f5f",
             "gridcolor": "white",
             "linecolor": "white",
             "minorgridcolor": "white",
             "startlinecolor": "#2a3f5f"
            },
            "baxis": {
             "endlinecolor": "#2a3f5f",
             "gridcolor": "white",
             "linecolor": "white",
             "minorgridcolor": "white",
             "startlinecolor": "#2a3f5f"
            },
            "type": "carpet"
           }
          ],
          "choropleth": [
           {
            "colorbar": {
             "outlinewidth": 0,
             "ticks": ""
            },
            "type": "choropleth"
           }
          ],
          "contour": [
           {
            "colorbar": {
             "outlinewidth": 0,
             "ticks": ""
            },
            "colorscale": [
             [
              0,
              "#0d0887"
             ],
             [
              0.1111111111111111,
              "#46039f"
             ],
             [
              0.2222222222222222,
              "#7201a8"
             ],
             [
              0.3333333333333333,
              "#9c179e"
             ],
             [
              0.4444444444444444,
              "#bd3786"
             ],
             [
              0.5555555555555556,
              "#d8576b"
             ],
             [
              0.6666666666666666,
              "#ed7953"
             ],
             [
              0.7777777777777778,
              "#fb9f3a"
             ],
             [
              0.8888888888888888,
              "#fdca26"
             ],
             [
              1,
              "#f0f921"
             ]
            ],
            "type": "contour"
           }
          ],
          "contourcarpet": [
           {
            "colorbar": {
             "outlinewidth": 0,
             "ticks": ""
            },
            "type": "contourcarpet"
           }
          ],
          "heatmap": [
           {
            "colorbar": {
             "outlinewidth": 0,
             "ticks": ""
            },
            "colorscale": [
             [
              0,
              "#0d0887"
             ],
             [
              0.1111111111111111,
              "#46039f"
             ],
             [
              0.2222222222222222,
              "#7201a8"
             ],
             [
              0.3333333333333333,
              "#9c179e"
             ],
             [
              0.4444444444444444,
              "#bd3786"
             ],
             [
              0.5555555555555556,
              "#d8576b"
             ],
             [
              0.6666666666666666,
              "#ed7953"
             ],
             [
              0.7777777777777778,
              "#fb9f3a"
             ],
             [
              0.8888888888888888,
              "#fdca26"
             ],
             [
              1,
              "#f0f921"
             ]
            ],
            "type": "heatmap"
           }
          ],
          "heatmapgl": [
           {
            "colorbar": {
             "outlinewidth": 0,
             "ticks": ""
            },
            "colorscale": [
             [
              0,
              "#0d0887"
             ],
             [
              0.1111111111111111,
              "#46039f"
             ],
             [
              0.2222222222222222,
              "#7201a8"
             ],
             [
              0.3333333333333333,
              "#9c179e"
             ],
             [
              0.4444444444444444,
              "#bd3786"
             ],
             [
              0.5555555555555556,
              "#d8576b"
             ],
             [
              0.6666666666666666,
              "#ed7953"
             ],
             [
              0.7777777777777778,
              "#fb9f3a"
             ],
             [
              0.8888888888888888,
              "#fdca26"
             ],
             [
              1,
              "#f0f921"
             ]
            ],
            "type": "heatmapgl"
           }
          ],
          "histogram": [
           {
            "marker": {
             "pattern": {
              "fillmode": "overlay",
              "size": 10,
              "solidity": 0.2
             }
            },
            "type": "histogram"
           }
          ],
          "histogram2d": [
           {
            "colorbar": {
             "outlinewidth": 0,
             "ticks": ""
            },
            "colorscale": [
             [
              0,
              "#0d0887"
             ],
             [
              0.1111111111111111,
              "#46039f"
             ],
             [
              0.2222222222222222,
              "#7201a8"
             ],
             [
              0.3333333333333333,
              "#9c179e"
             ],
             [
              0.4444444444444444,
              "#bd3786"
             ],
             [
              0.5555555555555556,
              "#d8576b"
             ],
             [
              0.6666666666666666,
              "#ed7953"
             ],
             [
              0.7777777777777778,
              "#fb9f3a"
             ],
             [
              0.8888888888888888,
              "#fdca26"
             ],
             [
              1,
              "#f0f921"
             ]
            ],
            "type": "histogram2d"
           }
          ],
          "histogram2dcontour": [
           {
            "colorbar": {
             "outlinewidth": 0,
             "ticks": ""
            },
            "colorscale": [
             [
              0,
              "#0d0887"
             ],
             [
              0.1111111111111111,
              "#46039f"
             ],
             [
              0.2222222222222222,
              "#7201a8"
             ],
             [
              0.3333333333333333,
              "#9c179e"
             ],
             [
              0.4444444444444444,
              "#bd3786"
             ],
             [
              0.5555555555555556,
              "#d8576b"
             ],
             [
              0.6666666666666666,
              "#ed7953"
             ],
             [
              0.7777777777777778,
              "#fb9f3a"
             ],
             [
              0.8888888888888888,
              "#fdca26"
             ],
             [
              1,
              "#f0f921"
             ]
            ],
            "type": "histogram2dcontour"
           }
          ],
          "mesh3d": [
           {
            "colorbar": {
             "outlinewidth": 0,
             "ticks": ""
            },
            "type": "mesh3d"
           }
          ],
          "parcoords": [
           {
            "line": {
             "colorbar": {
              "outlinewidth": 0,
              "ticks": ""
             }
            },
            "type": "parcoords"
           }
          ],
          "pie": [
           {
            "automargin": true,
            "type": "pie"
           }
          ],
          "scatter": [
           {
            "fillpattern": {
             "fillmode": "overlay",
             "size": 10,
             "solidity": 0.2
            },
            "type": "scatter"
           }
          ],
          "scatter3d": [
           {
            "line": {
             "colorbar": {
              "outlinewidth": 0,
              "ticks": ""
             }
            },
            "marker": {
             "colorbar": {
              "outlinewidth": 0,
              "ticks": ""
             }
            },
            "type": "scatter3d"
           }
          ],
          "scattercarpet": [
           {
            "marker": {
             "colorbar": {
              "outlinewidth": 0,
              "ticks": ""
             }
            },
            "type": "scattercarpet"
           }
          ],
          "scattergeo": [
           {
            "marker": {
             "colorbar": {
              "outlinewidth": 0,
              "ticks": ""
             }
            },
            "type": "scattergeo"
           }
          ],
          "scattergl": [
           {
            "marker": {
             "colorbar": {
              "outlinewidth": 0,
              "ticks": ""
             }
            },
            "type": "scattergl"
           }
          ],
          "scattermapbox": [
           {
            "marker": {
             "colorbar": {
              "outlinewidth": 0,
              "ticks": ""
             }
            },
            "type": "scattermapbox"
           }
          ],
          "scatterpolar": [
           {
            "marker": {
             "colorbar": {
              "outlinewidth": 0,
              "ticks": ""
             }
            },
            "type": "scatterpolar"
           }
          ],
          "scatterpolargl": [
           {
            "marker": {
             "colorbar": {
              "outlinewidth": 0,
              "ticks": ""
             }
            },
            "type": "scatterpolargl"
           }
          ],
          "scatterternary": [
           {
            "marker": {
             "colorbar": {
              "outlinewidth": 0,
              "ticks": ""
             }
            },
            "type": "scatterternary"
           }
          ],
          "surface": [
           {
            "colorbar": {
             "outlinewidth": 0,
             "ticks": ""
            },
            "colorscale": [
             [
              0,
              "#0d0887"
             ],
             [
              0.1111111111111111,
              "#46039f"
             ],
             [
              0.2222222222222222,
              "#7201a8"
             ],
             [
              0.3333333333333333,
              "#9c179e"
             ],
             [
              0.4444444444444444,
              "#bd3786"
             ],
             [
              0.5555555555555556,
              "#d8576b"
             ],
             [
              0.6666666666666666,
              "#ed7953"
             ],
             [
              0.7777777777777778,
              "#fb9f3a"
             ],
             [
              0.8888888888888888,
              "#fdca26"
             ],
             [
              1,
              "#f0f921"
             ]
            ],
            "type": "surface"
           }
          ],
          "table": [
           {
            "cells": {
             "fill": {
              "color": "#EBF0F8"
             },
             "line": {
              "color": "white"
             }
            },
            "header": {
             "fill": {
              "color": "#C8D4E3"
             },
             "line": {
              "color": "white"
             }
            },
            "type": "table"
           }
          ]
         },
         "layout": {
          "annotationdefaults": {
           "arrowcolor": "#2a3f5f",
           "arrowhead": 0,
           "arrowwidth": 1
          },
          "autotypenumbers": "strict",
          "coloraxis": {
           "colorbar": {
            "outlinewidth": 0,
            "ticks": ""
           }
          },
          "colorscale": {
           "diverging": [
            [
             0,
             "#8e0152"
            ],
            [
             0.1,
             "#c51b7d"
            ],
            [
             0.2,
             "#de77ae"
            ],
            [
             0.3,
             "#f1b6da"
            ],
            [
             0.4,
             "#fde0ef"
            ],
            [
             0.5,
             "#f7f7f7"
            ],
            [
             0.6,
             "#e6f5d0"
            ],
            [
             0.7,
             "#b8e186"
            ],
            [
             0.8,
             "#7fbc41"
            ],
            [
             0.9,
             "#4d9221"
            ],
            [
             1,
             "#276419"
            ]
           ],
           "sequential": [
            [
             0,
             "#0d0887"
            ],
            [
             0.1111111111111111,
             "#46039f"
            ],
            [
             0.2222222222222222,
             "#7201a8"
            ],
            [
             0.3333333333333333,
             "#9c179e"
            ],
            [
             0.4444444444444444,
             "#bd3786"
            ],
            [
             0.5555555555555556,
             "#d8576b"
            ],
            [
             0.6666666666666666,
             "#ed7953"
            ],
            [
             0.7777777777777778,
             "#fb9f3a"
            ],
            [
             0.8888888888888888,
             "#fdca26"
            ],
            [
             1,
             "#f0f921"
            ]
           ],
           "sequentialminus": [
            [
             0,
             "#0d0887"
            ],
            [
             0.1111111111111111,
             "#46039f"
            ],
            [
             0.2222222222222222,
             "#7201a8"
            ],
            [
             0.3333333333333333,
             "#9c179e"
            ],
            [
             0.4444444444444444,
             "#bd3786"
            ],
            [
             0.5555555555555556,
             "#d8576b"
            ],
            [
             0.6666666666666666,
             "#ed7953"
            ],
            [
             0.7777777777777778,
             "#fb9f3a"
            ],
            [
             0.8888888888888888,
             "#fdca26"
            ],
            [
             1,
             "#f0f921"
            ]
           ]
          },
          "colorway": [
           "#636efa",
           "#EF553B",
           "#00cc96",
           "#ab63fa",
           "#FFA15A",
           "#19d3f3",
           "#FF6692",
           "#B6E880",
           "#FF97FF",
           "#FECB52"
          ],
          "font": {
           "color": "#2a3f5f"
          },
          "geo": {
           "bgcolor": "white",
           "lakecolor": "white",
           "landcolor": "#E5ECF6",
           "showlakes": true,
           "showland": true,
           "subunitcolor": "white"
          },
          "hoverlabel": {
           "align": "left"
          },
          "hovermode": "closest",
          "mapbox": {
           "style": "light"
          },
          "paper_bgcolor": "white",
          "plot_bgcolor": "#E5ECF6",
          "polar": {
           "angularaxis": {
            "gridcolor": "white",
            "linecolor": "white",
            "ticks": ""
           },
           "bgcolor": "#E5ECF6",
           "radialaxis": {
            "gridcolor": "white",
            "linecolor": "white",
            "ticks": ""
           }
          },
          "scene": {
           "xaxis": {
            "backgroundcolor": "#E5ECF6",
            "gridcolor": "white",
            "gridwidth": 2,
            "linecolor": "white",
            "showbackground": true,
            "ticks": "",
            "zerolinecolor": "white"
           },
           "yaxis": {
            "backgroundcolor": "#E5ECF6",
            "gridcolor": "white",
            "gridwidth": 2,
            "linecolor": "white",
            "showbackground": true,
            "ticks": "",
            "zerolinecolor": "white"
           },
           "zaxis": {
            "backgroundcolor": "#E5ECF6",
            "gridcolor": "white",
            "gridwidth": 2,
            "linecolor": "white",
            "showbackground": true,
            "ticks": "",
            "zerolinecolor": "white"
           }
          },
          "shapedefaults": {
           "line": {
            "color": "#2a3f5f"
           }
          },
          "ternary": {
           "aaxis": {
            "gridcolor": "white",
            "linecolor": "white",
            "ticks": ""
           },
           "baxis": {
            "gridcolor": "white",
            "linecolor": "white",
            "ticks": ""
           },
           "bgcolor": "#E5ECF6",
           "caxis": {
            "gridcolor": "white",
            "linecolor": "white",
            "ticks": ""
           }
          },
          "title": {
           "x": 0.05
          },
          "xaxis": {
           "automargin": true,
           "gridcolor": "white",
           "linecolor": "white",
           "ticks": "",
           "title": {
            "standoff": 15
           },
           "zerolinecolor": "white",
           "zerolinewidth": 2
          },
          "yaxis": {
           "automargin": true,
           "gridcolor": "white",
           "linecolor": "white",
           "ticks": "",
           "title": {
            "standoff": 15
           },
           "zerolinecolor": "white",
           "zerolinewidth": 2
          }
         }
        },
        "xaxis": {
         "anchor": "y",
         "domain": [
          0,
          0.45
         ]
        },
        "xaxis2": {
         "anchor": "y2",
         "domain": [
          0.55,
          1
         ]
        },
        "yaxis": {
         "anchor": "x",
         "domain": [
          0,
          1
         ]
        },
        "yaxis2": {
         "anchor": "x2",
         "domain": [
          0,
          1
         ],
         "showticklabels": false
        }
       }
      },
      "text/html": [
       "<div>                            <div id=\"6f2a3232-2093-4a8a-8c42-39bfcda6298e\" class=\"plotly-graph-div\" style=\"height:525px; width:100%;\"></div>            <script type=\"text/javascript\">                require([\"plotly\"], function(Plotly) {                    window.PLOTLYENV=window.PLOTLYENV || {};                                    if (document.getElementById(\"6f2a3232-2093-4a8a-8c42-39bfcda6298e\")) {                    Plotly.newPlot(                        \"6f2a3232-2093-4a8a-8c42-39bfcda6298e\",                        [{\"connector\":{\"line\":{\"color\":\"royalblue\",\"dash\":\"dot\",\"width\":3}},\"marker\":{\"color\":[\"deepskyblue\",\"lightsalmon\",\"tan\",\"teal\"],\"line\":{\"color\":[\"wheat\",\"wheat\",\"teal\",\"wheat\"],\"width\":[4,2,2,3,1,1]}},\"opacity\":0.9,\"text\":[\"advert_open\",\"photos_show\",\"favorites_add\",\"contacts_show\"],\"textinfo\":\"text+value\",\"textposition\":\"inside\",\"x\":[751,73,120,138],\"y\":[\"advert_open\",\"photos_show\",\"favorites_add\",\"contacts_show\"],\"type\":\"funnel\",\"xaxis\":\"x\",\"yaxis\":\"y\"},{\"connector\":{\"line\":{\"color\":\"royalblue\",\"dash\":\"dot\",\"width\":3}},\"marker\":{\"color\":[\"deepskyblue\",\"lightsalmon\",\"tan\",\"teal\"],\"line\":{\"color\":[\"wheat\",\"wheat\",\"teal\",\"wheat\"],\"width\":[4,2,2,3,1,1]}},\"opacity\":0.9,\"text\":[\"advert_open\",\"photos_show\",\"favorites_add\",\"contacts_show\"],\"textinfo\":\"text+value\",\"textposition\":\"inside\",\"x\":[751,73,67,37],\"y\":[\"advert_open\",\"photos_show\",\"favorites_add\",\"contacts_show\"],\"type\":\"funnel\",\"xaxis\":\"x2\",\"yaxis\":\"y2\"}],                        {\"template\":{\"data\":{\"histogram2dcontour\":[{\"type\":\"histogram2dcontour\",\"colorbar\":{\"outlinewidth\":0,\"ticks\":\"\"},\"colorscale\":[[0.0,\"#0d0887\"],[0.1111111111111111,\"#46039f\"],[0.2222222222222222,\"#7201a8\"],[0.3333333333333333,\"#9c179e\"],[0.4444444444444444,\"#bd3786\"],[0.5555555555555556,\"#d8576b\"],[0.6666666666666666,\"#ed7953\"],[0.7777777777777778,\"#fb9f3a\"],[0.8888888888888888,\"#fdca26\"],[1.0,\"#f0f921\"]]}],\"choropleth\":[{\"type\":\"choropleth\",\"colorbar\":{\"outlinewidth\":0,\"ticks\":\"\"}}],\"histogram2d\":[{\"type\":\"histogram2d\",\"colorbar\":{\"outlinewidth\":0,\"ticks\":\"\"},\"colorscale\":[[0.0,\"#0d0887\"],[0.1111111111111111,\"#46039f\"],[0.2222222222222222,\"#7201a8\"],[0.3333333333333333,\"#9c179e\"],[0.4444444444444444,\"#bd3786\"],[0.5555555555555556,\"#d8576b\"],[0.6666666666666666,\"#ed7953\"],[0.7777777777777778,\"#fb9f3a\"],[0.8888888888888888,\"#fdca26\"],[1.0,\"#f0f921\"]]}],\"heatmap\":[{\"type\":\"heatmap\",\"colorbar\":{\"outlinewidth\":0,\"ticks\":\"\"},\"colorscale\":[[0.0,\"#0d0887\"],[0.1111111111111111,\"#46039f\"],[0.2222222222222222,\"#7201a8\"],[0.3333333333333333,\"#9c179e\"],[0.4444444444444444,\"#bd3786\"],[0.5555555555555556,\"#d8576b\"],[0.6666666666666666,\"#ed7953\"],[0.7777777777777778,\"#fb9f3a\"],[0.8888888888888888,\"#fdca26\"],[1.0,\"#f0f921\"]]}],\"heatmapgl\":[{\"type\":\"heatmapgl\",\"colorbar\":{\"outlinewidth\":0,\"ticks\":\"\"},\"colorscale\":[[0.0,\"#0d0887\"],[0.1111111111111111,\"#46039f\"],[0.2222222222222222,\"#7201a8\"],[0.3333333333333333,\"#9c179e\"],[0.4444444444444444,\"#bd3786\"],[0.5555555555555556,\"#d8576b\"],[0.6666666666666666,\"#ed7953\"],[0.7777777777777778,\"#fb9f3a\"],[0.8888888888888888,\"#fdca26\"],[1.0,\"#f0f921\"]]}],\"contourcarpet\":[{\"type\":\"contourcarpet\",\"colorbar\":{\"outlinewidth\":0,\"ticks\":\"\"}}],\"contour\":[{\"type\":\"contour\",\"colorbar\":{\"outlinewidth\":0,\"ticks\":\"\"},\"colorscale\":[[0.0,\"#0d0887\"],[0.1111111111111111,\"#46039f\"],[0.2222222222222222,\"#7201a8\"],[0.3333333333333333,\"#9c179e\"],[0.4444444444444444,\"#bd3786\"],[0.5555555555555556,\"#d8576b\"],[0.6666666666666666,\"#ed7953\"],[0.7777777777777778,\"#fb9f3a\"],[0.8888888888888888,\"#fdca26\"],[1.0,\"#f0f921\"]]}],\"surface\":[{\"type\":\"surface\",\"colorbar\":{\"outlinewidth\":0,\"ticks\":\"\"},\"colorscale\":[[0.0,\"#0d0887\"],[0.1111111111111111,\"#46039f\"],[0.2222222222222222,\"#7201a8\"],[0.3333333333333333,\"#9c179e\"],[0.4444444444444444,\"#bd3786\"],[0.5555555555555556,\"#d8576b\"],[0.6666666666666666,\"#ed7953\"],[0.7777777777777778,\"#fb9f3a\"],[0.8888888888888888,\"#fdca26\"],[1.0,\"#f0f921\"]]}],\"mesh3d\":[{\"type\":\"mesh3d\",\"colorbar\":{\"outlinewidth\":0,\"ticks\":\"\"}}],\"scatter\":[{\"fillpattern\":{\"fillmode\":\"overlay\",\"size\":10,\"solidity\":0.2},\"type\":\"scatter\"}],\"parcoords\":[{\"type\":\"parcoords\",\"line\":{\"colorbar\":{\"outlinewidth\":0,\"ticks\":\"\"}}}],\"scatterpolargl\":[{\"type\":\"scatterpolargl\",\"marker\":{\"colorbar\":{\"outlinewidth\":0,\"ticks\":\"\"}}}],\"bar\":[{\"error_x\":{\"color\":\"#2a3f5f\"},\"error_y\":{\"color\":\"#2a3f5f\"},\"marker\":{\"line\":{\"color\":\"#E5ECF6\",\"width\":0.5},\"pattern\":{\"fillmode\":\"overlay\",\"size\":10,\"solidity\":0.2}},\"type\":\"bar\"}],\"scattergeo\":[{\"type\":\"scattergeo\",\"marker\":{\"colorbar\":{\"outlinewidth\":0,\"ticks\":\"\"}}}],\"scatterpolar\":[{\"type\":\"scatterpolar\",\"marker\":{\"colorbar\":{\"outlinewidth\":0,\"ticks\":\"\"}}}],\"histogram\":[{\"marker\":{\"pattern\":{\"fillmode\":\"overlay\",\"size\":10,\"solidity\":0.2}},\"type\":\"histogram\"}],\"scattergl\":[{\"type\":\"scattergl\",\"marker\":{\"colorbar\":{\"outlinewidth\":0,\"ticks\":\"\"}}}],\"scatter3d\":[{\"type\":\"scatter3d\",\"line\":{\"colorbar\":{\"outlinewidth\":0,\"ticks\":\"\"}},\"marker\":{\"colorbar\":{\"outlinewidth\":0,\"ticks\":\"\"}}}],\"scattermapbox\":[{\"type\":\"scattermapbox\",\"marker\":{\"colorbar\":{\"outlinewidth\":0,\"ticks\":\"\"}}}],\"scatterternary\":[{\"type\":\"scatterternary\",\"marker\":{\"colorbar\":{\"outlinewidth\":0,\"ticks\":\"\"}}}],\"scattercarpet\":[{\"type\":\"scattercarpet\",\"marker\":{\"colorbar\":{\"outlinewidth\":0,\"ticks\":\"\"}}}],\"carpet\":[{\"aaxis\":{\"endlinecolor\":\"#2a3f5f\",\"gridcolor\":\"white\",\"linecolor\":\"white\",\"minorgridcolor\":\"white\",\"startlinecolor\":\"#2a3f5f\"},\"baxis\":{\"endlinecolor\":\"#2a3f5f\",\"gridcolor\":\"white\",\"linecolor\":\"white\",\"minorgridcolor\":\"white\",\"startlinecolor\":\"#2a3f5f\"},\"type\":\"carpet\"}],\"table\":[{\"cells\":{\"fill\":{\"color\":\"#EBF0F8\"},\"line\":{\"color\":\"white\"}},\"header\":{\"fill\":{\"color\":\"#C8D4E3\"},\"line\":{\"color\":\"white\"}},\"type\":\"table\"}],\"barpolar\":[{\"marker\":{\"line\":{\"color\":\"#E5ECF6\",\"width\":0.5},\"pattern\":{\"fillmode\":\"overlay\",\"size\":10,\"solidity\":0.2}},\"type\":\"barpolar\"}],\"pie\":[{\"automargin\":true,\"type\":\"pie\"}]},\"layout\":{\"autotypenumbers\":\"strict\",\"colorway\":[\"#636efa\",\"#EF553B\",\"#00cc96\",\"#ab63fa\",\"#FFA15A\",\"#19d3f3\",\"#FF6692\",\"#B6E880\",\"#FF97FF\",\"#FECB52\"],\"font\":{\"color\":\"#2a3f5f\"},\"hovermode\":\"closest\",\"hoverlabel\":{\"align\":\"left\"},\"paper_bgcolor\":\"white\",\"plot_bgcolor\":\"#E5ECF6\",\"polar\":{\"bgcolor\":\"#E5ECF6\",\"angularaxis\":{\"gridcolor\":\"white\",\"linecolor\":\"white\",\"ticks\":\"\"},\"radialaxis\":{\"gridcolor\":\"white\",\"linecolor\":\"white\",\"ticks\":\"\"}},\"ternary\":{\"bgcolor\":\"#E5ECF6\",\"aaxis\":{\"gridcolor\":\"white\",\"linecolor\":\"white\",\"ticks\":\"\"},\"baxis\":{\"gridcolor\":\"white\",\"linecolor\":\"white\",\"ticks\":\"\"},\"caxis\":{\"gridcolor\":\"white\",\"linecolor\":\"white\",\"ticks\":\"\"}},\"coloraxis\":{\"colorbar\":{\"outlinewidth\":0,\"ticks\":\"\"}},\"colorscale\":{\"sequential\":[[0.0,\"#0d0887\"],[0.1111111111111111,\"#46039f\"],[0.2222222222222222,\"#7201a8\"],[0.3333333333333333,\"#9c179e\"],[0.4444444444444444,\"#bd3786\"],[0.5555555555555556,\"#d8576b\"],[0.6666666666666666,\"#ed7953\"],[0.7777777777777778,\"#fb9f3a\"],[0.8888888888888888,\"#fdca26\"],[1.0,\"#f0f921\"]],\"sequentialminus\":[[0.0,\"#0d0887\"],[0.1111111111111111,\"#46039f\"],[0.2222222222222222,\"#7201a8\"],[0.3333333333333333,\"#9c179e\"],[0.4444444444444444,\"#bd3786\"],[0.5555555555555556,\"#d8576b\"],[0.6666666666666666,\"#ed7953\"],[0.7777777777777778,\"#fb9f3a\"],[0.8888888888888888,\"#fdca26\"],[1.0,\"#f0f921\"]],\"diverging\":[[0,\"#8e0152\"],[0.1,\"#c51b7d\"],[0.2,\"#de77ae\"],[0.3,\"#f1b6da\"],[0.4,\"#fde0ef\"],[0.5,\"#f7f7f7\"],[0.6,\"#e6f5d0\"],[0.7,\"#b8e186\"],[0.8,\"#7fbc41\"],[0.9,\"#4d9221\"],[1,\"#276419\"]]},\"xaxis\":{\"gridcolor\":\"white\",\"linecolor\":\"white\",\"ticks\":\"\",\"title\":{\"standoff\":15},\"zerolinecolor\":\"white\",\"automargin\":true,\"zerolinewidth\":2},\"yaxis\":{\"gridcolor\":\"white\",\"linecolor\":\"white\",\"ticks\":\"\",\"title\":{\"standoff\":15},\"zerolinecolor\":\"white\",\"automargin\":true,\"zerolinewidth\":2},\"scene\":{\"xaxis\":{\"backgroundcolor\":\"#E5ECF6\",\"gridcolor\":\"white\",\"linecolor\":\"white\",\"showbackground\":true,\"ticks\":\"\",\"zerolinecolor\":\"white\",\"gridwidth\":2},\"yaxis\":{\"backgroundcolor\":\"#E5ECF6\",\"gridcolor\":\"white\",\"linecolor\":\"white\",\"showbackground\":true,\"ticks\":\"\",\"zerolinecolor\":\"white\",\"gridwidth\":2},\"zaxis\":{\"backgroundcolor\":\"#E5ECF6\",\"gridcolor\":\"white\",\"linecolor\":\"white\",\"showbackground\":true,\"ticks\":\"\",\"zerolinecolor\":\"white\",\"gridwidth\":2}},\"shapedefaults\":{\"line\":{\"color\":\"#2a3f5f\"}},\"annotationdefaults\":{\"arrowcolor\":\"#2a3f5f\",\"arrowhead\":0,\"arrowwidth\":1},\"geo\":{\"bgcolor\":\"white\",\"landcolor\":\"#E5ECF6\",\"subunitcolor\":\"white\",\"showland\":true,\"showlakes\":true,\"lakecolor\":\"white\"},\"title\":{\"x\":0.05},\"mapbox\":{\"style\":\"light\"}}},\"xaxis\":{\"anchor\":\"y\",\"domain\":[0.0,0.45]},\"yaxis\":{\"anchor\":\"x\",\"domain\":[0.0,1.0]},\"xaxis2\":{\"anchor\":\"y2\",\"domain\":[0.55,1.0]},\"yaxis2\":{\"anchor\":\"x2\",\"domain\":[0.0,1.0],\"showticklabels\":false},\"annotations\":[{\"font\":{\"size\":16},\"showarrow\":false,\"text\":\"\\u0421\\u043a\\u0432\\u043e\\u0437\\u043d\\u0430\\u044f \\u0432\\u043e\\u0440\\u043e\\u043d\\u043a\\u0430\",\"x\":0.225,\"xanchor\":\"center\",\"xref\":\"paper\",\"y\":1.0,\"yanchor\":\"bottom\",\"yref\":\"paper\"},{\"font\":{\"size\":16},\"showarrow\":false,\"text\":\"\\u0412\\u043e\\u0440\\u043e\\u043d\\u043a\\u0430 \\u043e\\u0442 \\u043f\\u0440\\u0435\\u0434\\u044b\\u0434\\u0443\\u0449\\u0435\\u0433\\u043e \\u044d\\u0442\\u0430\\u043f\\u0430\",\"x\":0.775,\"xanchor\":\"center\",\"xref\":\"paper\",\"y\":1.0,\"yanchor\":\"bottom\",\"yref\":\"paper\"}]},                        {\"responsive\": true}                    ).then(function(){\n",
       "                            \n",
       "var gd = document.getElementById('6f2a3232-2093-4a8a-8c42-39bfcda6298e');\n",
       "var x = new MutationObserver(function (mutations, observer) {{\n",
       "        var display = window.getComputedStyle(gd).display;\n",
       "        if (!display || display === 'none') {{\n",
       "            console.log([gd, 'removed!']);\n",
       "            Plotly.purge(gd);\n",
       "            observer.disconnect();\n",
       "        }}\n",
       "}});\n",
       "\n",
       "// Listen for the removal of the full notebook cells\n",
       "var notebookContainer = gd.closest('#notebook-container');\n",
       "if (notebookContainer) {{\n",
       "    x.observe(notebookContainer, {childList: true});\n",
       "}}\n",
       "\n",
       "// Listen for the clearing of the current output cell\n",
       "var outputEl = gd.closest('.output');\n",
       "if (outputEl) {{\n",
       "    x.observe(outputEl, {childList: true});\n",
       "}}\n",
       "\n",
       "                        })                };                });            </script>        </div>"
      ]
     },
     "metadata": {},
     "output_type": "display_data"
    }
   ],
   "source": [
    "funnel_drawing(sequence_of_events_favorites)"
   ]
  },
  {
   "cell_type": "markdown",
   "metadata": {},
   "source": [
    "*Виуализация цепочки с просмотром карты объявлений*"
   ]
  },
  {
   "cell_type": "code",
   "execution_count": 158,
   "metadata": {},
   "outputs": [
    {
     "data": {
      "application/vnd.plotly.v1+json": {
       "config": {
        "plotlyServerURL": "https://plot.ly"
       },
       "data": [
        {
         "connector": {
          "line": {
           "color": "royalblue",
           "dash": "dot",
           "width": 3
          }
         },
         "marker": {
          "color": [
           "deepskyblue",
           "lightsalmon",
           "tan",
           "teal"
          ],
          "line": {
           "color": [
            "wheat",
            "wheat",
            "teal",
            "wheat"
           ],
           "width": [
            4,
            2,
            2,
            3,
            1,
            1
           ]
          }
         },
         "opacity": 0.9,
         "text": [
          "search_1",
          "map",
          "advert_open",
          "contacts_show"
         ],
         "textinfo": "text+value",
         "textposition": "inside",
         "type": "funnel",
         "x": [
          787,
          5,
          54,
          237
         ],
         "xaxis": "x",
         "y": [
          "search_1",
          "map",
          "advert_open",
          "contacts_show"
         ],
         "yaxis": "y"
        },
        {
         "connector": {
          "line": {
           "color": "royalblue",
           "dash": "dot",
           "width": 3
          }
         },
         "marker": {
          "color": [
           "deepskyblue",
           "lightsalmon",
           "tan",
           "teal"
          ],
          "line": {
           "color": [
            "wheat",
            "wheat",
            "teal",
            "wheat"
           ],
           "width": [
            4,
            2,
            2,
            3,
            1,
            1
           ]
          }
         },
         "opacity": 0.9,
         "text": [
          "search_1",
          "map",
          "advert_open",
          "contacts_show"
         ],
         "textinfo": "text+value",
         "textposition": "inside",
         "type": "funnel",
         "x": [
          787,
          5,
          4,
          2
         ],
         "xaxis": "x2",
         "y": [
          "search_1",
          "map",
          "advert_open",
          "contacts_show"
         ],
         "yaxis": "y2"
        }
       ],
       "layout": {
        "annotations": [
         {
          "font": {
           "size": 16
          },
          "showarrow": false,
          "text": "Сквозная воронка",
          "x": 0.225,
          "xanchor": "center",
          "xref": "paper",
          "y": 1,
          "yanchor": "bottom",
          "yref": "paper"
         },
         {
          "font": {
           "size": 16
          },
          "showarrow": false,
          "text": "Воронка от предыдущего этапа",
          "x": 0.775,
          "xanchor": "center",
          "xref": "paper",
          "y": 1,
          "yanchor": "bottom",
          "yref": "paper"
         }
        ],
        "template": {
         "data": {
          "bar": [
           {
            "error_x": {
             "color": "#2a3f5f"
            },
            "error_y": {
             "color": "#2a3f5f"
            },
            "marker": {
             "line": {
              "color": "#E5ECF6",
              "width": 0.5
             },
             "pattern": {
              "fillmode": "overlay",
              "size": 10,
              "solidity": 0.2
             }
            },
            "type": "bar"
           }
          ],
          "barpolar": [
           {
            "marker": {
             "line": {
              "color": "#E5ECF6",
              "width": 0.5
             },
             "pattern": {
              "fillmode": "overlay",
              "size": 10,
              "solidity": 0.2
             }
            },
            "type": "barpolar"
           }
          ],
          "carpet": [
           {
            "aaxis": {
             "endlinecolor": "#2a3f5f",
             "gridcolor": "white",
             "linecolor": "white",
             "minorgridcolor": "white",
             "startlinecolor": "#2a3f5f"
            },
            "baxis": {
             "endlinecolor": "#2a3f5f",
             "gridcolor": "white",
             "linecolor": "white",
             "minorgridcolor": "white",
             "startlinecolor": "#2a3f5f"
            },
            "type": "carpet"
           }
          ],
          "choropleth": [
           {
            "colorbar": {
             "outlinewidth": 0,
             "ticks": ""
            },
            "type": "choropleth"
           }
          ],
          "contour": [
           {
            "colorbar": {
             "outlinewidth": 0,
             "ticks": ""
            },
            "colorscale": [
             [
              0,
              "#0d0887"
             ],
             [
              0.1111111111111111,
              "#46039f"
             ],
             [
              0.2222222222222222,
              "#7201a8"
             ],
             [
              0.3333333333333333,
              "#9c179e"
             ],
             [
              0.4444444444444444,
              "#bd3786"
             ],
             [
              0.5555555555555556,
              "#d8576b"
             ],
             [
              0.6666666666666666,
              "#ed7953"
             ],
             [
              0.7777777777777778,
              "#fb9f3a"
             ],
             [
              0.8888888888888888,
              "#fdca26"
             ],
             [
              1,
              "#f0f921"
             ]
            ],
            "type": "contour"
           }
          ],
          "contourcarpet": [
           {
            "colorbar": {
             "outlinewidth": 0,
             "ticks": ""
            },
            "type": "contourcarpet"
           }
          ],
          "heatmap": [
           {
            "colorbar": {
             "outlinewidth": 0,
             "ticks": ""
            },
            "colorscale": [
             [
              0,
              "#0d0887"
             ],
             [
              0.1111111111111111,
              "#46039f"
             ],
             [
              0.2222222222222222,
              "#7201a8"
             ],
             [
              0.3333333333333333,
              "#9c179e"
             ],
             [
              0.4444444444444444,
              "#bd3786"
             ],
             [
              0.5555555555555556,
              "#d8576b"
             ],
             [
              0.6666666666666666,
              "#ed7953"
             ],
             [
              0.7777777777777778,
              "#fb9f3a"
             ],
             [
              0.8888888888888888,
              "#fdca26"
             ],
             [
              1,
              "#f0f921"
             ]
            ],
            "type": "heatmap"
           }
          ],
          "heatmapgl": [
           {
            "colorbar": {
             "outlinewidth": 0,
             "ticks": ""
            },
            "colorscale": [
             [
              0,
              "#0d0887"
             ],
             [
              0.1111111111111111,
              "#46039f"
             ],
             [
              0.2222222222222222,
              "#7201a8"
             ],
             [
              0.3333333333333333,
              "#9c179e"
             ],
             [
              0.4444444444444444,
              "#bd3786"
             ],
             [
              0.5555555555555556,
              "#d8576b"
             ],
             [
              0.6666666666666666,
              "#ed7953"
             ],
             [
              0.7777777777777778,
              "#fb9f3a"
             ],
             [
              0.8888888888888888,
              "#fdca26"
             ],
             [
              1,
              "#f0f921"
             ]
            ],
            "type": "heatmapgl"
           }
          ],
          "histogram": [
           {
            "marker": {
             "pattern": {
              "fillmode": "overlay",
              "size": 10,
              "solidity": 0.2
             }
            },
            "type": "histogram"
           }
          ],
          "histogram2d": [
           {
            "colorbar": {
             "outlinewidth": 0,
             "ticks": ""
            },
            "colorscale": [
             [
              0,
              "#0d0887"
             ],
             [
              0.1111111111111111,
              "#46039f"
             ],
             [
              0.2222222222222222,
              "#7201a8"
             ],
             [
              0.3333333333333333,
              "#9c179e"
             ],
             [
              0.4444444444444444,
              "#bd3786"
             ],
             [
              0.5555555555555556,
              "#d8576b"
             ],
             [
              0.6666666666666666,
              "#ed7953"
             ],
             [
              0.7777777777777778,
              "#fb9f3a"
             ],
             [
              0.8888888888888888,
              "#fdca26"
             ],
             [
              1,
              "#f0f921"
             ]
            ],
            "type": "histogram2d"
           }
          ],
          "histogram2dcontour": [
           {
            "colorbar": {
             "outlinewidth": 0,
             "ticks": ""
            },
            "colorscale": [
             [
              0,
              "#0d0887"
             ],
             [
              0.1111111111111111,
              "#46039f"
             ],
             [
              0.2222222222222222,
              "#7201a8"
             ],
             [
              0.3333333333333333,
              "#9c179e"
             ],
             [
              0.4444444444444444,
              "#bd3786"
             ],
             [
              0.5555555555555556,
              "#d8576b"
             ],
             [
              0.6666666666666666,
              "#ed7953"
             ],
             [
              0.7777777777777778,
              "#fb9f3a"
             ],
             [
              0.8888888888888888,
              "#fdca26"
             ],
             [
              1,
              "#f0f921"
             ]
            ],
            "type": "histogram2dcontour"
           }
          ],
          "mesh3d": [
           {
            "colorbar": {
             "outlinewidth": 0,
             "ticks": ""
            },
            "type": "mesh3d"
           }
          ],
          "parcoords": [
           {
            "line": {
             "colorbar": {
              "outlinewidth": 0,
              "ticks": ""
             }
            },
            "type": "parcoords"
           }
          ],
          "pie": [
           {
            "automargin": true,
            "type": "pie"
           }
          ],
          "scatter": [
           {
            "fillpattern": {
             "fillmode": "overlay",
             "size": 10,
             "solidity": 0.2
            },
            "type": "scatter"
           }
          ],
          "scatter3d": [
           {
            "line": {
             "colorbar": {
              "outlinewidth": 0,
              "ticks": ""
             }
            },
            "marker": {
             "colorbar": {
              "outlinewidth": 0,
              "ticks": ""
             }
            },
            "type": "scatter3d"
           }
          ],
          "scattercarpet": [
           {
            "marker": {
             "colorbar": {
              "outlinewidth": 0,
              "ticks": ""
             }
            },
            "type": "scattercarpet"
           }
          ],
          "scattergeo": [
           {
            "marker": {
             "colorbar": {
              "outlinewidth": 0,
              "ticks": ""
             }
            },
            "type": "scattergeo"
           }
          ],
          "scattergl": [
           {
            "marker": {
             "colorbar": {
              "outlinewidth": 0,
              "ticks": ""
             }
            },
            "type": "scattergl"
           }
          ],
          "scattermapbox": [
           {
            "marker": {
             "colorbar": {
              "outlinewidth": 0,
              "ticks": ""
             }
            },
            "type": "scattermapbox"
           }
          ],
          "scatterpolar": [
           {
            "marker": {
             "colorbar": {
              "outlinewidth": 0,
              "ticks": ""
             }
            },
            "type": "scatterpolar"
           }
          ],
          "scatterpolargl": [
           {
            "marker": {
             "colorbar": {
              "outlinewidth": 0,
              "ticks": ""
             }
            },
            "type": "scatterpolargl"
           }
          ],
          "scatterternary": [
           {
            "marker": {
             "colorbar": {
              "outlinewidth": 0,
              "ticks": ""
             }
            },
            "type": "scatterternary"
           }
          ],
          "surface": [
           {
            "colorbar": {
             "outlinewidth": 0,
             "ticks": ""
            },
            "colorscale": [
             [
              0,
              "#0d0887"
             ],
             [
              0.1111111111111111,
              "#46039f"
             ],
             [
              0.2222222222222222,
              "#7201a8"
             ],
             [
              0.3333333333333333,
              "#9c179e"
             ],
             [
              0.4444444444444444,
              "#bd3786"
             ],
             [
              0.5555555555555556,
              "#d8576b"
             ],
             [
              0.6666666666666666,
              "#ed7953"
             ],
             [
              0.7777777777777778,
              "#fb9f3a"
             ],
             [
              0.8888888888888888,
              "#fdca26"
             ],
             [
              1,
              "#f0f921"
             ]
            ],
            "type": "surface"
           }
          ],
          "table": [
           {
            "cells": {
             "fill": {
              "color": "#EBF0F8"
             },
             "line": {
              "color": "white"
             }
            },
            "header": {
             "fill": {
              "color": "#C8D4E3"
             },
             "line": {
              "color": "white"
             }
            },
            "type": "table"
           }
          ]
         },
         "layout": {
          "annotationdefaults": {
           "arrowcolor": "#2a3f5f",
           "arrowhead": 0,
           "arrowwidth": 1
          },
          "autotypenumbers": "strict",
          "coloraxis": {
           "colorbar": {
            "outlinewidth": 0,
            "ticks": ""
           }
          },
          "colorscale": {
           "diverging": [
            [
             0,
             "#8e0152"
            ],
            [
             0.1,
             "#c51b7d"
            ],
            [
             0.2,
             "#de77ae"
            ],
            [
             0.3,
             "#f1b6da"
            ],
            [
             0.4,
             "#fde0ef"
            ],
            [
             0.5,
             "#f7f7f7"
            ],
            [
             0.6,
             "#e6f5d0"
            ],
            [
             0.7,
             "#b8e186"
            ],
            [
             0.8,
             "#7fbc41"
            ],
            [
             0.9,
             "#4d9221"
            ],
            [
             1,
             "#276419"
            ]
           ],
           "sequential": [
            [
             0,
             "#0d0887"
            ],
            [
             0.1111111111111111,
             "#46039f"
            ],
            [
             0.2222222222222222,
             "#7201a8"
            ],
            [
             0.3333333333333333,
             "#9c179e"
            ],
            [
             0.4444444444444444,
             "#bd3786"
            ],
            [
             0.5555555555555556,
             "#d8576b"
            ],
            [
             0.6666666666666666,
             "#ed7953"
            ],
            [
             0.7777777777777778,
             "#fb9f3a"
            ],
            [
             0.8888888888888888,
             "#fdca26"
            ],
            [
             1,
             "#f0f921"
            ]
           ],
           "sequentialminus": [
            [
             0,
             "#0d0887"
            ],
            [
             0.1111111111111111,
             "#46039f"
            ],
            [
             0.2222222222222222,
             "#7201a8"
            ],
            [
             0.3333333333333333,
             "#9c179e"
            ],
            [
             0.4444444444444444,
             "#bd3786"
            ],
            [
             0.5555555555555556,
             "#d8576b"
            ],
            [
             0.6666666666666666,
             "#ed7953"
            ],
            [
             0.7777777777777778,
             "#fb9f3a"
            ],
            [
             0.8888888888888888,
             "#fdca26"
            ],
            [
             1,
             "#f0f921"
            ]
           ]
          },
          "colorway": [
           "#636efa",
           "#EF553B",
           "#00cc96",
           "#ab63fa",
           "#FFA15A",
           "#19d3f3",
           "#FF6692",
           "#B6E880",
           "#FF97FF",
           "#FECB52"
          ],
          "font": {
           "color": "#2a3f5f"
          },
          "geo": {
           "bgcolor": "white",
           "lakecolor": "white",
           "landcolor": "#E5ECF6",
           "showlakes": true,
           "showland": true,
           "subunitcolor": "white"
          },
          "hoverlabel": {
           "align": "left"
          },
          "hovermode": "closest",
          "mapbox": {
           "style": "light"
          },
          "paper_bgcolor": "white",
          "plot_bgcolor": "#E5ECF6",
          "polar": {
           "angularaxis": {
            "gridcolor": "white",
            "linecolor": "white",
            "ticks": ""
           },
           "bgcolor": "#E5ECF6",
           "radialaxis": {
            "gridcolor": "white",
            "linecolor": "white",
            "ticks": ""
           }
          },
          "scene": {
           "xaxis": {
            "backgroundcolor": "#E5ECF6",
            "gridcolor": "white",
            "gridwidth": 2,
            "linecolor": "white",
            "showbackground": true,
            "ticks": "",
            "zerolinecolor": "white"
           },
           "yaxis": {
            "backgroundcolor": "#E5ECF6",
            "gridcolor": "white",
            "gridwidth": 2,
            "linecolor": "white",
            "showbackground": true,
            "ticks": "",
            "zerolinecolor": "white"
           },
           "zaxis": {
            "backgroundcolor": "#E5ECF6",
            "gridcolor": "white",
            "gridwidth": 2,
            "linecolor": "white",
            "showbackground": true,
            "ticks": "",
            "zerolinecolor": "white"
           }
          },
          "shapedefaults": {
           "line": {
            "color": "#2a3f5f"
           }
          },
          "ternary": {
           "aaxis": {
            "gridcolor": "white",
            "linecolor": "white",
            "ticks": ""
           },
           "baxis": {
            "gridcolor": "white",
            "linecolor": "white",
            "ticks": ""
           },
           "bgcolor": "#E5ECF6",
           "caxis": {
            "gridcolor": "white",
            "linecolor": "white",
            "ticks": ""
           }
          },
          "title": {
           "x": 0.05
          },
          "xaxis": {
           "automargin": true,
           "gridcolor": "white",
           "linecolor": "white",
           "ticks": "",
           "title": {
            "standoff": 15
           },
           "zerolinecolor": "white",
           "zerolinewidth": 2
          },
          "yaxis": {
           "automargin": true,
           "gridcolor": "white",
           "linecolor": "white",
           "ticks": "",
           "title": {
            "standoff": 15
           },
           "zerolinecolor": "white",
           "zerolinewidth": 2
          }
         }
        },
        "xaxis": {
         "anchor": "y",
         "domain": [
          0,
          0.45
         ]
        },
        "xaxis2": {
         "anchor": "y2",
         "domain": [
          0.55,
          1
         ]
        },
        "yaxis": {
         "anchor": "x",
         "domain": [
          0,
          1
         ]
        },
        "yaxis2": {
         "anchor": "x2",
         "domain": [
          0,
          1
         ],
         "showticklabels": false
        }
       }
      },
      "text/html": [
       "<div>                            <div id=\"1a927c98-6faa-40bf-a58c-d12635ab71a7\" class=\"plotly-graph-div\" style=\"height:525px; width:100%;\"></div>            <script type=\"text/javascript\">                require([\"plotly\"], function(Plotly) {                    window.PLOTLYENV=window.PLOTLYENV || {};                                    if (document.getElementById(\"1a927c98-6faa-40bf-a58c-d12635ab71a7\")) {                    Plotly.newPlot(                        \"1a927c98-6faa-40bf-a58c-d12635ab71a7\",                        [{\"connector\":{\"line\":{\"color\":\"royalblue\",\"dash\":\"dot\",\"width\":3}},\"marker\":{\"color\":[\"deepskyblue\",\"lightsalmon\",\"tan\",\"teal\"],\"line\":{\"color\":[\"wheat\",\"wheat\",\"teal\",\"wheat\"],\"width\":[4,2,2,3,1,1]}},\"opacity\":0.9,\"text\":[\"search_1\",\"map\",\"advert_open\",\"contacts_show\"],\"textinfo\":\"text+value\",\"textposition\":\"inside\",\"x\":[787,5,54,237],\"y\":[\"search_1\",\"map\",\"advert_open\",\"contacts_show\"],\"type\":\"funnel\",\"xaxis\":\"x\",\"yaxis\":\"y\"},{\"connector\":{\"line\":{\"color\":\"royalblue\",\"dash\":\"dot\",\"width\":3}},\"marker\":{\"color\":[\"deepskyblue\",\"lightsalmon\",\"tan\",\"teal\"],\"line\":{\"color\":[\"wheat\",\"wheat\",\"teal\",\"wheat\"],\"width\":[4,2,2,3,1,1]}},\"opacity\":0.9,\"text\":[\"search_1\",\"map\",\"advert_open\",\"contacts_show\"],\"textinfo\":\"text+value\",\"textposition\":\"inside\",\"x\":[787,5,4,2],\"y\":[\"search_1\",\"map\",\"advert_open\",\"contacts_show\"],\"type\":\"funnel\",\"xaxis\":\"x2\",\"yaxis\":\"y2\"}],                        {\"template\":{\"data\":{\"histogram2dcontour\":[{\"type\":\"histogram2dcontour\",\"colorbar\":{\"outlinewidth\":0,\"ticks\":\"\"},\"colorscale\":[[0.0,\"#0d0887\"],[0.1111111111111111,\"#46039f\"],[0.2222222222222222,\"#7201a8\"],[0.3333333333333333,\"#9c179e\"],[0.4444444444444444,\"#bd3786\"],[0.5555555555555556,\"#d8576b\"],[0.6666666666666666,\"#ed7953\"],[0.7777777777777778,\"#fb9f3a\"],[0.8888888888888888,\"#fdca26\"],[1.0,\"#f0f921\"]]}],\"choropleth\":[{\"type\":\"choropleth\",\"colorbar\":{\"outlinewidth\":0,\"ticks\":\"\"}}],\"histogram2d\":[{\"type\":\"histogram2d\",\"colorbar\":{\"outlinewidth\":0,\"ticks\":\"\"},\"colorscale\":[[0.0,\"#0d0887\"],[0.1111111111111111,\"#46039f\"],[0.2222222222222222,\"#7201a8\"],[0.3333333333333333,\"#9c179e\"],[0.4444444444444444,\"#bd3786\"],[0.5555555555555556,\"#d8576b\"],[0.6666666666666666,\"#ed7953\"],[0.7777777777777778,\"#fb9f3a\"],[0.8888888888888888,\"#fdca26\"],[1.0,\"#f0f921\"]]}],\"heatmap\":[{\"type\":\"heatmap\",\"colorbar\":{\"outlinewidth\":0,\"ticks\":\"\"},\"colorscale\":[[0.0,\"#0d0887\"],[0.1111111111111111,\"#46039f\"],[0.2222222222222222,\"#7201a8\"],[0.3333333333333333,\"#9c179e\"],[0.4444444444444444,\"#bd3786\"],[0.5555555555555556,\"#d8576b\"],[0.6666666666666666,\"#ed7953\"],[0.7777777777777778,\"#fb9f3a\"],[0.8888888888888888,\"#fdca26\"],[1.0,\"#f0f921\"]]}],\"heatmapgl\":[{\"type\":\"heatmapgl\",\"colorbar\":{\"outlinewidth\":0,\"ticks\":\"\"},\"colorscale\":[[0.0,\"#0d0887\"],[0.1111111111111111,\"#46039f\"],[0.2222222222222222,\"#7201a8\"],[0.3333333333333333,\"#9c179e\"],[0.4444444444444444,\"#bd3786\"],[0.5555555555555556,\"#d8576b\"],[0.6666666666666666,\"#ed7953\"],[0.7777777777777778,\"#fb9f3a\"],[0.8888888888888888,\"#fdca26\"],[1.0,\"#f0f921\"]]}],\"contourcarpet\":[{\"type\":\"contourcarpet\",\"colorbar\":{\"outlinewidth\":0,\"ticks\":\"\"}}],\"contour\":[{\"type\":\"contour\",\"colorbar\":{\"outlinewidth\":0,\"ticks\":\"\"},\"colorscale\":[[0.0,\"#0d0887\"],[0.1111111111111111,\"#46039f\"],[0.2222222222222222,\"#7201a8\"],[0.3333333333333333,\"#9c179e\"],[0.4444444444444444,\"#bd3786\"],[0.5555555555555556,\"#d8576b\"],[0.6666666666666666,\"#ed7953\"],[0.7777777777777778,\"#fb9f3a\"],[0.8888888888888888,\"#fdca26\"],[1.0,\"#f0f921\"]]}],\"surface\":[{\"type\":\"surface\",\"colorbar\":{\"outlinewidth\":0,\"ticks\":\"\"},\"colorscale\":[[0.0,\"#0d0887\"],[0.1111111111111111,\"#46039f\"],[0.2222222222222222,\"#7201a8\"],[0.3333333333333333,\"#9c179e\"],[0.4444444444444444,\"#bd3786\"],[0.5555555555555556,\"#d8576b\"],[0.6666666666666666,\"#ed7953\"],[0.7777777777777778,\"#fb9f3a\"],[0.8888888888888888,\"#fdca26\"],[1.0,\"#f0f921\"]]}],\"mesh3d\":[{\"type\":\"mesh3d\",\"colorbar\":{\"outlinewidth\":0,\"ticks\":\"\"}}],\"scatter\":[{\"fillpattern\":{\"fillmode\":\"overlay\",\"size\":10,\"solidity\":0.2},\"type\":\"scatter\"}],\"parcoords\":[{\"type\":\"parcoords\",\"line\":{\"colorbar\":{\"outlinewidth\":0,\"ticks\":\"\"}}}],\"scatterpolargl\":[{\"type\":\"scatterpolargl\",\"marker\":{\"colorbar\":{\"outlinewidth\":0,\"ticks\":\"\"}}}],\"bar\":[{\"error_x\":{\"color\":\"#2a3f5f\"},\"error_y\":{\"color\":\"#2a3f5f\"},\"marker\":{\"line\":{\"color\":\"#E5ECF6\",\"width\":0.5},\"pattern\":{\"fillmode\":\"overlay\",\"size\":10,\"solidity\":0.2}},\"type\":\"bar\"}],\"scattergeo\":[{\"type\":\"scattergeo\",\"marker\":{\"colorbar\":{\"outlinewidth\":0,\"ticks\":\"\"}}}],\"scatterpolar\":[{\"type\":\"scatterpolar\",\"marker\":{\"colorbar\":{\"outlinewidth\":0,\"ticks\":\"\"}}}],\"histogram\":[{\"marker\":{\"pattern\":{\"fillmode\":\"overlay\",\"size\":10,\"solidity\":0.2}},\"type\":\"histogram\"}],\"scattergl\":[{\"type\":\"scattergl\",\"marker\":{\"colorbar\":{\"outlinewidth\":0,\"ticks\":\"\"}}}],\"scatter3d\":[{\"type\":\"scatter3d\",\"line\":{\"colorbar\":{\"outlinewidth\":0,\"ticks\":\"\"}},\"marker\":{\"colorbar\":{\"outlinewidth\":0,\"ticks\":\"\"}}}],\"scattermapbox\":[{\"type\":\"scattermapbox\",\"marker\":{\"colorbar\":{\"outlinewidth\":0,\"ticks\":\"\"}}}],\"scatterternary\":[{\"type\":\"scatterternary\",\"marker\":{\"colorbar\":{\"outlinewidth\":0,\"ticks\":\"\"}}}],\"scattercarpet\":[{\"type\":\"scattercarpet\",\"marker\":{\"colorbar\":{\"outlinewidth\":0,\"ticks\":\"\"}}}],\"carpet\":[{\"aaxis\":{\"endlinecolor\":\"#2a3f5f\",\"gridcolor\":\"white\",\"linecolor\":\"white\",\"minorgridcolor\":\"white\",\"startlinecolor\":\"#2a3f5f\"},\"baxis\":{\"endlinecolor\":\"#2a3f5f\",\"gridcolor\":\"white\",\"linecolor\":\"white\",\"minorgridcolor\":\"white\",\"startlinecolor\":\"#2a3f5f\"},\"type\":\"carpet\"}],\"table\":[{\"cells\":{\"fill\":{\"color\":\"#EBF0F8\"},\"line\":{\"color\":\"white\"}},\"header\":{\"fill\":{\"color\":\"#C8D4E3\"},\"line\":{\"color\":\"white\"}},\"type\":\"table\"}],\"barpolar\":[{\"marker\":{\"line\":{\"color\":\"#E5ECF6\",\"width\":0.5},\"pattern\":{\"fillmode\":\"overlay\",\"size\":10,\"solidity\":0.2}},\"type\":\"barpolar\"}],\"pie\":[{\"automargin\":true,\"type\":\"pie\"}]},\"layout\":{\"autotypenumbers\":\"strict\",\"colorway\":[\"#636efa\",\"#EF553B\",\"#00cc96\",\"#ab63fa\",\"#FFA15A\",\"#19d3f3\",\"#FF6692\",\"#B6E880\",\"#FF97FF\",\"#FECB52\"],\"font\":{\"color\":\"#2a3f5f\"},\"hovermode\":\"closest\",\"hoverlabel\":{\"align\":\"left\"},\"paper_bgcolor\":\"white\",\"plot_bgcolor\":\"#E5ECF6\",\"polar\":{\"bgcolor\":\"#E5ECF6\",\"angularaxis\":{\"gridcolor\":\"white\",\"linecolor\":\"white\",\"ticks\":\"\"},\"radialaxis\":{\"gridcolor\":\"white\",\"linecolor\":\"white\",\"ticks\":\"\"}},\"ternary\":{\"bgcolor\":\"#E5ECF6\",\"aaxis\":{\"gridcolor\":\"white\",\"linecolor\":\"white\",\"ticks\":\"\"},\"baxis\":{\"gridcolor\":\"white\",\"linecolor\":\"white\",\"ticks\":\"\"},\"caxis\":{\"gridcolor\":\"white\",\"linecolor\":\"white\",\"ticks\":\"\"}},\"coloraxis\":{\"colorbar\":{\"outlinewidth\":0,\"ticks\":\"\"}},\"colorscale\":{\"sequential\":[[0.0,\"#0d0887\"],[0.1111111111111111,\"#46039f\"],[0.2222222222222222,\"#7201a8\"],[0.3333333333333333,\"#9c179e\"],[0.4444444444444444,\"#bd3786\"],[0.5555555555555556,\"#d8576b\"],[0.6666666666666666,\"#ed7953\"],[0.7777777777777778,\"#fb9f3a\"],[0.8888888888888888,\"#fdca26\"],[1.0,\"#f0f921\"]],\"sequentialminus\":[[0.0,\"#0d0887\"],[0.1111111111111111,\"#46039f\"],[0.2222222222222222,\"#7201a8\"],[0.3333333333333333,\"#9c179e\"],[0.4444444444444444,\"#bd3786\"],[0.5555555555555556,\"#d8576b\"],[0.6666666666666666,\"#ed7953\"],[0.7777777777777778,\"#fb9f3a\"],[0.8888888888888888,\"#fdca26\"],[1.0,\"#f0f921\"]],\"diverging\":[[0,\"#8e0152\"],[0.1,\"#c51b7d\"],[0.2,\"#de77ae\"],[0.3,\"#f1b6da\"],[0.4,\"#fde0ef\"],[0.5,\"#f7f7f7\"],[0.6,\"#e6f5d0\"],[0.7,\"#b8e186\"],[0.8,\"#7fbc41\"],[0.9,\"#4d9221\"],[1,\"#276419\"]]},\"xaxis\":{\"gridcolor\":\"white\",\"linecolor\":\"white\",\"ticks\":\"\",\"title\":{\"standoff\":15},\"zerolinecolor\":\"white\",\"automargin\":true,\"zerolinewidth\":2},\"yaxis\":{\"gridcolor\":\"white\",\"linecolor\":\"white\",\"ticks\":\"\",\"title\":{\"standoff\":15},\"zerolinecolor\":\"white\",\"automargin\":true,\"zerolinewidth\":2},\"scene\":{\"xaxis\":{\"backgroundcolor\":\"#E5ECF6\",\"gridcolor\":\"white\",\"linecolor\":\"white\",\"showbackground\":true,\"ticks\":\"\",\"zerolinecolor\":\"white\",\"gridwidth\":2},\"yaxis\":{\"backgroundcolor\":\"#E5ECF6\",\"gridcolor\":\"white\",\"linecolor\":\"white\",\"showbackground\":true,\"ticks\":\"\",\"zerolinecolor\":\"white\",\"gridwidth\":2},\"zaxis\":{\"backgroundcolor\":\"#E5ECF6\",\"gridcolor\":\"white\",\"linecolor\":\"white\",\"showbackground\":true,\"ticks\":\"\",\"zerolinecolor\":\"white\",\"gridwidth\":2}},\"shapedefaults\":{\"line\":{\"color\":\"#2a3f5f\"}},\"annotationdefaults\":{\"arrowcolor\":\"#2a3f5f\",\"arrowhead\":0,\"arrowwidth\":1},\"geo\":{\"bgcolor\":\"white\",\"landcolor\":\"#E5ECF6\",\"subunitcolor\":\"white\",\"showland\":true,\"showlakes\":true,\"lakecolor\":\"white\"},\"title\":{\"x\":0.05},\"mapbox\":{\"style\":\"light\"}}},\"xaxis\":{\"anchor\":\"y\",\"domain\":[0.0,0.45]},\"yaxis\":{\"anchor\":\"x\",\"domain\":[0.0,1.0]},\"xaxis2\":{\"anchor\":\"y2\",\"domain\":[0.55,1.0]},\"yaxis2\":{\"anchor\":\"x2\",\"domain\":[0.0,1.0],\"showticklabels\":false},\"annotations\":[{\"font\":{\"size\":16},\"showarrow\":false,\"text\":\"\\u0421\\u043a\\u0432\\u043e\\u0437\\u043d\\u0430\\u044f \\u0432\\u043e\\u0440\\u043e\\u043d\\u043a\\u0430\",\"x\":0.225,\"xanchor\":\"center\",\"xref\":\"paper\",\"y\":1.0,\"yanchor\":\"bottom\",\"yref\":\"paper\"},{\"font\":{\"size\":16},\"showarrow\":false,\"text\":\"\\u0412\\u043e\\u0440\\u043e\\u043d\\u043a\\u0430 \\u043e\\u0442 \\u043f\\u0440\\u0435\\u0434\\u044b\\u0434\\u0443\\u0449\\u0435\\u0433\\u043e \\u044d\\u0442\\u0430\\u043f\\u0430\",\"x\":0.775,\"xanchor\":\"center\",\"xref\":\"paper\",\"y\":1.0,\"yanchor\":\"bottom\",\"yref\":\"paper\"}]},                        {\"responsive\": true}                    ).then(function(){\n",
       "                            \n",
       "var gd = document.getElementById('1a927c98-6faa-40bf-a58c-d12635ab71a7');\n",
       "var x = new MutationObserver(function (mutations, observer) {{\n",
       "        var display = window.getComputedStyle(gd).display;\n",
       "        if (!display || display === 'none') {{\n",
       "            console.log([gd, 'removed!']);\n",
       "            Plotly.purge(gd);\n",
       "            observer.disconnect();\n",
       "        }}\n",
       "}});\n",
       "\n",
       "// Listen for the removal of the full notebook cells\n",
       "var notebookContainer = gd.closest('#notebook-container');\n",
       "if (notebookContainer) {{\n",
       "    x.observe(notebookContainer, {childList: true});\n",
       "}}\n",
       "\n",
       "// Listen for the clearing of the current output cell\n",
       "var outputEl = gd.closest('.output');\n",
       "if (outputEl) {{\n",
       "    x.observe(outputEl, {childList: true});\n",
       "}}\n",
       "\n",
       "                        })                };                });            </script>        </div>"
      ]
     },
     "metadata": {},
     "output_type": "display_data"
    }
   ],
   "source": [
    "funnel_drawing(sequence_of_events_map)"
   ]
  },
  {
   "cell_type": "markdown",
   "metadata": {},
   "source": [
    "_**Ни одна из сформированных цепочек событий не составила воронку. Можно предположить, что все эти события - это самостоятельные события пользователя.**_"
   ]
  },
  {
   "cell_type": "markdown",
   "metadata": {},
   "source": [
    "### Анализ времени между совершениями вспомогательного и целевого событий"
   ]
  },
  {
   "cell_type": "markdown",
   "metadata": {},
   "source": [
    "*Создание таблицы с временными интервалами между совершениями вспомогательного и целевого событий в рамках одной сессии*"
   ]
  },
  {
   "cell_type": "code",
   "execution_count": 159,
   "metadata": {},
   "outputs": [
    {
     "data": {
      "text/html": [
       "<div>\n",
       "<style scoped>\n",
       "    .dataframe tbody tr th:only-of-type {\n",
       "        vertical-align: middle;\n",
       "    }\n",
       "\n",
       "    .dataframe tbody tr th {\n",
       "        vertical-align: top;\n",
       "    }\n",
       "\n",
       "    .dataframe thead th {\n",
       "        text-align: right;\n",
       "    }\n",
       "</style>\n",
       "<table border=\"1\" class=\"dataframe\">\n",
       "  <thead>\n",
       "    <tr style=\"text-align: right;\">\n",
       "      <th></th>\n",
       "      <th>session_id</th>\n",
       "      <th>event_name</th>\n",
       "      <th>first_event_time</th>\n",
       "      <th>first_target_event_time</th>\n",
       "      <th>time_interval</th>\n",
       "    </tr>\n",
       "  </thead>\n",
       "  <tbody>\n",
       "    <tr>\n",
       "      <th>0</th>\n",
       "      <td>3</td>\n",
       "      <td>contacts_show</td>\n",
       "      <td>2019-10-07 00:05:16.003328</td>\n",
       "      <td>2019-10-07 00:05:16.003328</td>\n",
       "      <td>0</td>\n",
       "    </tr>\n",
       "    <tr>\n",
       "      <th>1</th>\n",
       "      <td>3</td>\n",
       "      <td>tips_click</td>\n",
       "      <td>2019-10-07 00:14:37.801823</td>\n",
       "      <td>2019-10-07 00:05:16.003328</td>\n",
       "      <td>561</td>\n",
       "    </tr>\n",
       "    <tr>\n",
       "      <th>2</th>\n",
       "      <td>3</td>\n",
       "      <td>tips_show</td>\n",
       "      <td>2019-10-07 00:02:07.374346</td>\n",
       "      <td>2019-10-07 00:05:16.003328</td>\n",
       "      <td>188</td>\n",
       "    </tr>\n",
       "    <tr>\n",
       "      <th>3</th>\n",
       "      <td>19</td>\n",
       "      <td>contacts_show</td>\n",
       "      <td>2019-10-07 08:11:07.995945</td>\n",
       "      <td>2019-10-07 08:11:07.995945</td>\n",
       "      <td>0</td>\n",
       "    </tr>\n",
       "    <tr>\n",
       "      <th>4</th>\n",
       "      <td>19</td>\n",
       "      <td>photos_show</td>\n",
       "      <td>2019-10-07 08:08:29.271000</td>\n",
       "      <td>2019-10-07 08:11:07.995945</td>\n",
       "      <td>158</td>\n",
       "    </tr>\n",
       "    <tr>\n",
       "      <th>5</th>\n",
       "      <td>19</td>\n",
       "      <td>search_1</td>\n",
       "      <td>2019-10-07 08:10:01.339216</td>\n",
       "      <td>2019-10-07 08:11:07.995945</td>\n",
       "      <td>66</td>\n",
       "    </tr>\n",
       "    <tr>\n",
       "      <th>6</th>\n",
       "      <td>32</td>\n",
       "      <td>contacts_show</td>\n",
       "      <td>2019-10-07 09:33:19.822541</td>\n",
       "      <td>2019-10-07 09:33:19.822541</td>\n",
       "      <td>0</td>\n",
       "    </tr>\n",
       "    <tr>\n",
       "      <th>7</th>\n",
       "      <td>49</td>\n",
       "      <td>contacts_show</td>\n",
       "      <td>2019-10-07 10:19:49.080484</td>\n",
       "      <td>2019-10-07 10:19:49.080484</td>\n",
       "      <td>0</td>\n",
       "    </tr>\n",
       "    <tr>\n",
       "      <th>8</th>\n",
       "      <td>49</td>\n",
       "      <td>tips_show</td>\n",
       "      <td>2019-10-07 10:18:55.701270</td>\n",
       "      <td>2019-10-07 10:19:49.080484</td>\n",
       "      <td>53</td>\n",
       "    </tr>\n",
       "    <tr>\n",
       "      <th>9</th>\n",
       "      <td>50</td>\n",
       "      <td>contacts_show</td>\n",
       "      <td>2019-10-07 10:22:52.431529</td>\n",
       "      <td>2019-10-07 10:22:52.431529</td>\n",
       "      <td>0</td>\n",
       "    </tr>\n",
       "  </tbody>\n",
       "</table>\n",
       "</div>"
      ],
      "text/plain": [
       "   session_id     event_name           first_event_time  \\\n",
       "0           3  contacts_show 2019-10-07 00:05:16.003328   \n",
       "1           3     tips_click 2019-10-07 00:14:37.801823   \n",
       "2           3      tips_show 2019-10-07 00:02:07.374346   \n",
       "3          19  contacts_show 2019-10-07 08:11:07.995945   \n",
       "4          19    photos_show 2019-10-07 08:08:29.271000   \n",
       "5          19       search_1 2019-10-07 08:10:01.339216   \n",
       "6          32  contacts_show 2019-10-07 09:33:19.822541   \n",
       "7          49  contacts_show 2019-10-07 10:19:49.080484   \n",
       "8          49      tips_show 2019-10-07 10:18:55.701270   \n",
       "9          50  contacts_show 2019-10-07 10:22:52.431529   \n",
       "\n",
       "     first_target_event_time  time_interval  \n",
       "0 2019-10-07 00:05:16.003328              0  \n",
       "1 2019-10-07 00:05:16.003328            561  \n",
       "2 2019-10-07 00:05:16.003328            188  \n",
       "3 2019-10-07 08:11:07.995945              0  \n",
       "4 2019-10-07 08:11:07.995945            158  \n",
       "5 2019-10-07 08:11:07.995945             66  \n",
       "6 2019-10-07 09:33:19.822541              0  \n",
       "7 2019-10-07 10:19:49.080484              0  \n",
       "8 2019-10-07 10:19:49.080484             53  \n",
       "9 2019-10-07 10:22:52.431529              0  "
      ]
     },
     "execution_count": 159,
     "metadata": {},
     "output_type": "execute_result"
    }
   ],
   "source": [
    "# создание таблицы\n",
    "time_between_events_table = (\n",
    "    sessions_with_target_event\n",
    "    .groupby(['session_id', 'event_name'])\n",
    "    .agg({'event_time': 'first'})\n",
    "    .reset_index()\n",
    "    .merge(\n",
    "        sessions_with_target_event\n",
    "        .query('event_name == \"contacts_show\"')\n",
    "        .groupby('session_id')\n",
    "        .agg({'event_time': 'first'}),\n",
    "        how = 'left',\n",
    "        on = 'session_id'\n",
    "    )\n",
    ")\n",
    "\n",
    "# переименование столбцов\n",
    "time_between_events_table.rename(\n",
    "    columns = {\n",
    "        'event_time_x' : 'first_event_time', \n",
    "        'event_time_y' : 'first_target_event_time'\n",
    "    }, inplace = True\n",
    ")\n",
    "\n",
    "# добавление столбца с интервалом между событиями\n",
    "time_between_events_table['time_interval'] = abs(\n",
    "    time_between_events_table['first_event_time'] - \n",
    "    time_between_events_table['first_target_event_time']\n",
    ").dt.seconds\n",
    "\n",
    "time_between_events_table.head(10)"
   ]
  },
  {
   "cell_type": "markdown",
   "metadata": {},
   "source": [
    "*Подсчет среднего значения времени между совершениями вспомогательного и целевого событий в минутах*"
   ]
  },
  {
   "cell_type": "code",
   "execution_count": 160,
   "metadata": {},
   "outputs": [
    {
     "data": {
      "text/plain": [
       "event_name\n",
       "contacts_show    0.00\n",
       "contacts_call    0.46\n",
       "search_4         3.18\n",
       "photos_show      3.24\n",
       "advert_open      3.40\n",
       "search_7         3.46\n",
       "search_1         3.49\n",
       "tips_show        3.51\n",
       "search_6         3.61\n",
       "search_5         3.70\n",
       "search_2         3.91\n",
       "favorites_add    4.03\n",
       "map              4.73\n",
       "tips_click       6.10\n",
       "search_3         6.40\n",
       "Name: time_interval, dtype: float64"
      ]
     },
     "execution_count": 160,
     "metadata": {},
     "output_type": "execute_result"
    }
   ],
   "source": [
    "(\n",
    "    (time_between_events_table\n",
    "     .groupby('event_name')\n",
    "     ['time_interval']\n",
    "     .mean() / 60)\n",
    "    .round(2)\n",
    "    .sort_values()\n",
    ")"
   ]
  },
  {
   "cell_type": "markdown",
   "metadata": {},
   "source": [
    "_**Ближе всего к целевому событию - просмотру номера телефона - звонок по номеру из объявления, между ними в среднем 28 секунд. Остальные события располагаются во временном интервале больше 3х минут. Среди наиболее близких - просмотр фотографий в объявлении и просмотр карточек объявлений. Самые далекие события - клик по рекомендованному объявлению и поисковое событие `search_3`, до них в среднем уже более 6 минут.**_"
   ]
  },
  {
   "cell_type": "markdown",
   "metadata": {},
   "source": [
    "## Проверка гипотез"
   ]
  },
  {
   "cell_type": "markdown",
   "metadata": {},
   "source": [
    "### Проверка гипотезы: конверсия в просмотры контактов различается у пользователей, совершивших действия tips_show и tips_click и пользователей, совершивших только tips_show"
   ]
  },
  {
   "cell_type": "markdown",
   "metadata": {},
   "source": [
    "_**Нулевая гипотеза**_   \n",
    "*Конверсия в просмотры контактов у пользователей, совершивших действия tips_show и tips_click и пользователей, совершивших только tips_show, одинакова.*\n",
    "\n",
    "_**Альтернативная гипотеза**_   \n",
    "*Конверсия в просмотры контактов у пользователей, совершивших действия tips_show и tips_click и пользователей, совершивших только tips_show, различается.*"
   ]
  },
  {
   "cell_type": "markdown",
   "metadata": {},
   "source": [
    "*Создание сводной таблицы, которая отображает, сколько событий каждого вида совершил пользователь*"
   ]
  },
  {
   "cell_type": "code",
   "execution_count": 161,
   "metadata": {
    "scrolled": true
   },
   "outputs": [
    {
     "data": {
      "text/html": [
       "<div>\n",
       "<style scoped>\n",
       "    .dataframe tbody tr th:only-of-type {\n",
       "        vertical-align: middle;\n",
       "    }\n",
       "\n",
       "    .dataframe tbody tr th {\n",
       "        vertical-align: top;\n",
       "    }\n",
       "\n",
       "    .dataframe thead th {\n",
       "        text-align: right;\n",
       "    }\n",
       "</style>\n",
       "<table border=\"1\" class=\"dataframe\">\n",
       "  <thead>\n",
       "    <tr style=\"text-align: right;\">\n",
       "      <th>event_name</th>\n",
       "      <th>advert_open</th>\n",
       "      <th>contacts_call</th>\n",
       "      <th>contacts_show</th>\n",
       "      <th>favorites_add</th>\n",
       "      <th>map</th>\n",
       "      <th>photos_show</th>\n",
       "      <th>search_1</th>\n",
       "      <th>search_2</th>\n",
       "      <th>search_3</th>\n",
       "      <th>search_4</th>\n",
       "      <th>search_5</th>\n",
       "      <th>search_6</th>\n",
       "      <th>search_7</th>\n",
       "      <th>tips_click</th>\n",
       "      <th>tips_show</th>\n",
       "    </tr>\n",
       "    <tr>\n",
       "      <th>user_id</th>\n",
       "      <th></th>\n",
       "      <th></th>\n",
       "      <th></th>\n",
       "      <th></th>\n",
       "      <th></th>\n",
       "      <th></th>\n",
       "      <th></th>\n",
       "      <th></th>\n",
       "      <th></th>\n",
       "      <th></th>\n",
       "      <th></th>\n",
       "      <th></th>\n",
       "      <th></th>\n",
       "      <th></th>\n",
       "      <th></th>\n",
       "    </tr>\n",
       "  </thead>\n",
       "  <tbody>\n",
       "    <tr>\n",
       "      <th>0001b1d5-b74a-4cbf-aeb0-7df5947bf349</th>\n",
       "      <td>0.0</td>\n",
       "      <td>0.0</td>\n",
       "      <td>0.0</td>\n",
       "      <td>0.0</td>\n",
       "      <td>6.0</td>\n",
       "      <td>0.0</td>\n",
       "      <td>0.0</td>\n",
       "      <td>0.0</td>\n",
       "      <td>0.0</td>\n",
       "      <td>0.0</td>\n",
       "      <td>0.0</td>\n",
       "      <td>0.0</td>\n",
       "      <td>0.0</td>\n",
       "      <td>0.0</td>\n",
       "      <td>29.0</td>\n",
       "    </tr>\n",
       "    <tr>\n",
       "      <th>00157779-810c-4498-9e05-a1e9e3cedf93</th>\n",
       "      <td>2.0</td>\n",
       "      <td>5.0</td>\n",
       "      <td>11.0</td>\n",
       "      <td>2.0</td>\n",
       "      <td>0.0</td>\n",
       "      <td>33.0</td>\n",
       "      <td>18.0</td>\n",
       "      <td>0.0</td>\n",
       "      <td>0.0</td>\n",
       "      <td>0.0</td>\n",
       "      <td>0.0</td>\n",
       "      <td>0.0</td>\n",
       "      <td>0.0</td>\n",
       "      <td>0.0</td>\n",
       "      <td>0.0</td>\n",
       "    </tr>\n",
       "    <tr>\n",
       "      <th>00463033-5717-4bf1-91b4-09183923b9df</th>\n",
       "      <td>0.0</td>\n",
       "      <td>0.0</td>\n",
       "      <td>0.0</td>\n",
       "      <td>0.0</td>\n",
       "      <td>0.0</td>\n",
       "      <td>10.0</td>\n",
       "      <td>0.0</td>\n",
       "      <td>0.0</td>\n",
       "      <td>0.0</td>\n",
       "      <td>0.0</td>\n",
       "      <td>0.0</td>\n",
       "      <td>0.0</td>\n",
       "      <td>0.0</td>\n",
       "      <td>0.0</td>\n",
       "      <td>0.0</td>\n",
       "    </tr>\n",
       "    <tr>\n",
       "      <th>004690c3-5a84-4bb7-a8af-e0c8f8fca64e</th>\n",
       "      <td>5.0</td>\n",
       "      <td>0.0</td>\n",
       "      <td>0.0</td>\n",
       "      <td>0.0</td>\n",
       "      <td>6.0</td>\n",
       "      <td>0.0</td>\n",
       "      <td>0.0</td>\n",
       "      <td>0.0</td>\n",
       "      <td>1.0</td>\n",
       "      <td>2.0</td>\n",
       "      <td>6.0</td>\n",
       "      <td>2.0</td>\n",
       "      <td>6.0</td>\n",
       "      <td>0.0</td>\n",
       "      <td>4.0</td>\n",
       "    </tr>\n",
       "    <tr>\n",
       "      <th>00551e79-152e-4441-9cf7-565d7eb04090</th>\n",
       "      <td>0.0</td>\n",
       "      <td>3.0</td>\n",
       "      <td>3.0</td>\n",
       "      <td>0.0</td>\n",
       "      <td>0.0</td>\n",
       "      <td>1.0</td>\n",
       "      <td>1.0</td>\n",
       "      <td>0.0</td>\n",
       "      <td>0.0</td>\n",
       "      <td>0.0</td>\n",
       "      <td>0.0</td>\n",
       "      <td>0.0</td>\n",
       "      <td>0.0</td>\n",
       "      <td>0.0</td>\n",
       "      <td>0.0</td>\n",
       "    </tr>\n",
       "  </tbody>\n",
       "</table>\n",
       "</div>"
      ],
      "text/plain": [
       "event_name                            advert_open  contacts_call  \\\n",
       "user_id                                                            \n",
       "0001b1d5-b74a-4cbf-aeb0-7df5947bf349          0.0            0.0   \n",
       "00157779-810c-4498-9e05-a1e9e3cedf93          2.0            5.0   \n",
       "00463033-5717-4bf1-91b4-09183923b9df          0.0            0.0   \n",
       "004690c3-5a84-4bb7-a8af-e0c8f8fca64e          5.0            0.0   \n",
       "00551e79-152e-4441-9cf7-565d7eb04090          0.0            3.0   \n",
       "\n",
       "event_name                            contacts_show  favorites_add  map  \\\n",
       "user_id                                                                   \n",
       "0001b1d5-b74a-4cbf-aeb0-7df5947bf349            0.0            0.0  6.0   \n",
       "00157779-810c-4498-9e05-a1e9e3cedf93           11.0            2.0  0.0   \n",
       "00463033-5717-4bf1-91b4-09183923b9df            0.0            0.0  0.0   \n",
       "004690c3-5a84-4bb7-a8af-e0c8f8fca64e            0.0            0.0  6.0   \n",
       "00551e79-152e-4441-9cf7-565d7eb04090            3.0            0.0  0.0   \n",
       "\n",
       "event_name                            photos_show  search_1  search_2  \\\n",
       "user_id                                                                 \n",
       "0001b1d5-b74a-4cbf-aeb0-7df5947bf349          0.0       0.0       0.0   \n",
       "00157779-810c-4498-9e05-a1e9e3cedf93         33.0      18.0       0.0   \n",
       "00463033-5717-4bf1-91b4-09183923b9df         10.0       0.0       0.0   \n",
       "004690c3-5a84-4bb7-a8af-e0c8f8fca64e          0.0       0.0       0.0   \n",
       "00551e79-152e-4441-9cf7-565d7eb04090          1.0       1.0       0.0   \n",
       "\n",
       "event_name                            search_3  search_4  search_5  search_6  \\\n",
       "user_id                                                                        \n",
       "0001b1d5-b74a-4cbf-aeb0-7df5947bf349       0.0       0.0       0.0       0.0   \n",
       "00157779-810c-4498-9e05-a1e9e3cedf93       0.0       0.0       0.0       0.0   \n",
       "00463033-5717-4bf1-91b4-09183923b9df       0.0       0.0       0.0       0.0   \n",
       "004690c3-5a84-4bb7-a8af-e0c8f8fca64e       1.0       2.0       6.0       2.0   \n",
       "00551e79-152e-4441-9cf7-565d7eb04090       0.0       0.0       0.0       0.0   \n",
       "\n",
       "event_name                            search_7  tips_click  tips_show  \n",
       "user_id                                                                \n",
       "0001b1d5-b74a-4cbf-aeb0-7df5947bf349       0.0         0.0       29.0  \n",
       "00157779-810c-4498-9e05-a1e9e3cedf93       0.0         0.0        0.0  \n",
       "00463033-5717-4bf1-91b4-09183923b9df       0.0         0.0        0.0  \n",
       "004690c3-5a84-4bb7-a8af-e0c8f8fca64e       6.0         0.0        4.0  \n",
       "00551e79-152e-4441-9cf7-565d7eb04090       0.0         0.0        0.0  "
      ]
     },
     "execution_count": 161,
     "metadata": {},
     "output_type": "execute_result"
    }
   ],
   "source": [
    "events_per_user = (\n",
    "    mobile_dataset\n",
    "    .pivot_table(\n",
    "        values='event_time', \n",
    "        index='user_id', \n",
    "        columns='event_name', \n",
    "        aggfunc='count')\n",
    "    .fillna(0)\n",
    ")\n",
    "\n",
    "events_per_user.head()"
   ]
  },
  {
   "cell_type": "markdown",
   "metadata": {},
   "source": [
    "*Проверка на пересечение групп тут не требуется, поскольку пользователи разбиваются на группы на таких условиях, на которых пересечение невозможно.*"
   ]
  },
  {
   "cell_type": "markdown",
   "metadata": {},
   "source": [
    "*Создание функции для подсчета критерия статистического отличия между группами*"
   ]
  },
  {
   "cell_type": "code",
   "execution_count": 162,
   "metadata": {},
   "outputs": [],
   "source": [
    "def z_test(successes_1, successes_2, trials_1, trials_2, alpha = .05):\n",
    "    \n",
    "    successes = np.array([successes_1, \n",
    "                          successes_2])\n",
    "    \n",
    "    trials = np.array([trials_1,\n",
    "                       trials_2])\n",
    "\n",
    "    # пропорция успехов в первой группе:\n",
    "    p1 = successes[0]/trials[0]\n",
    "\n",
    "    # пропорция успехов во второй группе:\n",
    "    p2 = successes[1]/trials[1]\n",
    "\n",
    "    # пропорция успехов в комбинированном датасете:\n",
    "    p_combined = (successes[0] + successes[1]) / (trials[0] + trials[1])\n",
    "\n",
    "    # разница пропорций в датасетах\n",
    "    difference = p1 - p2\n",
    "\n",
    "    # считаем статистику в ст.отклонениях стандартного нормального распределения\n",
    "    z_value = difference / mth.sqrt(\n",
    "        p_combined * (1 - p_combined) * (1 / trials[0] + 1 / trials[1])\n",
    "    )\n",
    "\n",
    "    # задаем стандартное нормальное распределение (среднее 0, ст.отклонение 1)\n",
    "    distr = st.norm(0, 1)\n",
    "\n",
    "    p_value = ((1 - distr.cdf(abs(z_value))) * 2)\n",
    "\n",
    "    if p_value < alpha:\n",
    "        return f'p-значение:{p_value}, Отвергаем нулевую гипотезу: между долями есть значимая разница'\n",
    "    else:\n",
    "        return f'p-значение:{p_value}, Не получилось отвергнуть нулевую гипотезу, нет оснований считать доли разными'"
   ]
  },
  {
   "cell_type": "markdown",
   "metadata": {},
   "source": [
    "*Применение функции для проверки гипотезы*"
   ]
  },
  {
   "cell_type": "code",
   "execution_count": 163,
   "metadata": {},
   "outputs": [
    {
     "data": {
      "text/plain": [
       "'p-значение:9.218316554537864e-09, Отвергаем нулевую гипотезу: между долями есть значимая разница'"
      ]
     },
     "execution_count": 163,
     "metadata": {},
     "output_type": "execute_result"
    }
   ],
   "source": [
    "z_test(\n",
    "    len(events_per_user.query('tips_show > 0 and tips_click > 0 and contacts_show > 0')), \n",
    "    len(events_per_user.query('tips_show > 0 and tips_click == 0 and contacts_show > 0')), \n",
    "    len(events_per_user.query('tips_show > 0 and tips_click > 0')), \n",
    "    len(events_per_user.query('tips_show > 0 and tips_click == 0'))\n",
    ")"
   ]
  },
  {
   "cell_type": "markdown",
   "metadata": {},
   "source": [
    "_**p-значение составляет порядка 9 в минус девятой степени. Доли статистически различны. Нулевую гипотезу следует отвергнуть. Нет оснований полагать, что конверсия в просмотры контактов у пользователей, совершивших действия tips_show и tips_click и пользователей, совершивших только tips_show, одинакова.**_"
   ]
  },
  {
   "cell_type": "markdown",
   "metadata": {},
   "source": [
    "### Проверка гипотезы: конверсия в просмотры контактов различается у пользователей, пришедших с источника установки приложения yandex и пользователей, пришедших с источника google"
   ]
  },
  {
   "cell_type": "markdown",
   "metadata": {},
   "source": [
    "_**Нулевая гипотеза**_   \n",
    "*Конверсия в просмотры контактов у пользователей, пришедших с источника установки приложения yandex и пользователей, пришедших с источника google, одинакова.*\n",
    "\n",
    "_**Альтернативная гипотеза**_   \n",
    "*Конверсия в просмотры контактов у пользователей, пришедших с источника установки приложения yandex и пользователей, пришедших с источника google, различается.*"
   ]
  },
  {
   "cell_type": "markdown",
   "metadata": {},
   "source": [
    "*Проверка на пересечение групп теста*"
   ]
  },
  {
   "cell_type": "code",
   "execution_count": 164,
   "metadata": {},
   "outputs": [
    {
     "name": "stdout",
     "output_type": "stream",
     "text": [
      "Кол-во пользователей, пришедших и из источника yandex и из источника google: 0\n"
     ]
    }
   ],
   "source": [
    "print('Кол-во пользователей, пришедших и из источника yandex и из источника google:',\n",
    "      len(\n",
    "          mobile_sourсes\n",
    "          .query('source in (\"yandex\", \"google\")')\n",
    "          .groupby('user_id')\n",
    "          .agg({'source': 'nunique'})\n",
    "          .query('source > 1'))\n",
    "     )"
   ]
  },
  {
   "cell_type": "markdown",
   "metadata": {},
   "source": [
    "_**Группы теста не пересекаются.**_"
   ]
  },
  {
   "cell_type": "markdown",
   "metadata": {},
   "source": [
    "*Присоединение источника установки приложения к сводной таблице*"
   ]
  },
  {
   "cell_type": "code",
   "execution_count": 165,
   "metadata": {
    "scrolled": true
   },
   "outputs": [
    {
     "data": {
      "text/html": [
       "<div>\n",
       "<style scoped>\n",
       "    .dataframe tbody tr th:only-of-type {\n",
       "        vertical-align: middle;\n",
       "    }\n",
       "\n",
       "    .dataframe tbody tr th {\n",
       "        vertical-align: top;\n",
       "    }\n",
       "\n",
       "    .dataframe thead th {\n",
       "        text-align: right;\n",
       "    }\n",
       "</style>\n",
       "<table border=\"1\" class=\"dataframe\">\n",
       "  <thead>\n",
       "    <tr style=\"text-align: right;\">\n",
       "      <th></th>\n",
       "      <th>user_id</th>\n",
       "      <th>advert_open</th>\n",
       "      <th>contacts_call</th>\n",
       "      <th>contacts_show</th>\n",
       "      <th>favorites_add</th>\n",
       "      <th>map</th>\n",
       "      <th>photos_show</th>\n",
       "      <th>search_1</th>\n",
       "      <th>search_2</th>\n",
       "      <th>search_3</th>\n",
       "      <th>search_4</th>\n",
       "      <th>search_5</th>\n",
       "      <th>search_6</th>\n",
       "      <th>search_7</th>\n",
       "      <th>tips_click</th>\n",
       "      <th>tips_show</th>\n",
       "      <th>source</th>\n",
       "    </tr>\n",
       "  </thead>\n",
       "  <tbody>\n",
       "    <tr>\n",
       "      <th>0</th>\n",
       "      <td>0001b1d5-b74a-4cbf-aeb0-7df5947bf349</td>\n",
       "      <td>0.0</td>\n",
       "      <td>0.0</td>\n",
       "      <td>0.0</td>\n",
       "      <td>0.0</td>\n",
       "      <td>6.0</td>\n",
       "      <td>0.0</td>\n",
       "      <td>0.0</td>\n",
       "      <td>0.0</td>\n",
       "      <td>0.0</td>\n",
       "      <td>0.0</td>\n",
       "      <td>0.0</td>\n",
       "      <td>0.0</td>\n",
       "      <td>0.0</td>\n",
       "      <td>0.0</td>\n",
       "      <td>29.0</td>\n",
       "      <td>other</td>\n",
       "    </tr>\n",
       "    <tr>\n",
       "      <th>1</th>\n",
       "      <td>00157779-810c-4498-9e05-a1e9e3cedf93</td>\n",
       "      <td>2.0</td>\n",
       "      <td>5.0</td>\n",
       "      <td>11.0</td>\n",
       "      <td>2.0</td>\n",
       "      <td>0.0</td>\n",
       "      <td>33.0</td>\n",
       "      <td>18.0</td>\n",
       "      <td>0.0</td>\n",
       "      <td>0.0</td>\n",
       "      <td>0.0</td>\n",
       "      <td>0.0</td>\n",
       "      <td>0.0</td>\n",
       "      <td>0.0</td>\n",
       "      <td>0.0</td>\n",
       "      <td>0.0</td>\n",
       "      <td>yandex</td>\n",
       "    </tr>\n",
       "    <tr>\n",
       "      <th>2</th>\n",
       "      <td>00463033-5717-4bf1-91b4-09183923b9df</td>\n",
       "      <td>0.0</td>\n",
       "      <td>0.0</td>\n",
       "      <td>0.0</td>\n",
       "      <td>0.0</td>\n",
       "      <td>0.0</td>\n",
       "      <td>10.0</td>\n",
       "      <td>0.0</td>\n",
       "      <td>0.0</td>\n",
       "      <td>0.0</td>\n",
       "      <td>0.0</td>\n",
       "      <td>0.0</td>\n",
       "      <td>0.0</td>\n",
       "      <td>0.0</td>\n",
       "      <td>0.0</td>\n",
       "      <td>0.0</td>\n",
       "      <td>yandex</td>\n",
       "    </tr>\n",
       "    <tr>\n",
       "      <th>3</th>\n",
       "      <td>004690c3-5a84-4bb7-a8af-e0c8f8fca64e</td>\n",
       "      <td>5.0</td>\n",
       "      <td>0.0</td>\n",
       "      <td>0.0</td>\n",
       "      <td>0.0</td>\n",
       "      <td>6.0</td>\n",
       "      <td>0.0</td>\n",
       "      <td>0.0</td>\n",
       "      <td>0.0</td>\n",
       "      <td>1.0</td>\n",
       "      <td>2.0</td>\n",
       "      <td>6.0</td>\n",
       "      <td>2.0</td>\n",
       "      <td>6.0</td>\n",
       "      <td>0.0</td>\n",
       "      <td>4.0</td>\n",
       "      <td>google</td>\n",
       "    </tr>\n",
       "    <tr>\n",
       "      <th>4</th>\n",
       "      <td>00551e79-152e-4441-9cf7-565d7eb04090</td>\n",
       "      <td>0.0</td>\n",
       "      <td>3.0</td>\n",
       "      <td>3.0</td>\n",
       "      <td>0.0</td>\n",
       "      <td>0.0</td>\n",
       "      <td>1.0</td>\n",
       "      <td>1.0</td>\n",
       "      <td>0.0</td>\n",
       "      <td>0.0</td>\n",
       "      <td>0.0</td>\n",
       "      <td>0.0</td>\n",
       "      <td>0.0</td>\n",
       "      <td>0.0</td>\n",
       "      <td>0.0</td>\n",
       "      <td>0.0</td>\n",
       "      <td>yandex</td>\n",
       "    </tr>\n",
       "  </tbody>\n",
       "</table>\n",
       "</div>"
      ],
      "text/plain": [
       "                                user_id  advert_open  contacts_call  \\\n",
       "0  0001b1d5-b74a-4cbf-aeb0-7df5947bf349          0.0            0.0   \n",
       "1  00157779-810c-4498-9e05-a1e9e3cedf93          2.0            5.0   \n",
       "2  00463033-5717-4bf1-91b4-09183923b9df          0.0            0.0   \n",
       "3  004690c3-5a84-4bb7-a8af-e0c8f8fca64e          5.0            0.0   \n",
       "4  00551e79-152e-4441-9cf7-565d7eb04090          0.0            3.0   \n",
       "\n",
       "   contacts_show  favorites_add  map  photos_show  search_1  search_2  \\\n",
       "0            0.0            0.0  6.0          0.0       0.0       0.0   \n",
       "1           11.0            2.0  0.0         33.0      18.0       0.0   \n",
       "2            0.0            0.0  0.0         10.0       0.0       0.0   \n",
       "3            0.0            0.0  6.0          0.0       0.0       0.0   \n",
       "4            3.0            0.0  0.0          1.0       1.0       0.0   \n",
       "\n",
       "   search_3  search_4  search_5  search_6  search_7  tips_click  tips_show  \\\n",
       "0       0.0       0.0       0.0       0.0       0.0         0.0       29.0   \n",
       "1       0.0       0.0       0.0       0.0       0.0         0.0        0.0   \n",
       "2       0.0       0.0       0.0       0.0       0.0         0.0        0.0   \n",
       "3       1.0       2.0       6.0       2.0       6.0         0.0        4.0   \n",
       "4       0.0       0.0       0.0       0.0       0.0         0.0        0.0   \n",
       "\n",
       "   source  \n",
       "0   other  \n",
       "1  yandex  \n",
       "2  yandex  \n",
       "3  google  \n",
       "4  yandex  "
      ]
     },
     "execution_count": 165,
     "metadata": {},
     "output_type": "execute_result"
    }
   ],
   "source": [
    "events_per_user = events_per_user.reset_index().merge(mobile_sourсes, on='user_id', how='left')\n",
    "events_per_user.head()"
   ]
  },
  {
   "cell_type": "markdown",
   "metadata": {},
   "source": [
    "*Применение функции для проверки гипотезы*"
   ]
  },
  {
   "cell_type": "code",
   "execution_count": 166,
   "metadata": {},
   "outputs": [
    {
     "data": {
      "text/plain": [
       "'p-значение:0.8244316027993777, Не получилось отвергнуть нулевую гипотезу, нет оснований считать доли разными'"
      ]
     },
     "execution_count": 166,
     "metadata": {},
     "output_type": "execute_result"
    }
   ],
   "source": [
    "z_test(\n",
    "    len(events_per_user.query('source == \"yandex\" and contacts_show > 0')), \n",
    "    len(events_per_user.query('source == \"google\" and contacts_show > 0')), \n",
    "    len(events_per_user.query('source == \"yandex\"')), \n",
    "    len(events_per_user.query('source == \"google\"'))\n",
    ")"
   ]
  },
  {
   "cell_type": "markdown",
   "metadata": {},
   "source": [
    "_**p-значение составляет около 82%. Статистически значимых отличий между долями групп не выявлено. Нельзя утверждать, что конверсия в просмотры контактов различается у пользователей, пришедших с источника установки приложения yandex и пользователей, пришедших с источника google.**_"
   ]
  },
  {
   "cell_type": "markdown",
   "metadata": {},
   "source": [
    "## Выводы"
   ]
  },
  {
   "cell_type": "markdown",
   "metadata": {},
   "source": [
    "1. *В ходе исследования  \"Анализ поведения пользователей в мобильном приложении\" была проведена предобработка данных, исследовательский анализ данных, анализ связи целевого события — просмотра контактов — и других действий пользователей, а также проверка статистических гипотез.*\n",
    "2. *Анализ удержания пользователей показал, что на второй день возвращалось от 9% до 21% пользователей. На седьмой день - от 2,5% до 10% пользователей. Многие пользователи возвращаются на 4 день после привлечения.*\n",
    "3. *Количество уникальных пользователей в день составило 279 человек. Количество уникальных пользователей в неделю - 1382 человека.*\n",
    "4. *Самыми популярными событиями являются:`tips_show` - пользователь видит рекомендованные объявления, `photos_show` - просмотр фотографий в объявлении и `advert_open` - открытия карточек объявлений.*\n",
    "5. *Вместе с целевым событием чаще всего происходят следующие события (без учета `tips_show`): `photos_show` - просмотр фотографий в объявлении, `contacts_call` - звонки по номеру из объявлений и `advert_open` - открытия карточек объявлений.*\n",
    "6. *События, совершаемые пользователями, не составляют какой-либо воронки, каждое событие -  это самостоятельное событие пользователя.*\n",
    "7. *Ближе всего к целевому событию (просмотру номера телефона) по времени события: `contacts_call` - звонок по номеру из объявления, `photos_show` - просмотр фотографий в объявлении и `advert_open` - просмотр карточек объявлений.*\n",
    "8. *Доли пользователей, конвертировавшихся в просмотры контактов, среди пользователей, совершивших действия tips_show и tips_click и пользователей, совершивших только tips_show, статистически различны.*\n",
    "9. *Статистически значимых отличий между долями пользователей, конвертировавшихся в просмотры контактов, среди пользователей, пришедших с источника установки приложения yandex и пользователей, пришедших с источника google, не выявлено.*"
   ]
  },
  {
   "cell_type": "markdown",
   "metadata": {},
   "source": [
    "_**Рекомендации**_\n",
    "\n",
    "_\"Фичи\", которые работают - это просмотр фотографий в объявлении, поисковое действие №1 и просмотр карты объявлений. Эти действия наиболее часто встречаются вместе с целевым событием._\n",
    "\n",
    "*Каких-то конкретных сценариев использования приложения нет, каждое совершаемое пользователем событие самостоятельно.*  \n",
    "*Наиболее популярные события:*\n",
    "- *`photos_show` — просмотр фотографий в объявлении;*\n",
    "- *`advert_open` — открытие карточки объявления;*\n",
    "- *`contacts_show` и `show_contacts` — посмотр номера телефона;*\n",
    "- *`map` — открытие карты объявлений;*\n",
    "- *`search_1` — действие, связанное с поиском по сайту.*  \n",
    "\n",
    "_Соответственно, совершение этих действий для пользователя должно быть интуитивно понятно._\n",
    "\n",
    "*Необходимо улучшать систему рекомендованных объявлений. Сейчас на 50 событий, что пользователь увидел рекомендованные объявления, приходится только один клик по данным объявлениям. А ведь у пользователей, кликнувших по таким объявлениям, лучше конверсия в просмотры контактов.*\n",
    "\n",
    "*Доли групп пользователей, конвертировавшихся в просмотры контактов, среди пользователей, пришедших с источников установки приложений yandex и google, статистически не различаются. Значит, если будет рекламная компания по привлечению пользователей, вкладываться в какой-то один конкретный источник смысла нет.*"
   ]
  }
 ],
 "metadata": {
  "ExecuteTimeLog": [
   {
    "duration": 549,
    "start_time": "2022-05-31T12:04:37.034Z"
   },
   {
    "duration": 3,
    "start_time": "2022-05-31T12:07:03.976Z"
   },
   {
    "duration": 435,
    "start_time": "2022-05-31T12:07:25.560Z"
   },
   {
    "duration": 22,
    "start_time": "2022-05-31T12:09:48.302Z"
   },
   {
    "duration": 22,
    "start_time": "2022-05-31T12:10:34.560Z"
   },
   {
    "duration": 110,
    "start_time": "2022-05-31T12:30:27.912Z"
   },
   {
    "duration": 26,
    "start_time": "2022-05-31T12:33:42.424Z"
   },
   {
    "duration": 7,
    "start_time": "2022-05-31T12:33:50.607Z"
   },
   {
    "duration": 9,
    "start_time": "2022-05-31T12:34:44.281Z"
   },
   {
    "duration": 9,
    "start_time": "2022-05-31T12:35:08.563Z"
   },
   {
    "duration": 6,
    "start_time": "2022-05-31T12:35:18.963Z"
   },
   {
    "duration": 545,
    "start_time": "2022-05-31T12:37:54.114Z"
   },
   {
    "duration": 16,
    "start_time": "2022-05-31T12:38:32.523Z"
   },
   {
    "duration": 13,
    "start_time": "2022-05-31T12:39:40.223Z"
   },
   {
    "duration": 11,
    "start_time": "2022-05-31T12:40:09.263Z"
   },
   {
    "duration": 12,
    "start_time": "2022-05-31T12:41:21.942Z"
   },
   {
    "duration": 9,
    "start_time": "2022-05-31T12:41:33.563Z"
   },
   {
    "duration": 2,
    "start_time": "2022-05-31T12:41:51.458Z"
   },
   {
    "duration": 285,
    "start_time": "2022-05-31T12:41:51.462Z"
   },
   {
    "duration": 13,
    "start_time": "2022-05-31T12:41:51.749Z"
   },
   {
    "duration": 23,
    "start_time": "2022-05-31T12:41:51.764Z"
   },
   {
    "duration": 8,
    "start_time": "2022-05-31T12:41:51.790Z"
   },
   {
    "duration": 61,
    "start_time": "2022-05-31T12:41:51.800Z"
   },
   {
    "duration": 6,
    "start_time": "2022-05-31T12:42:15.780Z"
   },
   {
    "duration": 15,
    "start_time": "2022-05-31T12:52:49.244Z"
   },
   {
    "duration": 29,
    "start_time": "2022-05-31T12:54:00.991Z"
   },
   {
    "duration": 29,
    "start_time": "2022-05-31T12:54:17.350Z"
   },
   {
    "duration": 31,
    "start_time": "2022-05-31T12:54:36.288Z"
   },
   {
    "duration": 3,
    "start_time": "2022-05-31T12:54:46.486Z"
   },
   {
    "duration": 485,
    "start_time": "2022-05-31T12:54:46.491Z"
   },
   {
    "duration": 16,
    "start_time": "2022-05-31T12:54:46.978Z"
   },
   {
    "duration": 46,
    "start_time": "2022-05-31T12:54:46.996Z"
   },
   {
    "duration": 6,
    "start_time": "2022-05-31T12:54:47.044Z"
   },
   {
    "duration": 345,
    "start_time": "2022-05-31T12:54:47.051Z"
   },
   {
    "duration": 0,
    "start_time": "2022-05-31T12:54:47.398Z"
   },
   {
    "duration": 333,
    "start_time": "2022-05-31T12:55:09.129Z"
   },
   {
    "duration": 40,
    "start_time": "2022-05-31T12:57:34.631Z"
   },
   {
    "duration": 12,
    "start_time": "2022-05-31T12:57:58.342Z"
   },
   {
    "duration": 12,
    "start_time": "2022-05-31T12:59:03.748Z"
   },
   {
    "duration": 7,
    "start_time": "2022-05-31T13:04:29.430Z"
   },
   {
    "duration": 32,
    "start_time": "2022-05-31T13:04:46.927Z"
   },
   {
    "duration": 4,
    "start_time": "2022-05-31T13:08:51.288Z"
   },
   {
    "duration": 3,
    "start_time": "2022-05-31T13:10:34.300Z"
   },
   {
    "duration": 9,
    "start_time": "2022-05-31T13:11:08.742Z"
   },
   {
    "duration": 12,
    "start_time": "2022-05-31T13:11:33.879Z"
   },
   {
    "duration": 61,
    "start_time": "2022-05-31T13:12:13.920Z"
   },
   {
    "duration": 3,
    "start_time": "2022-05-31T13:16:12.347Z"
   },
   {
    "duration": 497,
    "start_time": "2022-05-31T13:16:12.353Z"
   },
   {
    "duration": 15,
    "start_time": "2022-05-31T13:16:12.852Z"
   },
   {
    "duration": 36,
    "start_time": "2022-05-31T13:16:12.869Z"
   },
   {
    "duration": 15,
    "start_time": "2022-05-31T13:16:12.908Z"
   },
   {
    "duration": 62,
    "start_time": "2022-05-31T13:16:12.927Z"
   },
   {
    "duration": 51,
    "start_time": "2022-05-31T13:16:12.991Z"
   },
   {
    "duration": 54,
    "start_time": "2022-05-31T13:16:13.051Z"
   },
   {
    "duration": 58,
    "start_time": "2022-05-31T16:34:54.991Z"
   },
   {
    "duration": 558,
    "start_time": "2022-05-31T16:35:00.262Z"
   },
   {
    "duration": 376,
    "start_time": "2022-05-31T16:35:00.822Z"
   },
   {
    "duration": 26,
    "start_time": "2022-05-31T16:35:01.200Z"
   },
   {
    "duration": 46,
    "start_time": "2022-05-31T16:35:01.229Z"
   },
   {
    "duration": 6,
    "start_time": "2022-05-31T16:35:01.277Z"
   },
   {
    "duration": 39,
    "start_time": "2022-05-31T16:35:01.285Z"
   },
   {
    "duration": 26,
    "start_time": "2022-05-31T16:35:01.326Z"
   },
   {
    "duration": 37,
    "start_time": "2022-05-31T16:35:01.354Z"
   },
   {
    "duration": 54,
    "start_time": "2022-05-31T16:35:01.393Z"
   },
   {
    "duration": 112,
    "start_time": "2022-05-31T16:40:43.618Z"
   },
   {
    "duration": 116,
    "start_time": "2022-05-31T16:42:21.811Z"
   },
   {
    "duration": 95,
    "start_time": "2022-05-31T16:43:37.617Z"
   },
   {
    "duration": 590,
    "start_time": "2022-05-31T16:52:19.858Z"
   },
   {
    "duration": 270,
    "start_time": "2022-05-31T16:55:00.672Z"
   },
   {
    "duration": 299,
    "start_time": "2022-05-31T16:56:42.921Z"
   },
   {
    "duration": 298,
    "start_time": "2022-05-31T16:57:00.488Z"
   },
   {
    "duration": 252,
    "start_time": "2022-05-31T16:59:07.367Z"
   },
   {
    "duration": 255,
    "start_time": "2022-05-31T16:59:15.941Z"
   },
   {
    "duration": 287,
    "start_time": "2022-05-31T17:08:34.578Z"
   },
   {
    "duration": 89,
    "start_time": "2022-05-31T17:09:21.097Z"
   },
   {
    "duration": 106,
    "start_time": "2022-05-31T17:09:28.822Z"
   },
   {
    "duration": 219,
    "start_time": "2022-05-31T17:09:58.855Z"
   },
   {
    "duration": 960,
    "start_time": "2022-05-31T17:10:18.074Z"
   },
   {
    "duration": 384,
    "start_time": "2022-05-31T17:15:05.251Z"
   },
   {
    "duration": 283,
    "start_time": "2022-05-31T17:15:50.518Z"
   },
   {
    "duration": 324,
    "start_time": "2022-05-31T17:29:17.566Z"
   },
   {
    "duration": 341,
    "start_time": "2022-05-31T17:29:31.882Z"
   },
   {
    "duration": 339,
    "start_time": "2022-05-31T17:30:15.852Z"
   },
   {
    "duration": 189,
    "start_time": "2022-05-31T17:49:08.444Z"
   },
   {
    "duration": 194,
    "start_time": "2022-05-31T17:49:59.446Z"
   },
   {
    "duration": 37,
    "start_time": "2022-05-31T17:50:27.859Z"
   },
   {
    "duration": 3,
    "start_time": "2022-05-31T17:51:14.342Z"
   },
   {
    "duration": 235,
    "start_time": "2022-05-31T17:51:14.347Z"
   },
   {
    "duration": 14,
    "start_time": "2022-05-31T17:51:14.584Z"
   },
   {
    "duration": 33,
    "start_time": "2022-05-31T17:51:14.600Z"
   },
   {
    "duration": 5,
    "start_time": "2022-05-31T17:51:14.635Z"
   },
   {
    "duration": 40,
    "start_time": "2022-05-31T17:51:14.642Z"
   },
   {
    "duration": 44,
    "start_time": "2022-05-31T17:51:14.684Z"
   },
   {
    "duration": 41,
    "start_time": "2022-05-31T17:51:14.729Z"
   },
   {
    "duration": 30,
    "start_time": "2022-05-31T17:51:14.771Z"
   },
   {
    "duration": 285,
    "start_time": "2022-05-31T17:51:14.803Z"
   },
   {
    "duration": 263,
    "start_time": "2022-05-31T17:52:28.801Z"
   },
   {
    "duration": 284,
    "start_time": "2022-05-31T17:54:18.194Z"
   },
   {
    "duration": 278,
    "start_time": "2022-05-31T17:56:05.449Z"
   },
   {
    "duration": 297,
    "start_time": "2022-05-31T17:57:13.824Z"
   },
   {
    "duration": 253,
    "start_time": "2022-05-31T17:58:06.833Z"
   },
   {
    "duration": 261,
    "start_time": "2022-05-31T17:58:29.435Z"
   },
   {
    "duration": 257,
    "start_time": "2022-05-31T17:58:48.693Z"
   },
   {
    "duration": 583,
    "start_time": "2022-06-01T12:24:38.010Z"
   },
   {
    "duration": 304,
    "start_time": "2022-06-01T12:24:38.595Z"
   },
   {
    "duration": 26,
    "start_time": "2022-06-01T12:24:38.900Z"
   },
   {
    "duration": 34,
    "start_time": "2022-06-01T12:24:38.929Z"
   },
   {
    "duration": 6,
    "start_time": "2022-06-01T12:24:38.981Z"
   },
   {
    "duration": 36,
    "start_time": "2022-06-01T12:24:38.989Z"
   },
   {
    "duration": 26,
    "start_time": "2022-06-01T12:24:39.027Z"
   },
   {
    "duration": 74,
    "start_time": "2022-06-01T12:24:39.081Z"
   },
   {
    "duration": 66,
    "start_time": "2022-06-01T12:24:39.157Z"
   },
   {
    "duration": 364,
    "start_time": "2022-06-01T12:24:39.226Z"
   },
   {
    "duration": 383,
    "start_time": "2022-06-01T12:24:59.456Z"
   },
   {
    "duration": 89,
    "start_time": "2022-06-01T12:37:53.440Z"
   },
   {
    "duration": 1296,
    "start_time": "2022-06-01T12:38:39.772Z"
   },
   {
    "duration": 248,
    "start_time": "2022-06-01T12:38:41.071Z"
   },
   {
    "duration": 17,
    "start_time": "2022-06-01T12:38:41.320Z"
   },
   {
    "duration": 27,
    "start_time": "2022-06-01T12:38:41.339Z"
   },
   {
    "duration": 8,
    "start_time": "2022-06-01T12:38:41.384Z"
   },
   {
    "duration": 73,
    "start_time": "2022-06-01T12:38:41.394Z"
   },
   {
    "duration": 51,
    "start_time": "2022-06-01T12:38:41.469Z"
   },
   {
    "duration": 61,
    "start_time": "2022-06-01T12:38:41.522Z"
   },
   {
    "duration": 463,
    "start_time": "2022-06-01T12:38:41.586Z"
   },
   {
    "duration": 1426,
    "start_time": "2022-06-01T12:38:42.051Z"
   },
   {
    "duration": 468,
    "start_time": "2022-06-01T12:49:45.882Z"
   },
   {
    "duration": 471,
    "start_time": "2022-06-01T14:18:38.733Z"
   },
   {
    "duration": 522,
    "start_time": "2022-06-01T14:20:15.777Z"
   },
   {
    "duration": 56,
    "start_time": "2022-06-01T17:19:46.653Z"
   },
   {
    "duration": 1385,
    "start_time": "2022-06-01T17:19:52.288Z"
   },
   {
    "duration": 276,
    "start_time": "2022-06-01T17:19:53.676Z"
   },
   {
    "duration": 20,
    "start_time": "2022-06-01T17:19:53.953Z"
   },
   {
    "duration": 24,
    "start_time": "2022-06-01T17:19:53.975Z"
   },
   {
    "duration": 5,
    "start_time": "2022-06-01T17:19:54.001Z"
   },
   {
    "duration": 50,
    "start_time": "2022-06-01T17:19:54.007Z"
   },
   {
    "duration": 20,
    "start_time": "2022-06-01T17:19:54.059Z"
   },
   {
    "duration": 62,
    "start_time": "2022-06-01T17:19:54.081Z"
   },
   {
    "duration": 30,
    "start_time": "2022-06-01T17:19:54.144Z"
   },
   {
    "duration": 78,
    "start_time": "2022-06-01T17:19:54.176Z"
   },
   {
    "duration": 0,
    "start_time": "2022-06-01T17:19:54.256Z"
   },
   {
    "duration": 0,
    "start_time": "2022-06-01T17:19:54.257Z"
   },
   {
    "duration": 0,
    "start_time": "2022-06-01T17:19:54.258Z"
   },
   {
    "duration": 0,
    "start_time": "2022-06-01T17:19:54.259Z"
   },
   {
    "duration": 3,
    "start_time": "2022-06-01T17:20:19.791Z"
   },
   {
    "duration": 310,
    "start_time": "2022-06-01T17:20:19.797Z"
   },
   {
    "duration": 21,
    "start_time": "2022-06-01T17:20:20.109Z"
   },
   {
    "duration": 34,
    "start_time": "2022-06-01T17:20:20.131Z"
   },
   {
    "duration": 7,
    "start_time": "2022-06-01T17:20:20.167Z"
   },
   {
    "duration": 49,
    "start_time": "2022-06-01T17:20:20.175Z"
   },
   {
    "duration": 24,
    "start_time": "2022-06-01T17:20:20.225Z"
   },
   {
    "duration": 51,
    "start_time": "2022-06-01T17:20:20.250Z"
   },
   {
    "duration": 103,
    "start_time": "2022-06-01T17:20:20.303Z"
   },
   {
    "duration": 289,
    "start_time": "2022-06-01T17:20:20.408Z"
   },
   {
    "duration": 1310,
    "start_time": "2022-06-01T17:20:20.699Z"
   },
   {
    "duration": 363,
    "start_time": "2022-06-01T17:20:22.011Z"
   },
   {
    "duration": 400,
    "start_time": "2022-06-01T17:20:22.376Z"
   },
   {
    "duration": 27,
    "start_time": "2022-06-01T17:20:22.778Z"
   },
   {
    "duration": 78,
    "start_time": "2022-06-01T17:21:45.524Z"
   },
   {
    "duration": 21,
    "start_time": "2022-06-01T17:21:53.578Z"
   },
   {
    "duration": 15,
    "start_time": "2022-06-01T17:28:25.617Z"
   },
   {
    "duration": 33,
    "start_time": "2022-06-01T17:28:59.256Z"
   },
   {
    "duration": 22,
    "start_time": "2022-06-01T17:29:07.144Z"
   },
   {
    "duration": 33,
    "start_time": "2022-06-01T17:29:09.593Z"
   },
   {
    "duration": 34,
    "start_time": "2022-06-01T17:29:28.622Z"
   },
   {
    "duration": 28,
    "start_time": "2022-06-01T17:30:17.972Z"
   },
   {
    "duration": 30,
    "start_time": "2022-06-01T17:32:57.048Z"
   },
   {
    "duration": 31,
    "start_time": "2022-06-01T17:33:08.913Z"
   },
   {
    "duration": 31,
    "start_time": "2022-06-01T17:33:36.943Z"
   },
   {
    "duration": 32,
    "start_time": "2022-06-01T17:34:39.378Z"
   },
   {
    "duration": 22,
    "start_time": "2022-06-01T17:41:53.247Z"
   },
   {
    "duration": 33,
    "start_time": "2022-06-01T17:42:25.219Z"
   },
   {
    "duration": 28,
    "start_time": "2022-06-01T17:45:07.919Z"
   },
   {
    "duration": 27,
    "start_time": "2022-06-01T17:45:20.779Z"
   },
   {
    "duration": 38,
    "start_time": "2022-06-01T17:45:28.920Z"
   },
   {
    "duration": 28,
    "start_time": "2022-06-01T17:45:47.406Z"
   },
   {
    "duration": 23,
    "start_time": "2022-06-01T17:46:20.004Z"
   },
   {
    "duration": 22,
    "start_time": "2022-06-01T18:36:29.601Z"
   },
   {
    "duration": 43,
    "start_time": "2022-06-01T18:37:27.927Z"
   },
   {
    "duration": 28,
    "start_time": "2022-06-01T18:38:38.255Z"
   },
   {
    "duration": 33,
    "start_time": "2022-06-01T18:40:10.513Z"
   },
   {
    "duration": 237,
    "start_time": "2022-06-01T18:43:10.839Z"
   },
   {
    "duration": 311,
    "start_time": "2022-06-01T18:43:26.608Z"
   },
   {
    "duration": 35,
    "start_time": "2022-06-01T19:11:58.030Z"
   },
   {
    "duration": 26,
    "start_time": "2022-06-01T19:12:10.718Z"
   },
   {
    "duration": 37,
    "start_time": "2022-06-01T19:14:53.268Z"
   },
   {
    "duration": 29,
    "start_time": "2022-06-01T19:16:06.663Z"
   },
   {
    "duration": 65,
    "start_time": "2022-06-03T15:06:33.794Z"
   },
   {
    "duration": 1299,
    "start_time": "2022-06-03T15:06:37.829Z"
   },
   {
    "duration": 325,
    "start_time": "2022-06-03T15:06:39.130Z"
   },
   {
    "duration": 18,
    "start_time": "2022-06-03T15:06:39.461Z"
   },
   {
    "duration": 29,
    "start_time": "2022-06-03T15:06:39.481Z"
   },
   {
    "duration": 4,
    "start_time": "2022-06-03T15:06:39.512Z"
   },
   {
    "duration": 49,
    "start_time": "2022-06-03T15:06:39.526Z"
   },
   {
    "duration": 23,
    "start_time": "2022-06-03T15:06:39.576Z"
   },
   {
    "duration": 42,
    "start_time": "2022-06-03T15:06:39.601Z"
   },
   {
    "duration": 28,
    "start_time": "2022-06-03T15:06:39.645Z"
   },
   {
    "duration": 345,
    "start_time": "2022-06-03T15:06:39.677Z"
   },
   {
    "duration": 1095,
    "start_time": "2022-06-03T15:06:40.023Z"
   },
   {
    "duration": 334,
    "start_time": "2022-06-03T15:06:41.121Z"
   },
   {
    "duration": 341,
    "start_time": "2022-06-03T15:06:41.456Z"
   },
   {
    "duration": 21,
    "start_time": "2022-06-03T15:06:41.798Z"
   },
   {
    "duration": 25,
    "start_time": "2022-06-03T15:06:41.827Z"
   },
   {
    "duration": 20,
    "start_time": "2022-06-03T15:06:41.854Z"
   },
   {
    "duration": 262,
    "start_time": "2022-06-03T15:06:41.876Z"
   },
   {
    "duration": 30,
    "start_time": "2022-06-03T15:06:42.140Z"
   },
   {
    "duration": 474,
    "start_time": "2022-06-03T15:51:40.499Z"
   },
   {
    "duration": 4,
    "start_time": "2022-06-03T15:52:38.845Z"
   },
   {
    "duration": 692,
    "start_time": "2022-06-03T15:52:41.204Z"
   },
   {
    "duration": 574,
    "start_time": "2022-06-03T15:53:16.805Z"
   },
   {
    "duration": 640,
    "start_time": "2022-06-03T15:53:31.806Z"
   },
   {
    "duration": 614,
    "start_time": "2022-06-03T15:53:44.191Z"
   },
   {
    "duration": 657,
    "start_time": "2022-06-03T15:53:57.679Z"
   },
   {
    "duration": 586,
    "start_time": "2022-06-03T15:54:37.649Z"
   },
   {
    "duration": 4,
    "start_time": "2022-06-03T16:34:23.470Z"
   },
   {
    "duration": 230,
    "start_time": "2022-06-03T16:34:23.476Z"
   },
   {
    "duration": 14,
    "start_time": "2022-06-03T16:34:23.707Z"
   },
   {
    "duration": 22,
    "start_time": "2022-06-03T16:34:23.727Z"
   },
   {
    "duration": 5,
    "start_time": "2022-06-03T16:34:23.751Z"
   },
   {
    "duration": 41,
    "start_time": "2022-06-03T16:34:23.757Z"
   },
   {
    "duration": 39,
    "start_time": "2022-06-03T16:34:23.800Z"
   },
   {
    "duration": 43,
    "start_time": "2022-06-03T16:34:23.841Z"
   },
   {
    "duration": 5,
    "start_time": "2022-06-03T16:34:23.886Z"
   },
   {
    "duration": 53,
    "start_time": "2022-06-03T16:34:23.893Z"
   },
   {
    "duration": 274,
    "start_time": "2022-06-03T16:34:23.948Z"
   },
   {
    "duration": 1094,
    "start_time": "2022-06-03T16:34:24.223Z"
   },
   {
    "duration": 482,
    "start_time": "2022-06-03T16:34:25.318Z"
   },
   {
    "duration": 243,
    "start_time": "2022-06-03T16:34:25.803Z"
   },
   {
    "duration": 22,
    "start_time": "2022-06-03T16:34:26.047Z"
   },
   {
    "duration": 24,
    "start_time": "2022-06-03T16:34:26.071Z"
   },
   {
    "duration": 49,
    "start_time": "2022-06-03T16:34:26.097Z"
   },
   {
    "duration": 345,
    "start_time": "2022-06-03T16:34:26.148Z"
   },
   {
    "duration": 36,
    "start_time": "2022-06-03T16:34:26.496Z"
   },
   {
    "duration": 4,
    "start_time": "2022-06-03T16:34:26.534Z"
   },
   {
    "duration": 587,
    "start_time": "2022-06-03T16:34:26.540Z"
   },
   {
    "duration": 28,
    "start_time": "2022-06-03T16:39:39.991Z"
   },
   {
    "duration": 729,
    "start_time": "2022-06-03T17:41:33.935Z"
   },
   {
    "duration": 698,
    "start_time": "2022-06-03T17:41:56.424Z"
   },
   {
    "duration": 9,
    "start_time": "2022-06-03T17:49:57.203Z"
   },
   {
    "duration": 727,
    "start_time": "2022-06-03T17:52:14.985Z"
   },
   {
    "duration": 5,
    "start_time": "2022-06-03T18:06:05.028Z"
   },
   {
    "duration": 736,
    "start_time": "2022-06-03T18:07:40.882Z"
   },
   {
    "duration": 18,
    "start_time": "2022-06-03T18:12:00.180Z"
   },
   {
    "duration": 14,
    "start_time": "2022-06-03T18:12:23.414Z"
   },
   {
    "duration": 16,
    "start_time": "2022-06-03T18:13:29.520Z"
   },
   {
    "duration": 8,
    "start_time": "2022-06-03T18:15:53.094Z"
   },
   {
    "duration": 17,
    "start_time": "2022-06-03T18:16:00.398Z"
   },
   {
    "duration": 16,
    "start_time": "2022-06-03T18:16:50.856Z"
   },
   {
    "duration": 7,
    "start_time": "2022-06-03T18:17:28.841Z"
   },
   {
    "duration": 8,
    "start_time": "2022-06-03T18:20:15.809Z"
   },
   {
    "duration": 8,
    "start_time": "2022-06-03T18:20:21.737Z"
   },
   {
    "duration": 16,
    "start_time": "2022-06-03T18:20:32.162Z"
   },
   {
    "duration": 9,
    "start_time": "2022-06-03T18:20:52.282Z"
   },
   {
    "duration": 42,
    "start_time": "2022-06-03T18:21:36.172Z"
   },
   {
    "duration": 31,
    "start_time": "2022-06-03T18:21:50.500Z"
   },
   {
    "duration": 23,
    "start_time": "2022-06-03T18:21:55.045Z"
   },
   {
    "duration": 32,
    "start_time": "2022-06-03T18:23:45.297Z"
   },
   {
    "duration": 23,
    "start_time": "2022-06-03T18:24:44.245Z"
   },
   {
    "duration": 8,
    "start_time": "2022-06-03T18:28:19.629Z"
   },
   {
    "duration": 14,
    "start_time": "2022-06-03T18:28:22.228Z"
   },
   {
    "duration": 27,
    "start_time": "2022-06-03T18:31:17.507Z"
   },
   {
    "duration": 8,
    "start_time": "2022-06-03T18:31:25.156Z"
   },
   {
    "duration": 546,
    "start_time": "2022-06-03T19:52:27.004Z"
   },
   {
    "duration": 562,
    "start_time": "2022-06-03T19:54:24.978Z"
   },
   {
    "duration": 507,
    "start_time": "2022-06-03T19:55:43.813Z"
   },
   {
    "duration": 372,
    "start_time": "2022-06-03T20:00:06.750Z"
   },
   {
    "duration": 680,
    "start_time": "2022-06-03T20:00:26.186Z"
   },
   {
    "duration": 1346,
    "start_time": "2022-06-05T13:03:29.153Z"
   },
   {
    "duration": 227,
    "start_time": "2022-06-05T13:03:30.502Z"
   },
   {
    "duration": 19,
    "start_time": "2022-06-05T13:03:30.731Z"
   },
   {
    "duration": 24,
    "start_time": "2022-06-05T13:03:30.752Z"
   },
   {
    "duration": 20,
    "start_time": "2022-06-05T13:03:30.777Z"
   },
   {
    "duration": 37,
    "start_time": "2022-06-05T13:03:30.799Z"
   },
   {
    "duration": 24,
    "start_time": "2022-06-05T13:03:30.838Z"
   },
   {
    "duration": 66,
    "start_time": "2022-06-05T13:03:30.864Z"
   },
   {
    "duration": 5,
    "start_time": "2022-06-05T13:03:30.931Z"
   },
   {
    "duration": 39,
    "start_time": "2022-06-05T13:03:30.939Z"
   },
   {
    "duration": 407,
    "start_time": "2022-06-05T13:03:30.980Z"
   },
   {
    "duration": 1265,
    "start_time": "2022-06-05T13:03:31.388Z"
   },
   {
    "duration": 351,
    "start_time": "2022-06-05T13:03:32.654Z"
   },
   {
    "duration": 375,
    "start_time": "2022-06-05T13:03:33.007Z"
   },
   {
    "duration": 27,
    "start_time": "2022-06-05T13:03:33.383Z"
   },
   {
    "duration": 28,
    "start_time": "2022-06-05T13:03:33.411Z"
   },
   {
    "duration": 23,
    "start_time": "2022-06-05T13:03:33.441Z"
   },
   {
    "duration": 296,
    "start_time": "2022-06-05T13:03:33.465Z"
   },
   {
    "duration": 40,
    "start_time": "2022-06-05T13:03:33.763Z"
   },
   {
    "duration": 4,
    "start_time": "2022-06-05T13:03:33.805Z"
   },
   {
    "duration": 689,
    "start_time": "2022-06-05T13:03:33.810Z"
   },
   {
    "duration": 774,
    "start_time": "2022-06-05T13:03:34.501Z"
   },
   {
    "duration": 19,
    "start_time": "2022-06-05T13:03:35.277Z"
   },
   {
    "duration": 16,
    "start_time": "2022-06-05T13:03:35.298Z"
   },
   {
    "duration": 648,
    "start_time": "2022-06-05T13:03:35.316Z"
   },
   {
    "duration": 4,
    "start_time": "2022-06-05T13:03:35.965Z"
   },
   {
    "duration": 17,
    "start_time": "2022-06-05T13:03:57.448Z"
   },
   {
    "duration": 18,
    "start_time": "2022-06-05T13:04:29.447Z"
   },
   {
    "duration": 17,
    "start_time": "2022-06-05T13:05:06.073Z"
   },
   {
    "duration": 23,
    "start_time": "2022-06-05T13:09:46.645Z"
   },
   {
    "duration": 143,
    "start_time": "2022-06-05T13:11:38.850Z"
   },
   {
    "duration": 23,
    "start_time": "2022-06-05T13:12:51.086Z"
   },
   {
    "duration": 25,
    "start_time": "2022-06-05T13:13:19.141Z"
   },
   {
    "duration": 34,
    "start_time": "2022-06-05T13:13:35.141Z"
   },
   {
    "duration": 29,
    "start_time": "2022-06-05T13:23:23.221Z"
   },
   {
    "duration": 9,
    "start_time": "2022-06-05T13:28:26.316Z"
   },
   {
    "duration": 21,
    "start_time": "2022-06-05T13:30:37.308Z"
   },
   {
    "duration": 21,
    "start_time": "2022-06-05T13:30:51.636Z"
   },
   {
    "duration": 32,
    "start_time": "2022-06-05T13:31:00.891Z"
   },
   {
    "duration": 30,
    "start_time": "2022-06-05T13:37:33.313Z"
   },
   {
    "duration": 28,
    "start_time": "2022-06-05T13:37:51.145Z"
   },
   {
    "duration": 37,
    "start_time": "2022-06-05T13:38:58.896Z"
   },
   {
    "duration": 28,
    "start_time": "2022-06-05T13:39:32.267Z"
   },
   {
    "duration": 26,
    "start_time": "2022-06-05T13:40:43.978Z"
   },
   {
    "duration": 1249,
    "start_time": "2022-06-05T21:51:50.844Z"
   },
   {
    "duration": 179,
    "start_time": "2022-06-05T21:51:52.095Z"
   },
   {
    "duration": 18,
    "start_time": "2022-06-05T21:51:52.276Z"
   },
   {
    "duration": 32,
    "start_time": "2022-06-05T21:51:52.296Z"
   },
   {
    "duration": 5,
    "start_time": "2022-06-05T21:51:52.329Z"
   },
   {
    "duration": 43,
    "start_time": "2022-06-05T21:51:52.336Z"
   },
   {
    "duration": 21,
    "start_time": "2022-06-05T21:51:52.381Z"
   },
   {
    "duration": 53,
    "start_time": "2022-06-05T21:51:52.403Z"
   },
   {
    "duration": 5,
    "start_time": "2022-06-05T21:51:52.457Z"
   },
   {
    "duration": 46,
    "start_time": "2022-06-05T21:51:52.464Z"
   },
   {
    "duration": 374,
    "start_time": "2022-06-05T21:51:52.512Z"
   },
   {
    "duration": 1251,
    "start_time": "2022-06-05T21:51:52.887Z"
   },
   {
    "duration": 326,
    "start_time": "2022-06-05T21:51:54.140Z"
   },
   {
    "duration": 371,
    "start_time": "2022-06-05T21:51:54.468Z"
   },
   {
    "duration": 28,
    "start_time": "2022-06-05T21:51:54.841Z"
   },
   {
    "duration": 30,
    "start_time": "2022-06-05T21:51:54.871Z"
   },
   {
    "duration": 45,
    "start_time": "2022-06-05T21:51:54.903Z"
   },
   {
    "duration": 262,
    "start_time": "2022-06-05T21:51:54.950Z"
   },
   {
    "duration": 35,
    "start_time": "2022-06-05T21:51:55.214Z"
   },
   {
    "duration": 3,
    "start_time": "2022-06-05T21:51:55.251Z"
   },
   {
    "duration": 597,
    "start_time": "2022-06-05T21:51:55.256Z"
   },
   {
    "duration": 814,
    "start_time": "2022-06-05T21:51:55.855Z"
   },
   {
    "duration": 9,
    "start_time": "2022-06-05T21:51:56.670Z"
   },
   {
    "duration": 24,
    "start_time": "2022-06-05T21:51:56.681Z"
   },
   {
    "duration": 591,
    "start_time": "2022-06-05T21:51:56.706Z"
   },
   {
    "duration": 29,
    "start_time": "2022-06-05T21:51:57.299Z"
   },
   {
    "duration": 7,
    "start_time": "2022-06-05T21:51:57.329Z"
   },
   {
    "duration": 9,
    "start_time": "2022-06-05T21:53:12.954Z"
   },
   {
    "duration": 9,
    "start_time": "2022-06-05T21:53:26.946Z"
   },
   {
    "duration": 33,
    "start_time": "2022-06-05T22:47:56.707Z"
   },
   {
    "duration": 22,
    "start_time": "2022-06-05T23:19:53.659Z"
   },
   {
    "duration": 8,
    "start_time": "2022-06-05T23:52:04.230Z"
   },
   {
    "duration": 10,
    "start_time": "2022-06-05T23:52:43.676Z"
   },
   {
    "duration": 7,
    "start_time": "2022-06-05T23:54:31.176Z"
   },
   {
    "duration": 120,
    "start_time": "2022-06-05T23:59:20.034Z"
   },
   {
    "duration": 2,
    "start_time": "2022-06-05T23:59:34.189Z"
   },
   {
    "duration": 16,
    "start_time": "2022-06-05T23:59:36.512Z"
   },
   {
    "duration": 28,
    "start_time": "2022-06-06T00:16:49.988Z"
   },
   {
    "duration": 28,
    "start_time": "2022-06-06T00:17:21.443Z"
   },
   {
    "duration": 15,
    "start_time": "2022-06-06T00:17:37.409Z"
   },
   {
    "duration": 18,
    "start_time": "2022-06-06T00:17:50.488Z"
   },
   {
    "duration": 17,
    "start_time": "2022-06-06T00:18:04.750Z"
   },
   {
    "duration": 46,
    "start_time": "2022-06-06T00:21:37.711Z"
   },
   {
    "duration": 258,
    "start_time": "2022-06-06T00:21:37.758Z"
   },
   {
    "duration": 15,
    "start_time": "2022-06-06T00:21:38.018Z"
   },
   {
    "duration": 47,
    "start_time": "2022-06-06T00:21:38.035Z"
   },
   {
    "duration": 10,
    "start_time": "2022-06-06T00:21:38.083Z"
   },
   {
    "duration": 42,
    "start_time": "2022-06-06T00:21:38.095Z"
   },
   {
    "duration": 24,
    "start_time": "2022-06-06T00:21:38.139Z"
   },
   {
    "duration": 39,
    "start_time": "2022-06-06T00:21:38.165Z"
   },
   {
    "duration": 6,
    "start_time": "2022-06-06T00:21:38.206Z"
   },
   {
    "duration": 33,
    "start_time": "2022-06-06T00:21:38.229Z"
   },
   {
    "duration": 260,
    "start_time": "2022-06-06T00:21:38.263Z"
   },
   {
    "duration": 1041,
    "start_time": "2022-06-06T00:21:38.526Z"
   },
   {
    "duration": 338,
    "start_time": "2022-06-06T00:21:39.568Z"
   },
   {
    "duration": 248,
    "start_time": "2022-06-06T00:21:39.907Z"
   },
   {
    "duration": 23,
    "start_time": "2022-06-06T00:21:40.157Z"
   },
   {
    "duration": 37,
    "start_time": "2022-06-06T00:21:40.181Z"
   },
   {
    "duration": 31,
    "start_time": "2022-06-06T00:21:40.227Z"
   },
   {
    "duration": 246,
    "start_time": "2022-06-06T00:21:40.259Z"
   },
   {
    "duration": 42,
    "start_time": "2022-06-06T00:21:40.506Z"
   },
   {
    "duration": 4,
    "start_time": "2022-06-06T00:21:40.549Z"
   },
   {
    "duration": 576,
    "start_time": "2022-06-06T00:21:40.554Z"
   },
   {
    "duration": 738,
    "start_time": "2022-06-06T00:21:41.131Z"
   },
   {
    "duration": 9,
    "start_time": "2022-06-06T00:21:41.871Z"
   },
   {
    "duration": 28,
    "start_time": "2022-06-06T00:21:41.881Z"
   },
   {
    "duration": 598,
    "start_time": "2022-06-06T00:21:41.911Z"
   },
   {
    "duration": 17,
    "start_time": "2022-06-06T00:21:42.511Z"
   },
   {
    "duration": 10,
    "start_time": "2022-06-06T00:21:42.530Z"
   },
   {
    "duration": 24,
    "start_time": "2022-06-06T00:21:42.543Z"
   },
   {
    "duration": 30,
    "start_time": "2022-06-06T00:21:42.569Z"
   },
   {
    "duration": 131,
    "start_time": "2022-06-06T00:21:42.601Z"
   },
   {
    "duration": 28,
    "start_time": "2022-06-06T00:21:42.733Z"
   },
   {
    "duration": 66,
    "start_time": "2022-06-06T00:21:42.762Z"
   },
   {
    "duration": 11,
    "start_time": "2022-06-06T00:25:19.163Z"
   },
   {
    "duration": 5,
    "start_time": "2022-06-06T00:34:04.271Z"
   },
   {
    "duration": 44,
    "start_time": "2022-06-06T00:34:28.011Z"
   },
   {
    "duration": 36,
    "start_time": "2022-06-06T00:34:38.316Z"
   },
   {
    "duration": 34,
    "start_time": "2022-06-06T00:35:17.830Z"
   },
   {
    "duration": 5,
    "start_time": "2022-06-06T00:37:47.651Z"
   },
   {
    "duration": 63,
    "start_time": "2022-06-06T00:37:50.806Z"
   },
   {
    "duration": 24,
    "start_time": "2022-06-06T00:38:41.608Z"
   },
   {
    "duration": 1437,
    "start_time": "2022-06-06T13:47:13.558Z"
   },
   {
    "duration": 294,
    "start_time": "2022-06-06T13:47:14.997Z"
   },
   {
    "duration": 21,
    "start_time": "2022-06-06T13:47:15.293Z"
   },
   {
    "duration": 27,
    "start_time": "2022-06-06T13:47:15.317Z"
   },
   {
    "duration": 7,
    "start_time": "2022-06-06T13:47:15.345Z"
   },
   {
    "duration": 47,
    "start_time": "2022-06-06T13:47:15.353Z"
   },
   {
    "duration": 29,
    "start_time": "2022-06-06T13:47:15.428Z"
   },
   {
    "duration": 45,
    "start_time": "2022-06-06T13:47:15.459Z"
   },
   {
    "duration": 6,
    "start_time": "2022-06-06T13:47:15.526Z"
   },
   {
    "duration": 41,
    "start_time": "2022-06-06T13:47:15.535Z"
   },
   {
    "duration": 399,
    "start_time": "2022-06-06T13:47:15.578Z"
   },
   {
    "duration": 1359,
    "start_time": "2022-06-06T13:47:15.978Z"
   },
   {
    "duration": 393,
    "start_time": "2022-06-06T13:47:17.340Z"
   },
   {
    "duration": 404,
    "start_time": "2022-06-06T13:47:17.735Z"
   },
   {
    "duration": 25,
    "start_time": "2022-06-06T13:47:18.140Z"
   },
   {
    "duration": 29,
    "start_time": "2022-06-06T13:47:18.167Z"
   },
   {
    "duration": 41,
    "start_time": "2022-06-06T13:47:18.198Z"
   },
   {
    "duration": 294,
    "start_time": "2022-06-06T13:47:18.241Z"
   },
   {
    "duration": 35,
    "start_time": "2022-06-06T13:47:18.537Z"
   },
   {
    "duration": 4,
    "start_time": "2022-06-06T13:47:18.574Z"
   },
   {
    "duration": 689,
    "start_time": "2022-06-06T13:47:18.579Z"
   },
   {
    "duration": 800,
    "start_time": "2022-06-06T13:47:19.270Z"
   },
   {
    "duration": 11,
    "start_time": "2022-06-06T13:47:20.073Z"
   },
   {
    "duration": 62,
    "start_time": "2022-06-06T13:47:20.085Z"
   },
   {
    "duration": 711,
    "start_time": "2022-06-06T13:47:20.148Z"
   },
   {
    "duration": 29,
    "start_time": "2022-06-06T13:47:20.861Z"
   },
   {
    "duration": 34,
    "start_time": "2022-06-06T13:47:20.892Z"
   },
   {
    "duration": 37,
    "start_time": "2022-06-06T13:47:20.930Z"
   },
   {
    "duration": 70,
    "start_time": "2022-06-06T13:47:20.969Z"
   },
   {
    "duration": 218,
    "start_time": "2022-06-06T13:47:21.041Z"
   },
   {
    "duration": 65,
    "start_time": "2022-06-06T13:47:21.261Z"
   },
   {
    "duration": 347,
    "start_time": "2022-06-06T13:47:21.329Z"
   },
   {
    "duration": 33,
    "start_time": "2022-06-06T13:47:21.678Z"
   },
   {
    "duration": 10,
    "start_time": "2022-06-06T13:47:21.725Z"
   },
   {
    "duration": 2,
    "start_time": "2022-06-06T13:54:58.751Z"
   },
   {
    "duration": 127,
    "start_time": "2022-06-06T14:04:28.609Z"
   },
   {
    "duration": 66,
    "start_time": "2022-06-06T14:05:41.649Z"
   },
   {
    "duration": 143,
    "start_time": "2022-06-06T14:07:23.215Z"
   },
   {
    "duration": 30,
    "start_time": "2022-06-06T14:19:15.953Z"
   },
   {
    "duration": 49,
    "start_time": "2022-06-06T14:22:40.309Z"
   },
   {
    "duration": 46,
    "start_time": "2022-06-06T14:25:50.365Z"
   },
   {
    "duration": 114,
    "start_time": "2022-06-06T14:28:11.347Z"
   },
   {
    "duration": 145,
    "start_time": "2022-06-06T14:30:29.454Z"
   },
   {
    "duration": 108,
    "start_time": "2022-06-06T14:32:03.572Z"
   },
   {
    "duration": 136,
    "start_time": "2022-06-06T14:32:45.949Z"
   },
   {
    "duration": 130,
    "start_time": "2022-06-06T14:35:53.879Z"
   },
   {
    "duration": 49,
    "start_time": "2022-06-06T14:38:04.540Z"
   },
   {
    "duration": 38,
    "start_time": "2022-06-06T14:38:56.142Z"
   },
   {
    "duration": 174,
    "start_time": "2022-06-06T14:44:13.996Z"
   },
   {
    "duration": 6,
    "start_time": "2022-06-06T14:49:48.248Z"
   },
   {
    "duration": 10,
    "start_time": "2022-06-06T15:01:21.981Z"
   },
   {
    "duration": 468,
    "start_time": "2022-06-06T15:01:30.836Z"
   },
   {
    "duration": 10,
    "start_time": "2022-06-06T15:02:41.635Z"
   },
   {
    "duration": 446,
    "start_time": "2022-06-06T15:02:44.902Z"
   },
   {
    "duration": 11,
    "start_time": "2022-06-06T15:19:43.877Z"
   },
   {
    "duration": 11,
    "start_time": "2022-06-06T15:20:18.734Z"
   },
   {
    "duration": 12,
    "start_time": "2022-06-06T15:22:33.766Z"
   },
   {
    "duration": 12,
    "start_time": "2022-06-06T15:22:49.777Z"
   },
   {
    "duration": 9,
    "start_time": "2022-06-06T15:50:51.401Z"
   },
   {
    "duration": 485,
    "start_time": "2022-06-06T15:50:59.820Z"
   },
   {
    "duration": 14,
    "start_time": "2022-06-06T15:51:26.924Z"
   },
   {
    "duration": 249,
    "start_time": "2022-06-06T15:51:33.581Z"
   },
   {
    "duration": 8,
    "start_time": "2022-06-06T15:52:09.553Z"
   },
   {
    "duration": 505,
    "start_time": "2022-06-06T15:52:15.133Z"
   },
   {
    "duration": 11,
    "start_time": "2022-06-06T15:52:48.203Z"
   },
   {
    "duration": 379,
    "start_time": "2022-06-06T15:52:50.674Z"
   },
   {
    "duration": 9,
    "start_time": "2022-06-06T15:54:15.631Z"
   },
   {
    "duration": 273,
    "start_time": "2022-06-06T15:54:21.031Z"
   },
   {
    "duration": 10,
    "start_time": "2022-06-06T15:54:34.618Z"
   },
   {
    "duration": 240,
    "start_time": "2022-06-06T15:54:39.751Z"
   },
   {
    "duration": 8,
    "start_time": "2022-06-06T16:00:39.957Z"
   },
   {
    "duration": 286,
    "start_time": "2022-06-06T16:00:46.449Z"
   },
   {
    "duration": 8,
    "start_time": "2022-06-06T16:03:48.778Z"
   },
   {
    "duration": 311,
    "start_time": "2022-06-06T16:03:51.610Z"
   },
   {
    "duration": 8,
    "start_time": "2022-06-06T16:06:24.110Z"
   },
   {
    "duration": 366,
    "start_time": "2022-06-06T16:06:31.629Z"
   },
   {
    "duration": 7,
    "start_time": "2022-06-06T16:11:57.759Z"
   },
   {
    "duration": 269,
    "start_time": "2022-06-06T16:12:01.018Z"
   },
   {
    "duration": 8,
    "start_time": "2022-06-06T16:12:08.906Z"
   },
   {
    "duration": 329,
    "start_time": "2022-06-06T16:12:11.642Z"
   },
   {
    "duration": 12,
    "start_time": "2022-06-06T16:12:32.409Z"
   },
   {
    "duration": 245,
    "start_time": "2022-06-06T16:12:34.151Z"
   },
   {
    "duration": 12,
    "start_time": "2022-06-06T16:12:50.636Z"
   },
   {
    "duration": 291,
    "start_time": "2022-06-06T16:12:52.655Z"
   },
   {
    "duration": 8,
    "start_time": "2022-06-06T16:13:05.342Z"
   },
   {
    "duration": 257,
    "start_time": "2022-06-06T16:13:07.489Z"
   },
   {
    "duration": 11,
    "start_time": "2022-06-06T16:13:14.793Z"
   },
   {
    "duration": 381,
    "start_time": "2022-06-06T16:13:18.043Z"
   },
   {
    "duration": 9,
    "start_time": "2022-06-06T16:14:10.498Z"
   },
   {
    "duration": 313,
    "start_time": "2022-06-06T16:14:12.253Z"
   },
   {
    "duration": 8,
    "start_time": "2022-06-06T16:14:41.360Z"
   },
   {
    "duration": 276,
    "start_time": "2022-06-06T16:14:43.591Z"
   },
   {
    "duration": 8,
    "start_time": "2022-06-06T16:15:19.950Z"
   },
   {
    "duration": 256,
    "start_time": "2022-06-06T16:15:22.445Z"
   },
   {
    "duration": 8,
    "start_time": "2022-06-06T16:15:32.647Z"
   },
   {
    "duration": 266,
    "start_time": "2022-06-06T16:15:34.790Z"
   },
   {
    "duration": 8,
    "start_time": "2022-06-06T16:15:51.452Z"
   },
   {
    "duration": 312,
    "start_time": "2022-06-06T16:15:54.441Z"
   },
   {
    "duration": 7,
    "start_time": "2022-06-06T16:17:42.009Z"
   },
   {
    "duration": 228,
    "start_time": "2022-06-06T16:17:45.471Z"
   },
   {
    "duration": 7,
    "start_time": "2022-06-06T16:19:24.999Z"
   },
   {
    "duration": 336,
    "start_time": "2022-06-06T16:19:32.543Z"
   },
   {
    "duration": 8,
    "start_time": "2022-06-06T16:20:40.502Z"
   },
   {
    "duration": 281,
    "start_time": "2022-06-06T16:20:46.304Z"
   },
   {
    "duration": 5,
    "start_time": "2022-06-06T17:25:40.739Z"
   },
   {
    "duration": 303,
    "start_time": "2022-06-06T17:25:40.747Z"
   },
   {
    "duration": 16,
    "start_time": "2022-06-06T17:25:41.053Z"
   },
   {
    "duration": 26,
    "start_time": "2022-06-06T17:25:41.071Z"
   },
   {
    "duration": 5,
    "start_time": "2022-06-06T17:25:41.099Z"
   },
   {
    "duration": 48,
    "start_time": "2022-06-06T17:25:41.127Z"
   },
   {
    "duration": 54,
    "start_time": "2022-06-06T17:25:41.177Z"
   },
   {
    "duration": 80,
    "start_time": "2022-06-06T17:25:41.236Z"
   },
   {
    "duration": 17,
    "start_time": "2022-06-06T17:25:41.318Z"
   },
   {
    "duration": 61,
    "start_time": "2022-06-06T17:25:41.337Z"
   },
   {
    "duration": 312,
    "start_time": "2022-06-06T17:25:41.401Z"
   },
   {
    "duration": 1308,
    "start_time": "2022-06-06T17:25:41.715Z"
   },
   {
    "duration": 437,
    "start_time": "2022-06-06T17:25:43.027Z"
   },
   {
    "duration": 325,
    "start_time": "2022-06-06T17:25:43.466Z"
   },
   {
    "duration": 40,
    "start_time": "2022-06-06T17:25:43.793Z"
   },
   {
    "duration": 29,
    "start_time": "2022-06-06T17:25:43.846Z"
   },
   {
    "duration": 24,
    "start_time": "2022-06-06T17:25:43.877Z"
   },
   {
    "duration": 331,
    "start_time": "2022-06-06T17:25:43.903Z"
   },
   {
    "duration": 38,
    "start_time": "2022-06-06T17:25:44.235Z"
   },
   {
    "duration": 5,
    "start_time": "2022-06-06T17:25:44.275Z"
   },
   {
    "duration": 948,
    "start_time": "2022-06-06T17:25:44.283Z"
   },
   {
    "duration": 929,
    "start_time": "2022-06-06T17:25:45.242Z"
   },
   {
    "duration": 9,
    "start_time": "2022-06-06T17:25:46.173Z"
   },
   {
    "duration": 47,
    "start_time": "2022-06-06T17:25:46.185Z"
   },
   {
    "duration": 640,
    "start_time": "2022-06-06T17:25:46.239Z"
   },
   {
    "duration": 57,
    "start_time": "2022-06-06T17:25:46.881Z"
   },
   {
    "duration": 4,
    "start_time": "2022-06-06T17:25:46.946Z"
   },
   {
    "duration": 7,
    "start_time": "2022-06-06T17:25:46.953Z"
   },
   {
    "duration": 272,
    "start_time": "2022-06-06T17:25:46.962Z"
   },
   {
    "duration": 32,
    "start_time": "2022-06-06T17:25:47.235Z"
   },
   {
    "duration": 14,
    "start_time": "2022-06-06T17:25:47.269Z"
   },
   {
    "duration": 6,
    "start_time": "2022-06-06T17:26:42.862Z"
   },
   {
    "duration": 305,
    "start_time": "2022-06-06T17:49:44.631Z"
   },
   {
    "duration": 289,
    "start_time": "2022-06-06T18:00:29.590Z"
   },
   {
    "duration": 5,
    "start_time": "2022-06-06T18:02:59.856Z"
   },
   {
    "duration": 249,
    "start_time": "2022-06-06T18:03:08.947Z"
   },
   {
    "duration": 274,
    "start_time": "2022-06-06T18:03:36.161Z"
   },
   {
    "duration": 292,
    "start_time": "2022-06-06T18:05:25.898Z"
   },
   {
    "duration": 13,
    "start_time": "2022-06-06T18:22:32.091Z"
   },
   {
    "duration": 4,
    "start_time": "2022-06-06T19:52:42.773Z"
   },
   {
    "duration": 285,
    "start_time": "2022-06-06T19:52:42.781Z"
   },
   {
    "duration": 14,
    "start_time": "2022-06-06T19:52:43.068Z"
   },
   {
    "duration": 24,
    "start_time": "2022-06-06T19:52:43.084Z"
   },
   {
    "duration": 9,
    "start_time": "2022-06-06T19:52:43.127Z"
   },
   {
    "duration": 40,
    "start_time": "2022-06-06T19:52:43.138Z"
   },
   {
    "duration": 26,
    "start_time": "2022-06-06T19:52:43.179Z"
   },
   {
    "duration": 70,
    "start_time": "2022-06-06T19:52:43.207Z"
   },
   {
    "duration": 6,
    "start_time": "2022-06-06T19:52:43.279Z"
   },
   {
    "duration": 57,
    "start_time": "2022-06-06T19:52:43.287Z"
   },
   {
    "duration": 316,
    "start_time": "2022-06-06T19:52:43.347Z"
   },
   {
    "duration": 1303,
    "start_time": "2022-06-06T19:52:43.664Z"
   },
   {
    "duration": 405,
    "start_time": "2022-06-06T19:52:44.969Z"
   },
   {
    "duration": 303,
    "start_time": "2022-06-06T19:52:45.376Z"
   },
   {
    "duration": 23,
    "start_time": "2022-06-06T19:52:45.681Z"
   },
   {
    "duration": 48,
    "start_time": "2022-06-06T19:52:45.706Z"
   },
   {
    "duration": 25,
    "start_time": "2022-06-06T19:52:45.756Z"
   },
   {
    "duration": 308,
    "start_time": "2022-06-06T19:52:45.783Z"
   },
   {
    "duration": 49,
    "start_time": "2022-06-06T19:52:46.093Z"
   },
   {
    "duration": 4,
    "start_time": "2022-06-06T19:52:46.143Z"
   },
   {
    "duration": 769,
    "start_time": "2022-06-06T19:52:46.149Z"
   },
   {
    "duration": 894,
    "start_time": "2022-06-06T19:52:46.920Z"
   },
   {
    "duration": 20,
    "start_time": "2022-06-06T19:52:47.816Z"
   },
   {
    "duration": 29,
    "start_time": "2022-06-06T19:52:47.842Z"
   },
   {
    "duration": 617,
    "start_time": "2022-06-06T19:52:47.873Z"
   },
   {
    "duration": 40,
    "start_time": "2022-06-06T19:52:48.492Z"
   },
   {
    "duration": 7,
    "start_time": "2022-06-06T19:52:48.533Z"
   },
   {
    "duration": 10,
    "start_time": "2022-06-06T19:52:48.542Z"
   },
   {
    "duration": 263,
    "start_time": "2022-06-06T19:52:48.555Z"
   },
   {
    "duration": 260,
    "start_time": "2022-06-06T19:52:48.819Z"
   },
   {
    "duration": 259,
    "start_time": "2022-06-06T19:52:49.081Z"
   },
   {
    "duration": 272,
    "start_time": "2022-06-06T19:52:49.342Z"
   },
   {
    "duration": 37,
    "start_time": "2022-06-06T19:52:49.616Z"
   },
   {
    "duration": 8,
    "start_time": "2022-06-06T19:52:49.655Z"
   },
   {
    "duration": 20,
    "start_time": "2022-06-06T20:12:41.287Z"
   },
   {
    "duration": 59,
    "start_time": "2022-06-06T20:13:30.465Z"
   },
   {
    "duration": 77,
    "start_time": "2022-06-06T20:15:00.371Z"
   },
   {
    "duration": 9,
    "start_time": "2022-06-06T20:17:33.685Z"
   },
   {
    "duration": 8,
    "start_time": "2022-06-06T20:19:21.443Z"
   },
   {
    "duration": 3,
    "start_time": "2022-06-06T20:35:36.685Z"
   },
   {
    "duration": 310,
    "start_time": "2022-06-06T20:35:36.696Z"
   },
   {
    "duration": 29,
    "start_time": "2022-06-06T20:35:37.008Z"
   },
   {
    "duration": 51,
    "start_time": "2022-06-06T20:35:37.040Z"
   },
   {
    "duration": 19,
    "start_time": "2022-06-06T20:35:37.093Z"
   },
   {
    "duration": 93,
    "start_time": "2022-06-06T20:35:37.113Z"
   },
   {
    "duration": 40,
    "start_time": "2022-06-06T20:35:37.208Z"
   },
   {
    "duration": 63,
    "start_time": "2022-06-06T20:35:37.250Z"
   },
   {
    "duration": 17,
    "start_time": "2022-06-06T20:35:37.326Z"
   },
   {
    "duration": 37,
    "start_time": "2022-06-06T20:35:37.349Z"
   },
   {
    "duration": 317,
    "start_time": "2022-06-06T20:35:37.389Z"
   },
   {
    "duration": 1226,
    "start_time": "2022-06-06T20:35:37.708Z"
   },
   {
    "duration": 380,
    "start_time": "2022-06-06T20:35:38.936Z"
   },
   {
    "duration": 302,
    "start_time": "2022-06-06T20:35:39.318Z"
   },
   {
    "duration": 37,
    "start_time": "2022-06-06T20:35:39.627Z"
   },
   {
    "duration": 39,
    "start_time": "2022-06-06T20:35:39.666Z"
   },
   {
    "duration": 58,
    "start_time": "2022-06-06T20:35:39.707Z"
   },
   {
    "duration": 337,
    "start_time": "2022-06-06T20:35:39.767Z"
   },
   {
    "duration": 42,
    "start_time": "2022-06-06T20:35:40.106Z"
   },
   {
    "duration": 4,
    "start_time": "2022-06-06T20:35:40.150Z"
   },
   {
    "duration": 815,
    "start_time": "2022-06-06T20:35:40.156Z"
   },
   {
    "duration": 921,
    "start_time": "2022-06-06T20:35:40.973Z"
   },
   {
    "duration": 11,
    "start_time": "2022-06-06T20:35:41.896Z"
   },
   {
    "duration": 60,
    "start_time": "2022-06-06T20:35:41.908Z"
   },
   {
    "duration": 649,
    "start_time": "2022-06-06T20:35:41.970Z"
   },
   {
    "duration": 36,
    "start_time": "2022-06-06T20:35:42.628Z"
   },
   {
    "duration": 3,
    "start_time": "2022-06-06T20:35:42.666Z"
   },
   {
    "duration": 14,
    "start_time": "2022-06-06T20:35:42.671Z"
   },
   {
    "duration": 287,
    "start_time": "2022-06-06T20:35:42.688Z"
   },
   {
    "duration": 286,
    "start_time": "2022-06-06T20:35:42.977Z"
   },
   {
    "duration": 298,
    "start_time": "2022-06-06T20:35:43.265Z"
   },
   {
    "duration": 274,
    "start_time": "2022-06-06T20:35:43.565Z"
   },
   {
    "duration": 34,
    "start_time": "2022-06-06T20:35:43.840Z"
   },
   {
    "duration": 9,
    "start_time": "2022-06-06T20:35:43.876Z"
   },
   {
    "duration": 88,
    "start_time": "2022-06-06T20:35:43.888Z"
   },
   {
    "duration": 9,
    "start_time": "2022-06-06T20:35:43.978Z"
   },
   {
    "duration": 17,
    "start_time": "2022-06-06T20:35:43.989Z"
   },
   {
    "duration": 29,
    "start_time": "2022-06-06T20:35:44.008Z"
   },
   {
    "duration": 36,
    "start_time": "2022-06-06T20:35:44.040Z"
   },
   {
    "duration": 4,
    "start_time": "2022-06-06T20:36:53.055Z"
   },
   {
    "duration": 246,
    "start_time": "2022-06-06T20:36:53.067Z"
   },
   {
    "duration": 20,
    "start_time": "2022-06-06T20:36:53.315Z"
   },
   {
    "duration": 30,
    "start_time": "2022-06-06T20:36:53.340Z"
   },
   {
    "duration": 7,
    "start_time": "2022-06-06T20:36:53.373Z"
   },
   {
    "duration": 75,
    "start_time": "2022-06-06T20:36:53.381Z"
   },
   {
    "duration": 33,
    "start_time": "2022-06-06T20:36:53.458Z"
   },
   {
    "duration": 76,
    "start_time": "2022-06-06T20:36:53.492Z"
   },
   {
    "duration": 6,
    "start_time": "2022-06-06T20:36:53.569Z"
   },
   {
    "duration": 54,
    "start_time": "2022-06-06T20:36:53.577Z"
   },
   {
    "duration": 313,
    "start_time": "2022-06-06T20:36:53.634Z"
   },
   {
    "duration": 1244,
    "start_time": "2022-06-06T20:36:53.948Z"
   },
   {
    "duration": 427,
    "start_time": "2022-06-06T20:36:55.194Z"
   },
   {
    "duration": 289,
    "start_time": "2022-06-06T20:36:55.623Z"
   },
   {
    "duration": 37,
    "start_time": "2022-06-06T20:36:55.914Z"
   },
   {
    "duration": 32,
    "start_time": "2022-06-06T20:36:55.953Z"
   },
   {
    "duration": 54,
    "start_time": "2022-06-06T20:36:55.987Z"
   },
   {
    "duration": 273,
    "start_time": "2022-06-06T20:36:56.043Z"
   },
   {
    "duration": 41,
    "start_time": "2022-06-06T20:36:56.317Z"
   },
   {
    "duration": 3,
    "start_time": "2022-06-06T20:36:56.360Z"
   },
   {
    "duration": 821,
    "start_time": "2022-06-06T20:36:56.365Z"
   },
   {
    "duration": 933,
    "start_time": "2022-06-06T20:36:57.187Z"
   },
   {
    "duration": 17,
    "start_time": "2022-06-06T20:36:58.126Z"
   },
   {
    "duration": 32,
    "start_time": "2022-06-06T20:36:58.146Z"
   },
   {
    "duration": 635,
    "start_time": "2022-06-06T20:36:58.181Z"
   },
   {
    "duration": 35,
    "start_time": "2022-06-06T20:36:58.818Z"
   },
   {
    "duration": 3,
    "start_time": "2022-06-06T20:36:58.855Z"
   },
   {
    "duration": 15,
    "start_time": "2022-06-06T20:36:58.860Z"
   },
   {
    "duration": 292,
    "start_time": "2022-06-06T20:36:58.879Z"
   },
   {
    "duration": 278,
    "start_time": "2022-06-06T20:36:59.173Z"
   },
   {
    "duration": 277,
    "start_time": "2022-06-06T20:36:59.453Z"
   },
   {
    "duration": 266,
    "start_time": "2022-06-06T20:36:59.732Z"
   },
   {
    "duration": 47,
    "start_time": "2022-06-06T20:37:00.000Z"
   },
   {
    "duration": 15,
    "start_time": "2022-06-06T20:37:00.050Z"
   },
   {
    "duration": 102,
    "start_time": "2022-06-06T20:37:00.067Z"
   },
   {
    "duration": 11,
    "start_time": "2022-06-06T20:37:00.171Z"
   },
   {
    "duration": 17,
    "start_time": "2022-06-06T20:37:00.183Z"
   },
   {
    "duration": 9,
    "start_time": "2022-06-06T20:37:00.202Z"
   },
   {
    "duration": 31,
    "start_time": "2022-06-06T20:37:00.213Z"
   },
   {
    "duration": 9,
    "start_time": "2022-06-06T20:38:55.774Z"
   },
   {
    "duration": 9,
    "start_time": "2022-06-06T20:39:13.244Z"
   },
   {
    "duration": 6,
    "start_time": "2022-06-06T20:41:02.018Z"
   },
   {
    "duration": 15,
    "start_time": "2022-06-06T20:42:17.022Z"
   },
   {
    "duration": 23,
    "start_time": "2022-06-06T20:42:19.743Z"
   },
   {
    "duration": 6,
    "start_time": "2022-06-06T20:43:18.994Z"
   },
   {
    "duration": 396,
    "start_time": "2022-06-06T20:48:57.454Z"
   },
   {
    "duration": 7,
    "start_time": "2022-06-06T20:49:38.161Z"
   },
   {
    "duration": 24,
    "start_time": "2022-06-06T20:54:02.590Z"
   },
   {
    "duration": 19,
    "start_time": "2022-06-06T20:55:46.108Z"
   },
   {
    "duration": 19,
    "start_time": "2022-06-06T20:55:48.317Z"
   },
   {
    "duration": 17,
    "start_time": "2022-06-06T20:55:58.777Z"
   },
   {
    "duration": 20,
    "start_time": "2022-06-06T20:56:04.710Z"
   },
   {
    "duration": 60,
    "start_time": "2022-06-06T20:58:01.910Z"
   },
   {
    "duration": 10,
    "start_time": "2022-06-06T20:58:20.736Z"
   },
   {
    "duration": 18,
    "start_time": "2022-06-06T21:03:07.357Z"
   },
   {
    "duration": 57,
    "start_time": "2022-06-06T21:03:55.001Z"
   },
   {
    "duration": 15,
    "start_time": "2022-06-06T21:04:20.583Z"
   },
   {
    "duration": 41,
    "start_time": "2022-06-06T21:04:31.996Z"
   },
   {
    "duration": 63,
    "start_time": "2022-06-06T21:05:00.679Z"
   },
   {
    "duration": 51,
    "start_time": "2022-06-06T21:05:15.445Z"
   },
   {
    "duration": 16,
    "start_time": "2022-06-06T21:07:33.966Z"
   },
   {
    "duration": 37,
    "start_time": "2022-06-06T21:13:12.466Z"
   },
   {
    "duration": 755,
    "start_time": "2022-06-06T21:14:00.238Z"
   },
   {
    "duration": 39,
    "start_time": "2022-06-06T21:16:06.241Z"
   },
   {
    "duration": 1432,
    "start_time": "2022-06-07T11:37:07.937Z"
   },
   {
    "duration": 557,
    "start_time": "2022-06-07T11:37:09.370Z"
   },
   {
    "duration": 22,
    "start_time": "2022-06-07T11:37:09.929Z"
   },
   {
    "duration": 42,
    "start_time": "2022-06-07T11:37:09.953Z"
   },
   {
    "duration": 6,
    "start_time": "2022-06-07T11:37:09.997Z"
   },
   {
    "duration": 48,
    "start_time": "2022-06-07T11:37:10.005Z"
   },
   {
    "duration": 45,
    "start_time": "2022-06-07T11:37:10.055Z"
   },
   {
    "duration": 44,
    "start_time": "2022-06-07T11:37:10.102Z"
   },
   {
    "duration": 6,
    "start_time": "2022-06-07T11:37:10.147Z"
   },
   {
    "duration": 54,
    "start_time": "2022-06-07T11:37:10.155Z"
   },
   {
    "duration": 393,
    "start_time": "2022-06-07T11:37:10.211Z"
   },
   {
    "duration": 1343,
    "start_time": "2022-06-07T11:37:10.606Z"
   },
   {
    "duration": 470,
    "start_time": "2022-06-07T11:37:11.951Z"
   },
   {
    "duration": 429,
    "start_time": "2022-06-07T11:37:12.424Z"
   },
   {
    "duration": 27,
    "start_time": "2022-06-07T11:37:12.855Z"
   },
   {
    "duration": 29,
    "start_time": "2022-06-07T11:37:12.894Z"
   },
   {
    "duration": 25,
    "start_time": "2022-06-07T11:37:12.925Z"
   },
   {
    "duration": 303,
    "start_time": "2022-06-07T11:37:12.952Z"
   },
   {
    "duration": 43,
    "start_time": "2022-06-07T11:37:13.257Z"
   },
   {
    "duration": 5,
    "start_time": "2022-06-07T11:37:13.302Z"
   },
   {
    "duration": 646,
    "start_time": "2022-06-07T11:37:13.309Z"
   },
   {
    "duration": 873,
    "start_time": "2022-06-07T11:37:13.957Z"
   },
   {
    "duration": 8,
    "start_time": "2022-06-07T11:37:14.833Z"
   },
   {
    "duration": 16,
    "start_time": "2022-06-07T11:37:14.843Z"
   },
   {
    "duration": 724,
    "start_time": "2022-06-07T11:37:14.861Z"
   },
   {
    "duration": 31,
    "start_time": "2022-06-07T11:37:15.587Z"
   },
   {
    "duration": 4,
    "start_time": "2022-06-07T11:37:15.619Z"
   },
   {
    "duration": 7,
    "start_time": "2022-06-07T11:37:15.628Z"
   },
   {
    "duration": 327,
    "start_time": "2022-06-07T11:37:15.636Z"
   },
   {
    "duration": 0,
    "start_time": "2022-06-07T11:37:15.965Z"
   },
   {
    "duration": 0,
    "start_time": "2022-06-07T11:37:15.966Z"
   },
   {
    "duration": 0,
    "start_time": "2022-06-07T11:37:15.967Z"
   },
   {
    "duration": 0,
    "start_time": "2022-06-07T11:37:15.968Z"
   },
   {
    "duration": 0,
    "start_time": "2022-06-07T11:37:15.969Z"
   },
   {
    "duration": 0,
    "start_time": "2022-06-07T11:37:15.971Z"
   },
   {
    "duration": 0,
    "start_time": "2022-06-07T11:37:15.972Z"
   },
   {
    "duration": 0,
    "start_time": "2022-06-07T11:37:15.973Z"
   },
   {
    "duration": 0,
    "start_time": "2022-06-07T11:37:15.974Z"
   },
   {
    "duration": 0,
    "start_time": "2022-06-07T11:37:15.975Z"
   },
   {
    "duration": 0,
    "start_time": "2022-06-07T11:37:15.976Z"
   },
   {
    "duration": 0,
    "start_time": "2022-06-07T11:37:15.994Z"
   },
   {
    "duration": 0,
    "start_time": "2022-06-07T11:37:15.995Z"
   },
   {
    "duration": 8,
    "start_time": "2022-06-07T12:33:34.526Z"
   },
   {
    "duration": 313,
    "start_time": "2022-06-07T12:33:39.073Z"
   },
   {
    "duration": 9,
    "start_time": "2022-06-07T12:34:56.131Z"
   },
   {
    "duration": 238,
    "start_time": "2022-06-07T12:35:02.560Z"
   },
   {
    "duration": 6,
    "start_time": "2022-06-07T12:35:32.369Z"
   },
   {
    "duration": 386,
    "start_time": "2022-06-07T12:35:32.378Z"
   },
   {
    "duration": 15,
    "start_time": "2022-06-07T12:35:32.767Z"
   },
   {
    "duration": 39,
    "start_time": "2022-06-07T12:35:32.797Z"
   },
   {
    "duration": 7,
    "start_time": "2022-06-07T12:35:32.839Z"
   },
   {
    "duration": 58,
    "start_time": "2022-06-07T12:35:32.848Z"
   },
   {
    "duration": 30,
    "start_time": "2022-06-07T12:35:32.911Z"
   },
   {
    "duration": 56,
    "start_time": "2022-06-07T12:35:32.944Z"
   },
   {
    "duration": 7,
    "start_time": "2022-06-07T12:35:33.001Z"
   },
   {
    "duration": 53,
    "start_time": "2022-06-07T12:35:33.023Z"
   },
   {
    "duration": 366,
    "start_time": "2022-06-07T12:35:33.078Z"
   },
   {
    "duration": 1350,
    "start_time": "2022-06-07T12:35:33.446Z"
   },
   {
    "duration": 429,
    "start_time": "2022-06-07T12:35:34.800Z"
   },
   {
    "duration": 378,
    "start_time": "2022-06-07T12:35:35.231Z"
   },
   {
    "duration": 39,
    "start_time": "2022-06-07T12:35:35.614Z"
   },
   {
    "duration": 31,
    "start_time": "2022-06-07T12:35:35.655Z"
   },
   {
    "duration": 40,
    "start_time": "2022-06-07T12:35:35.688Z"
   },
   {
    "duration": 397,
    "start_time": "2022-06-07T12:35:35.730Z"
   },
   {
    "duration": 67,
    "start_time": "2022-06-07T12:35:36.131Z"
   },
   {
    "duration": 7,
    "start_time": "2022-06-07T12:35:36.200Z"
   },
   {
    "duration": 743,
    "start_time": "2022-06-07T12:35:36.210Z"
   },
   {
    "duration": 954,
    "start_time": "2022-06-07T12:35:36.955Z"
   },
   {
    "duration": 11,
    "start_time": "2022-06-07T12:35:37.910Z"
   },
   {
    "duration": 23,
    "start_time": "2022-06-07T12:35:37.924Z"
   },
   {
    "duration": 837,
    "start_time": "2022-06-07T12:35:37.949Z"
   },
   {
    "duration": 45,
    "start_time": "2022-06-07T12:35:38.789Z"
   },
   {
    "duration": 4,
    "start_time": "2022-06-07T12:35:38.836Z"
   },
   {
    "duration": 8,
    "start_time": "2022-06-07T12:35:38.842Z"
   },
   {
    "duration": 622,
    "start_time": "2022-06-07T12:35:38.852Z"
   },
   {
    "duration": 461,
    "start_time": "2022-06-07T12:35:39.494Z"
   },
   {
    "duration": 280,
    "start_time": "2022-06-07T12:35:39.958Z"
   },
   {
    "duration": 344,
    "start_time": "2022-06-07T12:35:40.240Z"
   },
   {
    "duration": 46,
    "start_time": "2022-06-07T12:35:40.586Z"
   },
   {
    "duration": 19,
    "start_time": "2022-06-07T12:35:40.634Z"
   },
   {
    "duration": 91,
    "start_time": "2022-06-07T12:35:40.655Z"
   },
   {
    "duration": 8,
    "start_time": "2022-06-07T12:35:40.748Z"
   },
   {
    "duration": 56,
    "start_time": "2022-06-07T12:35:40.760Z"
   },
   {
    "duration": 19,
    "start_time": "2022-06-07T12:35:40.818Z"
   },
   {
    "duration": 63,
    "start_time": "2022-06-07T12:35:40.840Z"
   },
   {
    "duration": 26,
    "start_time": "2022-06-07T12:35:40.906Z"
   },
   {
    "duration": 29,
    "start_time": "2022-06-07T12:35:40.935Z"
   },
   {
    "duration": 910,
    "start_time": "2022-06-07T12:35:40.967Z"
   },
   {
    "duration": 3,
    "start_time": "2022-06-07T14:55:45.474Z"
   },
   {
    "duration": 372,
    "start_time": "2022-06-07T14:55:45.479Z"
   },
   {
    "duration": 16,
    "start_time": "2022-06-07T14:55:45.854Z"
   },
   {
    "duration": 36,
    "start_time": "2022-06-07T14:55:45.894Z"
   },
   {
    "duration": 6,
    "start_time": "2022-06-07T14:55:45.933Z"
   },
   {
    "duration": 78,
    "start_time": "2022-06-07T14:55:45.940Z"
   },
   {
    "duration": 32,
    "start_time": "2022-06-07T14:55:46.020Z"
   },
   {
    "duration": 70,
    "start_time": "2022-06-07T14:55:46.053Z"
   },
   {
    "duration": 6,
    "start_time": "2022-06-07T14:55:46.125Z"
   },
   {
    "duration": 38,
    "start_time": "2022-06-07T14:55:46.133Z"
   },
   {
    "duration": 299,
    "start_time": "2022-06-07T14:55:46.175Z"
   },
   {
    "duration": 1154,
    "start_time": "2022-06-07T14:55:46.476Z"
   },
   {
    "duration": 390,
    "start_time": "2022-06-07T14:55:47.632Z"
   },
   {
    "duration": 388,
    "start_time": "2022-06-07T14:55:48.024Z"
   },
   {
    "duration": 24,
    "start_time": "2022-06-07T14:55:48.414Z"
   },
   {
    "duration": 54,
    "start_time": "2022-06-07T14:55:48.440Z"
   },
   {
    "duration": 24,
    "start_time": "2022-06-07T14:55:48.496Z"
   },
   {
    "duration": 290,
    "start_time": "2022-06-07T14:55:48.522Z"
   },
   {
    "duration": 33,
    "start_time": "2022-06-07T14:55:48.813Z"
   },
   {
    "duration": 3,
    "start_time": "2022-06-07T14:55:48.848Z"
   },
   {
    "duration": 670,
    "start_time": "2022-06-07T14:55:48.852Z"
   },
   {
    "duration": 1025,
    "start_time": "2022-06-07T14:55:49.524Z"
   },
   {
    "duration": 10,
    "start_time": "2022-06-07T14:55:50.551Z"
   },
   {
    "duration": 38,
    "start_time": "2022-06-07T14:55:50.563Z"
   },
   {
    "duration": 653,
    "start_time": "2022-06-07T14:55:50.603Z"
   },
   {
    "duration": 38,
    "start_time": "2022-06-07T14:55:51.258Z"
   },
   {
    "duration": 4,
    "start_time": "2022-06-07T14:55:51.298Z"
   },
   {
    "duration": 10,
    "start_time": "2022-06-07T14:55:51.304Z"
   },
   {
    "duration": 244,
    "start_time": "2022-06-07T14:55:51.318Z"
   },
   {
    "duration": 242,
    "start_time": "2022-06-07T14:55:51.564Z"
   },
   {
    "duration": 222,
    "start_time": "2022-06-07T14:55:51.808Z"
   },
   {
    "duration": 238,
    "start_time": "2022-06-07T14:55:52.032Z"
   },
   {
    "duration": 41,
    "start_time": "2022-06-07T14:55:52.271Z"
   },
   {
    "duration": 7,
    "start_time": "2022-06-07T14:55:52.314Z"
   },
   {
    "duration": 49,
    "start_time": "2022-06-07T14:55:52.323Z"
   },
   {
    "duration": 25,
    "start_time": "2022-06-07T14:55:52.373Z"
   },
   {
    "duration": 22,
    "start_time": "2022-06-07T14:55:52.400Z"
   },
   {
    "duration": 10,
    "start_time": "2022-06-07T14:55:52.423Z"
   },
   {
    "duration": 40,
    "start_time": "2022-06-07T14:55:52.435Z"
   },
   {
    "duration": 33,
    "start_time": "2022-06-07T14:55:52.477Z"
   },
   {
    "duration": 28,
    "start_time": "2022-06-07T14:55:52.511Z"
   },
   {
    "duration": 615,
    "start_time": "2022-06-07T14:55:52.541Z"
   },
   {
    "duration": 8,
    "start_time": "2022-06-07T14:58:07.696Z"
   },
   {
    "duration": 226,
    "start_time": "2022-06-07T14:58:15.293Z"
   },
   {
    "duration": 7,
    "start_time": "2022-06-07T15:00:11.788Z"
   },
   {
    "duration": 244,
    "start_time": "2022-06-07T15:00:15.135Z"
   },
   {
    "duration": 7,
    "start_time": "2022-06-07T15:01:36.614Z"
   },
   {
    "duration": 237,
    "start_time": "2022-06-07T15:01:39.882Z"
   },
   {
    "duration": 222,
    "start_time": "2022-06-07T15:14:31.814Z"
   },
   {
    "duration": 197,
    "start_time": "2022-06-07T15:14:50.796Z"
   },
   {
    "duration": 201,
    "start_time": "2022-06-07T15:15:06.510Z"
   },
   {
    "duration": 1254,
    "start_time": "2022-06-07T21:17:39.743Z"
   },
   {
    "duration": 494,
    "start_time": "2022-06-07T21:17:41.000Z"
   },
   {
    "duration": 20,
    "start_time": "2022-06-07T21:17:41.499Z"
   },
   {
    "duration": 17,
    "start_time": "2022-06-07T21:17:41.521Z"
   },
   {
    "duration": 4,
    "start_time": "2022-06-07T21:17:41.540Z"
   },
   {
    "duration": 50,
    "start_time": "2022-06-07T21:17:41.545Z"
   },
   {
    "duration": 31,
    "start_time": "2022-06-07T21:17:41.597Z"
   },
   {
    "duration": 32,
    "start_time": "2022-06-07T21:17:41.630Z"
   },
   {
    "duration": 5,
    "start_time": "2022-06-07T21:17:41.663Z"
   },
   {
    "duration": 56,
    "start_time": "2022-06-07T21:17:41.670Z"
   },
   {
    "duration": 347,
    "start_time": "2022-06-07T21:17:41.728Z"
   },
   {
    "duration": 1139,
    "start_time": "2022-06-07T21:17:42.077Z"
   },
   {
    "duration": 324,
    "start_time": "2022-06-07T21:17:43.218Z"
   },
   {
    "duration": 347,
    "start_time": "2022-06-07T21:17:43.544Z"
   },
   {
    "duration": 24,
    "start_time": "2022-06-07T21:17:43.899Z"
   },
   {
    "duration": 24,
    "start_time": "2022-06-07T21:17:43.924Z"
   },
   {
    "duration": 18,
    "start_time": "2022-06-07T21:17:43.949Z"
   },
   {
    "duration": 261,
    "start_time": "2022-06-07T21:17:43.968Z"
   },
   {
    "duration": 26,
    "start_time": "2022-06-07T21:17:44.231Z"
   },
   {
    "duration": 3,
    "start_time": "2022-06-07T21:17:44.259Z"
   },
   {
    "duration": 554,
    "start_time": "2022-06-07T21:17:44.263Z"
   },
   {
    "duration": 723,
    "start_time": "2022-06-07T21:17:44.818Z"
   },
   {
    "duration": 7,
    "start_time": "2022-06-07T21:17:45.542Z"
   },
   {
    "duration": 14,
    "start_time": "2022-06-07T21:17:45.550Z"
   },
   {
    "duration": 585,
    "start_time": "2022-06-07T21:17:45.565Z"
   },
   {
    "duration": 20,
    "start_time": "2022-06-07T21:17:46.152Z"
   },
   {
    "duration": 2,
    "start_time": "2022-06-07T21:17:46.174Z"
   },
   {
    "duration": 17,
    "start_time": "2022-06-07T21:17:46.179Z"
   },
   {
    "duration": 490,
    "start_time": "2022-06-07T21:17:46.197Z"
   },
   {
    "duration": 328,
    "start_time": "2022-06-07T21:17:46.688Z"
   },
   {
    "duration": 201,
    "start_time": "2022-06-07T21:17:47.017Z"
   },
   {
    "duration": 244,
    "start_time": "2022-06-07T21:17:47.220Z"
   },
   {
    "duration": 34,
    "start_time": "2022-06-07T21:17:47.466Z"
   },
   {
    "duration": 11,
    "start_time": "2022-06-07T21:17:47.502Z"
   },
   {
    "duration": 45,
    "start_time": "2022-06-07T21:17:47.514Z"
   },
   {
    "duration": 5,
    "start_time": "2022-06-07T21:17:47.560Z"
   },
   {
    "duration": 29,
    "start_time": "2022-06-07T21:17:47.566Z"
   },
   {
    "duration": 11,
    "start_time": "2022-06-07T21:17:47.597Z"
   },
   {
    "duration": 26,
    "start_time": "2022-06-07T21:17:47.610Z"
   },
   {
    "duration": 19,
    "start_time": "2022-06-07T21:17:47.638Z"
   },
   {
    "duration": 20,
    "start_time": "2022-06-07T21:17:47.658Z"
   },
   {
    "duration": 544,
    "start_time": "2022-06-07T21:17:47.679Z"
   },
   {
    "duration": 717,
    "start_time": "2022-06-07T23:38:47.704Z"
   },
   {
    "duration": 9,
    "start_time": "2022-06-07T23:41:01.852Z"
   },
   {
    "duration": 3,
    "start_time": "2022-06-07T23:45:34.235Z"
   },
   {
    "duration": 392,
    "start_time": "2022-06-07T23:45:34.240Z"
   },
   {
    "duration": 12,
    "start_time": "2022-06-07T23:45:34.634Z"
   },
   {
    "duration": 17,
    "start_time": "2022-06-07T23:45:34.647Z"
   },
   {
    "duration": 4,
    "start_time": "2022-06-07T23:45:34.665Z"
   },
   {
    "duration": 52,
    "start_time": "2022-06-07T23:45:34.670Z"
   },
   {
    "duration": 18,
    "start_time": "2022-06-07T23:45:34.723Z"
   },
   {
    "duration": 57,
    "start_time": "2022-06-07T23:45:34.743Z"
   },
   {
    "duration": 4,
    "start_time": "2022-06-07T23:45:34.802Z"
   },
   {
    "duration": 29,
    "start_time": "2022-06-07T23:45:34.807Z"
   },
   {
    "duration": 258,
    "start_time": "2022-06-07T23:45:34.838Z"
   },
   {
    "duration": 951,
    "start_time": "2022-06-07T23:45:35.097Z"
   },
   {
    "duration": 313,
    "start_time": "2022-06-07T23:45:36.050Z"
   },
   {
    "duration": 232,
    "start_time": "2022-06-07T23:45:36.365Z"
   },
   {
    "duration": 20,
    "start_time": "2022-06-07T23:45:36.598Z"
   },
   {
    "duration": 23,
    "start_time": "2022-06-07T23:45:36.619Z"
   },
   {
    "duration": 52,
    "start_time": "2022-06-07T23:45:36.643Z"
   },
   {
    "duration": 3,
    "start_time": "2022-06-07T23:45:36.697Z"
   },
   {
    "duration": 620,
    "start_time": "2022-06-07T23:45:36.701Z"
   },
   {
    "duration": 768,
    "start_time": "2022-06-07T23:45:37.323Z"
   },
   {
    "duration": 8,
    "start_time": "2022-06-07T23:45:38.095Z"
   },
   {
    "duration": 15,
    "start_time": "2022-06-07T23:45:38.104Z"
   },
   {
    "duration": 512,
    "start_time": "2022-06-07T23:45:38.120Z"
   },
   {
    "duration": 21,
    "start_time": "2022-06-07T23:45:38.634Z"
   },
   {
    "duration": 3,
    "start_time": "2022-06-07T23:45:38.656Z"
   },
   {
    "duration": 9,
    "start_time": "2022-06-07T23:45:38.660Z"
   },
   {
    "duration": 201,
    "start_time": "2022-06-07T23:45:38.671Z"
   },
   {
    "duration": 328,
    "start_time": "2022-06-07T23:45:38.874Z"
   },
   {
    "duration": 237,
    "start_time": "2022-06-07T23:45:39.205Z"
   },
   {
    "duration": 242,
    "start_time": "2022-06-07T23:45:39.494Z"
   },
   {
    "duration": 23,
    "start_time": "2022-06-07T23:45:39.737Z"
   },
   {
    "duration": 6,
    "start_time": "2022-06-07T23:45:39.762Z"
   },
   {
    "duration": 70,
    "start_time": "2022-06-07T23:45:39.770Z"
   },
   {
    "duration": 5,
    "start_time": "2022-06-07T23:45:39.842Z"
   },
   {
    "duration": 18,
    "start_time": "2022-06-07T23:45:39.849Z"
   },
   {
    "duration": 7,
    "start_time": "2022-06-07T23:45:39.868Z"
   },
   {
    "duration": 21,
    "start_time": "2022-06-07T23:45:39.894Z"
   },
   {
    "duration": 14,
    "start_time": "2022-06-07T23:45:39.916Z"
   },
   {
    "duration": 1263,
    "start_time": "2022-06-08T21:10:45.719Z"
   },
   {
    "duration": 365,
    "start_time": "2022-06-08T21:10:46.984Z"
   },
   {
    "duration": 18,
    "start_time": "2022-06-08T21:10:47.351Z"
   },
   {
    "duration": 30,
    "start_time": "2022-06-08T21:10:47.371Z"
   },
   {
    "duration": 7,
    "start_time": "2022-06-08T21:10:47.403Z"
   },
   {
    "duration": 34,
    "start_time": "2022-06-08T21:10:47.426Z"
   },
   {
    "duration": 23,
    "start_time": "2022-06-08T21:10:47.461Z"
   },
   {
    "duration": 66,
    "start_time": "2022-06-08T21:10:47.486Z"
   },
   {
    "duration": 6,
    "start_time": "2022-06-08T21:10:47.554Z"
   },
   {
    "duration": 61,
    "start_time": "2022-06-08T21:10:47.563Z"
   },
   {
    "duration": 272,
    "start_time": "2022-06-08T21:10:47.625Z"
   },
   {
    "duration": 1195,
    "start_time": "2022-06-08T21:10:47.898Z"
   },
   {
    "duration": 346,
    "start_time": "2022-06-08T21:10:49.095Z"
   },
   {
    "duration": 363,
    "start_time": "2022-06-08T21:10:49.443Z"
   },
   {
    "duration": 29,
    "start_time": "2022-06-08T21:10:49.807Z"
   },
   {
    "duration": 27,
    "start_time": "2022-06-08T21:10:49.837Z"
   },
   {
    "duration": 31,
    "start_time": "2022-06-08T21:10:49.866Z"
   },
   {
    "duration": 29,
    "start_time": "2022-06-08T21:10:49.898Z"
   },
   {
    "duration": 669,
    "start_time": "2022-06-08T21:10:49.928Z"
   },
   {
    "duration": 749,
    "start_time": "2022-06-08T21:10:50.599Z"
   },
   {
    "duration": 8,
    "start_time": "2022-06-08T21:10:51.349Z"
   },
   {
    "duration": 24,
    "start_time": "2022-06-08T21:10:51.359Z"
   },
   {
    "duration": 586,
    "start_time": "2022-06-08T21:10:51.385Z"
   },
   {
    "duration": 25,
    "start_time": "2022-06-08T21:10:51.973Z"
   },
   {
    "duration": 3,
    "start_time": "2022-06-08T21:10:51.999Z"
   },
   {
    "duration": 22,
    "start_time": "2022-06-08T21:10:52.004Z"
   },
   {
    "duration": 540,
    "start_time": "2022-06-08T21:10:52.027Z"
   },
   {
    "duration": 345,
    "start_time": "2022-06-08T21:10:52.571Z"
   },
   {
    "duration": 225,
    "start_time": "2022-06-08T21:10:52.917Z"
   },
   {
    "duration": 230,
    "start_time": "2022-06-08T21:10:53.144Z"
   },
   {
    "duration": 32,
    "start_time": "2022-06-08T21:10:53.376Z"
   },
   {
    "duration": 23,
    "start_time": "2022-06-08T21:10:53.410Z"
   },
   {
    "duration": 52,
    "start_time": "2022-06-08T21:10:53.435Z"
   },
   {
    "duration": 6,
    "start_time": "2022-06-08T21:10:53.489Z"
   },
   {
    "duration": 40,
    "start_time": "2022-06-08T21:10:53.496Z"
   },
   {
    "duration": 17,
    "start_time": "2022-06-08T21:10:53.538Z"
   },
   {
    "duration": 48,
    "start_time": "2022-06-08T21:10:53.557Z"
   },
   {
    "duration": 19,
    "start_time": "2022-06-08T21:10:53.606Z"
   },
   {
    "duration": 1141,
    "start_time": "2022-06-08T21:56:05.488Z"
   },
   {
    "duration": 316,
    "start_time": "2022-06-08T21:56:06.631Z"
   },
   {
    "duration": 18,
    "start_time": "2022-06-08T21:56:06.949Z"
   },
   {
    "duration": 36,
    "start_time": "2022-06-08T21:56:06.969Z"
   },
   {
    "duration": 5,
    "start_time": "2022-06-08T21:56:07.008Z"
   },
   {
    "duration": 53,
    "start_time": "2022-06-08T21:56:07.015Z"
   },
   {
    "duration": 23,
    "start_time": "2022-06-08T21:56:07.070Z"
   },
   {
    "duration": 53,
    "start_time": "2022-06-08T21:56:07.095Z"
   },
   {
    "duration": 7,
    "start_time": "2022-06-08T21:56:07.150Z"
   },
   {
    "duration": 35,
    "start_time": "2022-06-08T21:56:07.158Z"
   },
   {
    "duration": 268,
    "start_time": "2022-06-08T21:56:07.194Z"
   },
   {
    "duration": 1145,
    "start_time": "2022-06-08T21:56:07.464Z"
   },
   {
    "duration": 354,
    "start_time": "2022-06-08T21:56:08.611Z"
   },
   {
    "duration": 322,
    "start_time": "2022-06-08T21:56:08.968Z"
   },
   {
    "duration": 34,
    "start_time": "2022-06-08T21:56:09.292Z"
   },
   {
    "duration": 28,
    "start_time": "2022-06-08T21:56:09.327Z"
   },
   {
    "duration": 34,
    "start_time": "2022-06-08T21:56:09.356Z"
   },
   {
    "duration": 4,
    "start_time": "2022-06-08T21:56:09.391Z"
   },
   {
    "duration": 688,
    "start_time": "2022-06-08T21:56:09.397Z"
   },
   {
    "duration": 734,
    "start_time": "2022-06-08T21:56:10.086Z"
   },
   {
    "duration": 8,
    "start_time": "2022-06-08T21:56:10.826Z"
   },
   {
    "duration": 17,
    "start_time": "2022-06-08T21:56:10.835Z"
   },
   {
    "duration": 569,
    "start_time": "2022-06-08T21:56:10.853Z"
   },
   {
    "duration": 24,
    "start_time": "2022-06-08T21:56:11.423Z"
   },
   {
    "duration": 3,
    "start_time": "2022-06-08T21:56:11.449Z"
   },
   {
    "duration": 13,
    "start_time": "2022-06-08T21:56:11.453Z"
   },
   {
    "duration": 459,
    "start_time": "2022-06-08T21:56:11.468Z"
   },
   {
    "duration": 317,
    "start_time": "2022-06-08T21:56:11.929Z"
   },
   {
    "duration": 200,
    "start_time": "2022-06-08T21:56:12.248Z"
   },
   {
    "duration": 201,
    "start_time": "2022-06-08T21:56:12.450Z"
   },
   {
    "duration": 27,
    "start_time": "2022-06-08T21:56:12.653Z"
   },
   {
    "duration": 8,
    "start_time": "2022-06-08T21:56:12.681Z"
   },
   {
    "duration": 76,
    "start_time": "2022-06-08T21:56:12.691Z"
   },
   {
    "duration": 5,
    "start_time": "2022-06-08T21:56:12.769Z"
   },
   {
    "duration": 24,
    "start_time": "2022-06-08T21:56:12.776Z"
   },
   {
    "duration": 10,
    "start_time": "2022-06-08T21:56:12.802Z"
   },
   {
    "duration": 42,
    "start_time": "2022-06-08T21:56:12.827Z"
   },
   {
    "duration": 14,
    "start_time": "2022-06-08T21:56:12.871Z"
   },
   {
    "duration": 5,
    "start_time": "2022-06-08T22:06:05.164Z"
   },
   {
    "duration": 17,
    "start_time": "2022-06-08T22:06:06.416Z"
   },
   {
    "duration": 6,
    "start_time": "2022-06-08T22:06:11.385Z"
   },
   {
    "duration": 19,
    "start_time": "2022-06-08T22:06:12.157Z"
   },
   {
    "duration": 91,
    "start_time": "2022-06-09T11:09:11.101Z"
   },
   {
    "duration": 1657,
    "start_time": "2022-06-09T11:17:53.207Z"
   },
   {
    "duration": 328,
    "start_time": "2022-06-09T11:17:54.867Z"
   },
   {
    "duration": 24,
    "start_time": "2022-06-09T11:17:55.197Z"
   },
   {
    "duration": 31,
    "start_time": "2022-06-09T11:17:55.223Z"
   },
   {
    "duration": 15,
    "start_time": "2022-06-09T11:17:55.256Z"
   },
   {
    "duration": 85,
    "start_time": "2022-06-09T11:17:55.273Z"
   },
   {
    "duration": 33,
    "start_time": "2022-06-09T11:17:55.360Z"
   },
   {
    "duration": 77,
    "start_time": "2022-06-09T11:17:55.396Z"
   },
   {
    "duration": 7,
    "start_time": "2022-06-09T11:17:55.476Z"
   },
   {
    "duration": 52,
    "start_time": "2022-06-09T11:17:55.487Z"
   },
   {
    "duration": 347,
    "start_time": "2022-06-09T11:17:55.541Z"
   },
   {
    "duration": 1463,
    "start_time": "2022-06-09T11:17:55.890Z"
   },
   {
    "duration": 434,
    "start_time": "2022-06-09T11:17:57.355Z"
   },
   {
    "duration": 413,
    "start_time": "2022-06-09T11:17:57.791Z"
   },
   {
    "duration": 38,
    "start_time": "2022-06-09T11:17:58.206Z"
   },
   {
    "duration": 32,
    "start_time": "2022-06-09T11:17:58.246Z"
   },
   {
    "duration": 62,
    "start_time": "2022-06-09T11:17:58.281Z"
   },
   {
    "duration": 4,
    "start_time": "2022-06-09T11:17:58.346Z"
   },
   {
    "duration": 392,
    "start_time": "2022-06-09T11:17:58.353Z"
   },
   {
    "duration": 0,
    "start_time": "2022-06-09T11:17:58.748Z"
   },
   {
    "duration": 0,
    "start_time": "2022-06-09T11:17:58.749Z"
   },
   {
    "duration": 0,
    "start_time": "2022-06-09T11:17:58.750Z"
   },
   {
    "duration": 0,
    "start_time": "2022-06-09T11:17:58.752Z"
   },
   {
    "duration": 0,
    "start_time": "2022-06-09T11:17:58.753Z"
   },
   {
    "duration": 0,
    "start_time": "2022-06-09T11:17:58.754Z"
   },
   {
    "duration": 0,
    "start_time": "2022-06-09T11:17:58.755Z"
   },
   {
    "duration": 0,
    "start_time": "2022-06-09T11:17:58.757Z"
   },
   {
    "duration": 0,
    "start_time": "2022-06-09T11:17:58.758Z"
   },
   {
    "duration": 0,
    "start_time": "2022-06-09T11:17:58.759Z"
   },
   {
    "duration": 0,
    "start_time": "2022-06-09T11:17:58.761Z"
   },
   {
    "duration": 0,
    "start_time": "2022-06-09T11:17:58.762Z"
   },
   {
    "duration": 0,
    "start_time": "2022-06-09T11:17:58.763Z"
   },
   {
    "duration": 0,
    "start_time": "2022-06-09T11:17:58.765Z"
   },
   {
    "duration": 0,
    "start_time": "2022-06-09T11:17:58.766Z"
   },
   {
    "duration": 0,
    "start_time": "2022-06-09T11:17:58.767Z"
   },
   {
    "duration": 0,
    "start_time": "2022-06-09T11:17:58.768Z"
   },
   {
    "duration": 0,
    "start_time": "2022-06-09T11:17:58.770Z"
   },
   {
    "duration": 0,
    "start_time": "2022-06-09T11:17:58.770Z"
   },
   {
    "duration": 0,
    "start_time": "2022-06-09T11:17:58.773Z"
   },
   {
    "duration": 737,
    "start_time": "2022-06-09T11:18:50.285Z"
   },
   {
    "duration": 745,
    "start_time": "2022-06-09T11:19:56.551Z"
   },
   {
    "duration": 544,
    "start_time": "2022-06-09T11:20:35.051Z"
   },
   {
    "duration": 825,
    "start_time": "2022-06-09T11:20:55.582Z"
   },
   {
    "duration": 3,
    "start_time": "2022-06-09T12:46:13.680Z"
   },
   {
    "duration": 616,
    "start_time": "2022-06-09T12:46:13.690Z"
   },
   {
    "duration": 17,
    "start_time": "2022-06-09T12:46:14.309Z"
   },
   {
    "duration": 38,
    "start_time": "2022-06-09T12:46:14.333Z"
   },
   {
    "duration": 5,
    "start_time": "2022-06-09T12:46:14.374Z"
   },
   {
    "duration": 76,
    "start_time": "2022-06-09T12:46:14.381Z"
   },
   {
    "duration": 34,
    "start_time": "2022-06-09T12:46:14.460Z"
   },
   {
    "duration": 76,
    "start_time": "2022-06-09T12:46:14.496Z"
   },
   {
    "duration": 8,
    "start_time": "2022-06-09T12:46:14.574Z"
   },
   {
    "duration": 173,
    "start_time": "2022-06-09T12:46:14.585Z"
   },
   {
    "duration": 306,
    "start_time": "2022-06-09T12:46:14.760Z"
   },
   {
    "duration": 1283,
    "start_time": "2022-06-09T12:46:15.068Z"
   },
   {
    "duration": 438,
    "start_time": "2022-06-09T12:46:16.354Z"
   },
   {
    "duration": 308,
    "start_time": "2022-06-09T12:46:16.794Z"
   },
   {
    "duration": 44,
    "start_time": "2022-06-09T12:46:17.104Z"
   },
   {
    "duration": 40,
    "start_time": "2022-06-09T12:46:17.152Z"
   },
   {
    "duration": 31,
    "start_time": "2022-06-09T12:46:17.193Z"
   },
   {
    "duration": 5,
    "start_time": "2022-06-09T12:46:17.244Z"
   },
   {
    "duration": 716,
    "start_time": "2022-06-09T12:46:17.251Z"
   },
   {
    "duration": 905,
    "start_time": "2022-06-09T12:46:17.969Z"
   },
   {
    "duration": 841,
    "start_time": "2022-06-09T12:46:18.875Z"
   },
   {
    "duration": 18,
    "start_time": "2022-06-09T12:46:19.718Z"
   },
   {
    "duration": 44,
    "start_time": "2022-06-09T12:46:19.739Z"
   },
   {
    "duration": 800,
    "start_time": "2022-06-09T12:46:19.785Z"
   },
   {
    "duration": 58,
    "start_time": "2022-06-09T12:46:20.586Z"
   },
   {
    "duration": 4,
    "start_time": "2022-06-09T12:46:20.649Z"
   },
   {
    "duration": 14,
    "start_time": "2022-06-09T12:46:20.656Z"
   },
   {
    "duration": 540,
    "start_time": "2022-06-09T12:46:20.671Z"
   },
   {
    "duration": 431,
    "start_time": "2022-06-09T12:46:21.214Z"
   },
   {
    "duration": 262,
    "start_time": "2022-06-09T12:46:21.648Z"
   },
   {
    "duration": 289,
    "start_time": "2022-06-09T12:46:21.912Z"
   },
   {
    "duration": 55,
    "start_time": "2022-06-09T12:46:22.203Z"
   },
   {
    "duration": 8,
    "start_time": "2022-06-09T12:46:22.260Z"
   },
   {
    "duration": 72,
    "start_time": "2022-06-09T12:46:22.270Z"
   },
   {
    "duration": 14,
    "start_time": "2022-06-09T12:46:22.344Z"
   },
   {
    "duration": 29,
    "start_time": "2022-06-09T12:46:22.361Z"
   },
   {
    "duration": 10,
    "start_time": "2022-06-09T12:46:22.392Z"
   },
   {
    "duration": 45,
    "start_time": "2022-06-09T12:46:22.404Z"
   },
   {
    "duration": 20,
    "start_time": "2022-06-09T12:46:22.452Z"
   },
   {
    "duration": 724,
    "start_time": "2022-06-09T13:00:23.899Z"
   },
   {
    "duration": 15,
    "start_time": "2022-06-09T13:55:49.611Z"
   },
   {
    "duration": 4,
    "start_time": "2022-06-09T15:22:34.401Z"
   },
   {
    "duration": 302,
    "start_time": "2022-06-09T15:22:34.408Z"
   },
   {
    "duration": 31,
    "start_time": "2022-06-09T15:22:34.712Z"
   },
   {
    "duration": 58,
    "start_time": "2022-06-09T15:22:34.745Z"
   },
   {
    "duration": 5,
    "start_time": "2022-06-09T15:22:34.806Z"
   },
   {
    "duration": 52,
    "start_time": "2022-06-09T15:22:34.813Z"
   },
   {
    "duration": 27,
    "start_time": "2022-06-09T15:22:34.867Z"
   },
   {
    "duration": 71,
    "start_time": "2022-06-09T15:22:34.895Z"
   },
   {
    "duration": 7,
    "start_time": "2022-06-09T15:22:34.967Z"
   },
   {
    "duration": 43,
    "start_time": "2022-06-09T15:22:34.975Z"
   },
   {
    "duration": 388,
    "start_time": "2022-06-09T15:22:35.028Z"
   },
   {
    "duration": 1391,
    "start_time": "2022-06-09T15:22:35.418Z"
   },
   {
    "duration": 416,
    "start_time": "2022-06-09T15:22:36.812Z"
   },
   {
    "duration": 302,
    "start_time": "2022-06-09T15:22:37.232Z"
   },
   {
    "duration": 26,
    "start_time": "2022-06-09T15:22:37.536Z"
   },
   {
    "duration": 29,
    "start_time": "2022-06-09T15:22:37.564Z"
   },
   {
    "duration": 63,
    "start_time": "2022-06-09T15:22:37.595Z"
   },
   {
    "duration": 4,
    "start_time": "2022-06-09T15:22:37.659Z"
   },
   {
    "duration": 714,
    "start_time": "2022-06-09T15:22:37.665Z"
   },
   {
    "duration": 781,
    "start_time": "2022-06-09T15:22:38.381Z"
   },
   {
    "duration": 882,
    "start_time": "2022-06-09T15:22:39.164Z"
   },
   {
    "duration": 10,
    "start_time": "2022-06-09T15:22:40.047Z"
   },
   {
    "duration": 20,
    "start_time": "2022-06-09T15:22:40.059Z"
   },
   {
    "duration": 635,
    "start_time": "2022-06-09T15:22:40.081Z"
   },
   {
    "duration": 38,
    "start_time": "2022-06-09T15:22:40.718Z"
   },
   {
    "duration": 3,
    "start_time": "2022-06-09T15:22:40.758Z"
   },
   {
    "duration": 10,
    "start_time": "2022-06-09T15:22:40.762Z"
   },
   {
    "duration": 250,
    "start_time": "2022-06-09T15:22:40.774Z"
   },
   {
    "duration": 253,
    "start_time": "2022-06-09T15:22:41.028Z"
   },
   {
    "duration": 340,
    "start_time": "2022-06-09T15:22:41.283Z"
   },
   {
    "duration": 243,
    "start_time": "2022-06-09T15:22:41.626Z"
   },
   {
    "duration": 27,
    "start_time": "2022-06-09T15:22:41.871Z"
   },
   {
    "duration": 8,
    "start_time": "2022-06-09T15:22:41.900Z"
   },
   {
    "duration": 56,
    "start_time": "2022-06-09T15:22:41.927Z"
   },
   {
    "duration": 5,
    "start_time": "2022-06-09T15:22:41.985Z"
   },
   {
    "duration": 44,
    "start_time": "2022-06-09T15:22:41.991Z"
   },
   {
    "duration": 11,
    "start_time": "2022-06-09T15:22:42.038Z"
   },
   {
    "duration": 63,
    "start_time": "2022-06-09T15:22:42.050Z"
   },
   {
    "duration": 22,
    "start_time": "2022-06-09T15:22:42.115Z"
   },
   {
    "duration": 1149,
    "start_time": "2022-06-10T10:24:01.761Z"
   },
   {
    "duration": 391,
    "start_time": "2022-06-10T10:24:02.911Z"
   },
   {
    "duration": 16,
    "start_time": "2022-06-10T10:24:03.304Z"
   },
   {
    "duration": 16,
    "start_time": "2022-06-10T10:24:03.322Z"
   },
   {
    "duration": 4,
    "start_time": "2022-06-10T10:24:03.341Z"
   },
   {
    "duration": 31,
    "start_time": "2022-06-10T10:24:03.346Z"
   },
   {
    "duration": 20,
    "start_time": "2022-06-10T10:24:03.394Z"
   },
   {
    "duration": 33,
    "start_time": "2022-06-10T10:24:03.415Z"
   },
   {
    "duration": 5,
    "start_time": "2022-06-10T10:24:03.449Z"
   },
   {
    "duration": 43,
    "start_time": "2022-06-10T10:24:03.456Z"
   },
   {
    "duration": 246,
    "start_time": "2022-06-10T10:24:03.500Z"
   },
   {
    "duration": 1097,
    "start_time": "2022-06-10T10:24:03.747Z"
   },
   {
    "duration": 306,
    "start_time": "2022-06-10T10:24:04.846Z"
   },
   {
    "duration": 295,
    "start_time": "2022-06-10T10:24:05.153Z"
   },
   {
    "duration": 20,
    "start_time": "2022-06-10T10:24:05.450Z"
   },
   {
    "duration": 34,
    "start_time": "2022-06-10T10:24:05.472Z"
   },
   {
    "duration": 27,
    "start_time": "2022-06-10T10:24:05.508Z"
   },
   {
    "duration": 3,
    "start_time": "2022-06-10T10:24:05.536Z"
   },
   {
    "duration": 611,
    "start_time": "2022-06-10T10:24:05.541Z"
   },
   {
    "duration": 578,
    "start_time": "2022-06-10T10:24:06.153Z"
   },
   {
    "duration": 719,
    "start_time": "2022-06-10T10:24:06.733Z"
   },
   {
    "duration": 11,
    "start_time": "2022-06-10T10:24:07.454Z"
   },
   {
    "duration": 31,
    "start_time": "2022-06-10T10:24:07.466Z"
   },
   {
    "duration": 524,
    "start_time": "2022-06-10T10:24:07.499Z"
   },
   {
    "duration": 23,
    "start_time": "2022-06-10T10:24:08.025Z"
   },
   {
    "duration": 3,
    "start_time": "2022-06-10T10:24:08.050Z"
   },
   {
    "duration": 18,
    "start_time": "2022-06-10T10:24:08.054Z"
   },
   {
    "duration": 456,
    "start_time": "2022-06-10T10:24:08.075Z"
   },
   {
    "duration": 306,
    "start_time": "2022-06-10T10:24:08.532Z"
   },
   {
    "duration": 187,
    "start_time": "2022-06-10T10:24:08.839Z"
   },
   {
    "duration": 182,
    "start_time": "2022-06-10T10:24:09.027Z"
   },
   {
    "duration": 23,
    "start_time": "2022-06-10T10:24:09.211Z"
   },
   {
    "duration": 7,
    "start_time": "2022-06-10T10:24:09.235Z"
   },
   {
    "duration": 59,
    "start_time": "2022-06-10T10:24:09.243Z"
   },
   {
    "duration": 5,
    "start_time": "2022-06-10T10:24:09.303Z"
   },
   {
    "duration": 26,
    "start_time": "2022-06-10T10:24:09.309Z"
   },
   {
    "duration": 11,
    "start_time": "2022-06-10T10:24:09.337Z"
   },
   {
    "duration": 27,
    "start_time": "2022-06-10T10:24:09.349Z"
   },
   {
    "duration": 27,
    "start_time": "2022-06-10T10:24:09.377Z"
   },
   {
    "duration": 7,
    "start_time": "2022-06-10T10:24:47.131Z"
   },
   {
    "duration": 13,
    "start_time": "2022-06-10T10:25:13.209Z"
   },
   {
    "duration": 17,
    "start_time": "2022-06-10T10:25:44.146Z"
   },
   {
    "duration": 11,
    "start_time": "2022-06-10T10:26:01.429Z"
   },
   {
    "duration": 13,
    "start_time": "2022-06-10T10:26:08.414Z"
   },
   {
    "duration": 12,
    "start_time": "2022-06-10T10:26:36.810Z"
   },
   {
    "duration": 12,
    "start_time": "2022-06-10T10:26:47.533Z"
   },
   {
    "duration": 26,
    "start_time": "2022-06-10T10:27:21.819Z"
   },
   {
    "duration": 26,
    "start_time": "2022-06-10T10:28:00.022Z"
   },
   {
    "duration": 25,
    "start_time": "2022-06-10T10:28:49.378Z"
   },
   {
    "duration": 31,
    "start_time": "2022-06-10T10:30:06.462Z"
   },
   {
    "duration": 68,
    "start_time": "2022-06-10T10:30:37.976Z"
   },
   {
    "duration": 83,
    "start_time": "2022-06-10T10:30:42.719Z"
   },
   {
    "duration": 57,
    "start_time": "2022-06-10T10:31:09.660Z"
   },
   {
    "duration": 59,
    "start_time": "2022-06-10T10:31:48.517Z"
   },
   {
    "duration": 68,
    "start_time": "2022-06-10T10:32:06.982Z"
   },
   {
    "duration": 34,
    "start_time": "2022-06-10T10:32:38.820Z"
   },
   {
    "duration": 52,
    "start_time": "2022-06-10T10:32:44.725Z"
   },
   {
    "duration": 41,
    "start_time": "2022-06-10T17:43:06.650Z"
   },
   {
    "duration": 1233,
    "start_time": "2022-06-10T17:43:15.569Z"
   },
   {
    "duration": 272,
    "start_time": "2022-06-10T17:43:16.803Z"
   },
   {
    "duration": 16,
    "start_time": "2022-06-10T17:43:17.077Z"
   },
   {
    "duration": 19,
    "start_time": "2022-06-10T17:43:17.094Z"
   },
   {
    "duration": 5,
    "start_time": "2022-06-10T17:43:17.114Z"
   },
   {
    "duration": 33,
    "start_time": "2022-06-10T17:43:17.120Z"
   },
   {
    "duration": 43,
    "start_time": "2022-06-10T17:43:17.154Z"
   },
   {
    "duration": 33,
    "start_time": "2022-06-10T17:43:17.198Z"
   },
   {
    "duration": 5,
    "start_time": "2022-06-10T17:43:17.232Z"
   },
   {
    "duration": 47,
    "start_time": "2022-06-10T17:43:17.239Z"
   },
   {
    "duration": 267,
    "start_time": "2022-06-10T17:43:17.287Z"
   },
   {
    "duration": 1121,
    "start_time": "2022-06-10T17:43:17.555Z"
   },
   {
    "duration": 317,
    "start_time": "2022-06-10T17:43:18.678Z"
   },
   {
    "duration": 289,
    "start_time": "2022-06-10T17:43:18.997Z"
   },
   {
    "duration": 22,
    "start_time": "2022-06-10T17:43:19.288Z"
   },
   {
    "duration": 26,
    "start_time": "2022-06-10T17:43:19.312Z"
   },
   {
    "duration": 53,
    "start_time": "2022-06-10T17:43:19.340Z"
   },
   {
    "duration": 56,
    "start_time": "2022-06-10T17:43:19.395Z"
   },
   {
    "duration": 3,
    "start_time": "2022-06-10T17:43:19.452Z"
   },
   {
    "duration": 625,
    "start_time": "2022-06-10T17:43:19.457Z"
   },
   {
    "duration": 605,
    "start_time": "2022-06-10T17:43:20.083Z"
   },
   {
    "duration": 874,
    "start_time": "2022-06-10T17:43:20.690Z"
   },
   {
    "duration": 15,
    "start_time": "2022-06-10T17:43:21.566Z"
   },
   {
    "duration": 17,
    "start_time": "2022-06-10T17:43:21.583Z"
   },
   {
    "duration": 594,
    "start_time": "2022-06-10T17:43:21.602Z"
   },
   {
    "duration": 26,
    "start_time": "2022-06-10T17:43:22.198Z"
   },
   {
    "duration": 4,
    "start_time": "2022-06-10T17:43:22.225Z"
   },
   {
    "duration": 7,
    "start_time": "2022-06-10T17:43:22.232Z"
   },
   {
    "duration": 453,
    "start_time": "2022-06-10T17:43:22.241Z"
   },
   {
    "duration": 319,
    "start_time": "2022-06-10T17:43:22.696Z"
   },
   {
    "duration": 212,
    "start_time": "2022-06-10T17:43:23.017Z"
   },
   {
    "duration": 213,
    "start_time": "2022-06-10T17:43:23.230Z"
   },
   {
    "duration": 36,
    "start_time": "2022-06-10T17:43:23.444Z"
   },
   {
    "duration": 7,
    "start_time": "2022-06-10T17:43:23.482Z"
   },
   {
    "duration": 51,
    "start_time": "2022-06-10T17:43:23.490Z"
   },
   {
    "duration": 5,
    "start_time": "2022-06-10T17:43:23.542Z"
   },
   {
    "duration": 37,
    "start_time": "2022-06-10T17:43:23.548Z"
   },
   {
    "duration": 8,
    "start_time": "2022-06-10T17:43:23.587Z"
   },
   {
    "duration": 28,
    "start_time": "2022-06-10T17:43:23.596Z"
   },
   {
    "duration": 14,
    "start_time": "2022-06-10T17:43:23.625Z"
   },
   {
    "duration": 35,
    "start_time": "2022-06-10T18:02:37.014Z"
   },
   {
    "duration": 4,
    "start_time": "2022-06-10T18:02:55.142Z"
   },
   {
    "duration": 9,
    "start_time": "2022-06-10T18:03:19.981Z"
   },
   {
    "duration": 9,
    "start_time": "2022-06-10T18:03:37.863Z"
   },
   {
    "duration": 9,
    "start_time": "2022-06-10T18:03:50.054Z"
   },
   {
    "duration": 11,
    "start_time": "2022-06-10T18:06:14.226Z"
   },
   {
    "duration": 10,
    "start_time": "2022-06-10T18:06:41.540Z"
   },
   {
    "duration": 173,
    "start_time": "2022-06-10T18:07:38.209Z"
   },
   {
    "duration": 13,
    "start_time": "2022-06-10T18:07:50.397Z"
   },
   {
    "duration": 12,
    "start_time": "2022-06-10T18:08:28.495Z"
   },
   {
    "duration": 13,
    "start_time": "2022-06-10T18:10:08.916Z"
   },
   {
    "duration": 1319,
    "start_time": "2022-06-14T10:05:54.266Z"
   },
   {
    "duration": 340,
    "start_time": "2022-06-14T10:05:55.587Z"
   },
   {
    "duration": 29,
    "start_time": "2022-06-14T10:05:55.929Z"
   },
   {
    "duration": 22,
    "start_time": "2022-06-14T10:05:55.960Z"
   },
   {
    "duration": 5,
    "start_time": "2022-06-14T10:05:55.984Z"
   },
   {
    "duration": 34,
    "start_time": "2022-06-14T10:05:55.990Z"
   },
   {
    "duration": 48,
    "start_time": "2022-06-14T10:05:56.026Z"
   },
   {
    "duration": 42,
    "start_time": "2022-06-14T10:05:56.076Z"
   },
   {
    "duration": 7,
    "start_time": "2022-06-14T10:05:56.121Z"
   },
   {
    "duration": 57,
    "start_time": "2022-06-14T10:05:56.131Z"
   },
   {
    "duration": 275,
    "start_time": "2022-06-14T10:05:56.189Z"
   },
   {
    "duration": 1131,
    "start_time": "2022-06-14T10:05:56.465Z"
   },
   {
    "duration": 406,
    "start_time": "2022-06-14T10:05:57.598Z"
   },
   {
    "duration": 314,
    "start_time": "2022-06-14T10:05:58.005Z"
   },
   {
    "duration": 22,
    "start_time": "2022-06-14T10:05:58.321Z"
   },
   {
    "duration": 27,
    "start_time": "2022-06-14T10:05:58.358Z"
   },
   {
    "duration": 31,
    "start_time": "2022-06-14T10:05:58.387Z"
   },
   {
    "duration": 85,
    "start_time": "2022-06-14T10:05:58.420Z"
   },
   {
    "duration": 4,
    "start_time": "2022-06-14T10:05:58.506Z"
   },
   {
    "duration": 656,
    "start_time": "2022-06-14T10:05:58.512Z"
   },
   {
    "duration": 610,
    "start_time": "2022-06-14T10:05:59.170Z"
   },
   {
    "duration": 789,
    "start_time": "2022-06-14T10:05:59.781Z"
   },
   {
    "duration": 10,
    "start_time": "2022-06-14T10:06:00.572Z"
   },
   {
    "duration": 24,
    "start_time": "2022-06-14T10:06:00.584Z"
   },
   {
    "duration": 552,
    "start_time": "2022-06-14T10:06:00.610Z"
   },
   {
    "duration": 24,
    "start_time": "2022-06-14T10:06:01.164Z"
   },
   {
    "duration": 3,
    "start_time": "2022-06-14T10:06:01.190Z"
   },
   {
    "duration": 20,
    "start_time": "2022-06-14T10:06:01.195Z"
   },
   {
    "duration": 632,
    "start_time": "2022-06-14T10:06:01.216Z"
   },
   {
    "duration": 322,
    "start_time": "2022-06-14T10:06:01.850Z"
   },
   {
    "duration": 209,
    "start_time": "2022-06-14T10:06:02.175Z"
   },
   {
    "duration": 197,
    "start_time": "2022-06-14T10:06:02.386Z"
   },
   {
    "duration": 25,
    "start_time": "2022-06-14T10:06:02.584Z"
   },
   {
    "duration": 8,
    "start_time": "2022-06-14T10:06:02.610Z"
   },
   {
    "duration": 66,
    "start_time": "2022-06-14T10:06:02.619Z"
   },
   {
    "duration": 5,
    "start_time": "2022-06-14T10:06:02.686Z"
   },
   {
    "duration": 25,
    "start_time": "2022-06-14T10:06:02.693Z"
   },
   {
    "duration": 29,
    "start_time": "2022-06-14T10:06:02.720Z"
   },
   {
    "duration": 19,
    "start_time": "2022-06-14T10:06:02.750Z"
   },
   {
    "duration": 24,
    "start_time": "2022-06-14T10:06:02.771Z"
   },
   {
    "duration": 14,
    "start_time": "2022-06-14T10:06:02.797Z"
   },
   {
    "duration": 5,
    "start_time": "2022-06-14T10:07:33.777Z"
   }
  ],
  "kernelspec": {
   "display_name": "Python 3 (ipykernel)",
   "language": "python",
   "name": "python3"
  },
  "language_info": {
   "codemirror_mode": {
    "name": "ipython",
    "version": 3
   },
   "file_extension": ".py",
   "mimetype": "text/x-python",
   "name": "python",
   "nbconvert_exporter": "python",
   "pygments_lexer": "ipython3",
   "version": "3.9.13"
  },
  "toc": {
   "base_numbering": 1,
   "nav_menu": {},
   "number_sections": true,
   "sideBar": true,
   "skip_h1_title": true,
   "title_cell": "Table of Contents",
   "title_sidebar": "Contents",
   "toc_cell": false,
   "toc_position": {
    "height": "calc(100% - 180px)",
    "left": "10px",
    "top": "150px",
    "width": "242.2px"
   },
   "toc_section_display": true,
   "toc_window_display": true
  }
 },
 "nbformat": 4,
 "nbformat_minor": 2
}
