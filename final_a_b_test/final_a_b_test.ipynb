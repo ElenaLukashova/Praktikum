{
 "cells": [
  {
   "cell_type": "markdown",
   "metadata": {},
   "source": [
    "# Проект по А/B-тестированию"
   ]
  },
  {
   "cell_type": "markdown",
   "metadata": {},
   "source": [
    "В нашем распоряжении данные с действиями пользователей, а также несколько вспомогательных датасетов, по которым необходимо провести оценку результатов А/В теста. Название теста: \"recommender_system_test\", он связан с введением новой рекомендательной системы.  \n",
    "К набору новых пользователей на это тестирование предъявлены некоторые требования, указанные в техническом задании.  \n",
    "Параллельно с этим тестированием проводился еще один тест под названием \"interface_eu_test\". Поэтому необходимо проверить тестовую выборку на пересечение с другим тестом, на соответствие техническому заданию, а также оценить корректность проведения теста.  \n",
    "Введение новой рекомендательной системы будет считаться успешным, если за 14 дней с момента регистрации в системе конверсия пользователей из группы В в каждое из событий (product_page, product_cart, purchase) будет минимум на 10% выше, чем у пользователей из группы А."
   ]
  },
  {
   "cell_type": "markdown",
   "metadata": {},
   "source": [
    "**Данные**\n",
    "\n",
    "/datasets/ab_project_marketing_events.csv — календарь маркетинговых событий на 2020 год;  \n",
    "_**Структура файла:**_\n",
    "- name — название маркетингового события;\n",
    "- regions — регионы, в которых будет проводиться рекламная кампания;\n",
    "- start_dt — дата начала кампании;\n",
    "- finish_dt — дата завершения кампании.\n",
    "\n",
    "/datasets/final_ab_new_users.csv — все пользователи, зарегистрировавшиеся в интернет-магазине в период с 7 по 21 декабря 2020 года;\n",
    "_**Структура файла:**_\n",
    "- user_id — идентификатор пользователя;\n",
    "- first_date — дата регистрации;\n",
    "- region — регион пользователя;\n",
    "- device — устройство, с которого происходила регистрация.\n",
    "\n",
    "/datasets/final_ab_events.csv — все события новых пользователей в период с 7 декабря 2020 по 4 января 2021 года;  \n",
    "_**Структура файла:**_\n",
    "- user_id — идентификатор пользователя;\n",
    "- event_dt — дата и время события;\n",
    "- event_name — тип события;\n",
    "- details — дополнительные данные о событии. Например, для покупок, purchase, в этом поле хранится стоимость покупки в долларах.\n",
    "\n",
    "/datasets/final_ab_participants.csv — таблица участников тестов.  \n",
    "_**Структура файла:**_\n",
    "- user_id — идентификатор пользователя;\n",
    "- ab_test — название теста;\n",
    "- group — группа пользователя."
   ]
  },
  {
   "cell_type": "markdown",
   "metadata": {},
   "source": [
    "**Цели исследования**  \n",
    "\n",
    "1. С помощью имеющихся данных проверить выборку на соответствие требованиям ТЗ, оценить корректность проведения теста.\n",
    "2. Сравнить тестовые группы между собой путем различных исследований и оценить, достигнут ли ожидаемый эффект.\n",
    "3. Понять, оправдали ли себя изменения, связанные с внедрением улучшенной рекомендательной системы."
   ]
  },
  {
   "cell_type": "markdown",
   "metadata": {},
   "source": [
    "## Загрузка данных в переменные и просмотр информации"
   ]
  },
  {
   "cell_type": "markdown",
   "metadata": {},
   "source": [
    "*Импорт библиотек*"
   ]
  },
  {
   "cell_type": "code",
   "execution_count": 38,
   "metadata": {},
   "outputs": [],
   "source": [
    "import datetime as dt\n",
    "import math as mth\n",
    "\n",
    "import numpy as np\n",
    "import pandas as pd\n",
    "import plotly.figure_factory as ff\n",
    "\n",
    "from matplotlib import pyplot as plt\n",
    "from plotly import graph_objects as go\n",
    "from scipy import stats as st"
   ]
  },
  {
   "cell_type": "markdown",
   "metadata": {},
   "source": [
    "*Запись данных в переменные*"
   ]
  },
  {
   "cell_type": "code",
   "execution_count": 39,
   "metadata": {},
   "outputs": [],
   "source": [
    "events = pd.read_csv('https://code.s3.yandex.net/datasets/final_ab_events.csv')\n",
    "marketing_events = pd.read_csv('https://code.s3.yandex.net/datasets/ab_project_marketing_events.csv')\n",
    "new_users = pd.read_csv('https://code.s3.yandex.net/datasets/final_ab_new_users.csv')\n",
    "participants = pd.read_csv('https://code.s3.yandex.net/datasets/final_ab_participants.csv')"
   ]
  },
  {
   "cell_type": "markdown",
   "metadata": {},
   "source": [
    "*Функция для просмотра информации о датафрейме*"
   ]
  },
  {
   "cell_type": "code",
   "execution_count": 40,
   "metadata": {},
   "outputs": [],
   "source": [
    "def inform(df):\n",
    "    df.info()\n",
    "    display(df.head(10))\n",
    "    return 'Кол-во полных дубликатов:', df.duplicated().sum()"
   ]
  },
  {
   "cell_type": "markdown",
   "metadata": {},
   "source": [
    "*Просмотр информации о таблице с событиями новых пользователей*"
   ]
  },
  {
   "cell_type": "code",
   "execution_count": 41,
   "metadata": {
    "scrolled": true
   },
   "outputs": [
    {
     "name": "stdout",
     "output_type": "stream",
     "text": [
      "<class 'pandas.core.frame.DataFrame'>\n",
      "RangeIndex: 440317 entries, 0 to 440316\n",
      "Data columns (total 4 columns):\n",
      " #   Column      Non-Null Count   Dtype  \n",
      "---  ------      --------------   -----  \n",
      " 0   user_id     440317 non-null  object \n",
      " 1   event_dt    440317 non-null  object \n",
      " 2   event_name  440317 non-null  object \n",
      " 3   details     62740 non-null   float64\n",
      "dtypes: float64(1), object(3)\n",
      "memory usage: 13.4+ MB\n"
     ]
    },
    {
     "data": {
      "text/html": [
       "<div>\n",
       "<style scoped>\n",
       "    .dataframe tbody tr th:only-of-type {\n",
       "        vertical-align: middle;\n",
       "    }\n",
       "\n",
       "    .dataframe tbody tr th {\n",
       "        vertical-align: top;\n",
       "    }\n",
       "\n",
       "    .dataframe thead th {\n",
       "        text-align: right;\n",
       "    }\n",
       "</style>\n",
       "<table border=\"1\" class=\"dataframe\">\n",
       "  <thead>\n",
       "    <tr style=\"text-align: right;\">\n",
       "      <th></th>\n",
       "      <th>user_id</th>\n",
       "      <th>event_dt</th>\n",
       "      <th>event_name</th>\n",
       "      <th>details</th>\n",
       "    </tr>\n",
       "  </thead>\n",
       "  <tbody>\n",
       "    <tr>\n",
       "      <th>0</th>\n",
       "      <td>E1BDDCE0DAFA2679</td>\n",
       "      <td>2020-12-07 20:22:03</td>\n",
       "      <td>purchase</td>\n",
       "      <td>99.99</td>\n",
       "    </tr>\n",
       "    <tr>\n",
       "      <th>1</th>\n",
       "      <td>7B6452F081F49504</td>\n",
       "      <td>2020-12-07 09:22:53</td>\n",
       "      <td>purchase</td>\n",
       "      <td>9.99</td>\n",
       "    </tr>\n",
       "    <tr>\n",
       "      <th>2</th>\n",
       "      <td>9CD9F34546DF254C</td>\n",
       "      <td>2020-12-07 12:59:29</td>\n",
       "      <td>purchase</td>\n",
       "      <td>4.99</td>\n",
       "    </tr>\n",
       "    <tr>\n",
       "      <th>3</th>\n",
       "      <td>96F27A054B191457</td>\n",
       "      <td>2020-12-07 04:02:40</td>\n",
       "      <td>purchase</td>\n",
       "      <td>4.99</td>\n",
       "    </tr>\n",
       "    <tr>\n",
       "      <th>4</th>\n",
       "      <td>1FD7660FDF94CA1F</td>\n",
       "      <td>2020-12-07 10:15:09</td>\n",
       "      <td>purchase</td>\n",
       "      <td>4.99</td>\n",
       "    </tr>\n",
       "    <tr>\n",
       "      <th>5</th>\n",
       "      <td>831887FE7F2D6CBA</td>\n",
       "      <td>2020-12-07 06:50:29</td>\n",
       "      <td>purchase</td>\n",
       "      <td>4.99</td>\n",
       "    </tr>\n",
       "    <tr>\n",
       "      <th>6</th>\n",
       "      <td>6B2F726BFD5F8220</td>\n",
       "      <td>2020-12-07 11:27:42</td>\n",
       "      <td>purchase</td>\n",
       "      <td>4.99</td>\n",
       "    </tr>\n",
       "    <tr>\n",
       "      <th>7</th>\n",
       "      <td>BEB37715AACF53B0</td>\n",
       "      <td>2020-12-07 04:26:15</td>\n",
       "      <td>purchase</td>\n",
       "      <td>4.99</td>\n",
       "    </tr>\n",
       "    <tr>\n",
       "      <th>8</th>\n",
       "      <td>B5FA27F582227197</td>\n",
       "      <td>2020-12-07 01:46:37</td>\n",
       "      <td>purchase</td>\n",
       "      <td>4.99</td>\n",
       "    </tr>\n",
       "    <tr>\n",
       "      <th>9</th>\n",
       "      <td>A92195E3CFB83DBD</td>\n",
       "      <td>2020-12-07 00:32:07</td>\n",
       "      <td>purchase</td>\n",
       "      <td>4.99</td>\n",
       "    </tr>\n",
       "  </tbody>\n",
       "</table>\n",
       "</div>"
      ],
      "text/plain": [
       "            user_id             event_dt event_name  details\n",
       "0  E1BDDCE0DAFA2679  2020-12-07 20:22:03   purchase    99.99\n",
       "1  7B6452F081F49504  2020-12-07 09:22:53   purchase     9.99\n",
       "2  9CD9F34546DF254C  2020-12-07 12:59:29   purchase     4.99\n",
       "3  96F27A054B191457  2020-12-07 04:02:40   purchase     4.99\n",
       "4  1FD7660FDF94CA1F  2020-12-07 10:15:09   purchase     4.99\n",
       "5  831887FE7F2D6CBA  2020-12-07 06:50:29   purchase     4.99\n",
       "6  6B2F726BFD5F8220  2020-12-07 11:27:42   purchase     4.99\n",
       "7  BEB37715AACF53B0  2020-12-07 04:26:15   purchase     4.99\n",
       "8  B5FA27F582227197  2020-12-07 01:46:37   purchase     4.99\n",
       "9  A92195E3CFB83DBD  2020-12-07 00:32:07   purchase     4.99"
      ]
     },
     "metadata": {},
     "output_type": "display_data"
    },
    {
     "data": {
      "text/plain": [
       "('Кол-во полных дубликатов:', 0)"
      ]
     },
     "execution_count": 41,
     "metadata": {},
     "output_type": "execute_result"
    }
   ],
   "source": [
    "inform(events)"
   ]
  },
  {
   "cell_type": "markdown",
   "metadata": {},
   "source": [
    "*Просмотр информации о таблице с календарем маркетинговых событий*"
   ]
  },
  {
   "cell_type": "code",
   "execution_count": 42,
   "metadata": {},
   "outputs": [
    {
     "name": "stdout",
     "output_type": "stream",
     "text": [
      "<class 'pandas.core.frame.DataFrame'>\n",
      "RangeIndex: 14 entries, 0 to 13\n",
      "Data columns (total 4 columns):\n",
      " #   Column     Non-Null Count  Dtype \n",
      "---  ------     --------------  ----- \n",
      " 0   name       14 non-null     object\n",
      " 1   regions    14 non-null     object\n",
      " 2   start_dt   14 non-null     object\n",
      " 3   finish_dt  14 non-null     object\n",
      "dtypes: object(4)\n",
      "memory usage: 576.0+ bytes\n"
     ]
    },
    {
     "data": {
      "text/html": [
       "<div>\n",
       "<style scoped>\n",
       "    .dataframe tbody tr th:only-of-type {\n",
       "        vertical-align: middle;\n",
       "    }\n",
       "\n",
       "    .dataframe tbody tr th {\n",
       "        vertical-align: top;\n",
       "    }\n",
       "\n",
       "    .dataframe thead th {\n",
       "        text-align: right;\n",
       "    }\n",
       "</style>\n",
       "<table border=\"1\" class=\"dataframe\">\n",
       "  <thead>\n",
       "    <tr style=\"text-align: right;\">\n",
       "      <th></th>\n",
       "      <th>name</th>\n",
       "      <th>regions</th>\n",
       "      <th>start_dt</th>\n",
       "      <th>finish_dt</th>\n",
       "    </tr>\n",
       "  </thead>\n",
       "  <tbody>\n",
       "    <tr>\n",
       "      <th>0</th>\n",
       "      <td>Christmas&amp;New Year Promo</td>\n",
       "      <td>EU, N.America</td>\n",
       "      <td>2020-12-25</td>\n",
       "      <td>2021-01-03</td>\n",
       "    </tr>\n",
       "    <tr>\n",
       "      <th>1</th>\n",
       "      <td>St. Valentine's Day Giveaway</td>\n",
       "      <td>EU, CIS, APAC, N.America</td>\n",
       "      <td>2020-02-14</td>\n",
       "      <td>2020-02-16</td>\n",
       "    </tr>\n",
       "    <tr>\n",
       "      <th>2</th>\n",
       "      <td>St. Patric's Day Promo</td>\n",
       "      <td>EU, N.America</td>\n",
       "      <td>2020-03-17</td>\n",
       "      <td>2020-03-19</td>\n",
       "    </tr>\n",
       "    <tr>\n",
       "      <th>3</th>\n",
       "      <td>Easter Promo</td>\n",
       "      <td>EU, CIS, APAC, N.America</td>\n",
       "      <td>2020-04-12</td>\n",
       "      <td>2020-04-19</td>\n",
       "    </tr>\n",
       "    <tr>\n",
       "      <th>4</th>\n",
       "      <td>4th of July Promo</td>\n",
       "      <td>N.America</td>\n",
       "      <td>2020-07-04</td>\n",
       "      <td>2020-07-11</td>\n",
       "    </tr>\n",
       "    <tr>\n",
       "      <th>5</th>\n",
       "      <td>Black Friday Ads Campaign</td>\n",
       "      <td>EU, CIS, APAC, N.America</td>\n",
       "      <td>2020-11-26</td>\n",
       "      <td>2020-12-01</td>\n",
       "    </tr>\n",
       "    <tr>\n",
       "      <th>6</th>\n",
       "      <td>Chinese New Year Promo</td>\n",
       "      <td>APAC</td>\n",
       "      <td>2020-01-25</td>\n",
       "      <td>2020-02-07</td>\n",
       "    </tr>\n",
       "    <tr>\n",
       "      <th>7</th>\n",
       "      <td>Labor day (May 1st) Ads Campaign</td>\n",
       "      <td>EU, CIS, APAC</td>\n",
       "      <td>2020-05-01</td>\n",
       "      <td>2020-05-03</td>\n",
       "    </tr>\n",
       "    <tr>\n",
       "      <th>8</th>\n",
       "      <td>International Women's Day Promo</td>\n",
       "      <td>EU, CIS, APAC</td>\n",
       "      <td>2020-03-08</td>\n",
       "      <td>2020-03-10</td>\n",
       "    </tr>\n",
       "    <tr>\n",
       "      <th>9</th>\n",
       "      <td>Victory Day CIS (May 9th) Event</td>\n",
       "      <td>CIS</td>\n",
       "      <td>2020-05-09</td>\n",
       "      <td>2020-05-11</td>\n",
       "    </tr>\n",
       "  </tbody>\n",
       "</table>\n",
       "</div>"
      ],
      "text/plain": [
       "                               name                   regions    start_dt  \\\n",
       "0          Christmas&New Year Promo             EU, N.America  2020-12-25   \n",
       "1      St. Valentine's Day Giveaway  EU, CIS, APAC, N.America  2020-02-14   \n",
       "2            St. Patric's Day Promo             EU, N.America  2020-03-17   \n",
       "3                      Easter Promo  EU, CIS, APAC, N.America  2020-04-12   \n",
       "4                 4th of July Promo                 N.America  2020-07-04   \n",
       "5         Black Friday Ads Campaign  EU, CIS, APAC, N.America  2020-11-26   \n",
       "6            Chinese New Year Promo                      APAC  2020-01-25   \n",
       "7  Labor day (May 1st) Ads Campaign             EU, CIS, APAC  2020-05-01   \n",
       "8   International Women's Day Promo             EU, CIS, APAC  2020-03-08   \n",
       "9   Victory Day CIS (May 9th) Event                       CIS  2020-05-09   \n",
       "\n",
       "    finish_dt  \n",
       "0  2021-01-03  \n",
       "1  2020-02-16  \n",
       "2  2020-03-19  \n",
       "3  2020-04-19  \n",
       "4  2020-07-11  \n",
       "5  2020-12-01  \n",
       "6  2020-02-07  \n",
       "7  2020-05-03  \n",
       "8  2020-03-10  \n",
       "9  2020-05-11  "
      ]
     },
     "metadata": {},
     "output_type": "display_data"
    },
    {
     "data": {
      "text/plain": [
       "('Кол-во полных дубликатов:', 0)"
      ]
     },
     "execution_count": 42,
     "metadata": {},
     "output_type": "execute_result"
    }
   ],
   "source": [
    "inform(marketing_events)"
   ]
  },
  {
   "cell_type": "markdown",
   "metadata": {},
   "source": [
    "*Просмотр информации о таблице с данными о новых пользователях*"
   ]
  },
  {
   "cell_type": "code",
   "execution_count": 43,
   "metadata": {},
   "outputs": [
    {
     "name": "stdout",
     "output_type": "stream",
     "text": [
      "<class 'pandas.core.frame.DataFrame'>\n",
      "RangeIndex: 61733 entries, 0 to 61732\n",
      "Data columns (total 4 columns):\n",
      " #   Column      Non-Null Count  Dtype \n",
      "---  ------      --------------  ----- \n",
      " 0   user_id     61733 non-null  object\n",
      " 1   first_date  61733 non-null  object\n",
      " 2   region      61733 non-null  object\n",
      " 3   device      61733 non-null  object\n",
      "dtypes: object(4)\n",
      "memory usage: 1.9+ MB\n"
     ]
    },
    {
     "data": {
      "text/html": [
       "<div>\n",
       "<style scoped>\n",
       "    .dataframe tbody tr th:only-of-type {\n",
       "        vertical-align: middle;\n",
       "    }\n",
       "\n",
       "    .dataframe tbody tr th {\n",
       "        vertical-align: top;\n",
       "    }\n",
       "\n",
       "    .dataframe thead th {\n",
       "        text-align: right;\n",
       "    }\n",
       "</style>\n",
       "<table border=\"1\" class=\"dataframe\">\n",
       "  <thead>\n",
       "    <tr style=\"text-align: right;\">\n",
       "      <th></th>\n",
       "      <th>user_id</th>\n",
       "      <th>first_date</th>\n",
       "      <th>region</th>\n",
       "      <th>device</th>\n",
       "    </tr>\n",
       "  </thead>\n",
       "  <tbody>\n",
       "    <tr>\n",
       "      <th>0</th>\n",
       "      <td>D72A72121175D8BE</td>\n",
       "      <td>2020-12-07</td>\n",
       "      <td>EU</td>\n",
       "      <td>PC</td>\n",
       "    </tr>\n",
       "    <tr>\n",
       "      <th>1</th>\n",
       "      <td>F1C668619DFE6E65</td>\n",
       "      <td>2020-12-07</td>\n",
       "      <td>N.America</td>\n",
       "      <td>Android</td>\n",
       "    </tr>\n",
       "    <tr>\n",
       "      <th>2</th>\n",
       "      <td>2E1BF1D4C37EA01F</td>\n",
       "      <td>2020-12-07</td>\n",
       "      <td>EU</td>\n",
       "      <td>PC</td>\n",
       "    </tr>\n",
       "    <tr>\n",
       "      <th>3</th>\n",
       "      <td>50734A22C0C63768</td>\n",
       "      <td>2020-12-07</td>\n",
       "      <td>EU</td>\n",
       "      <td>iPhone</td>\n",
       "    </tr>\n",
       "    <tr>\n",
       "      <th>4</th>\n",
       "      <td>E1BDDCE0DAFA2679</td>\n",
       "      <td>2020-12-07</td>\n",
       "      <td>N.America</td>\n",
       "      <td>iPhone</td>\n",
       "    </tr>\n",
       "    <tr>\n",
       "      <th>5</th>\n",
       "      <td>137119F5A9E69421</td>\n",
       "      <td>2020-12-07</td>\n",
       "      <td>N.America</td>\n",
       "      <td>iPhone</td>\n",
       "    </tr>\n",
       "    <tr>\n",
       "      <th>6</th>\n",
       "      <td>62F0C741CC42D0CC</td>\n",
       "      <td>2020-12-07</td>\n",
       "      <td>APAC</td>\n",
       "      <td>iPhone</td>\n",
       "    </tr>\n",
       "    <tr>\n",
       "      <th>7</th>\n",
       "      <td>8942E64218C9A1ED</td>\n",
       "      <td>2020-12-07</td>\n",
       "      <td>EU</td>\n",
       "      <td>PC</td>\n",
       "    </tr>\n",
       "    <tr>\n",
       "      <th>8</th>\n",
       "      <td>499AFACF904BBAE3</td>\n",
       "      <td>2020-12-07</td>\n",
       "      <td>N.America</td>\n",
       "      <td>iPhone</td>\n",
       "    </tr>\n",
       "    <tr>\n",
       "      <th>9</th>\n",
       "      <td>FFCEA1179C253104</td>\n",
       "      <td>2020-12-07</td>\n",
       "      <td>EU</td>\n",
       "      <td>Android</td>\n",
       "    </tr>\n",
       "  </tbody>\n",
       "</table>\n",
       "</div>"
      ],
      "text/plain": [
       "            user_id  first_date     region   device\n",
       "0  D72A72121175D8BE  2020-12-07         EU       PC\n",
       "1  F1C668619DFE6E65  2020-12-07  N.America  Android\n",
       "2  2E1BF1D4C37EA01F  2020-12-07         EU       PC\n",
       "3  50734A22C0C63768  2020-12-07         EU   iPhone\n",
       "4  E1BDDCE0DAFA2679  2020-12-07  N.America   iPhone\n",
       "5  137119F5A9E69421  2020-12-07  N.America   iPhone\n",
       "6  62F0C741CC42D0CC  2020-12-07       APAC   iPhone\n",
       "7  8942E64218C9A1ED  2020-12-07         EU       PC\n",
       "8  499AFACF904BBAE3  2020-12-07  N.America   iPhone\n",
       "9  FFCEA1179C253104  2020-12-07         EU  Android"
      ]
     },
     "metadata": {},
     "output_type": "display_data"
    },
    {
     "data": {
      "text/plain": [
       "('Кол-во полных дубликатов:', 0)"
      ]
     },
     "execution_count": 43,
     "metadata": {},
     "output_type": "execute_result"
    }
   ],
   "source": [
    "inform(new_users)"
   ]
  },
  {
   "cell_type": "markdown",
   "metadata": {},
   "source": [
    "*Просмотр информации о таблице с участниками тестов*"
   ]
  },
  {
   "cell_type": "code",
   "execution_count": 44,
   "metadata": {},
   "outputs": [
    {
     "name": "stdout",
     "output_type": "stream",
     "text": [
      "<class 'pandas.core.frame.DataFrame'>\n",
      "RangeIndex: 18268 entries, 0 to 18267\n",
      "Data columns (total 3 columns):\n",
      " #   Column   Non-Null Count  Dtype \n",
      "---  ------   --------------  ----- \n",
      " 0   user_id  18268 non-null  object\n",
      " 1   group    18268 non-null  object\n",
      " 2   ab_test  18268 non-null  object\n",
      "dtypes: object(3)\n",
      "memory usage: 428.3+ KB\n"
     ]
    },
    {
     "data": {
      "text/html": [
       "<div>\n",
       "<style scoped>\n",
       "    .dataframe tbody tr th:only-of-type {\n",
       "        vertical-align: middle;\n",
       "    }\n",
       "\n",
       "    .dataframe tbody tr th {\n",
       "        vertical-align: top;\n",
       "    }\n",
       "\n",
       "    .dataframe thead th {\n",
       "        text-align: right;\n",
       "    }\n",
       "</style>\n",
       "<table border=\"1\" class=\"dataframe\">\n",
       "  <thead>\n",
       "    <tr style=\"text-align: right;\">\n",
       "      <th></th>\n",
       "      <th>user_id</th>\n",
       "      <th>group</th>\n",
       "      <th>ab_test</th>\n",
       "    </tr>\n",
       "  </thead>\n",
       "  <tbody>\n",
       "    <tr>\n",
       "      <th>0</th>\n",
       "      <td>D1ABA3E2887B6A73</td>\n",
       "      <td>A</td>\n",
       "      <td>recommender_system_test</td>\n",
       "    </tr>\n",
       "    <tr>\n",
       "      <th>1</th>\n",
       "      <td>A7A3664BD6242119</td>\n",
       "      <td>A</td>\n",
       "      <td>recommender_system_test</td>\n",
       "    </tr>\n",
       "    <tr>\n",
       "      <th>2</th>\n",
       "      <td>DABC14FDDFADD29E</td>\n",
       "      <td>A</td>\n",
       "      <td>recommender_system_test</td>\n",
       "    </tr>\n",
       "    <tr>\n",
       "      <th>3</th>\n",
       "      <td>04988C5DF189632E</td>\n",
       "      <td>A</td>\n",
       "      <td>recommender_system_test</td>\n",
       "    </tr>\n",
       "    <tr>\n",
       "      <th>4</th>\n",
       "      <td>482F14783456D21B</td>\n",
       "      <td>B</td>\n",
       "      <td>recommender_system_test</td>\n",
       "    </tr>\n",
       "    <tr>\n",
       "      <th>5</th>\n",
       "      <td>4FF2998A348C484F</td>\n",
       "      <td>A</td>\n",
       "      <td>recommender_system_test</td>\n",
       "    </tr>\n",
       "    <tr>\n",
       "      <th>6</th>\n",
       "      <td>7473E0943673C09E</td>\n",
       "      <td>A</td>\n",
       "      <td>recommender_system_test</td>\n",
       "    </tr>\n",
       "    <tr>\n",
       "      <th>7</th>\n",
       "      <td>C46FE336D240A054</td>\n",
       "      <td>A</td>\n",
       "      <td>recommender_system_test</td>\n",
       "    </tr>\n",
       "    <tr>\n",
       "      <th>8</th>\n",
       "      <td>92CB588012C10D3D</td>\n",
       "      <td>A</td>\n",
       "      <td>recommender_system_test</td>\n",
       "    </tr>\n",
       "    <tr>\n",
       "      <th>9</th>\n",
       "      <td>057AB296296C7FC0</td>\n",
       "      <td>B</td>\n",
       "      <td>recommender_system_test</td>\n",
       "    </tr>\n",
       "  </tbody>\n",
       "</table>\n",
       "</div>"
      ],
      "text/plain": [
       "            user_id group                  ab_test\n",
       "0  D1ABA3E2887B6A73     A  recommender_system_test\n",
       "1  A7A3664BD6242119     A  recommender_system_test\n",
       "2  DABC14FDDFADD29E     A  recommender_system_test\n",
       "3  04988C5DF189632E     A  recommender_system_test\n",
       "4  482F14783456D21B     B  recommender_system_test\n",
       "5  4FF2998A348C484F     A  recommender_system_test\n",
       "6  7473E0943673C09E     A  recommender_system_test\n",
       "7  C46FE336D240A054     A  recommender_system_test\n",
       "8  92CB588012C10D3D     A  recommender_system_test\n",
       "9  057AB296296C7FC0     B  recommender_system_test"
      ]
     },
     "metadata": {},
     "output_type": "display_data"
    },
    {
     "data": {
      "text/plain": [
       "('Кол-во полных дубликатов:', 0)"
      ]
     },
     "execution_count": 44,
     "metadata": {},
     "output_type": "execute_result"
    }
   ],
   "source": [
    "inform(participants)"
   ]
  },
  {
   "cell_type": "markdown",
   "metadata": {},
   "source": [
    "*Просмотр столбца с регионами пользователей на предмет неявных дубликатов*"
   ]
  },
  {
   "cell_type": "code",
   "execution_count": 45,
   "metadata": {},
   "outputs": [
    {
     "data": {
      "text/plain": [
       "array(['EU', 'N.America', 'APAC', 'CIS'], dtype=object)"
      ]
     },
     "execution_count": 45,
     "metadata": {},
     "output_type": "execute_result"
    }
   ],
   "source": [
    "new_users['region'].unique()"
   ]
  },
  {
   "cell_type": "markdown",
   "metadata": {},
   "source": [
    "*Просмотр столбца с устройствами, с которых происходила регистрация, на предмет неявных дубликатов*"
   ]
  },
  {
   "cell_type": "code",
   "execution_count": 46,
   "metadata": {},
   "outputs": [
    {
     "data": {
      "text/plain": [
       "array(['PC', 'Android', 'iPhone', 'Mac'], dtype=object)"
      ]
     },
     "execution_count": 46,
     "metadata": {},
     "output_type": "execute_result"
    }
   ],
   "source": [
    "new_users['device'].unique()"
   ]
  },
  {
   "cell_type": "markdown",
   "metadata": {},
   "source": [
    "_**Дубликаты во всех таблицах отсутствуют. Пропущенные значения в столбце `details` таблицы `events` объясняются тем, что этот столбец заполняется только при совершении пользователем события `purchase`. Все столбцы с датами необходимо привести к типу datetime.**_"
   ]
  },
  {
   "cell_type": "code",
   "execution_count": 47,
   "metadata": {},
   "outputs": [],
   "source": [
    "events['event_dt'] = pd.to_datetime(events['event_dt'], format='%Y-%m-%d %H:%M:%S')\n",
    "\n",
    "new_users['first_date'] = pd.to_datetime(new_users['first_date'], format='%Y-%m-%d')"
   ]
  },
  {
   "cell_type": "markdown",
   "metadata": {},
   "source": [
    "_**Просмотр данных завершен, можно переходить к анализу.**_"
   ]
  },
  {
   "cell_type": "markdown",
   "metadata": {},
   "source": [
    "## Оценка корректности проведения теста"
   ]
  },
  {
   "cell_type": "markdown",
   "metadata": {},
   "source": [
    "### Анализ пересечений"
   ]
  },
  {
   "cell_type": "code",
   "execution_count": 48,
   "metadata": {},
   "outputs": [
    {
     "name": "stdout",
     "output_type": "stream",
     "text": [
      "Количество пользователей, участвующих в тесте \"recommender_system_test\": 6701\n"
     ]
    }
   ],
   "source": [
    "print('Количество пользователей, участвующих в тесте \"recommender_system_test\":',\n",
    "      participants.query('ab_test == \"recommender_system_test\"')['user_id'].nunique())"
   ]
  },
  {
   "cell_type": "markdown",
   "metadata": {},
   "source": [
    "*Проверка на пересечение с конкурирующим тестом*"
   ]
  },
  {
   "cell_type": "code",
   "execution_count": 49,
   "metadata": {},
   "outputs": [
    {
     "name": "stdout",
     "output_type": "stream",
     "text": [
      "Кол-во пересечений с группой А теста \"interface_eu_test\": 819\n",
      "Кол-во пересечений группы A с группой B теста \"interface_eu_test\": 439\n",
      "Кол-во пересечений группы B с группой B теста \"interface_eu_test\": 344\n"
     ]
    }
   ],
   "source": [
    "print(\n",
    "    'Кол-во пересечений с группой А теста \"interface_eu_test\":',\n",
    "    len(\n",
    "        set(\n",
    "            participants\n",
    "            .query('ab_test == \"interface_eu_test\" and group == \"A\"')\n",
    "            ['user_id']\n",
    "        ).intersection(\n",
    "            set(\n",
    "                participants\n",
    "                .query('ab_test == \"recommender_system_test\"')\n",
    "                ['user_id']\n",
    "            )\n",
    "        )\n",
    "    )\n",
    ")\n",
    "\n",
    "for value in participants['group'].unique():\n",
    "    print(f'Кол-во пересечений группы {value} с группой B теста \"interface_eu_test\":',\n",
    "    len(\n",
    "        set(\n",
    "            participants\n",
    "            .query('ab_test == \"interface_eu_test\" and group == \"B\"')\n",
    "            ['user_id']\n",
    "        ).intersection(\n",
    "            set(\n",
    "                participants\n",
    "                .query('ab_test == \"recommender_system_test\" and group == @value')\n",
    "                ['user_id']\n",
    "            )\n",
    "        )\n",
    "    )\n",
    ")"
   ]
  },
  {
   "cell_type": "markdown",
   "metadata": {},
   "source": [
    "_**С конкурирующим тестом пересекаются более 1600 пользователей, однако, убрать их возможности нет, т.к. тогда участников теста будет менее 6000.**_  \n",
    "_**Пересечения с группой А конкурирующего теста смущать не должны, т.к. эти пользователи не видят изменений в рамках теста \"interface_eu_test\".**_  \n",
    "_**Если бы в группу B теста \"interface_eu_test\" попало одинаковое количество пользователей из групп А и В теста \"recommender_system_test\", то можно было бы сказать, что он оказывает на обе группы одинаковое влияние, однако, величины групп различаются на 22%. Тем не менее, пока опрометчиво что-то делать с этими пользователями, необходимо продолжить анализ.**_"
   ]
  },
  {
   "cell_type": "markdown",
   "metadata": {},
   "source": [
    "*Проверка на пересечение групп теста \"recommender_system_test\"*"
   ]
  },
  {
   "cell_type": "code",
   "execution_count": 50,
   "metadata": {},
   "outputs": [
    {
     "name": "stdout",
     "output_type": "stream",
     "text": [
      "Кол-во пересечений групп теста \"recommender_system_test\": 0\n"
     ]
    }
   ],
   "source": [
    "print(\n",
    "    'Кол-во пересечений групп теста \"recommender_system_test\":', \n",
    "    len(\n",
    "      participants\n",
    "      .query('ab_test == \"recommender_system_test\"')\n",
    "      .groupby('user_id')\n",
    "      .agg({'group': 'nunique'})\n",
    "      .query('group > 1')\n",
    "    )\n",
    ")"
   ]
  },
  {
   "cell_type": "markdown",
   "metadata": {},
   "source": [
    "_**В рамках теста \"recommender_system_test\" тестовые группы не пересекаются.**_"
   ]
  },
  {
   "cell_type": "markdown",
   "metadata": {},
   "source": [
    "*Распределение пользователей по группам*"
   ]
  },
  {
   "cell_type": "code",
   "execution_count": 51,
   "metadata": {},
   "outputs": [
    {
     "data": {
      "text/plain": [
       "A    3824\n",
       "B    2877\n",
       "Name: group, dtype: int64"
      ]
     },
     "execution_count": 51,
     "metadata": {},
     "output_type": "execute_result"
    }
   ],
   "source": [
    "participants.query('ab_test == \"recommender_system_test\"')['group'].value_counts()"
   ]
  },
  {
   "cell_type": "markdown",
   "metadata": {},
   "source": [
    "_**Выборки различаются на 25%.**_"
   ]
  },
  {
   "cell_type": "markdown",
   "metadata": {},
   "source": [
    "*Проверка правильности формирования групп*"
   ]
  },
  {
   "cell_type": "code",
   "execution_count": 52,
   "metadata": {},
   "outputs": [
    {
     "data": {
      "image/png": "[encoded data removed]",
      "text/plain": [
       "<Figure size 1152x432 with 2 Axes>"
      ]
     },
     "metadata": {
      "needs_background": "light"
     },
     "output_type": "display_data"
    }
   ],
   "source": [
    "# создание ячеек для графиков\n",
    "fig, ax = plt.subplots(1, 2, figsize = (16, 6), sharey=True)\n",
    "\n",
    "for i, value in enumerate(participants['group'].unique()):\n",
    "    \n",
    "    # построение гистограмм\n",
    "    ax[i].hist(\n",
    "        participants\n",
    "        .query('ab_test == \"recommender_system_test\" and group == @value')\n",
    "        .merge(new_users, on='user_id', how='left')\n",
    "        ['first_date']\n",
    "    )\n",
    "    ax[i].set_title(f'Набор пользователей в группу {value}')\n",
    "    ax[i].tick_params(axis='x', labelrotation = 45)\n",
    "    ax[i].grid();"
   ]
  },
  {
   "cell_type": "markdown",
   "metadata": {},
   "source": [
    "_**Характер набора пользователей в обе группы теста примерно одинаковый.**_"
   ]
  },
  {
   "cell_type": "markdown",
   "metadata": {},
   "source": [
    "### Проверка соответствия данных требованиям технического задания"
   ]
  },
  {
   "cell_type": "markdown",
   "metadata": {},
   "source": [
    "*Сбор нового датафрейма для дальнейшего анализа*"
   ]
  },
  {
   "cell_type": "code",
   "execution_count": 53,
   "metadata": {},
   "outputs": [
    {
     "name": "stdout",
     "output_type": "stream",
     "text": [
      "<class 'pandas.core.frame.DataFrame'>\n",
      "Int64Index: 27724 entries, 0 to 27723\n",
      "Data columns (total 6 columns):\n",
      " #   Column      Non-Null Count  Dtype         \n",
      "---  ------      --------------  -----         \n",
      " 0   user_id     27724 non-null  object        \n",
      " 1   group       27724 non-null  object        \n",
      " 2   first_date  27724 non-null  datetime64[ns]\n",
      " 3   region      27724 non-null  object        \n",
      " 4   event_dt    24698 non-null  datetime64[ns]\n",
      " 5   event_name  24698 non-null  object        \n",
      "dtypes: datetime64[ns](2), object(4)\n",
      "memory usage: 1.5+ MB\n"
     ]
    },
    {
     "data": {
      "text/html": [
       "<div>\n",
       "<style scoped>\n",
       "    .dataframe tbody tr th:only-of-type {\n",
       "        vertical-align: middle;\n",
       "    }\n",
       "\n",
       "    .dataframe tbody tr th {\n",
       "        vertical-align: top;\n",
       "    }\n",
       "\n",
       "    .dataframe thead th {\n",
       "        text-align: right;\n",
       "    }\n",
       "</style>\n",
       "<table border=\"1\" class=\"dataframe\">\n",
       "  <thead>\n",
       "    <tr style=\"text-align: right;\">\n",
       "      <th></th>\n",
       "      <th>user_id</th>\n",
       "      <th>group</th>\n",
       "      <th>first_date</th>\n",
       "      <th>region</th>\n",
       "      <th>event_dt</th>\n",
       "      <th>event_name</th>\n",
       "    </tr>\n",
       "  </thead>\n",
       "  <tbody>\n",
       "    <tr>\n",
       "      <th>0</th>\n",
       "      <td>D1ABA3E2887B6A73</td>\n",
       "      <td>A</td>\n",
       "      <td>2020-12-07</td>\n",
       "      <td>EU</td>\n",
       "      <td>2020-12-07 14:43:27</td>\n",
       "      <td>purchase</td>\n",
       "    </tr>\n",
       "    <tr>\n",
       "      <th>1</th>\n",
       "      <td>D1ABA3E2887B6A73</td>\n",
       "      <td>A</td>\n",
       "      <td>2020-12-07</td>\n",
       "      <td>EU</td>\n",
       "      <td>2020-12-25 00:04:56</td>\n",
       "      <td>purchase</td>\n",
       "    </tr>\n",
       "    <tr>\n",
       "      <th>2</th>\n",
       "      <td>D1ABA3E2887B6A73</td>\n",
       "      <td>A</td>\n",
       "      <td>2020-12-07</td>\n",
       "      <td>EU</td>\n",
       "      <td>2020-12-07 14:43:29</td>\n",
       "      <td>product_cart</td>\n",
       "    </tr>\n",
       "    <tr>\n",
       "      <th>3</th>\n",
       "      <td>D1ABA3E2887B6A73</td>\n",
       "      <td>A</td>\n",
       "      <td>2020-12-07</td>\n",
       "      <td>EU</td>\n",
       "      <td>2020-12-25 00:04:57</td>\n",
       "      <td>product_cart</td>\n",
       "    </tr>\n",
       "    <tr>\n",
       "      <th>4</th>\n",
       "      <td>D1ABA3E2887B6A73</td>\n",
       "      <td>A</td>\n",
       "      <td>2020-12-07</td>\n",
       "      <td>EU</td>\n",
       "      <td>2020-12-07 14:43:27</td>\n",
       "      <td>product_page</td>\n",
       "    </tr>\n",
       "  </tbody>\n",
       "</table>\n",
       "</div>"
      ],
      "text/plain": [
       "            user_id group first_date region            event_dt    event_name\n",
       "0  D1ABA3E2887B6A73     A 2020-12-07     EU 2020-12-07 14:43:27      purchase\n",
       "1  D1ABA3E2887B6A73     A 2020-12-07     EU 2020-12-25 00:04:56      purchase\n",
       "2  D1ABA3E2887B6A73     A 2020-12-07     EU 2020-12-07 14:43:29  product_cart\n",
       "3  D1ABA3E2887B6A73     A 2020-12-07     EU 2020-12-25 00:04:57  product_cart\n",
       "4  D1ABA3E2887B6A73     A 2020-12-07     EU 2020-12-07 14:43:27  product_page"
      ]
     },
     "execution_count": 53,
     "metadata": {},
     "output_type": "execute_result"
    }
   ],
   "source": [
    "test_data = (\n",
    "    participants\n",
    "    .query('ab_test == \"recommender_system_test\"')[['user_id', 'group']]\n",
    "    .merge(new_users[['user_id', 'first_date', 'region']], on='user_id', how='left')\n",
    "    .merge(events[['user_id', 'event_dt', 'event_name']], on='user_id', how='left')\n",
    ")\n",
    "\n",
    "test_data.info()\n",
    "test_data.head()"
   ]
  },
  {
   "cell_type": "markdown",
   "metadata": {},
   "source": [
    "_**Более трех тысяч пользователей зарегистрировались и попали в тестовые группы, но не совершали никаких событий.**_"
   ]
  },
  {
   "cell_type": "code",
   "execution_count": 54,
   "metadata": {},
   "outputs": [
    {
     "name": "stdout",
     "output_type": "stream",
     "text": [
      "Количество пользователей, попавших в тестирование и совершивших хотя бы одно событие: 3675\n",
      "Распределение этих пользователей по группам: group\n",
      "A    2747\n",
      "B     928\n",
      "Name: user_id, dtype: int64\n"
     ]
    }
   ],
   "source": [
    "print('Количество пользователей, попавших в тестирование и совершивших хотя бы одно событие:',\n",
    "      test_data.query('event_name.notnull()', engine='python')['user_id'].nunique())\n",
    "\n",
    "print('Распределение этих пользователей по группам:',\n",
    "      test_data.query('event_name.notnull()', engine='python').groupby('group')['user_id'].nunique())"
   ]
  },
  {
   "cell_type": "markdown",
   "metadata": {},
   "source": [
    "_**Распределение пользователей по группам стало еще более удручающим, теперь в группе А в 3 раза больше пользователей, чем в группе В.**_"
   ]
  },
  {
   "cell_type": "markdown",
   "metadata": {},
   "source": [
    "*Проверка сроков набора новых пользователей*"
   ]
  },
  {
   "cell_type": "code",
   "execution_count": 55,
   "metadata": {},
   "outputs": [
    {
     "name": "stdout",
     "output_type": "stream",
     "text": [
      "Первый день набора пользователей 2020-12-07 00:00:00\n",
      "Последний день набора пользователей 2020-12-21 00:00:00\n"
     ]
    }
   ],
   "source": [
    "print('Первый день набора пользователей', test_data['first_date'].min())\n",
    "print('Последний день набора пользователей', test_data['first_date'].max())"
   ]
  },
  {
   "cell_type": "markdown",
   "metadata": {},
   "source": [
    "_**Сроки набора совпадают с указананными в ТЗ.**_"
   ]
  },
  {
   "cell_type": "markdown",
   "metadata": {},
   "source": [
    "*Проверка сроков тестирования*"
   ]
  },
  {
   "cell_type": "code",
   "execution_count": 56,
   "metadata": {},
   "outputs": [
    {
     "name": "stdout",
     "output_type": "stream",
     "text": [
      "Первый день тестирования 2020-12-07 00:05:57\n",
      "Последний день тестирования 2020-12-30 12:42:57\n"
     ]
    }
   ],
   "source": [
    "print('Первый день тестирования', test_data['event_dt'].min())\n",
    "print('Последний день тестирования', test_data['event_dt'].max())"
   ]
  },
  {
   "cell_type": "markdown",
   "metadata": {},
   "source": [
    "_**Данные за 5 дней до предполагаемой остановки теста отсутствуют. То есть, некоторые пользователи не успели пробыть в тестировании 14 дней. Рассмотрим в дальнейшем, как их присутствие влияет на конверсию.**_"
   ]
  },
  {
   "cell_type": "markdown",
   "metadata": {},
   "source": [
    "*Проверка доли новых пользователей из EU*"
   ]
  },
  {
   "cell_type": "code",
   "execution_count": 57,
   "metadata": {},
   "outputs": [
    {
     "name": "stdout",
     "output_type": "stream",
     "text": [
      "Доля новых пользователей из региона EU, попавших в тестирование: 0.18966701508137973\n"
     ]
    }
   ],
   "source": [
    "print('Доля новых пользователей из региона EU, попавших в тестирование:',\n",
    "     test_data\n",
    "      .query('region == \"EU\"')\n",
    "      ['user_id']\n",
    "      .nunique()\n",
    "      /\n",
    "     new_users\n",
    "    .loc[\n",
    "        (new_users['first_date'] > test_data['first_date'].min()) & \n",
    "         (new_users['first_date'] < test_data['first_date'].max()) & \n",
    "         (new_users['region'] == 'EU')\n",
    "    ]\n",
    "      ['user_id']\n",
    "      .nunique()\n",
    "     )"
   ]
  },
  {
   "cell_type": "markdown",
   "metadata": {},
   "source": [
    "_**В тестирование попало 19% новых пользователей, пришедших из региона EU. Это соответствует требованию технического задания.**_  "
   ]
  },
  {
   "cell_type": "markdown",
   "metadata": {},
   "source": [
    "*Т.к. ожидаемый эффект рассчитывается за 14 дней с момента регистрации пользователя, необходимо удалить события, которые пользователь совершил на 15й день и позднее.*  \n",
    "\n",
    "*Добавление столбца с кол-вом дней от регистрации до совершения события*"
   ]
  },
  {
   "cell_type": "code",
   "execution_count": 58,
   "metadata": {},
   "outputs": [
    {
     "data": {
      "text/html": [
       "<div>\n",
       "<style scoped>\n",
       "    .dataframe tbody tr th:only-of-type {\n",
       "        vertical-align: middle;\n",
       "    }\n",
       "\n",
       "    .dataframe tbody tr th {\n",
       "        vertical-align: top;\n",
       "    }\n",
       "\n",
       "    .dataframe thead th {\n",
       "        text-align: right;\n",
       "    }\n",
       "</style>\n",
       "<table border=\"1\" class=\"dataframe\">\n",
       "  <thead>\n",
       "    <tr style=\"text-align: right;\">\n",
       "      <th></th>\n",
       "      <th>user_id</th>\n",
       "      <th>group</th>\n",
       "      <th>first_date</th>\n",
       "      <th>region</th>\n",
       "      <th>event_dt</th>\n",
       "      <th>event_name</th>\n",
       "      <th>days_reg_event</th>\n",
       "    </tr>\n",
       "  </thead>\n",
       "  <tbody>\n",
       "    <tr>\n",
       "      <th>0</th>\n",
       "      <td>D1ABA3E2887B6A73</td>\n",
       "      <td>A</td>\n",
       "      <td>2020-12-07</td>\n",
       "      <td>EU</td>\n",
       "      <td>2020-12-07 14:43:27</td>\n",
       "      <td>purchase</td>\n",
       "      <td>0.0</td>\n",
       "    </tr>\n",
       "    <tr>\n",
       "      <th>1</th>\n",
       "      <td>D1ABA3E2887B6A73</td>\n",
       "      <td>A</td>\n",
       "      <td>2020-12-07</td>\n",
       "      <td>EU</td>\n",
       "      <td>2020-12-25 00:04:56</td>\n",
       "      <td>purchase</td>\n",
       "      <td>18.0</td>\n",
       "    </tr>\n",
       "    <tr>\n",
       "      <th>2</th>\n",
       "      <td>D1ABA3E2887B6A73</td>\n",
       "      <td>A</td>\n",
       "      <td>2020-12-07</td>\n",
       "      <td>EU</td>\n",
       "      <td>2020-12-07 14:43:29</td>\n",
       "      <td>product_cart</td>\n",
       "      <td>0.0</td>\n",
       "    </tr>\n",
       "    <tr>\n",
       "      <th>3</th>\n",
       "      <td>D1ABA3E2887B6A73</td>\n",
       "      <td>A</td>\n",
       "      <td>2020-12-07</td>\n",
       "      <td>EU</td>\n",
       "      <td>2020-12-25 00:04:57</td>\n",
       "      <td>product_cart</td>\n",
       "      <td>18.0</td>\n",
       "    </tr>\n",
       "    <tr>\n",
       "      <th>4</th>\n",
       "      <td>D1ABA3E2887B6A73</td>\n",
       "      <td>A</td>\n",
       "      <td>2020-12-07</td>\n",
       "      <td>EU</td>\n",
       "      <td>2020-12-07 14:43:27</td>\n",
       "      <td>product_page</td>\n",
       "      <td>0.0</td>\n",
       "    </tr>\n",
       "  </tbody>\n",
       "</table>\n",
       "</div>"
      ],
      "text/plain": [
       "            user_id group first_date region            event_dt    event_name  \\\n",
       "0  D1ABA3E2887B6A73     A 2020-12-07     EU 2020-12-07 14:43:27      purchase   \n",
       "1  D1ABA3E2887B6A73     A 2020-12-07     EU 2020-12-25 00:04:56      purchase   \n",
       "2  D1ABA3E2887B6A73     A 2020-12-07     EU 2020-12-07 14:43:29  product_cart   \n",
       "3  D1ABA3E2887B6A73     A 2020-12-07     EU 2020-12-25 00:04:57  product_cart   \n",
       "4  D1ABA3E2887B6A73     A 2020-12-07     EU 2020-12-07 14:43:27  product_page   \n",
       "\n",
       "   days_reg_event  \n",
       "0             0.0  \n",
       "1            18.0  \n",
       "2             0.0  \n",
       "3            18.0  \n",
       "4             0.0  "
      ]
     },
     "execution_count": 58,
     "metadata": {},
     "output_type": "execute_result"
    }
   ],
   "source": [
    "test_data['days_reg_event'] = (test_data['event_dt'] - test_data['first_date']).dt.days\n",
    "\n",
    "test_data.head()"
   ]
  },
  {
   "cell_type": "markdown",
   "metadata": {},
   "source": [
    "*Удаление событий, превышающих 14 дней*"
   ]
  },
  {
   "cell_type": "code",
   "execution_count": 59,
   "metadata": {},
   "outputs": [],
   "source": [
    "test_data = test_data.query('days_reg_event < 15')"
   ]
  },
  {
   "cell_type": "markdown",
   "metadata": {},
   "source": [
    "*Необходимо также убрать пользователей, не совершивших за период тестирования ни одного события. На них необходимо было проверить соответствие тестовой группы ТЗ, но для анализа А/В теста нужно оперировать именно событиями, так что эти пользователи в дальнейшем неинтересны.*"
   ]
  },
  {
   "cell_type": "code",
   "execution_count": 60,
   "metadata": {},
   "outputs": [
    {
     "name": "stdout",
     "output_type": "stream",
     "text": [
      "<class 'pandas.core.frame.DataFrame'>\n",
      "Int64Index: 24070 entries, 0 to 27723\n",
      "Data columns (total 7 columns):\n",
      " #   Column          Non-Null Count  Dtype         \n",
      "---  ------          --------------  -----         \n",
      " 0   user_id         24070 non-null  object        \n",
      " 1   group           24070 non-null  object        \n",
      " 2   first_date      24070 non-null  datetime64[ns]\n",
      " 3   region          24070 non-null  object        \n",
      " 4   event_dt        24070 non-null  datetime64[ns]\n",
      " 5   event_name      24070 non-null  object        \n",
      " 6   days_reg_event  24070 non-null  float64       \n",
      "dtypes: datetime64[ns](2), float64(1), object(4)\n",
      "memory usage: 1.5+ MB\n"
     ]
    }
   ],
   "source": [
    "test_data = test_data.query('event_name.notnull()', engine='python')\n",
    "test_data.info()"
   ]
  },
  {
   "cell_type": "markdown",
   "metadata": {},
   "source": [
    "*Еще раз проверим распределение пользователей по группам*"
   ]
  },
  {
   "cell_type": "code",
   "execution_count": 61,
   "metadata": {},
   "outputs": [
    {
     "name": "stdout",
     "output_type": "stream",
     "text": [
      "Количество пользователей, попавших в тестирование и совершивших хотя бы одно событие: 3675\n",
      "Распределение этих пользователей по группам: group\n",
      "A    2747\n",
      "B     928\n",
      "Name: user_id, dtype: int64\n"
     ]
    }
   ],
   "source": [
    "print('Количество пользователей, попавших в тестирование и совершивших хотя бы одно событие:',\n",
    "      test_data['user_id'].nunique())\n",
    "\n",
    "print('Распределение этих пользователей по группам:',\n",
    "      test_data.groupby('group')['user_id'].nunique())"
   ]
  },
  {
   "cell_type": "markdown",
   "metadata": {},
   "source": [
    "_**Количество пользователей в группах осталось прежним. Датафрейм для дальнейшего анализа сформирован.**_"
   ]
  },
  {
   "cell_type": "markdown",
   "metadata": {},
   "source": [
    "### Анализ времени проведения теста на предмет совпадения с маркетинговыми и другими активностями"
   ]
  },
  {
   "cell_type": "markdown",
   "metadata": {},
   "source": [
    "*Добавление новой строки в таблицу с маркетинговыми событиями*"
   ]
  },
  {
   "cell_type": "code",
   "execution_count": 62,
   "metadata": {},
   "outputs": [
    {
     "data": {
      "text/html": [
       "<div>\n",
       "<style scoped>\n",
       "    .dataframe tbody tr th:only-of-type {\n",
       "        vertical-align: middle;\n",
       "    }\n",
       "\n",
       "    .dataframe tbody tr th {\n",
       "        vertical-align: top;\n",
       "    }\n",
       "\n",
       "    .dataframe thead th {\n",
       "        text-align: right;\n",
       "    }\n",
       "</style>\n",
       "<table border=\"1\" class=\"dataframe\">\n",
       "  <thead>\n",
       "    <tr style=\"text-align: right;\">\n",
       "      <th></th>\n",
       "      <th>name</th>\n",
       "      <th>regions</th>\n",
       "      <th>start_dt</th>\n",
       "      <th>finish_dt</th>\n",
       "    </tr>\n",
       "  </thead>\n",
       "  <tbody>\n",
       "    <tr>\n",
       "      <th>10</th>\n",
       "      <td>CIS New Year Gift Lottery</td>\n",
       "      <td>CIS</td>\n",
       "      <td>2020-12-30</td>\n",
       "      <td>2021-01-07</td>\n",
       "    </tr>\n",
       "    <tr>\n",
       "      <th>11</th>\n",
       "      <td>Dragon Boat Festival Giveaway</td>\n",
       "      <td>APAC</td>\n",
       "      <td>2020-06-25</td>\n",
       "      <td>2020-07-01</td>\n",
       "    </tr>\n",
       "    <tr>\n",
       "      <th>12</th>\n",
       "      <td>Single's Day Gift Promo</td>\n",
       "      <td>APAC</td>\n",
       "      <td>2020-11-11</td>\n",
       "      <td>2020-11-12</td>\n",
       "    </tr>\n",
       "    <tr>\n",
       "      <th>13</th>\n",
       "      <td>Chinese Moon Festival</td>\n",
       "      <td>APAC</td>\n",
       "      <td>2020-10-01</td>\n",
       "      <td>2020-10-07</td>\n",
       "    </tr>\n",
       "    <tr>\n",
       "      <th>14</th>\n",
       "      <td>Recommender system test</td>\n",
       "      <td>EU, CIS, APAC, N.America</td>\n",
       "      <td>2020-12-07</td>\n",
       "      <td>2021-01-04</td>\n",
       "    </tr>\n",
       "  </tbody>\n",
       "</table>\n",
       "</div>"
      ],
      "text/plain": [
       "                             name                   regions    start_dt  \\\n",
       "10      CIS New Year Gift Lottery                       CIS  2020-12-30   \n",
       "11  Dragon Boat Festival Giveaway                      APAC  2020-06-25   \n",
       "12        Single's Day Gift Promo                      APAC  2020-11-11   \n",
       "13          Chinese Moon Festival                      APAC  2020-10-01   \n",
       "14        Recommender system test  EU, CIS, APAC, N.America  2020-12-07   \n",
       "\n",
       "     finish_dt  \n",
       "10  2021-01-07  \n",
       "11  2020-07-01  \n",
       "12  2020-11-12  \n",
       "13  2020-10-07  \n",
       "14  2021-01-04  "
      ]
     },
     "execution_count": 62,
     "metadata": {},
     "output_type": "execute_result"
    }
   ],
   "source": [
    "marketing_events.loc[len(marketing_events.index)] = [\n",
    "    'Recommender system test', \n",
    "    'EU, CIS, APAC, N.America', \n",
    "    '2020-12-07',\n",
    "    '2021-01-04'\n",
    "]\n",
    "marketing_events.tail()"
   ]
  },
  {
   "cell_type": "markdown",
   "metadata": {},
   "source": [
    "*Построение диаграммы Ганта*"
   ]
  },
  {
   "cell_type": "code",
   "execution_count": 63,
   "metadata": {},
   "outputs": [
    {
     "data": {
      "application/vnd.plotly.v1+json": {
       "config": {
        "plotlyServerURL": "https://plot.ly"
       },
       "data": [
        {
         "fill": "toself",
         "fillcolor": "rgb(127, 127, 127)",
         "hoverinfo": "name",
         "legendgroup": "rgb(127, 127, 127)",
         "mode": "none",
         "name": "Labor day (May 1st) Ads Campaign",
         "type": "scatter",
         "x": [
          "2020-05-01",
          "2020-05-03",
          "2020-05-03",
          "2020-05-01"
         ],
         "y": [
          6.8,
          6.8,
          7.2,
          7.2
         ]
        },
        {
         "fill": "toself",
         "fillcolor": "rgb(140, 86, 75)",
         "hoverinfo": "name",
         "legendgroup": "rgb(140, 86, 75)",
         "mode": "none",
         "name": "Black Friday Ads Campaign",
         "type": "scatter",
         "x": [
          "2020-11-26",
          "2020-12-01",
          "2020-12-01",
          "2020-11-26"
         ],
         "y": [
          4.8,
          4.8,
          5.2,
          5.2
         ]
        },
        {
         "fill": "toself",
         "fillcolor": "rgb(148, 103, 189)",
         "hoverinfo": "name",
         "legendgroup": "rgb(148, 103, 189)",
         "mode": "none",
         "name": "Recommender system test",
         "type": "scatter",
         "x": [
          "2020-07-04",
          "2020-07-11",
          "2020-07-11",
          "2020-07-04",
          "2020-07-04",
          "2020-12-07",
          "2021-01-04",
          "2021-01-04",
          "2020-12-07"
         ],
         "y": [
          3.8,
          3.8,
          4.2,
          4.2,
          null,
          13.8,
          13.8,
          14.2,
          14.2
         ]
        },
        {
         "fill": "toself",
         "fillcolor": "rgb(188, 189, 34)",
         "hoverinfo": "name",
         "legendgroup": "rgb(188, 189, 34)",
         "mode": "none",
         "name": "International Women's Day Promo",
         "type": "scatter",
         "x": [
          "2020-03-08",
          "2020-03-10",
          "2020-03-10",
          "2020-03-08"
         ],
         "y": [
          7.8,
          7.8,
          8.2,
          8.2
         ]
        },
        {
         "fill": "toself",
         "fillcolor": "rgb(214, 39, 40)",
         "hoverinfo": "name",
         "legendgroup": "rgb(214, 39, 40)",
         "mode": "none",
         "name": "Chinese Moon Festival",
         "type": "scatter",
         "x": [
          "2020-04-12",
          "2020-04-19",
          "2020-04-19",
          "2020-04-12",
          "2020-04-12",
          "2020-10-01",
          "2020-10-07",
          "2020-10-07",
          "2020-10-01"
         ],
         "y": [
          2.8,
          2.8,
          3.2,
          3.2,
          null,
          12.8,
          12.8,
          13.2,
          13.2
         ]
        },
        {
         "fill": "toself",
         "fillcolor": "rgb(227, 119, 194)",
         "hoverinfo": "name",
         "legendgroup": "rgb(227, 119, 194)",
         "mode": "none",
         "name": "Chinese New Year Promo",
         "type": "scatter",
         "x": [
          "2020-01-25",
          "2020-02-07",
          "2020-02-07",
          "2020-01-25"
         ],
         "y": [
          5.8,
          5.8,
          6.2,
          6.2
         ]
        },
        {
         "fill": "toself",
         "fillcolor": "rgb(23, 190, 207)",
         "hoverinfo": "name",
         "legendgroup": "rgb(23, 190, 207)",
         "mode": "none",
         "name": "Victory Day CIS (May 9th) Event",
         "type": "scatter",
         "x": [
          "2020-05-09",
          "2020-05-11",
          "2020-05-11",
          "2020-05-09"
         ],
         "y": [
          8.8,
          8.8,
          9.2,
          9.2
         ]
        },
        {
         "fill": "toself",
         "fillcolor": "rgb(255, 127, 14)",
         "hoverinfo": "name",
         "legendgroup": "rgb(255, 127, 14)",
         "mode": "none",
         "name": "Dragon Boat Festival Giveaway",
         "type": "scatter",
         "x": [
          "2020-02-14",
          "2020-02-16",
          "2020-02-16",
          "2020-02-14",
          "2020-02-14",
          "2020-06-25",
          "2020-07-01",
          "2020-07-01",
          "2020-06-25"
         ],
         "y": [
          0.8,
          0.8,
          1.2,
          1.2,
          null,
          10.8,
          10.8,
          11.2,
          11.2
         ]
        },
        {
         "fill": "toself",
         "fillcolor": "rgb(31, 119, 180)",
         "hoverinfo": "name",
         "legendgroup": "rgb(31, 119, 180)",
         "mode": "none",
         "name": "CIS New Year Gift Lottery",
         "type": "scatter",
         "x": [
          "2020-12-25",
          "2021-01-03",
          "2021-01-03",
          "2020-12-25",
          "2020-12-25",
          "2020-12-30",
          "2021-01-07",
          "2021-01-07",
          "2020-12-30"
         ],
         "y": [
          -0.2,
          -0.2,
          0.2,
          0.2,
          null,
          9.8,
          9.8,
          10.2,
          10.2
         ]
        },
        {
         "fill": "toself",
         "fillcolor": "rgb(44, 160, 44)",
         "hoverinfo": "name",
         "legendgroup": "rgb(44, 160, 44)",
         "mode": "none",
         "name": "Single's Day Gift Promo",
         "type": "scatter",
         "x": [
          "2020-03-17",
          "2020-03-19",
          "2020-03-19",
          "2020-03-17",
          "2020-03-17",
          "2020-11-11",
          "2020-11-12",
          "2020-11-12",
          "2020-11-11"
         ],
         "y": [
          1.8,
          1.8,
          2.2,
          2.2,
          null,
          11.8,
          11.8,
          12.2,
          12.2
         ]
        },
        {
         "legendgroup": "rgb(127, 127, 127)",
         "marker": {
          "color": "rgb(127, 127, 127)",
          "opacity": 0,
          "size": 1
         },
         "mode": "markers",
         "name": "",
         "showlegend": false,
         "text": [
          null,
          null
         ],
         "type": "scatter",
         "x": [
          "2020-05-01",
          "2020-05-03"
         ],
         "y": [
          7,
          7
         ]
        },
        {
         "legendgroup": "rgb(140, 86, 75)",
         "marker": {
          "color": "rgb(140, 86, 75)",
          "opacity": 0,
          "size": 1
         },
         "mode": "markers",
         "name": "",
         "showlegend": false,
         "text": [
          null,
          null
         ],
         "type": "scatter",
         "x": [
          "2020-11-26",
          "2020-12-01"
         ],
         "y": [
          5,
          5
         ]
        },
        {
         "legendgroup": "rgb(148, 103, 189)",
         "marker": {
          "color": "rgb(148, 103, 189)",
          "opacity": 0,
          "size": 1
         },
         "mode": "markers",
         "name": "",
         "showlegend": false,
         "text": [
          null,
          null,
          null,
          null
         ],
         "type": "scatter",
         "x": [
          "2020-07-04",
          "2020-07-11",
          "2020-12-07",
          "2021-01-04"
         ],
         "y": [
          4,
          4,
          14,
          14
         ]
        },
        {
         "legendgroup": "rgb(188, 189, 34)",
         "marker": {
          "color": "rgb(188, 189, 34)",
          "opacity": 0,
          "size": 1
         },
         "mode": "markers",
         "name": "",
         "showlegend": false,
         "text": [
          null,
          null
         ],
         "type": "scatter",
         "x": [
          "2020-03-08",
          "2020-03-10"
         ],
         "y": [
          8,
          8
         ]
        },
        {
         "legendgroup": "rgb(214, 39, 40)",
         "marker": {
          "color": "rgb(214, 39, 40)",
          "opacity": 0,
          "size": 1
         },
         "mode": "markers",
         "name": "",
         "showlegend": false,
         "text": [
          null,
          null,
          null,
          null
         ],
         "type": "scatter",
         "x": [
          "2020-04-12",
          "2020-04-19",
          "2020-10-01",
          "2020-10-07"
         ],
         "y": [
          3,
          3,
          13,
          13
         ]
        },
        {
         "legendgroup": "rgb(227, 119, 194)",
         "marker": {
          "color": "rgb(227, 119, 194)",
          "opacity": 0,
          "size": 1
         },
         "mode": "markers",
         "name": "",
         "showlegend": false,
         "text": [
          null,
          null
         ],
         "type": "scatter",
         "x": [
          "2020-01-25",
          "2020-02-07"
         ],
         "y": [
          6,
          6
         ]
        },
        {
         "legendgroup": "rgb(23, 190, 207)",
         "marker": {
          "color": "rgb(23, 190, 207)",
          "opacity": 0,
          "size": 1
         },
         "mode": "markers",
         "name": "",
         "showlegend": false,
         "text": [
          null,
          null
         ],
         "type": "scatter",
         "x": [
          "2020-05-09",
          "2020-05-11"
         ],
         "y": [
          9,
          9
         ]
        },
        {
         "legendgroup": "rgb(255, 127, 14)",
         "marker": {
          "color": "rgb(255, 127, 14)",
          "opacity": 0,
          "size": 1
         },
         "mode": "markers",
         "name": "",
         "showlegend": false,
         "text": [
          null,
          null,
          null,
          null
         ],
         "type": "scatter",
         "x": [
          "2020-02-14",
          "2020-02-16",
          "2020-06-25",
          "2020-07-01"
         ],
         "y": [
          1,
          1,
          11,
          11
         ]
        },
        {
         "legendgroup": "rgb(31, 119, 180)",
         "marker": {
          "color": "rgb(31, 119, 180)",
          "opacity": 0,
          "size": 1
         },
         "mode": "markers",
         "name": "",
         "showlegend": false,
         "text": [
          null,
          null,
          null,
          null
         ],
         "type": "scatter",
         "x": [
          "2020-12-25",
          "2021-01-03",
          "2020-12-30",
          "2021-01-07"
         ],
         "y": [
          0,
          0,
          10,
          10
         ]
        },
        {
         "legendgroup": "rgb(44, 160, 44)",
         "marker": {
          "color": "rgb(44, 160, 44)",
          "opacity": 0,
          "size": 1
         },
         "mode": "markers",
         "name": "",
         "showlegend": false,
         "text": [
          null,
          null,
          null,
          null
         ],
         "type": "scatter",
         "x": [
          "2020-03-17",
          "2020-03-19",
          "2020-11-11",
          "2020-11-12"
         ],
         "y": [
          2,
          2,
          12,
          12
         ]
        }
       ],
       "layout": {
        "height": 600,
        "hovermode": "closest",
        "showlegend": false,
        "template": {
         "data": {
          "bar": [
           {
            "error_x": {
             "color": "#2a3f5f"
            },
            "error_y": {
             "color": "#2a3f5f"
            },
            "marker": {
             "line": {
              "color": "#E5ECF6",
              "width": 0.5
             },
             "pattern": {
              "fillmode": "overlay",
              "size": 10,
              "solidity": 0.2
             }
            },
            "type": "bar"
           }
          ],
          "barpolar": [
           {
            "marker": {
             "line": {
              "color": "#E5ECF6",
              "width": 0.5
             },
             "pattern": {
              "fillmode": "overlay",
              "size": 10,
              "solidity": 0.2
             }
            },
            "type": "barpolar"
           }
          ],
          "carpet": [
           {
            "aaxis": {
             "endlinecolor": "#2a3f5f",
             "gridcolor": "white",
             "linecolor": "white",
             "minorgridcolor": "white",
             "startlinecolor": "#2a3f5f"
            },
            "baxis": {
             "endlinecolor": "#2a3f5f",
             "gridcolor": "white",
             "linecolor": "white",
             "minorgridcolor": "white",
             "startlinecolor": "#2a3f5f"
            },
            "type": "carpet"
           }
          ],
          "choropleth": [
           {
            "colorbar": {
             "outlinewidth": 0,
             "ticks": ""
            },
            "type": "choropleth"
           }
          ],
          "contour": [
           {
            "colorbar": {
             "outlinewidth": 0,
             "ticks": ""
            },
            "colorscale": [
             [
              0,
              "#0d0887"
             ],
             [
              0.1111111111111111,
              "#46039f"
             ],
             [
              0.2222222222222222,
              "#7201a8"
             ],
             [
              0.3333333333333333,
              "#9c179e"
             ],
             [
              0.4444444444444444,
              "#bd3786"
             ],
             [
              0.5555555555555556,
              "#d8576b"
             ],
             [
              0.6666666666666666,
              "#ed7953"
             ],
             [
              0.7777777777777778,
              "#fb9f3a"
             ],
             [
              0.8888888888888888,
              "#fdca26"
             ],
             [
              1,
              "#f0f921"
             ]
            ],
            "type": "contour"
           }
          ],
          "contourcarpet": [
           {
            "colorbar": {
             "outlinewidth": 0,
             "ticks": ""
            },
            "type": "contourcarpet"
           }
          ],
          "heatmap": [
           {
            "colorbar": {
             "outlinewidth": 0,
             "ticks": ""
            },
            "colorscale": [
             [
              0,
              "#0d0887"
             ],
             [
              0.1111111111111111,
              "#46039f"
             ],
             [
              0.2222222222222222,
              "#7201a8"
             ],
             [
              0.3333333333333333,
              "#9c179e"
             ],
             [
              0.4444444444444444,
              "#bd3786"
             ],
             [
              0.5555555555555556,
              "#d8576b"
             ],
             [
              0.6666666666666666,
              "#ed7953"
             ],
             [
              0.7777777777777778,
              "#fb9f3a"
             ],
             [
              0.8888888888888888,
              "#fdca26"
             ],
             [
              1,
              "#f0f921"
             ]
            ],
            "type": "heatmap"
           }
          ],
          "heatmapgl": [
           {
            "colorbar": {
             "outlinewidth": 0,
             "ticks": ""
            },
            "colorscale": [
             [
              0,
              "#0d0887"
             ],
             [
              0.1111111111111111,
              "#46039f"
             ],
             [
              0.2222222222222222,
              "#7201a8"
             ],
             [
              0.3333333333333333,
              "#9c179e"
             ],
             [
              0.4444444444444444,
              "#bd3786"
             ],
             [
              0.5555555555555556,
              "#d8576b"
             ],
             [
              0.6666666666666666,
              "#ed7953"
             ],
             [
              0.7777777777777778,
              "#fb9f3a"
             ],
             [
              0.8888888888888888,
              "#fdca26"
             ],
             [
              1,
              "#f0f921"
             ]
            ],
            "type": "heatmapgl"
           }
          ],
          "histogram": [
           {
            "marker": {
             "pattern": {
              "fillmode": "overlay",
              "size": 10,
              "solidity": 0.2
             }
            },
            "type": "histogram"
           }
          ],
          "histogram2d": [
           {
            "colorbar": {
             "outlinewidth": 0,
             "ticks": ""
            },
            "colorscale": [
             [
              0,
              "#0d0887"
             ],
             [
              0.1111111111111111,
              "#46039f"
             ],
             [
              0.2222222222222222,
              "#7201a8"
             ],
             [
              0.3333333333333333,
              "#9c179e"
             ],
             [
              0.4444444444444444,
              "#bd3786"
             ],
             [
              0.5555555555555556,
              "#d8576b"
             ],
             [
              0.6666666666666666,
              "#ed7953"
             ],
             [
              0.7777777777777778,
              "#fb9f3a"
             ],
             [
              0.8888888888888888,
              "#fdca26"
             ],
             [
              1,
              "#f0f921"
             ]
            ],
            "type": "histogram2d"
           }
          ],
          "histogram2dcontour": [
           {
            "colorbar": {
             "outlinewidth": 0,
             "ticks": ""
            },
            "colorscale": [
             [
              0,
              "#0d0887"
             ],
             [
              0.1111111111111111,
              "#46039f"
             ],
             [
              0.2222222222222222,
              "#7201a8"
             ],
             [
              0.3333333333333333,
              "#9c179e"
             ],
             [
              0.4444444444444444,
              "#bd3786"
             ],
             [
              0.5555555555555556,
              "#d8576b"
             ],
             [
              0.6666666666666666,
              "#ed7953"
             ],
             [
              0.7777777777777778,
              "#fb9f3a"
             ],
             [
              0.8888888888888888,
              "#fdca26"
             ],
             [
              1,
              "#f0f921"
             ]
            ],
            "type": "histogram2dcontour"
           }
          ],
          "mesh3d": [
           {
            "colorbar": {
             "outlinewidth": 0,
             "ticks": ""
            },
            "type": "mesh3d"
           }
          ],
          "parcoords": [
           {
            "line": {
             "colorbar": {
              "outlinewidth": 0,
              "ticks": ""
             }
            },
            "type": "parcoords"
           }
          ],
          "pie": [
           {
            "automargin": true,
            "type": "pie"
           }
          ],
          "scatter": [
           {
            "fillpattern": {
             "fillmode": "overlay",
             "size": 10,
             "solidity": 0.2
            },
            "type": "scatter"
           }
          ],
          "scatter3d": [
           {
            "line": {
             "colorbar": {
              "outlinewidth": 0,
              "ticks": ""
             }
            },
            "marker": {
             "colorbar": {
              "outlinewidth": 0,
              "ticks": ""
             }
            },
            "type": "scatter3d"
           }
          ],
          "scattercarpet": [
           {
            "marker": {
             "colorbar": {
              "outlinewidth": 0,
              "ticks": ""
             }
            },
            "type": "scattercarpet"
           }
          ],
          "scattergeo": [
           {
            "marker": {
             "colorbar": {
              "outlinewidth": 0,
              "ticks": ""
             }
            },
            "type": "scattergeo"
           }
          ],
          "scattergl": [
           {
            "marker": {
             "colorbar": {
              "outlinewidth": 0,
              "ticks": ""
             }
            },
            "type": "scattergl"
           }
          ],
          "scattermapbox": [
           {
            "marker": {
             "colorbar": {
              "outlinewidth": 0,
              "ticks": ""
             }
            },
            "type": "scattermapbox"
           }
          ],
          "scatterpolar": [
           {
            "marker": {
             "colorbar": {
              "outlinewidth": 0,
              "ticks": ""
             }
            },
            "type": "scatterpolar"
           }
          ],
          "scatterpolargl": [
           {
            "marker": {
             "colorbar": {
              "outlinewidth": 0,
              "ticks": ""
             }
            },
            "type": "scatterpolargl"
           }
          ],
          "scatterternary": [
           {
            "marker": {
             "colorbar": {
              "outlinewidth": 0,
              "ticks": ""
             }
            },
            "type": "scatterternary"
           }
          ],
          "surface": [
           {
            "colorbar": {
             "outlinewidth": 0,
             "ticks": ""
            },
            "colorscale": [
             [
              0,
              "#0d0887"
             ],
             [
              0.1111111111111111,
              "#46039f"
             ],
             [
              0.2222222222222222,
              "#7201a8"
             ],
             [
              0.3333333333333333,
              "#9c179e"
             ],
             [
              0.4444444444444444,
              "#bd3786"
             ],
             [
              0.5555555555555556,
              "#d8576b"
             ],
             [
              0.6666666666666666,
              "#ed7953"
             ],
             [
              0.7777777777777778,
              "#fb9f3a"
             ],
             [
              0.8888888888888888,
              "#fdca26"
             ],
             [
              1,
              "#f0f921"
             ]
            ],
            "type": "surface"
           }
          ],
          "table": [
           {
            "cells": {
             "fill": {
              "color": "#EBF0F8"
             },
             "line": {
              "color": "white"
             }
            },
            "header": {
             "fill": {
              "color": "#C8D4E3"
             },
             "line": {
              "color": "white"
             }
            },
            "type": "table"
           }
          ]
         },
         "layout": {
          "annotationdefaults": {
           "arrowcolor": "#2a3f5f",
           "arrowhead": 0,
           "arrowwidth": 1
          },
          "autotypenumbers": "strict",
          "coloraxis": {
           "colorbar": {
            "outlinewidth": 0,
            "ticks": ""
           }
          },
          "colorscale": {
           "diverging": [
            [
             0,
             "#8e0152"
            ],
            [
             0.1,
             "#c51b7d"
            ],
            [
             0.2,
             "#de77ae"
            ],
            [
             0.3,
             "#f1b6da"
            ],
            [
             0.4,
             "#fde0ef"
            ],
            [
             0.5,
             "#f7f7f7"
            ],
            [
             0.6,
             "#e6f5d0"
            ],
            [
             0.7,
             "#b8e186"
            ],
            [
             0.8,
             "#7fbc41"
            ],
            [
             0.9,
             "#4d9221"
            ],
            [
             1,
             "#276419"
            ]
           ],
           "sequential": [
            [
             0,
             "#0d0887"
            ],
            [
             0.1111111111111111,
             "#46039f"
            ],
            [
             0.2222222222222222,
             "#7201a8"
            ],
            [
             0.3333333333333333,
             "#9c179e"
            ],
            [
             0.4444444444444444,
             "#bd3786"
            ],
            [
             0.5555555555555556,
             "#d8576b"
            ],
            [
             0.6666666666666666,
             "#ed7953"
            ],
            [
             0.7777777777777778,
             "#fb9f3a"
            ],
            [
             0.8888888888888888,
             "#fdca26"
            ],
            [
             1,
             "#f0f921"
            ]
           ],
           "sequentialminus": [
            [
             0,
             "#0d0887"
            ],
            [
             0.1111111111111111,
             "#46039f"
            ],
            [
             0.2222222222222222,
             "#7201a8"
            ],
            [
             0.3333333333333333,
             "#9c179e"
            ],
            [
             0.4444444444444444,
             "#bd3786"
            ],
            [
             0.5555555555555556,
             "#d8576b"
            ],
            [
             0.6666666666666666,
             "#ed7953"
            ],
            [
             0.7777777777777778,
             "#fb9f3a"
            ],
            [
             0.8888888888888888,
             "#fdca26"
            ],
            [
             1,
             "#f0f921"
            ]
           ]
          },
          "colorway": [
           "#636efa",
           "#EF553B",
           "#00cc96",
           "#ab63fa",
           "#FFA15A",
           "#19d3f3",
           "#FF6692",
           "#B6E880",
           "#FF97FF",
           "#FECB52"
          ],
          "font": {
           "color": "#2a3f5f"
          },
          "geo": {
           "bgcolor": "white",
           "lakecolor": "white",
           "landcolor": "#E5ECF6",
           "showlakes": true,
           "showland": true,
           "subunitcolor": "white"
          },
          "hoverlabel": {
           "align": "left"
          },
          "hovermode": "closest",
          "mapbox": {
           "style": "light"
          },
          "paper_bgcolor": "white",
          "plot_bgcolor": "#E5ECF6",
          "polar": {
           "angularaxis": {
            "gridcolor": "white",
            "linecolor": "white",
            "ticks": ""
           },
           "bgcolor": "#E5ECF6",
           "radialaxis": {
            "gridcolor": "white",
            "linecolor": "white",
            "ticks": ""
           }
          },
          "scene": {
           "xaxis": {
            "backgroundcolor": "#E5ECF6",
            "gridcolor": "white",
            "gridwidth": 2,
            "linecolor": "white",
            "showbackground": true,
            "ticks": "",
            "zerolinecolor": "white"
           },
           "yaxis": {
            "backgroundcolor": "#E5ECF6",
            "gridcolor": "white",
            "gridwidth": 2,
            "linecolor": "white",
            "showbackground": true,
            "ticks": "",
            "zerolinecolor": "white"
           },
           "zaxis": {
            "backgroundcolor": "#E5ECF6",
            "gridcolor": "white",
            "gridwidth": 2,
            "linecolor": "white",
            "showbackground": true,
            "ticks": "",
            "zerolinecolor": "white"
           }
          },
          "shapedefaults": {
           "line": {
            "color": "#2a3f5f"
           }
          },
          "ternary": {
           "aaxis": {
            "gridcolor": "white",
            "linecolor": "white",
            "ticks": ""
           },
           "baxis": {
            "gridcolor": "white",
            "linecolor": "white",
            "ticks": ""
           },
           "bgcolor": "#E5ECF6",
           "caxis": {
            "gridcolor": "white",
            "linecolor": "white",
            "ticks": ""
           }
          },
          "title": {
           "x": 0.05
          },
          "xaxis": {
           "automargin": true,
           "gridcolor": "white",
           "linecolor": "white",
           "ticks": "",
           "title": {
            "standoff": 15
           },
           "zerolinecolor": "white",
           "zerolinewidth": 2
          },
          "yaxis": {
           "automargin": true,
           "gridcolor": "white",
           "linecolor": "white",
           "ticks": "",
           "title": {
            "standoff": 15
           },
           "zerolinecolor": "white",
           "zerolinewidth": 2
          }
         }
        },
        "title": {
         "text": "Gantt Chart"
        },
        "xaxis": {
         "rangeselector": {
          "buttons": [
           {
            "count": 7,
            "label": "1w",
            "step": "day",
            "stepmode": "backward"
           },
           {
            "count": 1,
            "label": "1m",
            "step": "month",
            "stepmode": "backward"
           },
           {
            "count": 6,
            "label": "6m",
            "step": "month",
            "stepmode": "backward"
           },
           {
            "count": 1,
            "label": "YTD",
            "step": "year",
            "stepmode": "todate"
           },
           {
            "count": 1,
            "label": "1y",
            "step": "year",
            "stepmode": "backward"
           },
           {
            "step": "all"
           }
          ]
         },
         "showgrid": false,
         "type": "date",
         "zeroline": false
        },
        "yaxis": {
         "autorange": false,
         "range": [
          -1,
          16
         ],
         "showgrid": false,
         "ticktext": [
          "Christmas&New Year Promo",
          "St. Valentine's Day Giveaway",
          "St. Patric's Day Promo",
          "Easter Promo",
          "4th of July Promo",
          "Black Friday Ads Campaign",
          "Chinese New Year Promo",
          "Labor day (May 1st) Ads Campaign",
          "International Women's Day Promo",
          "Victory Day CIS (May 9th) Event",
          "CIS New Year Gift Lottery",
          "Dragon Boat Festival Giveaway",
          "Single's Day Gift Promo",
          "Chinese Moon Festival",
          "Recommender system test"
         ],
         "tickvals": [
          0,
          1,
          2,
          3,
          4,
          5,
          6,
          7,
          8,
          9,
          10,
          11,
          12,
          13,
          14
         ],
         "zeroline": false
        }
       }
      },
      "text/html": [
       "<div>                            <div id=\"19170d3f-5922-408a-839e-7f8b7d4635a1\" class=\"plotly-graph-div\" style=\"height:600px; width:100%;\"></div>            <script type=\"text/javascript\">                require([\"plotly\"], function(Plotly) {                    window.PLOTLYENV=window.PLOTLYENV || {};                                    if (document.getElementById(\"19170d3f-5922-408a-839e-7f8b7d4635a1\")) {                    Plotly.newPlot(                        \"19170d3f-5922-408a-839e-7f8b7d4635a1\",                        [{\"fill\":\"toself\",\"fillcolor\":\"rgb(127, 127, 127)\",\"hoverinfo\":\"name\",\"legendgroup\":\"rgb(127, 127, 127)\",\"mode\":\"none\",\"name\":\"Labor day (May 1st) Ads Campaign\",\"x\":[\"2020-05-01\",\"2020-05-03\",\"2020-05-03\",\"2020-05-01\"],\"y\":[6.8,6.8,7.2,7.2],\"type\":\"scatter\"},{\"fill\":\"toself\",\"fillcolor\":\"rgb(140, 86, 75)\",\"hoverinfo\":\"name\",\"legendgroup\":\"rgb(140, 86, 75)\",\"mode\":\"none\",\"name\":\"Black Friday Ads Campaign\",\"x\":[\"2020-11-26\",\"2020-12-01\",\"2020-12-01\",\"2020-11-26\"],\"y\":[4.8,4.8,5.2,5.2],\"type\":\"scatter\"},{\"fill\":\"toself\",\"fillcolor\":\"rgb(148, 103, 189)\",\"hoverinfo\":\"name\",\"legendgroup\":\"rgb(148, 103, 189)\",\"mode\":\"none\",\"name\":\"Recommender system test\",\"x\":[\"2020-07-04\",\"2020-07-11\",\"2020-07-11\",\"2020-07-04\",\"2020-07-04\",\"2020-12-07\",\"2021-01-04\",\"2021-01-04\",\"2020-12-07\"],\"y\":[3.8,3.8,4.2,4.2,null,13.8,13.8,14.2,14.2],\"type\":\"scatter\"},{\"fill\":\"toself\",\"fillcolor\":\"rgb(188, 189, 34)\",\"hoverinfo\":\"name\",\"legendgroup\":\"rgb(188, 189, 34)\",\"mode\":\"none\",\"name\":\"International Women's Day Promo\",\"x\":[\"2020-03-08\",\"2020-03-10\",\"2020-03-10\",\"2020-03-08\"],\"y\":[7.8,7.8,8.2,8.2],\"type\":\"scatter\"},{\"fill\":\"toself\",\"fillcolor\":\"rgb(214, 39, 40)\",\"hoverinfo\":\"name\",\"legendgroup\":\"rgb(214, 39, 40)\",\"mode\":\"none\",\"name\":\"Chinese Moon Festival\",\"x\":[\"2020-04-12\",\"2020-04-19\",\"2020-04-19\",\"2020-04-12\",\"2020-04-12\",\"2020-10-01\",\"2020-10-07\",\"2020-10-07\",\"2020-10-01\"],\"y\":[2.8,2.8,3.2,3.2,null,12.8,12.8,13.2,13.2],\"type\":\"scatter\"},{\"fill\":\"toself\",\"fillcolor\":\"rgb(227, 119, 194)\",\"hoverinfo\":\"name\",\"legendgroup\":\"rgb(227, 119, 194)\",\"mode\":\"none\",\"name\":\"Chinese New Year Promo\",\"x\":[\"2020-01-25\",\"2020-02-07\",\"2020-02-07\",\"2020-01-25\"],\"y\":[5.8,5.8,6.2,6.2],\"type\":\"scatter\"},{\"fill\":\"toself\",\"fillcolor\":\"rgb(23, 190, 207)\",\"hoverinfo\":\"name\",\"legendgroup\":\"rgb(23, 190, 207)\",\"mode\":\"none\",\"name\":\"Victory Day CIS (May 9th) Event\",\"x\":[\"2020-05-09\",\"2020-05-11\",\"2020-05-11\",\"2020-05-09\"],\"y\":[8.8,8.8,9.2,9.2],\"type\":\"scatter\"},{\"fill\":\"toself\",\"fillcolor\":\"rgb(255, 127, 14)\",\"hoverinfo\":\"name\",\"legendgroup\":\"rgb(255, 127, 14)\",\"mode\":\"none\",\"name\":\"Dragon Boat Festival Giveaway\",\"x\":[\"2020-02-14\",\"2020-02-16\",\"2020-02-16\",\"2020-02-14\",\"2020-02-14\",\"2020-06-25\",\"2020-07-01\",\"2020-07-01\",\"2020-06-25\"],\"y\":[0.8,0.8,1.2,1.2,null,10.8,10.8,11.2,11.2],\"type\":\"scatter\"},{\"fill\":\"toself\",\"fillcolor\":\"rgb(31, 119, 180)\",\"hoverinfo\":\"name\",\"legendgroup\":\"rgb(31, 119, 180)\",\"mode\":\"none\",\"name\":\"CIS New Year Gift Lottery\",\"x\":[\"2020-12-25\",\"2021-01-03\",\"2021-01-03\",\"2020-12-25\",\"2020-12-25\",\"2020-12-30\",\"2021-01-07\",\"2021-01-07\",\"2020-12-30\"],\"y\":[-0.2,-0.2,0.2,0.2,null,9.8,9.8,10.2,10.2],\"type\":\"scatter\"},{\"fill\":\"toself\",\"fillcolor\":\"rgb(44, 160, 44)\",\"hoverinfo\":\"name\",\"legendgroup\":\"rgb(44, 160, 44)\",\"mode\":\"none\",\"name\":\"Single's Day Gift Promo\",\"x\":[\"2020-03-17\",\"2020-03-19\",\"2020-03-19\",\"2020-03-17\",\"2020-03-17\",\"2020-11-11\",\"2020-11-12\",\"2020-11-12\",\"2020-11-11\"],\"y\":[1.8,1.8,2.2,2.2,null,11.8,11.8,12.2,12.2],\"type\":\"scatter\"},{\"legendgroup\":\"rgb(127, 127, 127)\",\"marker\":{\"color\":\"rgb(127, 127, 127)\",\"opacity\":0,\"size\":1},\"mode\":\"markers\",\"name\":\"\",\"showlegend\":false,\"text\":[null,null],\"x\":[\"2020-05-01\",\"2020-05-03\"],\"y\":[7,7],\"type\":\"scatter\"},{\"legendgroup\":\"rgb(140, 86, 75)\",\"marker\":{\"color\":\"rgb(140, 86, 75)\",\"opacity\":0,\"size\":1},\"mode\":\"markers\",\"name\":\"\",\"showlegend\":false,\"text\":[null,null],\"x\":[\"2020-11-26\",\"2020-12-01\"],\"y\":[5,5],\"type\":\"scatter\"},{\"legendgroup\":\"rgb(148, 103, 189)\",\"marker\":{\"color\":\"rgb(148, 103, 189)\",\"opacity\":0,\"size\":1},\"mode\":\"markers\",\"name\":\"\",\"showlegend\":false,\"text\":[null,null,null,null],\"x\":[\"2020-07-04\",\"2020-07-11\",\"2020-12-07\",\"2021-01-04\"],\"y\":[4,4,14,14],\"type\":\"scatter\"},{\"legendgroup\":\"rgb(188, 189, 34)\",\"marker\":{\"color\":\"rgb(188, 189, 34)\",\"opacity\":0,\"size\":1},\"mode\":\"markers\",\"name\":\"\",\"showlegend\":false,\"text\":[null,null],\"x\":[\"2020-03-08\",\"2020-03-10\"],\"y\":[8,8],\"type\":\"scatter\"},{\"legendgroup\":\"rgb(214, 39, 40)\",\"marker\":{\"color\":\"rgb(214, 39, 40)\",\"opacity\":0,\"size\":1},\"mode\":\"markers\",\"name\":\"\",\"showlegend\":false,\"text\":[null,null,null,null],\"x\":[\"2020-04-12\",\"2020-04-19\",\"2020-10-01\",\"2020-10-07\"],\"y\":[3,3,13,13],\"type\":\"scatter\"},{\"legendgroup\":\"rgb(227, 119, 194)\",\"marker\":{\"color\":\"rgb(227, 119, 194)\",\"opacity\":0,\"size\":1},\"mode\":\"markers\",\"name\":\"\",\"showlegend\":false,\"text\":[null,null],\"x\":[\"2020-01-25\",\"2020-02-07\"],\"y\":[6,6],\"type\":\"scatter\"},{\"legendgroup\":\"rgb(23, 190, 207)\",\"marker\":{\"color\":\"rgb(23, 190, 207)\",\"opacity\":0,\"size\":1},\"mode\":\"markers\",\"name\":\"\",\"showlegend\":false,\"text\":[null,null],\"x\":[\"2020-05-09\",\"2020-05-11\"],\"y\":[9,9],\"type\":\"scatter\"},{\"legendgroup\":\"rgb(255, 127, 14)\",\"marker\":{\"color\":\"rgb(255, 127, 14)\",\"opacity\":0,\"size\":1},\"mode\":\"markers\",\"name\":\"\",\"showlegend\":false,\"text\":[null,null,null,null],\"x\":[\"2020-02-14\",\"2020-02-16\",\"2020-06-25\",\"2020-07-01\"],\"y\":[1,1,11,11],\"type\":\"scatter\"},{\"legendgroup\":\"rgb(31, 119, 180)\",\"marker\":{\"color\":\"rgb(31, 119, 180)\",\"opacity\":0,\"size\":1},\"mode\":\"markers\",\"name\":\"\",\"showlegend\":false,\"text\":[null,null,null,null],\"x\":[\"2020-12-25\",\"2021-01-03\",\"2020-12-30\",\"2021-01-07\"],\"y\":[0,0,10,10],\"type\":\"scatter\"},{\"legendgroup\":\"rgb(44, 160, 44)\",\"marker\":{\"color\":\"rgb(44, 160, 44)\",\"opacity\":0,\"size\":1},\"mode\":\"markers\",\"name\":\"\",\"showlegend\":false,\"text\":[null,null,null,null],\"x\":[\"2020-03-17\",\"2020-03-19\",\"2020-11-11\",\"2020-11-12\"],\"y\":[2,2,12,12],\"type\":\"scatter\"}],                        {\"height\":600,\"hovermode\":\"closest\",\"showlegend\":false,\"title\":{\"text\":\"Gantt Chart\"},\"xaxis\":{\"rangeselector\":{\"buttons\":[{\"count\":7,\"label\":\"1w\",\"step\":\"day\",\"stepmode\":\"backward\"},{\"count\":1,\"label\":\"1m\",\"step\":\"month\",\"stepmode\":\"backward\"},{\"count\":6,\"label\":\"6m\",\"step\":\"month\",\"stepmode\":\"backward\"},{\"count\":1,\"label\":\"YTD\",\"step\":\"year\",\"stepmode\":\"todate\"},{\"count\":1,\"label\":\"1y\",\"step\":\"year\",\"stepmode\":\"backward\"},{\"step\":\"all\"}]},\"showgrid\":false,\"type\":\"date\",\"zeroline\":false},\"yaxis\":{\"autorange\":false,\"range\":[-1,16],\"showgrid\":false,\"ticktext\":[\"Christmas&New Year Promo\",\"St. Valentine's Day Giveaway\",\"St. Patric's Day Promo\",\"Easter Promo\",\"4th of July Promo\",\"Black Friday Ads Campaign\",\"Chinese New Year Promo\",\"Labor day (May 1st) Ads Campaign\",\"International Women's Day Promo\",\"Victory Day CIS (May 9th) Event\",\"CIS New Year Gift Lottery\",\"Dragon Boat Festival Giveaway\",\"Single's Day Gift Promo\",\"Chinese Moon Festival\",\"Recommender system test\"],\"tickvals\":[0,1,2,3,4,5,6,7,8,9,10,11,12,13,14],\"zeroline\":false},\"template\":{\"data\":{\"histogram2dcontour\":[{\"type\":\"histogram2dcontour\",\"colorbar\":{\"outlinewidth\":0,\"ticks\":\"\"},\"colorscale\":[[0.0,\"#0d0887\"],[0.1111111111111111,\"#46039f\"],[0.2222222222222222,\"#7201a8\"],[0.3333333333333333,\"#9c179e\"],[0.4444444444444444,\"#bd3786\"],[0.5555555555555556,\"#d8576b\"],[0.6666666666666666,\"#ed7953\"],[0.7777777777777778,\"#fb9f3a\"],[0.8888888888888888,\"#fdca26\"],[1.0,\"#f0f921\"]]}],\"choropleth\":[{\"type\":\"choropleth\",\"colorbar\":{\"outlinewidth\":0,\"ticks\":\"\"}}],\"histogram2d\":[{\"type\":\"histogram2d\",\"colorbar\":{\"outlinewidth\":0,\"ticks\":\"\"},\"colorscale\":[[0.0,\"#0d0887\"],[0.1111111111111111,\"#46039f\"],[0.2222222222222222,\"#7201a8\"],[0.3333333333333333,\"#9c179e\"],[0.4444444444444444,\"#bd3786\"],[0.5555555555555556,\"#d8576b\"],[0.6666666666666666,\"#ed7953\"],[0.7777777777777778,\"#fb9f3a\"],[0.8888888888888888,\"#fdca26\"],[1.0,\"#f0f921\"]]}],\"heatmap\":[{\"type\":\"heatmap\",\"colorbar\":{\"outlinewidth\":0,\"ticks\":\"\"},\"colorscale\":[[0.0,\"#0d0887\"],[0.1111111111111111,\"#46039f\"],[0.2222222222222222,\"#7201a8\"],[0.3333333333333333,\"#9c179e\"],[0.4444444444444444,\"#bd3786\"],[0.5555555555555556,\"#d8576b\"],[0.6666666666666666,\"#ed7953\"],[0.7777777777777778,\"#fb9f3a\"],[0.8888888888888888,\"#fdca26\"],[1.0,\"#f0f921\"]]}],\"heatmapgl\":[{\"type\":\"heatmapgl\",\"colorbar\":{\"outlinewidth\":0,\"ticks\":\"\"},\"colorscale\":[[0.0,\"#0d0887\"],[0.1111111111111111,\"#46039f\"],[0.2222222222222222,\"#7201a8\"],[0.3333333333333333,\"#9c179e\"],[0.4444444444444444,\"#bd3786\"],[0.5555555555555556,\"#d8576b\"],[0.6666666666666666,\"#ed7953\"],[0.7777777777777778,\"#fb9f3a\"],[0.8888888888888888,\"#fdca26\"],[1.0,\"#f0f921\"]]}],\"contourcarpet\":[{\"type\":\"contourcarpet\",\"colorbar\":{\"outlinewidth\":0,\"ticks\":\"\"}}],\"contour\":[{\"type\":\"contour\",\"colorbar\":{\"outlinewidth\":0,\"ticks\":\"\"},\"colorscale\":[[0.0,\"#0d0887\"],[0.1111111111111111,\"#46039f\"],[0.2222222222222222,\"#7201a8\"],[0.3333333333333333,\"#9c179e\"],[0.4444444444444444,\"#bd3786\"],[0.5555555555555556,\"#d8576b\"],[0.6666666666666666,\"#ed7953\"],[0.7777777777777778,\"#fb9f3a\"],[0.8888888888888888,\"#fdca26\"],[1.0,\"#f0f921\"]]}],\"surface\":[{\"type\":\"surface\",\"colorbar\":{\"outlinewidth\":0,\"ticks\":\"\"},\"colorscale\":[[0.0,\"#0d0887\"],[0.1111111111111111,\"#46039f\"],[0.2222222222222222,\"#7201a8\"],[0.3333333333333333,\"#9c179e\"],[0.4444444444444444,\"#bd3786\"],[0.5555555555555556,\"#d8576b\"],[0.6666666666666666,\"#ed7953\"],[0.7777777777777778,\"#fb9f3a\"],[0.8888888888888888,\"#fdca26\"],[1.0,\"#f0f921\"]]}],\"mesh3d\":[{\"type\":\"mesh3d\",\"colorbar\":{\"outlinewidth\":0,\"ticks\":\"\"}}],\"scatter\":[{\"fillpattern\":{\"fillmode\":\"overlay\",\"size\":10,\"solidity\":0.2},\"type\":\"scatter\"}],\"parcoords\":[{\"type\":\"parcoords\",\"line\":{\"colorbar\":{\"outlinewidth\":0,\"ticks\":\"\"}}}],\"scatterpolargl\":[{\"type\":\"scatterpolargl\",\"marker\":{\"colorbar\":{\"outlinewidth\":0,\"ticks\":\"\"}}}],\"bar\":[{\"error_x\":{\"color\":\"#2a3f5f\"},\"error_y\":{\"color\":\"#2a3f5f\"},\"marker\":{\"line\":{\"color\":\"#E5ECF6\",\"width\":0.5},\"pattern\":{\"fillmode\":\"overlay\",\"size\":10,\"solidity\":0.2}},\"type\":\"bar\"}],\"scattergeo\":[{\"type\":\"scattergeo\",\"marker\":{\"colorbar\":{\"outlinewidth\":0,\"ticks\":\"\"}}}],\"scatterpolar\":[{\"type\":\"scatterpolar\",\"marker\":{\"colorbar\":{\"outlinewidth\":0,\"ticks\":\"\"}}}],\"histogram\":[{\"marker\":{\"pattern\":{\"fillmode\":\"overlay\",\"size\":10,\"solidity\":0.2}},\"type\":\"histogram\"}],\"scattergl\":[{\"type\":\"scattergl\",\"marker\":{\"colorbar\":{\"outlinewidth\":0,\"ticks\":\"\"}}}],\"scatter3d\":[{\"type\":\"scatter3d\",\"line\":{\"colorbar\":{\"outlinewidth\":0,\"ticks\":\"\"}},\"marker\":{\"colorbar\":{\"outlinewidth\":0,\"ticks\":\"\"}}}],\"scattermapbox\":[{\"type\":\"scattermapbox\",\"marker\":{\"colorbar\":{\"outlinewidth\":0,\"ticks\":\"\"}}}],\"scatterternary\":[{\"type\":\"scatterternary\",\"marker\":{\"colorbar\":{\"outlinewidth\":0,\"ticks\":\"\"}}}],\"scattercarpet\":[{\"type\":\"scattercarpet\",\"marker\":{\"colorbar\":{\"outlinewidth\":0,\"ticks\":\"\"}}}],\"carpet\":[{\"aaxis\":{\"endlinecolor\":\"#2a3f5f\",\"gridcolor\":\"white\",\"linecolor\":\"white\",\"minorgridcolor\":\"white\",\"startlinecolor\":\"#2a3f5f\"},\"baxis\":{\"endlinecolor\":\"#2a3f5f\",\"gridcolor\":\"white\",\"linecolor\":\"white\",\"minorgridcolor\":\"white\",\"startlinecolor\":\"#2a3f5f\"},\"type\":\"carpet\"}],\"table\":[{\"cells\":{\"fill\":{\"color\":\"#EBF0F8\"},\"line\":{\"color\":\"white\"}},\"header\":{\"fill\":{\"color\":\"#C8D4E3\"},\"line\":{\"color\":\"white\"}},\"type\":\"table\"}],\"barpolar\":[{\"marker\":{\"line\":{\"color\":\"#E5ECF6\",\"width\":0.5},\"pattern\":{\"fillmode\":\"overlay\",\"size\":10,\"solidity\":0.2}},\"type\":\"barpolar\"}],\"pie\":[{\"automargin\":true,\"type\":\"pie\"}]},\"layout\":{\"autotypenumbers\":\"strict\",\"colorway\":[\"#636efa\",\"#EF553B\",\"#00cc96\",\"#ab63fa\",\"#FFA15A\",\"#19d3f3\",\"#FF6692\",\"#B6E880\",\"#FF97FF\",\"#FECB52\"],\"font\":{\"color\":\"#2a3f5f\"},\"hovermode\":\"closest\",\"hoverlabel\":{\"align\":\"left\"},\"paper_bgcolor\":\"white\",\"plot_bgcolor\":\"#E5ECF6\",\"polar\":{\"bgcolor\":\"#E5ECF6\",\"angularaxis\":{\"gridcolor\":\"white\",\"linecolor\":\"white\",\"ticks\":\"\"},\"radialaxis\":{\"gridcolor\":\"white\",\"linecolor\":\"white\",\"ticks\":\"\"}},\"ternary\":{\"bgcolor\":\"#E5ECF6\",\"aaxis\":{\"gridcolor\":\"white\",\"linecolor\":\"white\",\"ticks\":\"\"},\"baxis\":{\"gridcolor\":\"white\",\"linecolor\":\"white\",\"ticks\":\"\"},\"caxis\":{\"gridcolor\":\"white\",\"linecolor\":\"white\",\"ticks\":\"\"}},\"coloraxis\":{\"colorbar\":{\"outlinewidth\":0,\"ticks\":\"\"}},\"colorscale\":{\"sequential\":[[0.0,\"#0d0887\"],[0.1111111111111111,\"#46039f\"],[0.2222222222222222,\"#7201a8\"],[0.3333333333333333,\"#9c179e\"],[0.4444444444444444,\"#bd3786\"],[0.5555555555555556,\"#d8576b\"],[0.6666666666666666,\"#ed7953\"],[0.7777777777777778,\"#fb9f3a\"],[0.8888888888888888,\"#fdca26\"],[1.0,\"#f0f921\"]],\"sequentialminus\":[[0.0,\"#0d0887\"],[0.1111111111111111,\"#46039f\"],[0.2222222222222222,\"#7201a8\"],[0.3333333333333333,\"#9c179e\"],[0.4444444444444444,\"#bd3786\"],[0.5555555555555556,\"#d8576b\"],[0.6666666666666666,\"#ed7953\"],[0.7777777777777778,\"#fb9f3a\"],[0.8888888888888888,\"#fdca26\"],[1.0,\"#f0f921\"]],\"diverging\":[[0,\"#8e0152\"],[0.1,\"#c51b7d\"],[0.2,\"#de77ae\"],[0.3,\"#f1b6da\"],[0.4,\"#fde0ef\"],[0.5,\"#f7f7f7\"],[0.6,\"#e6f5d0\"],[0.7,\"#b8e186\"],[0.8,\"#7fbc41\"],[0.9,\"#4d9221\"],[1,\"#276419\"]]},\"xaxis\":{\"gridcolor\":\"white\",\"linecolor\":\"white\",\"ticks\":\"\",\"title\":{\"standoff\":15},\"zerolinecolor\":\"white\",\"automargin\":true,\"zerolinewidth\":2},\"yaxis\":{\"gridcolor\":\"white\",\"linecolor\":\"white\",\"ticks\":\"\",\"title\":{\"standoff\":15},\"zerolinecolor\":\"white\",\"automargin\":true,\"zerolinewidth\":2},\"scene\":{\"xaxis\":{\"backgroundcolor\":\"#E5ECF6\",\"gridcolor\":\"white\",\"linecolor\":\"white\",\"showbackground\":true,\"ticks\":\"\",\"zerolinecolor\":\"white\",\"gridwidth\":2},\"yaxis\":{\"backgroundcolor\":\"#E5ECF6\",\"gridcolor\":\"white\",\"linecolor\":\"white\",\"showbackground\":true,\"ticks\":\"\",\"zerolinecolor\":\"white\",\"gridwidth\":2},\"zaxis\":{\"backgroundcolor\":\"#E5ECF6\",\"gridcolor\":\"white\",\"linecolor\":\"white\",\"showbackground\":true,\"ticks\":\"\",\"zerolinecolor\":\"white\",\"gridwidth\":2}},\"shapedefaults\":{\"line\":{\"color\":\"#2a3f5f\"}},\"annotationdefaults\":{\"arrowcolor\":\"#2a3f5f\",\"arrowhead\":0,\"arrowwidth\":1},\"geo\":{\"bgcolor\":\"white\",\"landcolor\":\"#E5ECF6\",\"subunitcolor\":\"white\",\"showland\":true,\"showlakes\":true,\"lakecolor\":\"white\"},\"title\":{\"x\":0.05},\"mapbox\":{\"style\":\"light\"}}}},                        {\"responsive\": true}                    ).then(function(){\n",
       "                            \n",
       "var gd = document.getElementById('19170d3f-5922-408a-839e-7f8b7d4635a1');\n",
       "var x = new MutationObserver(function (mutations, observer) {{\n",
       "        var display = window.getComputedStyle(gd).display;\n",
       "        if (!display || display === 'none') {{\n",
       "            console.log([gd, 'removed!']);\n",
       "            Plotly.purge(gd);\n",
       "            observer.disconnect();\n",
       "        }}\n",
       "}});\n",
       "\n",
       "// Listen for the removal of the full notebook cells\n",
       "var notebookContainer = gd.closest('#notebook-container');\n",
       "if (notebookContainer) {{\n",
       "    x.observe(notebookContainer, {childList: true});\n",
       "}}\n",
       "\n",
       "// Listen for the clearing of the current output cell\n",
       "var outputEl = gd.closest('.output');\n",
       "if (outputEl) {{\n",
       "    x.observe(outputEl, {childList: true});\n",
       "}}\n",
       "\n",
       "                        })                };                });            </script>        </div>"
      ]
     },
     "metadata": {},
     "output_type": "display_data"
    }
   ],
   "source": [
    "marketing_events.set_axis(['Task', 'regions', 'Start', 'Finish'], axis='columns', inplace=True)\n",
    "\n",
    "fig = ff.create_gantt(marketing_events[['Task', 'Start', 'Finish']])\n",
    "fig.show();"
   ]
  },
  {
   "cell_type": "markdown",
   "metadata": {},
   "source": [
    "_**С нашим тестом пересекаются рекламные кампании \"CIS New Year Gift Lottery\" и \"Christmas&New Year Promo\". Они начались уже после окончания набора новых пользователей в тестирование. Однако, если они анонсировались заранее, то могли повлиять как на приход новых пользователей, так и на совершение этими пользователями определенных событий.**_"
   ]
  },
  {
   "cell_type": "markdown",
   "metadata": {},
   "source": [
    "## Исследовательский анализ данных"
   ]
  },
  {
   "cell_type": "markdown",
   "metadata": {},
   "source": [
    "### Количество событий на пользователя в выборках"
   ]
  },
  {
   "cell_type": "markdown",
   "metadata": {},
   "source": [
    "*Распределение кол-ва событий на пользователя в разрезе по событиям*"
   ]
  },
  {
   "cell_type": "code",
   "execution_count": 64,
   "metadata": {},
   "outputs": [
    {
     "data": {
      "text/html": [
       "<div>\n",
       "<style scoped>\n",
       "    .dataframe tbody tr th:only-of-type {\n",
       "        vertical-align: middle;\n",
       "    }\n",
       "\n",
       "    .dataframe tbody tr th {\n",
       "        vertical-align: top;\n",
       "    }\n",
       "\n",
       "    .dataframe thead tr th {\n",
       "        text-align: left;\n",
       "    }\n",
       "\n",
       "    .dataframe thead tr:last-of-type th {\n",
       "        text-align: right;\n",
       "    }\n",
       "</style>\n",
       "<table border=\"1\" class=\"dataframe\">\n",
       "  <thead>\n",
       "    <tr>\n",
       "      <th></th>\n",
       "      <th></th>\n",
       "      <th colspan=\"8\" halign=\"left\">event_dt</th>\n",
       "    </tr>\n",
       "    <tr>\n",
       "      <th></th>\n",
       "      <th></th>\n",
       "      <th>count</th>\n",
       "      <th>mean</th>\n",
       "      <th>std</th>\n",
       "      <th>min</th>\n",
       "      <th>25%</th>\n",
       "      <th>50%</th>\n",
       "      <th>75%</th>\n",
       "      <th>max</th>\n",
       "    </tr>\n",
       "    <tr>\n",
       "      <th>group</th>\n",
       "      <th>event_name</th>\n",
       "      <th></th>\n",
       "      <th></th>\n",
       "      <th></th>\n",
       "      <th></th>\n",
       "      <th></th>\n",
       "      <th></th>\n",
       "      <th></th>\n",
       "      <th></th>\n",
       "    </tr>\n",
       "  </thead>\n",
       "  <tbody>\n",
       "    <tr>\n",
       "      <th rowspan=\"4\" valign=\"top\">A</th>\n",
       "      <th>login</th>\n",
       "      <td>2747.0</td>\n",
       "      <td>3.057881</td>\n",
       "      <td>1.211410</td>\n",
       "      <td>1.0</td>\n",
       "      <td>2.0</td>\n",
       "      <td>3.0</td>\n",
       "      <td>4.0</td>\n",
       "      <td>7.0</td>\n",
       "    </tr>\n",
       "    <tr>\n",
       "      <th>product_cart</th>\n",
       "      <td>824.0</td>\n",
       "      <td>3.057039</td>\n",
       "      <td>1.183277</td>\n",
       "      <td>1.0</td>\n",
       "      <td>2.0</td>\n",
       "      <td>3.0</td>\n",
       "      <td>4.0</td>\n",
       "      <td>7.0</td>\n",
       "    </tr>\n",
       "    <tr>\n",
       "      <th>product_page</th>\n",
       "      <td>1780.0</td>\n",
       "      <td>3.042135</td>\n",
       "      <td>1.223675</td>\n",
       "      <td>1.0</td>\n",
       "      <td>2.0</td>\n",
       "      <td>3.0</td>\n",
       "      <td>4.0</td>\n",
       "      <td>7.0</td>\n",
       "    </tr>\n",
       "    <tr>\n",
       "      <th>purchase</th>\n",
       "      <td>872.0</td>\n",
       "      <td>2.996560</td>\n",
       "      <td>1.197486</td>\n",
       "      <td>1.0</td>\n",
       "      <td>2.0</td>\n",
       "      <td>3.0</td>\n",
       "      <td>4.0</td>\n",
       "      <td>7.0</td>\n",
       "    </tr>\n",
       "    <tr>\n",
       "      <th rowspan=\"4\" valign=\"top\">B</th>\n",
       "      <th>login</th>\n",
       "      <td>927.0</td>\n",
       "      <td>2.689320</td>\n",
       "      <td>1.228058</td>\n",
       "      <td>1.0</td>\n",
       "      <td>2.0</td>\n",
       "      <td>3.0</td>\n",
       "      <td>3.0</td>\n",
       "      <td>8.0</td>\n",
       "    </tr>\n",
       "    <tr>\n",
       "      <th>product_cart</th>\n",
       "      <td>255.0</td>\n",
       "      <td>2.584314</td>\n",
       "      <td>1.206833</td>\n",
       "      <td>1.0</td>\n",
       "      <td>2.0</td>\n",
       "      <td>2.0</td>\n",
       "      <td>3.0</td>\n",
       "      <td>8.0</td>\n",
       "    </tr>\n",
       "    <tr>\n",
       "      <th>product_page</th>\n",
       "      <td>523.0</td>\n",
       "      <td>2.544933</td>\n",
       "      <td>1.192002</td>\n",
       "      <td>1.0</td>\n",
       "      <td>2.0</td>\n",
       "      <td>2.0</td>\n",
       "      <td>3.0</td>\n",
       "      <td>8.0</td>\n",
       "    </tr>\n",
       "    <tr>\n",
       "      <th>purchase</th>\n",
       "      <td>256.0</td>\n",
       "      <td>2.500000</td>\n",
       "      <td>1.204566</td>\n",
       "      <td>1.0</td>\n",
       "      <td>2.0</td>\n",
       "      <td>2.0</td>\n",
       "      <td>3.0</td>\n",
       "      <td>7.0</td>\n",
       "    </tr>\n",
       "  </tbody>\n",
       "</table>\n",
       "</div>"
      ],
      "text/plain": [
       "                   event_dt                                             \n",
       "                      count      mean       std  min  25%  50%  75%  max\n",
       "group event_name                                                        \n",
       "A     login          2747.0  3.057881  1.211410  1.0  2.0  3.0  4.0  7.0\n",
       "      product_cart    824.0  3.057039  1.183277  1.0  2.0  3.0  4.0  7.0\n",
       "      product_page   1780.0  3.042135  1.223675  1.0  2.0  3.0  4.0  7.0\n",
       "      purchase        872.0  2.996560  1.197486  1.0  2.0  3.0  4.0  7.0\n",
       "B     login           927.0  2.689320  1.228058  1.0  2.0  3.0  3.0  8.0\n",
       "      product_cart    255.0  2.584314  1.206833  1.0  2.0  2.0  3.0  8.0\n",
       "      product_page    523.0  2.544933  1.192002  1.0  2.0  2.0  3.0  8.0\n",
       "      purchase        256.0  2.500000  1.204566  1.0  2.0  2.0  3.0  7.0"
      ]
     },
     "execution_count": 64,
     "metadata": {},
     "output_type": "execute_result"
    }
   ],
   "source": [
    "events_per_user = (\n",
    "    test_data\n",
    "    .groupby(['user_id', 'group', 'event_name'])\n",
    "    ['event_dt']\n",
    "    .count()\n",
    "    .reset_index()\n",
    ")\n",
    "\n",
    "events_per_user.groupby(['group', 'event_name']).agg({'event_dt':'describe'})"
   ]
  },
  {
   "cell_type": "markdown",
   "metadata": {},
   "source": [
    "_**Вплоть до третьего квартиля, а также по средним показателям группа А превосходит группу В по количеству совершенных событий на пользователя. Но максимальное кол-во событий, совершенных пользователями, больше у группы В.**_"
   ]
  },
  {
   "cell_type": "markdown",
   "metadata": {},
   "source": [
    "### Распределение количества событий в выборках по дням"
   ]
  },
  {
   "cell_type": "markdown",
   "metadata": {},
   "source": [
    "*Построение графика распределения количества событий*"
   ]
  },
  {
   "cell_type": "code",
   "execution_count": 65,
   "metadata": {},
   "outputs": [
    {
     "data": {
      "image/png": "[encoded data removed]",
      "text/plain": [
       "<Figure size 864x576 with 1 Axes>"
      ]
     },
     "metadata": {
      "needs_background": "light"
     },
     "output_type": "display_data"
    }
   ],
   "source": [
    "plt.figure(figsize=(12, 8))\n",
    "plt.hist(test_data.query('group == \"A\"')['event_dt'], bins=23, alpha=0.75, label='Группа А')\n",
    "plt.hist(test_data.query('group == \"B\"')['event_dt'], bins=23, alpha=0.75, label='Группа В')\n",
    "\n",
    "plt.xticks(rotation=45)\n",
    "plt.legend(loc='upper right')\n",
    "plt.title('Распределение количества событий')\n",
    "plt.grid()\n",
    "plt.show()"
   ]
  },
  {
   "cell_type": "markdown",
   "metadata": {},
   "source": [
    "_**Пользователи из группы В поначалу идут вровень с пользователями из группы А, но уже начиная с пятого дня, отстают все больше и больше. В обеих группах с 14 декабря идет прирост количества событий, а с 22 декабря резкий спад.**_"
   ]
  },
  {
   "cell_type": "markdown",
   "metadata": {},
   "source": [
    "*Построение графика среднего количества событий в день на пользователя*"
   ]
  },
  {
   "cell_type": "code",
   "execution_count": 66,
   "metadata": {
    "scrolled": true
   },
   "outputs": [
    {
     "data": {
      "image/png": "[encoded data removed]",
      "text/plain": [
       "<Figure size 720x432 with 1 Axes>"
      ]
     },
     "metadata": {
      "needs_background": "light"
     },
     "output_type": "display_data"
    }
   ],
   "source": [
    "# добавление столбца с датой события\n",
    "test_data['event_date'] = test_data['event_dt'].dt.date\n",
    "\n",
    "# создание таблицы с кол-вом событий и пользователей за день\n",
    "mean_events_date_user = (\n",
    "    test_data\n",
    "    .groupby(['group', 'event_date'])\n",
    "    .agg({'event_name':'count', 'user_id':'nunique'})\n",
    "    .reset_index()\n",
    ")\n",
    "\n",
    "# добавление столбца со средним кол-вом событий на пользователя\n",
    "mean_events_date_user['mean_events_date_user'] = (\n",
    "    mean_events_date_user['event_name'] /\n",
    "    mean_events_date_user['user_id']\n",
    ")\n",
    "\n",
    "# построение графика\n",
    "plt.figure(figsize=(10, 6))\n",
    "for value in mean_events_date_user['group'].unique():\n",
    "    plt.plot(\n",
    "        mean_events_date_user.query('group == @value')['event_date'],\n",
    "        mean_events_date_user.query('group == @value')['mean_events_date_user'],\n",
    "        '-o',\n",
    "        label=f'Группа {value}'\n",
    "    )\n",
    "\n",
    "plt.legend(loc='upper right')\n",
    "plt.title('Cреднее количество событий в день на пользователя')\n",
    "plt.grid()\n",
    "plt.show()"
   ]
  },
  {
   "cell_type": "markdown",
   "metadata": {},
   "source": [
    "_**В группе А среднее количество событий в день на пользователя со временем устанавливается, в то время как в группе В оно снижается. Группа А опережает группу В.**_"
   ]
  },
  {
   "cell_type": "markdown",
   "metadata": {},
   "source": [
    "### Изменение конверсии в воронке в выборках на разных этапах"
   ]
  },
  {
   "cell_type": "markdown",
   "metadata": {},
   "source": [
    "*Построение воронки*"
   ]
  },
  {
   "cell_type": "code",
   "execution_count": 67,
   "metadata": {},
   "outputs": [
    {
     "data": {
      "text/html": [
       "<div>\n",
       "<style scoped>\n",
       "    .dataframe tbody tr th:only-of-type {\n",
       "        vertical-align: middle;\n",
       "    }\n",
       "\n",
       "    .dataframe tbody tr th {\n",
       "        vertical-align: top;\n",
       "    }\n",
       "\n",
       "    .dataframe thead th {\n",
       "        text-align: right;\n",
       "    }\n",
       "</style>\n",
       "<table border=\"1\" class=\"dataframe\">\n",
       "  <thead>\n",
       "    <tr style=\"text-align: right;\">\n",
       "      <th>group</th>\n",
       "      <th>event_name</th>\n",
       "      <th>A</th>\n",
       "      <th>B</th>\n",
       "      <th>share_of_initial_A</th>\n",
       "      <th>share_of_initial_B</th>\n",
       "      <th>A_B_difference</th>\n",
       "    </tr>\n",
       "  </thead>\n",
       "  <tbody>\n",
       "    <tr>\n",
       "      <th>0</th>\n",
       "      <td>login</td>\n",
       "      <td>2747</td>\n",
       "      <td>927</td>\n",
       "      <td>1.000</td>\n",
       "      <td>0.999</td>\n",
       "      <td>-0.001</td>\n",
       "    </tr>\n",
       "    <tr>\n",
       "      <th>2</th>\n",
       "      <td>product_page</td>\n",
       "      <td>1780</td>\n",
       "      <td>523</td>\n",
       "      <td>0.648</td>\n",
       "      <td>0.564</td>\n",
       "      <td>-0.084</td>\n",
       "    </tr>\n",
       "    <tr>\n",
       "      <th>1</th>\n",
       "      <td>product_cart</td>\n",
       "      <td>824</td>\n",
       "      <td>255</td>\n",
       "      <td>0.300</td>\n",
       "      <td>0.275</td>\n",
       "      <td>-0.025</td>\n",
       "    </tr>\n",
       "    <tr>\n",
       "      <th>3</th>\n",
       "      <td>purchase</td>\n",
       "      <td>872</td>\n",
       "      <td>256</td>\n",
       "      <td>0.317</td>\n",
       "      <td>0.276</td>\n",
       "      <td>-0.041</td>\n",
       "    </tr>\n",
       "  </tbody>\n",
       "</table>\n",
       "</div>"
      ],
      "text/plain": [
       "group    event_name     A    B  share_of_initial_A  share_of_initial_B  \\\n",
       "0             login  2747  927               1.000               0.999   \n",
       "2      product_page  1780  523               0.648               0.564   \n",
       "1      product_cart   824  255               0.300               0.275   \n",
       "3          purchase   872  256               0.317               0.276   \n",
       "\n",
       "group  A_B_difference  \n",
       "0              -0.001  \n",
       "2              -0.084  \n",
       "1              -0.025  \n",
       "3              -0.041  "
      ]
     },
     "execution_count": 67,
     "metadata": {},
     "output_type": "execute_result"
    }
   ],
   "source": [
    "# создание сводной таблицы\n",
    "funnel = (\n",
    "    test_data\n",
    "    .pivot_table(\n",
    "        index='event_name', \n",
    "        columns='group', \n",
    "        values='user_id', \n",
    "        aggfunc='nunique'\n",
    "    ).reset_index()\n",
    ")\n",
    "    \n",
    "# расстановка строк согласно воронке событий\n",
    "funnel = funnel.reindex([0, 2, 1, 3])\n",
    "\n",
    "# добавление столбцов с долями от общего кол-ва пользователей в группах\n",
    "for value in test_data['group'].unique():\n",
    "\n",
    "    funnel[f'share_of_initial_{value}'] = (\n",
    "        funnel[value] / test_data.query('group == @value')['user_id'].nunique()\n",
    "    ).round(3)\n",
    "\n",
    "# добавление столбца с относительной разницей между группами\n",
    "funnel['A_B_difference'] = funnel['share_of_initial_B'] - funnel['share_of_initial_A']\n",
    "\n",
    "funnel"
   ]
  },
  {
   "cell_type": "markdown",
   "metadata": {},
   "source": [
    "*Визуализация воронки*"
   ]
  },
  {
   "cell_type": "code",
   "execution_count": 68,
   "metadata": {},
   "outputs": [
    {
     "data": {
      "application/vnd.plotly.v1+json": {
       "config": {
        "plotlyServerURL": "https://plot.ly"
       },
       "data": [
        {
         "name": "Группа A",
         "textinfo": "value+percent initial",
         "type": "funnel",
         "x": [
          2747,
          1780,
          824,
          872
         ],
         "y": [
          "login",
          "product_page",
          "product_cart",
          "purchase"
         ]
        },
        {
         "name": "Группа B",
         "textinfo": "value+percent initial",
         "type": "funnel",
         "x": [
          927,
          523,
          255,
          256
         ],
         "y": [
          "login",
          "product_page",
          "product_cart",
          "purchase"
         ]
        }
       ],
       "layout": {
        "template": {
         "data": {
          "bar": [
           {
            "error_x": {
             "color": "#2a3f5f"
            },
            "error_y": {
             "color": "#2a3f5f"
            },
            "marker": {
             "line": {
              "color": "#E5ECF6",
              "width": 0.5
             },
             "pattern": {
              "fillmode": "overlay",
              "size": 10,
              "solidity": 0.2
             }
            },
            "type": "bar"
           }
          ],
          "barpolar": [
           {
            "marker": {
             "line": {
              "color": "#E5ECF6",
              "width": 0.5
             },
             "pattern": {
              "fillmode": "overlay",
              "size": 10,
              "solidity": 0.2
             }
            },
            "type": "barpolar"
           }
          ],
          "carpet": [
           {
            "aaxis": {
             "endlinecolor": "#2a3f5f",
             "gridcolor": "white",
             "linecolor": "white",
             "minorgridcolor": "white",
             "startlinecolor": "#2a3f5f"
            },
            "baxis": {
             "endlinecolor": "#2a3f5f",
             "gridcolor": "white",
             "linecolor": "white",
             "minorgridcolor": "white",
             "startlinecolor": "#2a3f5f"
            },
            "type": "carpet"
           }
          ],
          "choropleth": [
           {
            "colorbar": {
             "outlinewidth": 0,
             "ticks": ""
            },
            "type": "choropleth"
           }
          ],
          "contour": [
           {
            "colorbar": {
             "outlinewidth": 0,
             "ticks": ""
            },
            "colorscale": [
             [
              0,
              "#0d0887"
             ],
             [
              0.1111111111111111,
              "#46039f"
             ],
             [
              0.2222222222222222,
              "#7201a8"
             ],
             [
              0.3333333333333333,
              "#9c179e"
             ],
             [
              0.4444444444444444,
              "#bd3786"
             ],
             [
              0.5555555555555556,
              "#d8576b"
             ],
             [
              0.6666666666666666,
              "#ed7953"
             ],
             [
              0.7777777777777778,
              "#fb9f3a"
             ],
             [
              0.8888888888888888,
              "#fdca26"
             ],
             [
              1,
              "#f0f921"
             ]
            ],
            "type": "contour"
           }
          ],
          "contourcarpet": [
           {
            "colorbar": {
             "outlinewidth": 0,
             "ticks": ""
            },
            "type": "contourcarpet"
           }
          ],
          "heatmap": [
           {
            "colorbar": {
             "outlinewidth": 0,
             "ticks": ""
            },
            "colorscale": [
             [
              0,
              "#0d0887"
             ],
             [
              0.1111111111111111,
              "#46039f"
             ],
             [
              0.2222222222222222,
              "#7201a8"
             ],
             [
              0.3333333333333333,
              "#9c179e"
             ],
             [
              0.4444444444444444,
              "#bd3786"
             ],
             [
              0.5555555555555556,
              "#d8576b"
             ],
             [
              0.6666666666666666,
              "#ed7953"
             ],
             [
              0.7777777777777778,
              "#fb9f3a"
             ],
             [
              0.8888888888888888,
              "#fdca26"
             ],
             [
              1,
              "#f0f921"
             ]
            ],
            "type": "heatmap"
           }
          ],
          "heatmapgl": [
           {
            "colorbar": {
             "outlinewidth": 0,
             "ticks": ""
            },
            "colorscale": [
             [
              0,
              "#0d0887"
             ],
             [
              0.1111111111111111,
              "#46039f"
             ],
             [
              0.2222222222222222,
              "#7201a8"
             ],
             [
              0.3333333333333333,
              "#9c179e"
             ],
             [
              0.4444444444444444,
              "#bd3786"
             ],
             [
              0.5555555555555556,
              "#d8576b"
             ],
             [
              0.6666666666666666,
              "#ed7953"
             ],
             [
              0.7777777777777778,
              "#fb9f3a"
             ],
             [
              0.8888888888888888,
              "#fdca26"
             ],
             [
              1,
              "#f0f921"
             ]
            ],
            "type": "heatmapgl"
           }
          ],
          "histogram": [
           {
            "marker": {
             "pattern": {
              "fillmode": "overlay",
              "size": 10,
              "solidity": 0.2
             }
            },
            "type": "histogram"
           }
          ],
          "histogram2d": [
           {
            "colorbar": {
             "outlinewidth": 0,
             "ticks": ""
            },
            "colorscale": [
             [
              0,
              "#0d0887"
             ],
             [
              0.1111111111111111,
              "#46039f"
             ],
             [
              0.2222222222222222,
              "#7201a8"
             ],
             [
              0.3333333333333333,
              "#9c179e"
             ],
             [
              0.4444444444444444,
              "#bd3786"
             ],
             [
              0.5555555555555556,
              "#d8576b"
             ],
             [
              0.6666666666666666,
              "#ed7953"
             ],
             [
              0.7777777777777778,
              "#fb9f3a"
             ],
             [
              0.8888888888888888,
              "#fdca26"
             ],
             [
              1,
              "#f0f921"
             ]
            ],
            "type": "histogram2d"
           }
          ],
          "histogram2dcontour": [
           {
            "colorbar": {
             "outlinewidth": 0,
             "ticks": ""
            },
            "colorscale": [
             [
              0,
              "#0d0887"
             ],
             [
              0.1111111111111111,
              "#46039f"
             ],
             [
              0.2222222222222222,
              "#7201a8"
             ],
             [
              0.3333333333333333,
              "#9c179e"
             ],
             [
              0.4444444444444444,
              "#bd3786"
             ],
             [
              0.5555555555555556,
              "#d8576b"
             ],
             [
              0.6666666666666666,
              "#ed7953"
             ],
             [
              0.7777777777777778,
              "#fb9f3a"
             ],
             [
              0.8888888888888888,
              "#fdca26"
             ],
             [
              1,
              "#f0f921"
             ]
            ],
            "type": "histogram2dcontour"
           }
          ],
          "mesh3d": [
           {
            "colorbar": {
             "outlinewidth": 0,
             "ticks": ""
            },
            "type": "mesh3d"
           }
          ],
          "parcoords": [
           {
            "line": {
             "colorbar": {
              "outlinewidth": 0,
              "ticks": ""
             }
            },
            "type": "parcoords"
           }
          ],
          "pie": [
           {
            "automargin": true,
            "type": "pie"
           }
          ],
          "scatter": [
           {
            "fillpattern": {
             "fillmode": "overlay",
             "size": 10,
             "solidity": 0.2
            },
            "type": "scatter"
           }
          ],
          "scatter3d": [
           {
            "line": {
             "colorbar": {
              "outlinewidth": 0,
              "ticks": ""
             }
            },
            "marker": {
             "colorbar": {
              "outlinewidth": 0,
              "ticks": ""
             }
            },
            "type": "scatter3d"
           }
          ],
          "scattercarpet": [
           {
            "marker": {
             "colorbar": {
              "outlinewidth": 0,
              "ticks": ""
             }
            },
            "type": "scattercarpet"
           }
          ],
          "scattergeo": [
           {
            "marker": {
             "colorbar": {
              "outlinewidth": 0,
              "ticks": ""
             }
            },
            "type": "scattergeo"
           }
          ],
          "scattergl": [
           {
            "marker": {
             "colorbar": {
              "outlinewidth": 0,
              "ticks": ""
             }
            },
            "type": "scattergl"
           }
          ],
          "scattermapbox": [
           {
            "marker": {
             "colorbar": {
              "outlinewidth": 0,
              "ticks": ""
             }
            },
            "type": "scattermapbox"
           }
          ],
          "scatterpolar": [
           {
            "marker": {
             "colorbar": {
              "outlinewidth": 0,
              "ticks": ""
             }
            },
            "type": "scatterpolar"
           }
          ],
          "scatterpolargl": [
           {
            "marker": {
             "colorbar": {
              "outlinewidth": 0,
              "ticks": ""
             }
            },
            "type": "scatterpolargl"
           }
          ],
          "scatterternary": [
           {
            "marker": {
             "colorbar": {
              "outlinewidth": 0,
              "ticks": ""
             }
            },
            "type": "scatterternary"
           }
          ],
          "surface": [
           {
            "colorbar": {
             "outlinewidth": 0,
             "ticks": ""
            },
            "colorscale": [
             [
              0,
              "#0d0887"
             ],
             [
              0.1111111111111111,
              "#46039f"
             ],
             [
              0.2222222222222222,
              "#7201a8"
             ],
             [
              0.3333333333333333,
              "#9c179e"
             ],
             [
              0.4444444444444444,
              "#bd3786"
             ],
             [
              0.5555555555555556,
              "#d8576b"
             ],
             [
              0.6666666666666666,
              "#ed7953"
             ],
             [
              0.7777777777777778,
              "#fb9f3a"
             ],
             [
              0.8888888888888888,
              "#fdca26"
             ],
             [
              1,
              "#f0f921"
             ]
            ],
            "type": "surface"
           }
          ],
          "table": [
           {
            "cells": {
             "fill": {
              "color": "#EBF0F8"
             },
             "line": {
              "color": "white"
             }
            },
            "header": {
             "fill": {
              "color": "#C8D4E3"
             },
             "line": {
              "color": "white"
             }
            },
            "type": "table"
           }
          ]
         },
         "layout": {
          "annotationdefaults": {
           "arrowcolor": "#2a3f5f",
           "arrowhead": 0,
           "arrowwidth": 1
          },
          "autotypenumbers": "strict",
          "coloraxis": {
           "colorbar": {
            "outlinewidth": 0,
            "ticks": ""
           }
          },
          "colorscale": {
           "diverging": [
            [
             0,
             "#8e0152"
            ],
            [
             0.1,
             "#c51b7d"
            ],
            [
             0.2,
             "#de77ae"
            ],
            [
             0.3,
             "#f1b6da"
            ],
            [
             0.4,
             "#fde0ef"
            ],
            [
             0.5,
             "#f7f7f7"
            ],
            [
             0.6,
             "#e6f5d0"
            ],
            [
             0.7,
             "#b8e186"
            ],
            [
             0.8,
             "#7fbc41"
            ],
            [
             0.9,
             "#4d9221"
            ],
            [
             1,
             "#276419"
            ]
           ],
           "sequential": [
            [
             0,
             "#0d0887"
            ],
            [
             0.1111111111111111,
             "#46039f"
            ],
            [
             0.2222222222222222,
             "#7201a8"
            ],
            [
             0.3333333333333333,
             "#9c179e"
            ],
            [
             0.4444444444444444,
             "#bd3786"
            ],
            [
             0.5555555555555556,
             "#d8576b"
            ],
            [
             0.6666666666666666,
             "#ed7953"
            ],
            [
             0.7777777777777778,
             "#fb9f3a"
            ],
            [
             0.8888888888888888,
             "#fdca26"
            ],
            [
             1,
             "#f0f921"
            ]
           ],
           "sequentialminus": [
            [
             0,
             "#0d0887"
            ],
            [
             0.1111111111111111,
             "#46039f"
            ],
            [
             0.2222222222222222,
             "#7201a8"
            ],
            [
             0.3333333333333333,
             "#9c179e"
            ],
            [
             0.4444444444444444,
             "#bd3786"
            ],
            [
             0.5555555555555556,
             "#d8576b"
            ],
            [
             0.6666666666666666,
             "#ed7953"
            ],
            [
             0.7777777777777778,
             "#fb9f3a"
            ],
            [
             0.8888888888888888,
             "#fdca26"
            ],
            [
             1,
             "#f0f921"
            ]
           ]
          },
          "colorway": [
           "#636efa",
           "#EF553B",
           "#00cc96",
           "#ab63fa",
           "#FFA15A",
           "#19d3f3",
           "#FF6692",
           "#B6E880",
           "#FF97FF",
           "#FECB52"
          ],
          "font": {
           "color": "#2a3f5f"
          },
          "geo": {
           "bgcolor": "white",
           "lakecolor": "white",
           "landcolor": "#E5ECF6",
           "showlakes": true,
           "showland": true,
           "subunitcolor": "white"
          },
          "hoverlabel": {
           "align": "left"
          },
          "hovermode": "closest",
          "mapbox": {
           "style": "light"
          },
          "paper_bgcolor": "white",
          "plot_bgcolor": "#E5ECF6",
          "polar": {
           "angularaxis": {
            "gridcolor": "white",
            "linecolor": "white",
            "ticks": ""
           },
           "bgcolor": "#E5ECF6",
           "radialaxis": {
            "gridcolor": "white",
            "linecolor": "white",
            "ticks": ""
           }
          },
          "scene": {
           "xaxis": {
            "backgroundcolor": "#E5ECF6",
            "gridcolor": "white",
            "gridwidth": 2,
            "linecolor": "white",
            "showbackground": true,
            "ticks": "",
            "zerolinecolor": "white"
           },
           "yaxis": {
            "backgroundcolor": "#E5ECF6",
            "gridcolor": "white",
            "gridwidth": 2,
            "linecolor": "white",
            "showbackground": true,
            "ticks": "",
            "zerolinecolor": "white"
           },
           "zaxis": {
            "backgroundcolor": "#E5ECF6",
            "gridcolor": "white",
            "gridwidth": 2,
            "linecolor": "white",
            "showbackground": true,
            "ticks": "",
            "zerolinecolor": "white"
           }
          },
          "shapedefaults": {
           "line": {
            "color": "#2a3f5f"
           }
          },
          "ternary": {
           "aaxis": {
            "gridcolor": "white",
            "linecolor": "white",
            "ticks": ""
           },
           "baxis": {
            "gridcolor": "white",
            "linecolor": "white",
            "ticks": ""
           },
           "bgcolor": "#E5ECF6",
           "caxis": {
            "gridcolor": "white",
            "linecolor": "white",
            "ticks": ""
           }
          },
          "title": {
           "x": 0.05
          },
          "xaxis": {
           "automargin": true,
           "gridcolor": "white",
           "linecolor": "white",
           "ticks": "",
           "title": {
            "standoff": 15
           },
           "zerolinecolor": "white",
           "zerolinewidth": 2
          },
          "yaxis": {
           "automargin": true,
           "gridcolor": "white",
           "linecolor": "white",
           "ticks": "",
           "title": {
            "standoff": 15
           },
           "zerolinecolor": "white",
           "zerolinewidth": 2
          }
         }
        }
       }
      },
      "text/html": [
       "<div>                            <div id=\"32065e4f-c299-4256-8f29-d9dcdb3289f6\" class=\"plotly-graph-div\" style=\"height:525px; width:100%;\"></div>            <script type=\"text/javascript\">                require([\"plotly\"], function(Plotly) {                    window.PLOTLYENV=window.PLOTLYENV || {};                                    if (document.getElementById(\"32065e4f-c299-4256-8f29-d9dcdb3289f6\")) {                    Plotly.newPlot(                        \"32065e4f-c299-4256-8f29-d9dcdb3289f6\",                        [{\"name\":\"\\u0413\\u0440\\u0443\\u043f\\u043f\\u0430 A\",\"textinfo\":\"value+percent initial\",\"x\":[2747,1780,824,872],\"y\":[\"login\",\"product_page\",\"product_cart\",\"purchase\"],\"type\":\"funnel\"},{\"name\":\"\\u0413\\u0440\\u0443\\u043f\\u043f\\u0430 B\",\"textinfo\":\"value+percent initial\",\"x\":[927,523,255,256],\"y\":[\"login\",\"product_page\",\"product_cart\",\"purchase\"],\"type\":\"funnel\"}],                        {\"template\":{\"data\":{\"histogram2dcontour\":[{\"type\":\"histogram2dcontour\",\"colorbar\":{\"outlinewidth\":0,\"ticks\":\"\"},\"colorscale\":[[0.0,\"#0d0887\"],[0.1111111111111111,\"#46039f\"],[0.2222222222222222,\"#7201a8\"],[0.3333333333333333,\"#9c179e\"],[0.4444444444444444,\"#bd3786\"],[0.5555555555555556,\"#d8576b\"],[0.6666666666666666,\"#ed7953\"],[0.7777777777777778,\"#fb9f3a\"],[0.8888888888888888,\"#fdca26\"],[1.0,\"#f0f921\"]]}],\"choropleth\":[{\"type\":\"choropleth\",\"colorbar\":{\"outlinewidth\":0,\"ticks\":\"\"}}],\"histogram2d\":[{\"type\":\"histogram2d\",\"colorbar\":{\"outlinewidth\":0,\"ticks\":\"\"},\"colorscale\":[[0.0,\"#0d0887\"],[0.1111111111111111,\"#46039f\"],[0.2222222222222222,\"#7201a8\"],[0.3333333333333333,\"#9c179e\"],[0.4444444444444444,\"#bd3786\"],[0.5555555555555556,\"#d8576b\"],[0.6666666666666666,\"#ed7953\"],[0.7777777777777778,\"#fb9f3a\"],[0.8888888888888888,\"#fdca26\"],[1.0,\"#f0f921\"]]}],\"heatmap\":[{\"type\":\"heatmap\",\"colorbar\":{\"outlinewidth\":0,\"ticks\":\"\"},\"colorscale\":[[0.0,\"#0d0887\"],[0.1111111111111111,\"#46039f\"],[0.2222222222222222,\"#7201a8\"],[0.3333333333333333,\"#9c179e\"],[0.4444444444444444,\"#bd3786\"],[0.5555555555555556,\"#d8576b\"],[0.6666666666666666,\"#ed7953\"],[0.7777777777777778,\"#fb9f3a\"],[0.8888888888888888,\"#fdca26\"],[1.0,\"#f0f921\"]]}],\"heatmapgl\":[{\"type\":\"heatmapgl\",\"colorbar\":{\"outlinewidth\":0,\"ticks\":\"\"},\"colorscale\":[[0.0,\"#0d0887\"],[0.1111111111111111,\"#46039f\"],[0.2222222222222222,\"#7201a8\"],[0.3333333333333333,\"#9c179e\"],[0.4444444444444444,\"#bd3786\"],[0.5555555555555556,\"#d8576b\"],[0.6666666666666666,\"#ed7953\"],[0.7777777777777778,\"#fb9f3a\"],[0.8888888888888888,\"#fdca26\"],[1.0,\"#f0f921\"]]}],\"contourcarpet\":[{\"type\":\"contourcarpet\",\"colorbar\":{\"outlinewidth\":0,\"ticks\":\"\"}}],\"contour\":[{\"type\":\"contour\",\"colorbar\":{\"outlinewidth\":0,\"ticks\":\"\"},\"colorscale\":[[0.0,\"#0d0887\"],[0.1111111111111111,\"#46039f\"],[0.2222222222222222,\"#7201a8\"],[0.3333333333333333,\"#9c179e\"],[0.4444444444444444,\"#bd3786\"],[0.5555555555555556,\"#d8576b\"],[0.6666666666666666,\"#ed7953\"],[0.7777777777777778,\"#fb9f3a\"],[0.8888888888888888,\"#fdca26\"],[1.0,\"#f0f921\"]]}],\"surface\":[{\"type\":\"surface\",\"colorbar\":{\"outlinewidth\":0,\"ticks\":\"\"},\"colorscale\":[[0.0,\"#0d0887\"],[0.1111111111111111,\"#46039f\"],[0.2222222222222222,\"#7201a8\"],[0.3333333333333333,\"#9c179e\"],[0.4444444444444444,\"#bd3786\"],[0.5555555555555556,\"#d8576b\"],[0.6666666666666666,\"#ed7953\"],[0.7777777777777778,\"#fb9f3a\"],[0.8888888888888888,\"#fdca26\"],[1.0,\"#f0f921\"]]}],\"mesh3d\":[{\"type\":\"mesh3d\",\"colorbar\":{\"outlinewidth\":0,\"ticks\":\"\"}}],\"scatter\":[{\"fillpattern\":{\"fillmode\":\"overlay\",\"size\":10,\"solidity\":0.2},\"type\":\"scatter\"}],\"parcoords\":[{\"type\":\"parcoords\",\"line\":{\"colorbar\":{\"outlinewidth\":0,\"ticks\":\"\"}}}],\"scatterpolargl\":[{\"type\":\"scatterpolargl\",\"marker\":{\"colorbar\":{\"outlinewidth\":0,\"ticks\":\"\"}}}],\"bar\":[{\"error_x\":{\"color\":\"#2a3f5f\"},\"error_y\":{\"color\":\"#2a3f5f\"},\"marker\":{\"line\":{\"color\":\"#E5ECF6\",\"width\":0.5},\"pattern\":{\"fillmode\":\"overlay\",\"size\":10,\"solidity\":0.2}},\"type\":\"bar\"}],\"scattergeo\":[{\"type\":\"scattergeo\",\"marker\":{\"colorbar\":{\"outlinewidth\":0,\"ticks\":\"\"}}}],\"scatterpolar\":[{\"type\":\"scatterpolar\",\"marker\":{\"colorbar\":{\"outlinewidth\":0,\"ticks\":\"\"}}}],\"histogram\":[{\"marker\":{\"pattern\":{\"fillmode\":\"overlay\",\"size\":10,\"solidity\":0.2}},\"type\":\"histogram\"}],\"scattergl\":[{\"type\":\"scattergl\",\"marker\":{\"colorbar\":{\"outlinewidth\":0,\"ticks\":\"\"}}}],\"scatter3d\":[{\"type\":\"scatter3d\",\"line\":{\"colorbar\":{\"outlinewidth\":0,\"ticks\":\"\"}},\"marker\":{\"colorbar\":{\"outlinewidth\":0,\"ticks\":\"\"}}}],\"scattermapbox\":[{\"type\":\"scattermapbox\",\"marker\":{\"colorbar\":{\"outlinewidth\":0,\"ticks\":\"\"}}}],\"scatterternary\":[{\"type\":\"scatterternary\",\"marker\":{\"colorbar\":{\"outlinewidth\":0,\"ticks\":\"\"}}}],\"scattercarpet\":[{\"type\":\"scattercarpet\",\"marker\":{\"colorbar\":{\"outlinewidth\":0,\"ticks\":\"\"}}}],\"carpet\":[{\"aaxis\":{\"endlinecolor\":\"#2a3f5f\",\"gridcolor\":\"white\",\"linecolor\":\"white\",\"minorgridcolor\":\"white\",\"startlinecolor\":\"#2a3f5f\"},\"baxis\":{\"endlinecolor\":\"#2a3f5f\",\"gridcolor\":\"white\",\"linecolor\":\"white\",\"minorgridcolor\":\"white\",\"startlinecolor\":\"#2a3f5f\"},\"type\":\"carpet\"}],\"table\":[{\"cells\":{\"fill\":{\"color\":\"#EBF0F8\"},\"line\":{\"color\":\"white\"}},\"header\":{\"fill\":{\"color\":\"#C8D4E3\"},\"line\":{\"color\":\"white\"}},\"type\":\"table\"}],\"barpolar\":[{\"marker\":{\"line\":{\"color\":\"#E5ECF6\",\"width\":0.5},\"pattern\":{\"fillmode\":\"overlay\",\"size\":10,\"solidity\":0.2}},\"type\":\"barpolar\"}],\"pie\":[{\"automargin\":true,\"type\":\"pie\"}]},\"layout\":{\"autotypenumbers\":\"strict\",\"colorway\":[\"#636efa\",\"#EF553B\",\"#00cc96\",\"#ab63fa\",\"#FFA15A\",\"#19d3f3\",\"#FF6692\",\"#B6E880\",\"#FF97FF\",\"#FECB52\"],\"font\":{\"color\":\"#2a3f5f\"},\"hovermode\":\"closest\",\"hoverlabel\":{\"align\":\"left\"},\"paper_bgcolor\":\"white\",\"plot_bgcolor\":\"#E5ECF6\",\"polar\":{\"bgcolor\":\"#E5ECF6\",\"angularaxis\":{\"gridcolor\":\"white\",\"linecolor\":\"white\",\"ticks\":\"\"},\"radialaxis\":{\"gridcolor\":\"white\",\"linecolor\":\"white\",\"ticks\":\"\"}},\"ternary\":{\"bgcolor\":\"#E5ECF6\",\"aaxis\":{\"gridcolor\":\"white\",\"linecolor\":\"white\",\"ticks\":\"\"},\"baxis\":{\"gridcolor\":\"white\",\"linecolor\":\"white\",\"ticks\":\"\"},\"caxis\":{\"gridcolor\":\"white\",\"linecolor\":\"white\",\"ticks\":\"\"}},\"coloraxis\":{\"colorbar\":{\"outlinewidth\":0,\"ticks\":\"\"}},\"colorscale\":{\"sequential\":[[0.0,\"#0d0887\"],[0.1111111111111111,\"#46039f\"],[0.2222222222222222,\"#7201a8\"],[0.3333333333333333,\"#9c179e\"],[0.4444444444444444,\"#bd3786\"],[0.5555555555555556,\"#d8576b\"],[0.6666666666666666,\"#ed7953\"],[0.7777777777777778,\"#fb9f3a\"],[0.8888888888888888,\"#fdca26\"],[1.0,\"#f0f921\"]],\"sequentialminus\":[[0.0,\"#0d0887\"],[0.1111111111111111,\"#46039f\"],[0.2222222222222222,\"#7201a8\"],[0.3333333333333333,\"#9c179e\"],[0.4444444444444444,\"#bd3786\"],[0.5555555555555556,\"#d8576b\"],[0.6666666666666666,\"#ed7953\"],[0.7777777777777778,\"#fb9f3a\"],[0.8888888888888888,\"#fdca26\"],[1.0,\"#f0f921\"]],\"diverging\":[[0,\"#8e0152\"],[0.1,\"#c51b7d\"],[0.2,\"#de77ae\"],[0.3,\"#f1b6da\"],[0.4,\"#fde0ef\"],[0.5,\"#f7f7f7\"],[0.6,\"#e6f5d0\"],[0.7,\"#b8e186\"],[0.8,\"#7fbc41\"],[0.9,\"#4d9221\"],[1,\"#276419\"]]},\"xaxis\":{\"gridcolor\":\"white\",\"linecolor\":\"white\",\"ticks\":\"\",\"title\":{\"standoff\":15},\"zerolinecolor\":\"white\",\"automargin\":true,\"zerolinewidth\":2},\"yaxis\":{\"gridcolor\":\"white\",\"linecolor\":\"white\",\"ticks\":\"\",\"title\":{\"standoff\":15},\"zerolinecolor\":\"white\",\"automargin\":true,\"zerolinewidth\":2},\"scene\":{\"xaxis\":{\"backgroundcolor\":\"#E5ECF6\",\"gridcolor\":\"white\",\"linecolor\":\"white\",\"showbackground\":true,\"ticks\":\"\",\"zerolinecolor\":\"white\",\"gridwidth\":2},\"yaxis\":{\"backgroundcolor\":\"#E5ECF6\",\"gridcolor\":\"white\",\"linecolor\":\"white\",\"showbackground\":true,\"ticks\":\"\",\"zerolinecolor\":\"white\",\"gridwidth\":2},\"zaxis\":{\"backgroundcolor\":\"#E5ECF6\",\"gridcolor\":\"white\",\"linecolor\":\"white\",\"showbackground\":true,\"ticks\":\"\",\"zerolinecolor\":\"white\",\"gridwidth\":2}},\"shapedefaults\":{\"line\":{\"color\":\"#2a3f5f\"}},\"annotationdefaults\":{\"arrowcolor\":\"#2a3f5f\",\"arrowhead\":0,\"arrowwidth\":1},\"geo\":{\"bgcolor\":\"white\",\"landcolor\":\"#E5ECF6\",\"subunitcolor\":\"white\",\"showland\":true,\"showlakes\":true,\"lakecolor\":\"white\"},\"title\":{\"x\":0.05},\"mapbox\":{\"style\":\"light\"}}}},                        {\"responsive\": true}                    ).then(function(){\n",
       "                            \n",
       "var gd = document.getElementById('32065e4f-c299-4256-8f29-d9dcdb3289f6');\n",
       "var x = new MutationObserver(function (mutations, observer) {{\n",
       "        var display = window.getComputedStyle(gd).display;\n",
       "        if (!display || display === 'none') {{\n",
       "            console.log([gd, 'removed!']);\n",
       "            Plotly.purge(gd);\n",
       "            observer.disconnect();\n",
       "        }}\n",
       "}});\n",
       "\n",
       "// Listen for the removal of the full notebook cells\n",
       "var notebookContainer = gd.closest('#notebook-container');\n",
       "if (notebookContainer) {{\n",
       "    x.observe(notebookContainer, {childList: true});\n",
       "}}\n",
       "\n",
       "// Listen for the clearing of the current output cell\n",
       "var outputEl = gd.closest('.output');\n",
       "if (outputEl) {{\n",
       "    x.observe(outputEl, {childList: true});\n",
       "}}\n",
       "\n",
       "                        })                };                });            </script>        </div>"
      ]
     },
     "metadata": {},
     "output_type": "display_data"
    }
   ],
   "source": [
    "fig = go.Figure()\n",
    "\n",
    "for value in test_data['group'].unique():\n",
    "\n",
    "    fig.add_trace(go.Funnel(\n",
    "        name = f'Группа {value}',\n",
    "        y = funnel['event_name'],\n",
    "        x = funnel[value],\n",
    "        textinfo = \"value+percent initial\"))\n",
    "\n",
    "fig.show()"
   ]
  },
  {
   "cell_type": "markdown",
   "metadata": {},
   "source": [
    "_**Конверсия в просмотр карточек товаров составила 65% для группы А и 56% для группы В. Конверсия в просмотры корзины и покупки внутри групп практически одинакова и составляет 30% и 32% соответственно для группы А и по 28% для группы В.**_"
   ]
  },
  {
   "cell_type": "markdown",
   "metadata": {},
   "source": [
    "*Уберем пользователей, пришедших 16 декабря 2020г и позже. Оценим конверсию пользователей, которые оставались в тестировании 14 дней*"
   ]
  },
  {
   "cell_type": "code",
   "execution_count": 69,
   "metadata": {},
   "outputs": [
    {
     "name": "stdout",
     "output_type": "stream",
     "text": [
      "<class 'pandas.core.frame.DataFrame'>\n",
      "Int64Index: 11270 entries, 0 to 27723\n",
      "Data columns (total 8 columns):\n",
      " #   Column          Non-Null Count  Dtype         \n",
      "---  ------          --------------  -----         \n",
      " 0   user_id         11270 non-null  object        \n",
      " 1   group           11270 non-null  object        \n",
      " 2   first_date      11270 non-null  datetime64[ns]\n",
      " 3   region          11270 non-null  object        \n",
      " 4   event_dt        11270 non-null  datetime64[ns]\n",
      " 5   event_name      11270 non-null  object        \n",
      " 6   days_reg_event  11270 non-null  float64       \n",
      " 7   event_date      11270 non-null  object        \n",
      "dtypes: datetime64[ns](2), float64(1), object(5)\n",
      "memory usage: 792.4+ KB\n"
     ]
    }
   ],
   "source": [
    "two_weeks_only_users = test_data.loc[test_data['first_date'] < dt.datetime(2020, 12, 16)]\n",
    "two_weeks_only_users.info()"
   ]
  },
  {
   "cell_type": "code",
   "execution_count": 70,
   "metadata": {},
   "outputs": [
    {
     "name": "stdout",
     "output_type": "stream",
     "text": [
      "Количество пользователей, \"проживших\" в тестировании 14 дней: 1753\n",
      "Распределение этих пользователей по группам: group\n",
      "A    1216\n",
      "B     537\n",
      "Name: user_id, dtype: int64\n"
     ]
    }
   ],
   "source": [
    "print('Количество пользователей, \"проживших\" в тестировании 14 дней:',\n",
    "      two_weeks_only_users['user_id'].nunique())\n",
    "\n",
    "print('Распределение этих пользователей по группам:',\n",
    "      two_weeks_only_users.groupby('group')['user_id'].nunique())"
   ]
  },
  {
   "cell_type": "markdown",
   "metadata": {},
   "source": [
    "_**Отсеялось больше половины пользователей. В группе А теперь в 2,3 раза больше пользователей, чем в группе В.**_"
   ]
  },
  {
   "cell_type": "markdown",
   "metadata": {},
   "source": [
    "*Построение воронки*"
   ]
  },
  {
   "cell_type": "code",
   "execution_count": 71,
   "metadata": {},
   "outputs": [
    {
     "data": {
      "text/html": [
       "<div>\n",
       "<style scoped>\n",
       "    .dataframe tbody tr th:only-of-type {\n",
       "        vertical-align: middle;\n",
       "    }\n",
       "\n",
       "    .dataframe tbody tr th {\n",
       "        vertical-align: top;\n",
       "    }\n",
       "\n",
       "    .dataframe thead th {\n",
       "        text-align: right;\n",
       "    }\n",
       "</style>\n",
       "<table border=\"1\" class=\"dataframe\">\n",
       "  <thead>\n",
       "    <tr style=\"text-align: right;\">\n",
       "      <th>group</th>\n",
       "      <th>event_name</th>\n",
       "      <th>A</th>\n",
       "      <th>B</th>\n",
       "      <th>share_of_initial_A</th>\n",
       "      <th>share_of_initial_B</th>\n",
       "      <th>A_B_difference</th>\n",
       "    </tr>\n",
       "  </thead>\n",
       "  <tbody>\n",
       "    <tr>\n",
       "      <th>0</th>\n",
       "      <td>login</td>\n",
       "      <td>1216</td>\n",
       "      <td>536</td>\n",
       "      <td>1.000</td>\n",
       "      <td>0.998</td>\n",
       "      <td>-0.002</td>\n",
       "    </tr>\n",
       "    <tr>\n",
       "      <th>2</th>\n",
       "      <td>product_page</td>\n",
       "      <td>765</td>\n",
       "      <td>299</td>\n",
       "      <td>0.629</td>\n",
       "      <td>0.557</td>\n",
       "      <td>-0.072</td>\n",
       "    </tr>\n",
       "    <tr>\n",
       "      <th>1</th>\n",
       "      <td>product_cart</td>\n",
       "      <td>354</td>\n",
       "      <td>135</td>\n",
       "      <td>0.291</td>\n",
       "      <td>0.251</td>\n",
       "      <td>-0.040</td>\n",
       "    </tr>\n",
       "    <tr>\n",
       "      <th>3</th>\n",
       "      <td>purchase</td>\n",
       "      <td>350</td>\n",
       "      <td>145</td>\n",
       "      <td>0.288</td>\n",
       "      <td>0.270</td>\n",
       "      <td>-0.018</td>\n",
       "    </tr>\n",
       "  </tbody>\n",
       "</table>\n",
       "</div>"
      ],
      "text/plain": [
       "group    event_name     A    B  share_of_initial_A  share_of_initial_B  \\\n",
       "0             login  1216  536               1.000               0.998   \n",
       "2      product_page   765  299               0.629               0.557   \n",
       "1      product_cart   354  135               0.291               0.251   \n",
       "3          purchase   350  145               0.288               0.270   \n",
       "\n",
       "group  A_B_difference  \n",
       "0              -0.002  \n",
       "2              -0.072  \n",
       "1              -0.040  \n",
       "3              -0.018  "
      ]
     },
     "execution_count": 71,
     "metadata": {},
     "output_type": "execute_result"
    }
   ],
   "source": [
    "# создание сводной таблицы\n",
    "two_weeks_funnel = (\n",
    "    two_weeks_only_users\n",
    "    .pivot_table(\n",
    "        index='event_name', \n",
    "        columns='group', \n",
    "        values='user_id', \n",
    "        aggfunc='nunique'\n",
    "    ).reset_index()\n",
    ")\n",
    "    \n",
    "# расстановка строк согласно воронке событий\n",
    "two_weeks_funnel = two_weeks_funnel.reindex([0, 2, 1, 3])\n",
    "\n",
    "# добавление столбцов с долями от общего кол-ва пользователей в группах\n",
    "for value in two_weeks_only_users['group'].unique():\n",
    "    two_weeks_funnel[f'share_of_initial_{value}'] = (\n",
    "        two_weeks_funnel[value] / \n",
    "        two_weeks_only_users\n",
    "        .query('group == @value')\n",
    "        ['user_id']\n",
    "        .nunique()\n",
    "    ).round(3)\n",
    "\n",
    "# добавление столбца с относительной разницей между группами\n",
    "two_weeks_funnel['A_B_difference'] = (\n",
    "    two_weeks_funnel['share_of_initial_B'] - \n",
    "    two_weeks_funnel['share_of_initial_A']\n",
    ")\n",
    "\n",
    "two_weeks_funnel"
   ]
  },
  {
   "cell_type": "markdown",
   "metadata": {},
   "source": [
    "*Визуализация воронки*"
   ]
  },
  {
   "cell_type": "code",
   "execution_count": 72,
   "metadata": {},
   "outputs": [
    {
     "data": {
      "application/vnd.plotly.v1+json": {
       "config": {
        "plotlyServerURL": "https://plot.ly"
       },
       "data": [
        {
         "name": "Группа A",
         "textinfo": "value+percent initial",
         "type": "funnel",
         "x": [
          1216,
          765,
          354,
          350
         ],
         "y": [
          "login",
          "product_page",
          "product_cart",
          "purchase"
         ]
        },
        {
         "name": "Группа B",
         "textinfo": "value+percent initial",
         "type": "funnel",
         "x": [
          536,
          299,
          135,
          145
         ],
         "y": [
          "login",
          "product_page",
          "product_cart",
          "purchase"
         ]
        }
       ],
       "layout": {
        "template": {
         "data": {
          "bar": [
           {
            "error_x": {
             "color": "#2a3f5f"
            },
            "error_y": {
             "color": "#2a3f5f"
            },
            "marker": {
             "line": {
              "color": "#E5ECF6",
              "width": 0.5
             },
             "pattern": {
              "fillmode": "overlay",
              "size": 10,
              "solidity": 0.2
             }
            },
            "type": "bar"
           }
          ],
          "barpolar": [
           {
            "marker": {
             "line": {
              "color": "#E5ECF6",
              "width": 0.5
             },
             "pattern": {
              "fillmode": "overlay",
              "size": 10,
              "solidity": 0.2
             }
            },
            "type": "barpolar"
           }
          ],
          "carpet": [
           {
            "aaxis": {
             "endlinecolor": "#2a3f5f",
             "gridcolor": "white",
             "linecolor": "white",
             "minorgridcolor": "white",
             "startlinecolor": "#2a3f5f"
            },
            "baxis": {
             "endlinecolor": "#2a3f5f",
             "gridcolor": "white",
             "linecolor": "white",
             "minorgridcolor": "white",
             "startlinecolor": "#2a3f5f"
            },
            "type": "carpet"
           }
          ],
          "choropleth": [
           {
            "colorbar": {
             "outlinewidth": 0,
             "ticks": ""
            },
            "type": "choropleth"
           }
          ],
          "contour": [
           {
            "colorbar": {
             "outlinewidth": 0,
             "ticks": ""
            },
            "colorscale": [
             [
              0,
              "#0d0887"
             ],
             [
              0.1111111111111111,
              "#46039f"
             ],
             [
              0.2222222222222222,
              "#7201a8"
             ],
             [
              0.3333333333333333,
              "#9c179e"
             ],
             [
              0.4444444444444444,
              "#bd3786"
             ],
             [
              0.5555555555555556,
              "#d8576b"
             ],
             [
              0.6666666666666666,
              "#ed7953"
             ],
             [
              0.7777777777777778,
              "#fb9f3a"
             ],
             [
              0.8888888888888888,
              "#fdca26"
             ],
             [
              1,
              "#f0f921"
             ]
            ],
            "type": "contour"
           }
          ],
          "contourcarpet": [
           {
            "colorbar": {
             "outlinewidth": 0,
             "ticks": ""
            },
            "type": "contourcarpet"
           }
          ],
          "heatmap": [
           {
            "colorbar": {
             "outlinewidth": 0,
             "ticks": ""
            },
            "colorscale": [
             [
              0,
              "#0d0887"
             ],
             [
              0.1111111111111111,
              "#46039f"
             ],
             [
              0.2222222222222222,
              "#7201a8"
             ],
             [
              0.3333333333333333,
              "#9c179e"
             ],
             [
              0.4444444444444444,
              "#bd3786"
             ],
             [
              0.5555555555555556,
              "#d8576b"
             ],
             [
              0.6666666666666666,
              "#ed7953"
             ],
             [
              0.7777777777777778,
              "#fb9f3a"
             ],
             [
              0.8888888888888888,
              "#fdca26"
             ],
             [
              1,
              "#f0f921"
             ]
            ],
            "type": "heatmap"
           }
          ],
          "heatmapgl": [
           {
            "colorbar": {
             "outlinewidth": 0,
             "ticks": ""
            },
            "colorscale": [
             [
              0,
              "#0d0887"
             ],
             [
              0.1111111111111111,
              "#46039f"
             ],
             [
              0.2222222222222222,
              "#7201a8"
             ],
             [
              0.3333333333333333,
              "#9c179e"
             ],
             [
              0.4444444444444444,
              "#bd3786"
             ],
             [
              0.5555555555555556,
              "#d8576b"
             ],
             [
              0.6666666666666666,
              "#ed7953"
             ],
             [
              0.7777777777777778,
              "#fb9f3a"
             ],
             [
              0.8888888888888888,
              "#fdca26"
             ],
             [
              1,
              "#f0f921"
             ]
            ],
            "type": "heatmapgl"
           }
          ],
          "histogram": [
           {
            "marker": {
             "pattern": {
              "fillmode": "overlay",
              "size": 10,
              "solidity": 0.2
             }
            },
            "type": "histogram"
           }
          ],
          "histogram2d": [
           {
            "colorbar": {
             "outlinewidth": 0,
             "ticks": ""
            },
            "colorscale": [
             [
              0,
              "#0d0887"
             ],
             [
              0.1111111111111111,
              "#46039f"
             ],
             [
              0.2222222222222222,
              "#7201a8"
             ],
             [
              0.3333333333333333,
              "#9c179e"
             ],
             [
              0.4444444444444444,
              "#bd3786"
             ],
             [
              0.5555555555555556,
              "#d8576b"
             ],
             [
              0.6666666666666666,
              "#ed7953"
             ],
             [
              0.7777777777777778,
              "#fb9f3a"
             ],
             [
              0.8888888888888888,
              "#fdca26"
             ],
             [
              1,
              "#f0f921"
             ]
            ],
            "type": "histogram2d"
           }
          ],
          "histogram2dcontour": [
           {
            "colorbar": {
             "outlinewidth": 0,
             "ticks": ""
            },
            "colorscale": [
             [
              0,
              "#0d0887"
             ],
             [
              0.1111111111111111,
              "#46039f"
             ],
             [
              0.2222222222222222,
              "#7201a8"
             ],
             [
              0.3333333333333333,
              "#9c179e"
             ],
             [
              0.4444444444444444,
              "#bd3786"
             ],
             [
              0.5555555555555556,
              "#d8576b"
             ],
             [
              0.6666666666666666,
              "#ed7953"
             ],
             [
              0.7777777777777778,
              "#fb9f3a"
             ],
             [
              0.8888888888888888,
              "#fdca26"
             ],
             [
              1,
              "#f0f921"
             ]
            ],
            "type": "histogram2dcontour"
           }
          ],
          "mesh3d": [
           {
            "colorbar": {
             "outlinewidth": 0,
             "ticks": ""
            },
            "type": "mesh3d"
           }
          ],
          "parcoords": [
           {
            "line": {
             "colorbar": {
              "outlinewidth": 0,
              "ticks": ""
             }
            },
            "type": "parcoords"
           }
          ],
          "pie": [
           {
            "automargin": true,
            "type": "pie"
           }
          ],
          "scatter": [
           {
            "fillpattern": {
             "fillmode": "overlay",
             "size": 10,
             "solidity": 0.2
            },
            "type": "scatter"
           }
          ],
          "scatter3d": [
           {
            "line": {
             "colorbar": {
              "outlinewidth": 0,
              "ticks": ""
             }
            },
            "marker": {
             "colorbar": {
              "outlinewidth": 0,
              "ticks": ""
             }
            },
            "type": "scatter3d"
           }
          ],
          "scattercarpet": [
           {
            "marker": {
             "colorbar": {
              "outlinewidth": 0,
              "ticks": ""
             }
            },
            "type": "scattercarpet"
           }
          ],
          "scattergeo": [
           {
            "marker": {
             "colorbar": {
              "outlinewidth": 0,
              "ticks": ""
             }
            },
            "type": "scattergeo"
           }
          ],
          "scattergl": [
           {
            "marker": {
             "colorbar": {
              "outlinewidth": 0,
              "ticks": ""
             }
            },
            "type": "scattergl"
           }
          ],
          "scattermapbox": [
           {
            "marker": {
             "colorbar": {
              "outlinewidth": 0,
              "ticks": ""
             }
            },
            "type": "scattermapbox"
           }
          ],
          "scatterpolar": [
           {
            "marker": {
             "colorbar": {
              "outlinewidth": 0,
              "ticks": ""
             }
            },
            "type": "scatterpolar"
           }
          ],
          "scatterpolargl": [
           {
            "marker": {
             "colorbar": {
              "outlinewidth": 0,
              "ticks": ""
             }
            },
            "type": "scatterpolargl"
           }
          ],
          "scatterternary": [
           {
            "marker": {
             "colorbar": {
              "outlinewidth": 0,
              "ticks": ""
             }
            },
            "type": "scatterternary"
           }
          ],
          "surface": [
           {
            "colorbar": {
             "outlinewidth": 0,
             "ticks": ""
            },
            "colorscale": [
             [
              0,
              "#0d0887"
             ],
             [
              0.1111111111111111,
              "#46039f"
             ],
             [
              0.2222222222222222,
              "#7201a8"
             ],
             [
              0.3333333333333333,
              "#9c179e"
             ],
             [
              0.4444444444444444,
              "#bd3786"
             ],
             [
              0.5555555555555556,
              "#d8576b"
             ],
             [
              0.6666666666666666,
              "#ed7953"
             ],
             [
              0.7777777777777778,
              "#fb9f3a"
             ],
             [
              0.8888888888888888,
              "#fdca26"
             ],
             [
              1,
              "#f0f921"
             ]
            ],
            "type": "surface"
           }
          ],
          "table": [
           {
            "cells": {
             "fill": {
              "color": "#EBF0F8"
             },
             "line": {
              "color": "white"
             }
            },
            "header": {
             "fill": {
              "color": "#C8D4E3"
             },
             "line": {
              "color": "white"
             }
            },
            "type": "table"
           }
          ]
         },
         "layout": {
          "annotationdefaults": {
           "arrowcolor": "#2a3f5f",
           "arrowhead": 0,
           "arrowwidth": 1
          },
          "autotypenumbers": "strict",
          "coloraxis": {
           "colorbar": {
            "outlinewidth": 0,
            "ticks": ""
           }
          },
          "colorscale": {
           "diverging": [
            [
             0,
             "#8e0152"
            ],
            [
             0.1,
             "#c51b7d"
            ],
            [
             0.2,
             "#de77ae"
            ],
            [
             0.3,
             "#f1b6da"
            ],
            [
             0.4,
             "#fde0ef"
            ],
            [
             0.5,
             "#f7f7f7"
            ],
            [
             0.6,
             "#e6f5d0"
            ],
            [
             0.7,
             "#b8e186"
            ],
            [
             0.8,
             "#7fbc41"
            ],
            [
             0.9,
             "#4d9221"
            ],
            [
             1,
             "#276419"
            ]
           ],
           "sequential": [
            [
             0,
             "#0d0887"
            ],
            [
             0.1111111111111111,
             "#46039f"
            ],
            [
             0.2222222222222222,
             "#7201a8"
            ],
            [
             0.3333333333333333,
             "#9c179e"
            ],
            [
             0.4444444444444444,
             "#bd3786"
            ],
            [
             0.5555555555555556,
             "#d8576b"
            ],
            [
             0.6666666666666666,
             "#ed7953"
            ],
            [
             0.7777777777777778,
             "#fb9f3a"
            ],
            [
             0.8888888888888888,
             "#fdca26"
            ],
            [
             1,
             "#f0f921"
            ]
           ],
           "sequentialminus": [
            [
             0,
             "#0d0887"
            ],
            [
             0.1111111111111111,
             "#46039f"
            ],
            [
             0.2222222222222222,
             "#7201a8"
            ],
            [
             0.3333333333333333,
             "#9c179e"
            ],
            [
             0.4444444444444444,
             "#bd3786"
            ],
            [
             0.5555555555555556,
             "#d8576b"
            ],
            [
             0.6666666666666666,
             "#ed7953"
            ],
            [
             0.7777777777777778,
             "#fb9f3a"
            ],
            [
             0.8888888888888888,
             "#fdca26"
            ],
            [
             1,
             "#f0f921"
            ]
           ]
          },
          "colorway": [
           "#636efa",
           "#EF553B",
           "#00cc96",
           "#ab63fa",
           "#FFA15A",
           "#19d3f3",
           "#FF6692",
           "#B6E880",
           "#FF97FF",
           "#FECB52"
          ],
          "font": {
           "color": "#2a3f5f"
          },
          "geo": {
           "bgcolor": "white",
           "lakecolor": "white",
           "landcolor": "#E5ECF6",
           "showlakes": true,
           "showland": true,
           "subunitcolor": "white"
          },
          "hoverlabel": {
           "align": "left"
          },
          "hovermode": "closest",
          "mapbox": {
           "style": "light"
          },
          "paper_bgcolor": "white",
          "plot_bgcolor": "#E5ECF6",
          "polar": {
           "angularaxis": {
            "gridcolor": "white",
            "linecolor": "white",
            "ticks": ""
           },
           "bgcolor": "#E5ECF6",
           "radialaxis": {
            "gridcolor": "white",
            "linecolor": "white",
            "ticks": ""
           }
          },
          "scene": {
           "xaxis": {
            "backgroundcolor": "#E5ECF6",
            "gridcolor": "white",
            "gridwidth": 2,
            "linecolor": "white",
            "showbackground": true,
            "ticks": "",
            "zerolinecolor": "white"
           },
           "yaxis": {
            "backgroundcolor": "#E5ECF6",
            "gridcolor": "white",
            "gridwidth": 2,
            "linecolor": "white",
            "showbackground": true,
            "ticks": "",
            "zerolinecolor": "white"
           },
           "zaxis": {
            "backgroundcolor": "#E5ECF6",
            "gridcolor": "white",
            "gridwidth": 2,
            "linecolor": "white",
            "showbackground": true,
            "ticks": "",
            "zerolinecolor": "white"
           }
          },
          "shapedefaults": {
           "line": {
            "color": "#2a3f5f"
           }
          },
          "ternary": {
           "aaxis": {
            "gridcolor": "white",
            "linecolor": "white",
            "ticks": ""
           },
           "baxis": {
            "gridcolor": "white",
            "linecolor": "white",
            "ticks": ""
           },
           "bgcolor": "#E5ECF6",
           "caxis": {
            "gridcolor": "white",
            "linecolor": "white",
            "ticks": ""
           }
          },
          "title": {
           "x": 0.05
          },
          "xaxis": {
           "automargin": true,
           "gridcolor": "white",
           "linecolor": "white",
           "ticks": "",
           "title": {
            "standoff": 15
           },
           "zerolinecolor": "white",
           "zerolinewidth": 2
          },
          "yaxis": {
           "automargin": true,
           "gridcolor": "white",
           "linecolor": "white",
           "ticks": "",
           "title": {
            "standoff": 15
           },
           "zerolinecolor": "white",
           "zerolinewidth": 2
          }
         }
        }
       }
      },
      "text/html": [
       "<div>                            <div id=\"a8219dab-867a-44da-9209-00b90a0e3e06\" class=\"plotly-graph-div\" style=\"height:525px; width:100%;\"></div>            <script type=\"text/javascript\">                require([\"plotly\"], function(Plotly) {                    window.PLOTLYENV=window.PLOTLYENV || {};                                    if (document.getElementById(\"a8219dab-867a-44da-9209-00b90a0e3e06\")) {                    Plotly.newPlot(                        \"a8219dab-867a-44da-9209-00b90a0e3e06\",                        [{\"name\":\"\\u0413\\u0440\\u0443\\u043f\\u043f\\u0430 A\",\"textinfo\":\"value+percent initial\",\"x\":[1216,765,354,350],\"y\":[\"login\",\"product_page\",\"product_cart\",\"purchase\"],\"type\":\"funnel\"},{\"name\":\"\\u0413\\u0440\\u0443\\u043f\\u043f\\u0430 B\",\"textinfo\":\"value+percent initial\",\"x\":[536,299,135,145],\"y\":[\"login\",\"product_page\",\"product_cart\",\"purchase\"],\"type\":\"funnel\"}],                        {\"template\":{\"data\":{\"histogram2dcontour\":[{\"type\":\"histogram2dcontour\",\"colorbar\":{\"outlinewidth\":0,\"ticks\":\"\"},\"colorscale\":[[0.0,\"#0d0887\"],[0.1111111111111111,\"#46039f\"],[0.2222222222222222,\"#7201a8\"],[0.3333333333333333,\"#9c179e\"],[0.4444444444444444,\"#bd3786\"],[0.5555555555555556,\"#d8576b\"],[0.6666666666666666,\"#ed7953\"],[0.7777777777777778,\"#fb9f3a\"],[0.8888888888888888,\"#fdca26\"],[1.0,\"#f0f921\"]]}],\"choropleth\":[{\"type\":\"choropleth\",\"colorbar\":{\"outlinewidth\":0,\"ticks\":\"\"}}],\"histogram2d\":[{\"type\":\"histogram2d\",\"colorbar\":{\"outlinewidth\":0,\"ticks\":\"\"},\"colorscale\":[[0.0,\"#0d0887\"],[0.1111111111111111,\"#46039f\"],[0.2222222222222222,\"#7201a8\"],[0.3333333333333333,\"#9c179e\"],[0.4444444444444444,\"#bd3786\"],[0.5555555555555556,\"#d8576b\"],[0.6666666666666666,\"#ed7953\"],[0.7777777777777778,\"#fb9f3a\"],[0.8888888888888888,\"#fdca26\"],[1.0,\"#f0f921\"]]}],\"heatmap\":[{\"type\":\"heatmap\",\"colorbar\":{\"outlinewidth\":0,\"ticks\":\"\"},\"colorscale\":[[0.0,\"#0d0887\"],[0.1111111111111111,\"#46039f\"],[0.2222222222222222,\"#7201a8\"],[0.3333333333333333,\"#9c179e\"],[0.4444444444444444,\"#bd3786\"],[0.5555555555555556,\"#d8576b\"],[0.6666666666666666,\"#ed7953\"],[0.7777777777777778,\"#fb9f3a\"],[0.8888888888888888,\"#fdca26\"],[1.0,\"#f0f921\"]]}],\"heatmapgl\":[{\"type\":\"heatmapgl\",\"colorbar\":{\"outlinewidth\":0,\"ticks\":\"\"},\"colorscale\":[[0.0,\"#0d0887\"],[0.1111111111111111,\"#46039f\"],[0.2222222222222222,\"#7201a8\"],[0.3333333333333333,\"#9c179e\"],[0.4444444444444444,\"#bd3786\"],[0.5555555555555556,\"#d8576b\"],[0.6666666666666666,\"#ed7953\"],[0.7777777777777778,\"#fb9f3a\"],[0.8888888888888888,\"#fdca26\"],[1.0,\"#f0f921\"]]}],\"contourcarpet\":[{\"type\":\"contourcarpet\",\"colorbar\":{\"outlinewidth\":0,\"ticks\":\"\"}}],\"contour\":[{\"type\":\"contour\",\"colorbar\":{\"outlinewidth\":0,\"ticks\":\"\"},\"colorscale\":[[0.0,\"#0d0887\"],[0.1111111111111111,\"#46039f\"],[0.2222222222222222,\"#7201a8\"],[0.3333333333333333,\"#9c179e\"],[0.4444444444444444,\"#bd3786\"],[0.5555555555555556,\"#d8576b\"],[0.6666666666666666,\"#ed7953\"],[0.7777777777777778,\"#fb9f3a\"],[0.8888888888888888,\"#fdca26\"],[1.0,\"#f0f921\"]]}],\"surface\":[{\"type\":\"surface\",\"colorbar\":{\"outlinewidth\":0,\"ticks\":\"\"},\"colorscale\":[[0.0,\"#0d0887\"],[0.1111111111111111,\"#46039f\"],[0.2222222222222222,\"#7201a8\"],[0.3333333333333333,\"#9c179e\"],[0.4444444444444444,\"#bd3786\"],[0.5555555555555556,\"#d8576b\"],[0.6666666666666666,\"#ed7953\"],[0.7777777777777778,\"#fb9f3a\"],[0.8888888888888888,\"#fdca26\"],[1.0,\"#f0f921\"]]}],\"mesh3d\":[{\"type\":\"mesh3d\",\"colorbar\":{\"outlinewidth\":0,\"ticks\":\"\"}}],\"scatter\":[{\"fillpattern\":{\"fillmode\":\"overlay\",\"size\":10,\"solidity\":0.2},\"type\":\"scatter\"}],\"parcoords\":[{\"type\":\"parcoords\",\"line\":{\"colorbar\":{\"outlinewidth\":0,\"ticks\":\"\"}}}],\"scatterpolargl\":[{\"type\":\"scatterpolargl\",\"marker\":{\"colorbar\":{\"outlinewidth\":0,\"ticks\":\"\"}}}],\"bar\":[{\"error_x\":{\"color\":\"#2a3f5f\"},\"error_y\":{\"color\":\"#2a3f5f\"},\"marker\":{\"line\":{\"color\":\"#E5ECF6\",\"width\":0.5},\"pattern\":{\"fillmode\":\"overlay\",\"size\":10,\"solidity\":0.2}},\"type\":\"bar\"}],\"scattergeo\":[{\"type\":\"scattergeo\",\"marker\":{\"colorbar\":{\"outlinewidth\":0,\"ticks\":\"\"}}}],\"scatterpolar\":[{\"type\":\"scatterpolar\",\"marker\":{\"colorbar\":{\"outlinewidth\":0,\"ticks\":\"\"}}}],\"histogram\":[{\"marker\":{\"pattern\":{\"fillmode\":\"overlay\",\"size\":10,\"solidity\":0.2}},\"type\":\"histogram\"}],\"scattergl\":[{\"type\":\"scattergl\",\"marker\":{\"colorbar\":{\"outlinewidth\":0,\"ticks\":\"\"}}}],\"scatter3d\":[{\"type\":\"scatter3d\",\"line\":{\"colorbar\":{\"outlinewidth\":0,\"ticks\":\"\"}},\"marker\":{\"colorbar\":{\"outlinewidth\":0,\"ticks\":\"\"}}}],\"scattermapbox\":[{\"type\":\"scattermapbox\",\"marker\":{\"colorbar\":{\"outlinewidth\":0,\"ticks\":\"\"}}}],\"scatterternary\":[{\"type\":\"scatterternary\",\"marker\":{\"colorbar\":{\"outlinewidth\":0,\"ticks\":\"\"}}}],\"scattercarpet\":[{\"type\":\"scattercarpet\",\"marker\":{\"colorbar\":{\"outlinewidth\":0,\"ticks\":\"\"}}}],\"carpet\":[{\"aaxis\":{\"endlinecolor\":\"#2a3f5f\",\"gridcolor\":\"white\",\"linecolor\":\"white\",\"minorgridcolor\":\"white\",\"startlinecolor\":\"#2a3f5f\"},\"baxis\":{\"endlinecolor\":\"#2a3f5f\",\"gridcolor\":\"white\",\"linecolor\":\"white\",\"minorgridcolor\":\"white\",\"startlinecolor\":\"#2a3f5f\"},\"type\":\"carpet\"}],\"table\":[{\"cells\":{\"fill\":{\"color\":\"#EBF0F8\"},\"line\":{\"color\":\"white\"}},\"header\":{\"fill\":{\"color\":\"#C8D4E3\"},\"line\":{\"color\":\"white\"}},\"type\":\"table\"}],\"barpolar\":[{\"marker\":{\"line\":{\"color\":\"#E5ECF6\",\"width\":0.5},\"pattern\":{\"fillmode\":\"overlay\",\"size\":10,\"solidity\":0.2}},\"type\":\"barpolar\"}],\"pie\":[{\"automargin\":true,\"type\":\"pie\"}]},\"layout\":{\"autotypenumbers\":\"strict\",\"colorway\":[\"#636efa\",\"#EF553B\",\"#00cc96\",\"#ab63fa\",\"#FFA15A\",\"#19d3f3\",\"#FF6692\",\"#B6E880\",\"#FF97FF\",\"#FECB52\"],\"font\":{\"color\":\"#2a3f5f\"},\"hovermode\":\"closest\",\"hoverlabel\":{\"align\":\"left\"},\"paper_bgcolor\":\"white\",\"plot_bgcolor\":\"#E5ECF6\",\"polar\":{\"bgcolor\":\"#E5ECF6\",\"angularaxis\":{\"gridcolor\":\"white\",\"linecolor\":\"white\",\"ticks\":\"\"},\"radialaxis\":{\"gridcolor\":\"white\",\"linecolor\":\"white\",\"ticks\":\"\"}},\"ternary\":{\"bgcolor\":\"#E5ECF6\",\"aaxis\":{\"gridcolor\":\"white\",\"linecolor\":\"white\",\"ticks\":\"\"},\"baxis\":{\"gridcolor\":\"white\",\"linecolor\":\"white\",\"ticks\":\"\"},\"caxis\":{\"gridcolor\":\"white\",\"linecolor\":\"white\",\"ticks\":\"\"}},\"coloraxis\":{\"colorbar\":{\"outlinewidth\":0,\"ticks\":\"\"}},\"colorscale\":{\"sequential\":[[0.0,\"#0d0887\"],[0.1111111111111111,\"#46039f\"],[0.2222222222222222,\"#7201a8\"],[0.3333333333333333,\"#9c179e\"],[0.4444444444444444,\"#bd3786\"],[0.5555555555555556,\"#d8576b\"],[0.6666666666666666,\"#ed7953\"],[0.7777777777777778,\"#fb9f3a\"],[0.8888888888888888,\"#fdca26\"],[1.0,\"#f0f921\"]],\"sequentialminus\":[[0.0,\"#0d0887\"],[0.1111111111111111,\"#46039f\"],[0.2222222222222222,\"#7201a8\"],[0.3333333333333333,\"#9c179e\"],[0.4444444444444444,\"#bd3786\"],[0.5555555555555556,\"#d8576b\"],[0.6666666666666666,\"#ed7953\"],[0.7777777777777778,\"#fb9f3a\"],[0.8888888888888888,\"#fdca26\"],[1.0,\"#f0f921\"]],\"diverging\":[[0,\"#8e0152\"],[0.1,\"#c51b7d\"],[0.2,\"#de77ae\"],[0.3,\"#f1b6da\"],[0.4,\"#fde0ef\"],[0.5,\"#f7f7f7\"],[0.6,\"#e6f5d0\"],[0.7,\"#b8e186\"],[0.8,\"#7fbc41\"],[0.9,\"#4d9221\"],[1,\"#276419\"]]},\"xaxis\":{\"gridcolor\":\"white\",\"linecolor\":\"white\",\"ticks\":\"\",\"title\":{\"standoff\":15},\"zerolinecolor\":\"white\",\"automargin\":true,\"zerolinewidth\":2},\"yaxis\":{\"gridcolor\":\"white\",\"linecolor\":\"white\",\"ticks\":\"\",\"title\":{\"standoff\":15},\"zerolinecolor\":\"white\",\"automargin\":true,\"zerolinewidth\":2},\"scene\":{\"xaxis\":{\"backgroundcolor\":\"#E5ECF6\",\"gridcolor\":\"white\",\"linecolor\":\"white\",\"showbackground\":true,\"ticks\":\"\",\"zerolinecolor\":\"white\",\"gridwidth\":2},\"yaxis\":{\"backgroundcolor\":\"#E5ECF6\",\"gridcolor\":\"white\",\"linecolor\":\"white\",\"showbackground\":true,\"ticks\":\"\",\"zerolinecolor\":\"white\",\"gridwidth\":2},\"zaxis\":{\"backgroundcolor\":\"#E5ECF6\",\"gridcolor\":\"white\",\"linecolor\":\"white\",\"showbackground\":true,\"ticks\":\"\",\"zerolinecolor\":\"white\",\"gridwidth\":2}},\"shapedefaults\":{\"line\":{\"color\":\"#2a3f5f\"}},\"annotationdefaults\":{\"arrowcolor\":\"#2a3f5f\",\"arrowhead\":0,\"arrowwidth\":1},\"geo\":{\"bgcolor\":\"white\",\"landcolor\":\"#E5ECF6\",\"subunitcolor\":\"white\",\"showland\":true,\"showlakes\":true,\"lakecolor\":\"white\"},\"title\":{\"x\":0.05},\"mapbox\":{\"style\":\"light\"}}}},                        {\"responsive\": true}                    ).then(function(){\n",
       "                            \n",
       "var gd = document.getElementById('a8219dab-867a-44da-9209-00b90a0e3e06');\n",
       "var x = new MutationObserver(function (mutations, observer) {{\n",
       "        var display = window.getComputedStyle(gd).display;\n",
       "        if (!display || display === 'none') {{\n",
       "            console.log([gd, 'removed!']);\n",
       "            Plotly.purge(gd);\n",
       "            observer.disconnect();\n",
       "        }}\n",
       "}});\n",
       "\n",
       "// Listen for the removal of the full notebook cells\n",
       "var notebookContainer = gd.closest('#notebook-container');\n",
       "if (notebookContainer) {{\n",
       "    x.observe(notebookContainer, {childList: true});\n",
       "}}\n",
       "\n",
       "// Listen for the clearing of the current output cell\n",
       "var outputEl = gd.closest('.output');\n",
       "if (outputEl) {{\n",
       "    x.observe(outputEl, {childList: true});\n",
       "}}\n",
       "\n",
       "                        })                };                });            </script>        </div>"
      ]
     },
     "metadata": {},
     "output_type": "display_data"
    }
   ],
   "source": [
    "fig = go.Figure()\n",
    "\n",
    "for value in two_weeks_only_users['group'].unique():\n",
    "    fig.add_trace(go.Funnel(\n",
    "        name = f'Группа {value}',\n",
    "        y = two_weeks_funnel['event_name'],\n",
    "        x = two_weeks_funnel[value],\n",
    "        textinfo = \"value+percent initial\"))\n",
    "\n",
    "fig.show()"
   ]
  },
  {
   "cell_type": "markdown",
   "metadata": {},
   "source": [
    "_**После удаления пользователей конверсия в воронке изменилась в пределах 2%. Значит пользователи, которые не успели провести 14 дней в тестировании, практически не влияют на конверсию. Можно не исключать их.**_"
   ]
  },
  {
   "cell_type": "markdown",
   "metadata": {},
   "source": [
    "### Особенности данных, которые нужно учесть, прежде чем приступать к A/B-тестированию"
   ]
  },
  {
   "cell_type": "markdown",
   "metadata": {},
   "source": [
    "1. Неравномерное распределение пользователей по группам. В группе А практически в 3 раза больше пользователей, чем в группе В.\n",
    "2. Из 6701 пользователя, набранных в тестирование, только 3675 совершили как минимум 1 событие в рамках теста. \n",
    "3. Более половины пользователей, совершивших как минимум 1 событие, не успели принять участие в тестировании на протяжении 14 дней."
   ]
  },
  {
   "cell_type": "markdown",
   "metadata": {},
   "source": [
    "## Оценка результатов A/B-тестирования"
   ]
  },
  {
   "cell_type": "markdown",
   "metadata": {},
   "source": [
    "### Результаты A/В-тестирования"
   ]
  },
  {
   "cell_type": "markdown",
   "metadata": {},
   "source": [
    "Разница в конверсии между группами на этапах воронки составила от 2,5% до 8,4% в пользу группы А. Это говорит о том, что ожидаемый эффект улучшения каждой метрики не менее, чем на 10% за 14 дней с момента регистрации, не только не был достигнут, группа В даже показала худшую конверсию на всех этапах, чем группа А."
   ]
  },
  {
   "cell_type": "markdown",
   "metadata": {},
   "source": [
    "### Проверка статистической разницы долей z-критерием"
   ]
  },
  {
   "cell_type": "markdown",
   "metadata": {},
   "source": [
    "_**Нулевая гипотеза**_   \n",
    "*Статистически значимого различия между группами А/В теста нет.*\n",
    "\n",
    "_**Альтернативная гипотеза**_   \n",
    "*Статистически значимое различие между группами А/В теста есть.*"
   ]
  },
  {
   "cell_type": "code",
   "execution_count": 73,
   "metadata": {},
   "outputs": [],
   "source": [
    "# создание функции для подсчета критерия статистического отличия между группами\n",
    "\n",
    "def z_test(column_1, column_2, group_1, group_2, alpha = .05):\n",
    "    \n",
    "    successes = np.array([column_1, \n",
    "                          column_2])\n",
    "    \n",
    "    trials = np.array([test_data.query('group == @group_1')['user_id'].nunique(),\n",
    "                       test_data.query('group == @group_2')['user_id'].nunique()])\n",
    "\n",
    "    # пропорция успехов в первой группе:\n",
    "    p1 = successes[0]/trials[0]\n",
    "\n",
    "    # пропорция успехов во второй группе:\n",
    "    p2 = successes[1]/trials[1]\n",
    "\n",
    "    # пропорция успехов в комбинированном датасете:\n",
    "    p_combined = (successes[0] + successes[1]) / (trials[0] + trials[1])\n",
    "\n",
    "    # разница пропорций в датасетах\n",
    "    difference = p1 - p2\n",
    "\n",
    "    # подсчет статистики в ст.отклонениях стандартного нормального распределения\n",
    "    z_value = difference / mth.sqrt(\n",
    "        p_combined * (1 - p_combined) * (1 / trials[0] + 1 / trials[1])\n",
    "    )\n",
    "\n",
    "    # задание стандартного нормального распределения (среднее 0, ст.отклонение 1)\n",
    "    distr = st.norm(0, 1)\n",
    "\n",
    "    p_value = ((1 - distr.cdf(abs(z_value))) * 2).round(3)\n",
    "\n",
    "    if p_value < alpha:\n",
    "        return f'{p_value}, Стат. разл. есть'\n",
    "    else:\n",
    "        return f'{p_value}, Стат. разл. нет'"
   ]
  },
  {
   "cell_type": "markdown",
   "metadata": {},
   "source": [
    "*Т.к. в этом случае проводится множественная проверка гипотез, необходимо применить поправку Бонферрони. Разделим стандартное значение уровня критической значимости alpha равное 5% на количество проводимых исследований, то есть на 3.*"
   ]
  },
  {
   "cell_type": "code",
   "execution_count": 74,
   "metadata": {},
   "outputs": [
    {
     "data": {
      "text/html": [
       "<div>\n",
       "<style scoped>\n",
       "    .dataframe tbody tr th:only-of-type {\n",
       "        vertical-align: middle;\n",
       "    }\n",
       "\n",
       "    .dataframe tbody tr th {\n",
       "        vertical-align: top;\n",
       "    }\n",
       "\n",
       "    .dataframe thead th {\n",
       "        text-align: right;\n",
       "    }\n",
       "</style>\n",
       "<table border=\"1\" class=\"dataframe\">\n",
       "  <thead>\n",
       "    <tr style=\"text-align: right;\">\n",
       "      <th>group</th>\n",
       "      <th>event_name</th>\n",
       "      <th>A</th>\n",
       "      <th>B</th>\n",
       "      <th>share_of_initial_A</th>\n",
       "      <th>share_of_initial_B</th>\n",
       "      <th>A_B_difference</th>\n",
       "      <th>a_b_p_value</th>\n",
       "    </tr>\n",
       "  </thead>\n",
       "  <tbody>\n",
       "    <tr>\n",
       "      <th>0</th>\n",
       "      <td>login</td>\n",
       "      <td>2747</td>\n",
       "      <td>927</td>\n",
       "      <td>1.000</td>\n",
       "      <td>0.999</td>\n",
       "      <td>-0.001</td>\n",
       "      <td>0.085, Стат. разл. нет</td>\n",
       "    </tr>\n",
       "    <tr>\n",
       "      <th>2</th>\n",
       "      <td>product_page</td>\n",
       "      <td>1780</td>\n",
       "      <td>523</td>\n",
       "      <td>0.648</td>\n",
       "      <td>0.564</td>\n",
       "      <td>-0.084</td>\n",
       "      <td>0.0, Стат. разл. есть</td>\n",
       "    </tr>\n",
       "    <tr>\n",
       "      <th>1</th>\n",
       "      <td>product_cart</td>\n",
       "      <td>824</td>\n",
       "      <td>255</td>\n",
       "      <td>0.300</td>\n",
       "      <td>0.275</td>\n",
       "      <td>-0.025</td>\n",
       "      <td>0.145, Стат. разл. нет</td>\n",
       "    </tr>\n",
       "    <tr>\n",
       "      <th>3</th>\n",
       "      <td>purchase</td>\n",
       "      <td>872</td>\n",
       "      <td>256</td>\n",
       "      <td>0.317</td>\n",
       "      <td>0.276</td>\n",
       "      <td>-0.041</td>\n",
       "      <td>0.018, Стат. разл. нет</td>\n",
       "    </tr>\n",
       "  </tbody>\n",
       "</table>\n",
       "</div>"
      ],
      "text/plain": [
       "group    event_name     A    B  share_of_initial_A  share_of_initial_B  \\\n",
       "0             login  2747  927               1.000               0.999   \n",
       "2      product_page  1780  523               0.648               0.564   \n",
       "1      product_cart   824  255               0.300               0.275   \n",
       "3          purchase   872  256               0.317               0.276   \n",
       "\n",
       "group  A_B_difference             a_b_p_value  \n",
       "0              -0.001  0.085, Стат. разл. нет  \n",
       "2              -0.084   0.0, Стат. разл. есть  \n",
       "1              -0.025  0.145, Стат. разл. нет  \n",
       "3              -0.041  0.018, Стат. разл. нет  "
      ]
     },
     "execution_count": 74,
     "metadata": {},
     "output_type": "execute_result"
    }
   ],
   "source": [
    "# запись в таблицу результата теста\n",
    "funnel['a_b_p_value'] = funnel.apply(\n",
    "    lambda row: z_test(row['A'], row['B'], 'A', 'B', alpha=0.05 / 3), axis=1)\n",
    "\n",
    "funnel"
   ]
  },
  {
   "cell_type": "markdown",
   "metadata": {},
   "source": [
    "_**Группы статистически различаются только на этапе конверсии в просмотр карточек товаров. На остальных этапах статистически значимого различия между группами тестирования нет.**_"
   ]
  },
  {
   "cell_type": "markdown",
   "metadata": {},
   "source": [
    "## Вывод"
   ]
  },
  {
   "cell_type": "markdown",
   "metadata": {},
   "source": [
    "В ходе оценки корректности проведения А/В тестирования выяснено следующее:\n",
    "1. В тестирование набран 6701 пользователь.\n",
    "2. В группу A набрано 3824 пользователя, в группу B 2877 пользователей, таким образом, выборки различаются на 25%.\n",
    "3. 1602 пользователя также параллельно принимали участие в другом тестировании.\n",
    "4. 3675 пользователей из участников теста совершили хотя бы одно событие в рамках тестирования.\n",
    "5. Из них в группу А попало 2747 пользователей, в группу B 928 пользователей, таким образом, выборки различаются на 66%.\n",
    "6. Из пользователей, совершивших хотя бы 1 событие, 1753 пользователя успели принять участие в тестировании на протяжении 14 дней.\n",
    "7. Параллельно с тестированием проводились 2 маркетинговые компании.\n",
    "\n",
    "Таким образом, были нарушены как правила проведения А/В тестов, так и требования технического задания.\n",
    "\n",
    "Тем не менее, оценка результатов тестирования была проведена.\n",
    "\n",
    "На всех этапах воронки группа В показала худшую конверсию, чем группа А (разница от 2,5% до 8,4% на разных этапах).  \n",
    "Ожидаемый эффект, что за 14 дней с момента регистрации пользователи покажут улучшение каждой метрики не менее, чем на 10%, не достигнут.\n",
    "\n",
    "Статистический тест показал различие между тестовыми группами только на этапе конверсии в просмотр карточек товаров. На этапах просмотра корзины и покупок статистически значимого различия между группами тестирования нет.\n",
    "\n",
    "Таким образом, можно заключить, что изменения, связанные с внедрением улучшенной рекомендательной системы, не дали ожидаемого эффекта.\n",
    "\n",
    "Однако, принимая во внимание многочисленные нарушения в процессе набора пользователей и нарушения сроков тестирования, рекомендую повторить данный тест, внимательнее отнесясь к набору пользователей в тестовые выборки.  \n",
    "Необходимо набирать разных пользователей на разные тесты, а также равномерно заполнять пользователями группы внутри текущего теста. Не прерывать сбор данных, пока все пользователя не \"прожили\" сроки тестирования.  \n",
    "Также лучше набирать на тест пользователей, которые с большей вероятностью будут совершать события после регистрации. Возможно сделать это с помощью дополнительного анализа, оценить, например, пользователи из какого региона и зарегистрировавшиеся с каких устройтсв, закрепляются лучше."
   ]
  }
 ],
 "metadata": {
  "ExecuteTimeLog": [
   {
    "duration": 1582,
    "start_time": "2022-06-14T20:47:11.647Z"
   },
   {
    "duration": 1298,
    "start_time": "2022-06-14T20:47:13.231Z"
   },
   {
    "duration": 3,
    "start_time": "2022-06-14T20:47:14.530Z"
   },
   {
    "duration": 336,
    "start_time": "2022-06-14T20:47:14.535Z"
   },
   {
    "duration": 18,
    "start_time": "2022-06-14T20:47:14.872Z"
   },
   {
    "duration": 66,
    "start_time": "2022-06-14T20:47:14.891Z"
   },
   {
    "duration": 25,
    "start_time": "2022-06-14T20:47:14.959Z"
   },
   {
    "duration": 9,
    "start_time": "2022-06-14T20:47:14.985Z"
   },
   {
    "duration": 38,
    "start_time": "2022-06-14T20:47:14.996Z"
   },
   {
    "duration": 111,
    "start_time": "2022-06-14T20:47:15.037Z"
   },
   {
    "duration": 28,
    "start_time": "2022-06-14T20:47:15.150Z"
   },
   {
    "duration": 16,
    "start_time": "2022-06-14T20:47:15.180Z"
   },
   {
    "duration": 28,
    "start_time": "2022-06-14T20:47:15.197Z"
   },
   {
    "duration": 8,
    "start_time": "2022-06-14T20:47:15.227Z"
   },
   {
    "duration": 427,
    "start_time": "2022-06-14T20:47:15.237Z"
   },
   {
    "duration": 176,
    "start_time": "2022-06-14T20:47:15.666Z"
   },
   {
    "duration": 21,
    "start_time": "2022-06-14T20:47:15.844Z"
   },
   {
    "duration": 5,
    "start_time": "2022-06-14T20:47:15.867Z"
   },
   {
    "duration": 17,
    "start_time": "2022-06-14T20:47:15.874Z"
   },
   {
    "duration": 33,
    "start_time": "2022-06-14T20:47:15.892Z"
   },
   {
    "duration": 139,
    "start_time": "2022-06-14T20:47:15.927Z"
   },
   {
    "duration": 5,
    "start_time": "2022-06-14T20:47:16.068Z"
   },
   {
    "duration": 20,
    "start_time": "2022-06-14T20:47:16.075Z"
   },
   {
    "duration": 31,
    "start_time": "2022-06-14T20:47:16.097Z"
   },
   {
    "duration": 11,
    "start_time": "2022-06-14T20:47:16.130Z"
   },
   {
    "duration": 182,
    "start_time": "2022-06-14T20:47:16.142Z"
   },
   {
    "duration": 106,
    "start_time": "2022-06-14T20:47:16.327Z"
   },
   {
    "duration": 270,
    "start_time": "2022-06-14T20:47:16.434Z"
   },
   {
    "duration": 38,
    "start_time": "2022-06-14T20:47:16.706Z"
   },
   {
    "duration": 10,
    "start_time": "2022-06-14T20:47:16.745Z"
   },
   {
    "duration": 135,
    "start_time": "2022-06-14T20:47:16.757Z"
   },
   {
    "duration": 1,
    "start_time": "2022-06-14T20:47:16.893Z"
   },
   {
    "duration": 0,
    "start_time": "2022-06-14T20:47:16.895Z"
   },
   {
    "duration": 0,
    "start_time": "2022-06-14T20:47:16.896Z"
   },
   {
    "duration": 6,
    "start_time": "2022-06-14T20:47:18.030Z"
   },
   {
    "duration": 48,
    "start_time": "2022-06-14T20:47:18.224Z"
   },
   {
    "duration": 14,
    "start_time": "2022-06-14T20:48:43.232Z"
   },
   {
    "duration": 9,
    "start_time": "2022-06-14T20:48:50.024Z"
   },
   {
    "duration": 30,
    "start_time": "2022-06-14T20:48:56.645Z"
   },
   {
    "duration": 11,
    "start_time": "2022-06-14T20:49:02.931Z"
   },
   {
    "duration": 9,
    "start_time": "2022-06-14T20:51:16.090Z"
   },
   {
    "duration": 8,
    "start_time": "2022-06-14T20:51:40.436Z"
   },
   {
    "duration": 1234,
    "start_time": "2022-06-15T16:01:51.401Z"
   },
   {
    "duration": 1480,
    "start_time": "2022-06-15T16:01:52.638Z"
   },
   {
    "duration": 4,
    "start_time": "2022-06-15T16:01:54.119Z"
   },
   {
    "duration": 349,
    "start_time": "2022-06-15T16:01:54.125Z"
   },
   {
    "duration": 17,
    "start_time": "2022-06-15T16:01:54.475Z"
   },
   {
    "duration": 73,
    "start_time": "2022-06-15T16:01:54.494Z"
   },
   {
    "duration": 24,
    "start_time": "2022-06-15T16:01:54.568Z"
   },
   {
    "duration": 7,
    "start_time": "2022-06-15T16:01:54.594Z"
   },
   {
    "duration": 7,
    "start_time": "2022-06-15T16:01:54.603Z"
   },
   {
    "duration": 128,
    "start_time": "2022-06-15T16:01:54.614Z"
   },
   {
    "duration": 18,
    "start_time": "2022-06-15T16:01:54.744Z"
   },
   {
    "duration": 30,
    "start_time": "2022-06-15T16:01:54.763Z"
   },
   {
    "duration": 18,
    "start_time": "2022-06-15T16:01:54.794Z"
   },
   {
    "duration": 10,
    "start_time": "2022-06-15T16:01:54.813Z"
   },
   {
    "duration": 488,
    "start_time": "2022-06-15T16:01:54.825Z"
   },
   {
    "duration": 193,
    "start_time": "2022-06-15T16:01:55.314Z"
   },
   {
    "duration": 32,
    "start_time": "2022-06-15T16:01:55.508Z"
   },
   {
    "duration": 5,
    "start_time": "2022-06-15T16:01:55.558Z"
   },
   {
    "duration": 6,
    "start_time": "2022-06-15T16:01:55.565Z"
   },
   {
    "duration": 16,
    "start_time": "2022-06-15T16:01:55.573Z"
   },
   {
    "duration": 15,
    "start_time": "2022-06-15T16:01:55.591Z"
   },
   {
    "duration": 8,
    "start_time": "2022-06-15T16:01:55.608Z"
   },
   {
    "duration": 58,
    "start_time": "2022-06-15T16:01:55.618Z"
   },
   {
    "duration": 12,
    "start_time": "2022-06-15T16:01:55.677Z"
   },
   {
    "duration": 12,
    "start_time": "2022-06-15T16:01:55.690Z"
   },
   {
    "duration": 196,
    "start_time": "2022-06-15T16:01:55.703Z"
   },
   {
    "duration": 82,
    "start_time": "2022-06-15T16:01:55.901Z"
   },
   {
    "duration": 320,
    "start_time": "2022-06-15T16:01:55.987Z"
   },
   {
    "duration": 51,
    "start_time": "2022-06-15T16:01:56.309Z"
   },
   {
    "duration": 12,
    "start_time": "2022-06-15T16:01:56.363Z"
   },
   {
    "duration": 14,
    "start_time": "2022-06-15T16:01:56.377Z"
   },
   {
    "duration": 8,
    "start_time": "2022-06-15T16:01:56.393Z"
   },
   {
    "duration": 74,
    "start_time": "2022-06-15T16:01:56.403Z"
   },
   {
    "duration": 11,
    "start_time": "2022-06-15T16:01:56.479Z"
   },
   {
    "duration": 7,
    "start_time": "2022-06-15T16:01:56.492Z"
   },
   {
    "duration": 76,
    "start_time": "2022-06-15T16:01:56.501Z"
   },
   {
    "duration": 1308,
    "start_time": "2022-06-15T19:18:59.448Z"
   },
   {
    "duration": 1424,
    "start_time": "2022-06-15T19:19:00.759Z"
   },
   {
    "duration": 3,
    "start_time": "2022-06-15T19:19:02.185Z"
   },
   {
    "duration": 285,
    "start_time": "2022-06-15T19:19:02.190Z"
   },
   {
    "duration": 16,
    "start_time": "2022-06-15T19:19:02.476Z"
   },
   {
    "duration": 65,
    "start_time": "2022-06-15T19:19:02.493Z"
   },
   {
    "duration": 32,
    "start_time": "2022-06-15T19:19:02.560Z"
   },
   {
    "duration": 5,
    "start_time": "2022-06-15T19:19:02.594Z"
   },
   {
    "duration": 26,
    "start_time": "2022-06-15T19:19:02.600Z"
   },
   {
    "duration": 106,
    "start_time": "2022-06-15T19:19:02.641Z"
   },
   {
    "duration": 9,
    "start_time": "2022-06-15T19:19:02.748Z"
   },
   {
    "duration": 30,
    "start_time": "2022-06-15T19:19:02.759Z"
   },
   {
    "duration": 15,
    "start_time": "2022-06-15T19:19:02.791Z"
   },
   {
    "duration": 33,
    "start_time": "2022-06-15T19:19:02.807Z"
   },
   {
    "duration": 424,
    "start_time": "2022-06-15T19:19:02.843Z"
   },
   {
    "duration": 163,
    "start_time": "2022-06-15T19:19:03.269Z"
   },
   {
    "duration": 21,
    "start_time": "2022-06-15T19:19:03.434Z"
   },
   {
    "duration": 4,
    "start_time": "2022-06-15T19:19:03.457Z"
   },
   {
    "duration": 6,
    "start_time": "2022-06-15T19:19:03.462Z"
   },
   {
    "duration": 14,
    "start_time": "2022-06-15T19:19:03.469Z"
   },
   {
    "duration": 42,
    "start_time": "2022-06-15T19:19:03.485Z"
   },
   {
    "duration": 6,
    "start_time": "2022-06-15T19:19:03.540Z"
   },
   {
    "duration": 19,
    "start_time": "2022-06-15T19:19:03.548Z"
   },
   {
    "duration": 9,
    "start_time": "2022-06-15T19:19:03.568Z"
   },
   {
    "duration": 11,
    "start_time": "2022-06-15T19:19:03.578Z"
   },
   {
    "duration": 185,
    "start_time": "2022-06-15T19:19:03.590Z"
   },
   {
    "duration": 74,
    "start_time": "2022-06-15T19:19:03.776Z"
   },
   {
    "duration": 287,
    "start_time": "2022-06-15T19:19:03.853Z"
   },
   {
    "duration": 36,
    "start_time": "2022-06-15T19:19:04.142Z"
   },
   {
    "duration": 11,
    "start_time": "2022-06-15T19:19:04.179Z"
   },
   {
    "duration": 37,
    "start_time": "2022-06-15T19:19:04.192Z"
   },
   {
    "duration": 10,
    "start_time": "2022-06-15T19:19:04.231Z"
   },
   {
    "duration": 29,
    "start_time": "2022-06-15T19:19:04.243Z"
   },
   {
    "duration": 10,
    "start_time": "2022-06-15T19:19:04.274Z"
   },
   {
    "duration": 5,
    "start_time": "2022-06-15T19:19:04.286Z"
   },
   {
    "duration": 78,
    "start_time": "2022-06-15T19:19:04.293Z"
   },
   {
    "duration": 304,
    "start_time": "2022-06-15T19:19:27.821Z"
   },
   {
    "duration": 107,
    "start_time": "2022-06-15T19:31:33.804Z"
   },
   {
    "duration": 25,
    "start_time": "2022-06-15T19:32:26.288Z"
   },
   {
    "duration": 9,
    "start_time": "2022-06-15T19:34:40.663Z"
   },
   {
    "duration": 21,
    "start_time": "2022-06-15T19:35:09.239Z"
   },
   {
    "duration": 19,
    "start_time": "2022-06-15T19:38:27.084Z"
   },
   {
    "duration": 3,
    "start_time": "2022-06-15T19:38:44.883Z"
   },
   {
    "duration": 1191,
    "start_time": "2022-06-15T19:38:44.892Z"
   },
   {
    "duration": 3,
    "start_time": "2022-06-15T19:38:46.085Z"
   },
   {
    "duration": 297,
    "start_time": "2022-06-15T19:38:46.090Z"
   },
   {
    "duration": 16,
    "start_time": "2022-06-15T19:38:46.389Z"
   },
   {
    "duration": 86,
    "start_time": "2022-06-15T19:38:46.407Z"
   },
   {
    "duration": 36,
    "start_time": "2022-06-15T19:38:46.495Z"
   },
   {
    "duration": 7,
    "start_time": "2022-06-15T19:38:46.533Z"
   },
   {
    "duration": 33,
    "start_time": "2022-06-15T19:38:46.542Z"
   },
   {
    "duration": 145,
    "start_time": "2022-06-15T19:38:46.577Z"
   },
   {
    "duration": 8,
    "start_time": "2022-06-15T19:38:46.726Z"
   },
   {
    "duration": 70,
    "start_time": "2022-06-15T19:38:46.735Z"
   },
   {
    "duration": 17,
    "start_time": "2022-06-15T19:38:46.807Z"
   },
   {
    "duration": 9,
    "start_time": "2022-06-15T19:38:46.826Z"
   },
   {
    "duration": 332,
    "start_time": "2022-06-15T19:38:46.838Z"
   },
   {
    "duration": 165,
    "start_time": "2022-06-15T19:38:47.172Z"
   },
   {
    "duration": 26,
    "start_time": "2022-06-15T19:38:47.341Z"
   },
   {
    "duration": 4,
    "start_time": "2022-06-15T19:38:47.369Z"
   },
   {
    "duration": 8,
    "start_time": "2022-06-15T19:38:47.374Z"
   },
   {
    "duration": 13,
    "start_time": "2022-06-15T19:38:47.383Z"
   },
   {
    "duration": 38,
    "start_time": "2022-06-15T19:38:47.397Z"
   },
   {
    "duration": 6,
    "start_time": "2022-06-15T19:38:47.437Z"
   },
   {
    "duration": 23,
    "start_time": "2022-06-15T19:38:47.444Z"
   },
   {
    "duration": 10,
    "start_time": "2022-06-15T19:38:47.468Z"
   },
   {
    "duration": 10,
    "start_time": "2022-06-15T19:38:47.479Z"
   },
   {
    "duration": 36,
    "start_time": "2022-06-15T19:38:47.490Z"
   },
   {
    "duration": 59,
    "start_time": "2022-06-15T19:38:47.528Z"
   },
   {
    "duration": 234,
    "start_time": "2022-06-15T19:38:47.588Z"
   },
   {
    "duration": 23,
    "start_time": "2022-06-15T19:38:47.827Z"
   },
   {
    "duration": 0,
    "start_time": "2022-06-15T19:38:47.852Z"
   },
   {
    "duration": 0,
    "start_time": "2022-06-15T19:38:47.853Z"
   },
   {
    "duration": 0,
    "start_time": "2022-06-15T19:38:47.854Z"
   },
   {
    "duration": 0,
    "start_time": "2022-06-15T19:38:47.855Z"
   },
   {
    "duration": 0,
    "start_time": "2022-06-15T19:38:47.856Z"
   },
   {
    "duration": 0,
    "start_time": "2022-06-15T19:38:47.858Z"
   },
   {
    "duration": 0,
    "start_time": "2022-06-15T19:38:47.859Z"
   },
   {
    "duration": 0,
    "start_time": "2022-06-15T19:38:47.861Z"
   },
   {
    "duration": 34,
    "start_time": "2022-06-15T19:39:58.047Z"
   },
   {
    "duration": 28,
    "start_time": "2022-06-15T19:40:49.286Z"
   },
   {
    "duration": 38,
    "start_time": "2022-06-15T19:42:41.604Z"
   },
   {
    "duration": 29,
    "start_time": "2022-06-15T19:44:32.212Z"
   },
   {
    "duration": 767,
    "start_time": "2022-06-15T19:47:14.585Z"
   },
   {
    "duration": 176,
    "start_time": "2022-06-15T19:48:08.198Z"
   },
   {
    "duration": 180,
    "start_time": "2022-06-15T19:48:27.027Z"
   },
   {
    "duration": 195,
    "start_time": "2022-06-15T19:48:49.403Z"
   },
   {
    "duration": 27,
    "start_time": "2022-06-15T19:49:55.339Z"
   },
   {
    "duration": 228,
    "start_time": "2022-06-15T19:50:02.817Z"
   },
   {
    "duration": 41,
    "start_time": "2022-06-15T19:50:22.415Z"
   },
   {
    "duration": 36,
    "start_time": "2022-06-15T19:51:05.939Z"
   },
   {
    "duration": 221,
    "start_time": "2022-06-15T19:52:22.118Z"
   },
   {
    "duration": 211,
    "start_time": "2022-06-15T19:53:25.939Z"
   },
   {
    "duration": 14,
    "start_time": "2022-06-15T20:39:29.262Z"
   },
   {
    "duration": 13,
    "start_time": "2022-06-15T20:43:44.110Z"
   },
   {
    "duration": 10,
    "start_time": "2022-06-15T20:44:50.965Z"
   },
   {
    "duration": 12,
    "start_time": "2022-06-15T20:45:47.258Z"
   },
   {
    "duration": 12,
    "start_time": "2022-06-15T20:46:57.293Z"
   },
   {
    "duration": 48,
    "start_time": "2022-06-15T20:47:46.298Z"
   },
   {
    "duration": 19,
    "start_time": "2022-06-15T20:47:52.720Z"
   },
   {
    "duration": 11,
    "start_time": "2022-06-15T20:48:18.765Z"
   },
   {
    "duration": 15,
    "start_time": "2022-06-15T20:51:47.617Z"
   },
   {
    "duration": 18,
    "start_time": "2022-06-15T20:52:28.702Z"
   },
   {
    "duration": 17,
    "start_time": "2022-06-15T20:53:54.418Z"
   },
   {
    "duration": 13,
    "start_time": "2022-06-15T20:55:19.943Z"
   },
   {
    "duration": 4,
    "start_time": "2022-06-15T20:55:38.188Z"
   },
   {
    "duration": 12,
    "start_time": "2022-06-15T20:57:04.175Z"
   },
   {
    "duration": 4,
    "start_time": "2022-06-15T20:57:55.549Z"
   },
   {
    "duration": 4,
    "start_time": "2022-06-15T20:58:37.195Z"
   },
   {
    "duration": 5,
    "start_time": "2022-06-15T20:59:04.809Z"
   },
   {
    "duration": 5,
    "start_time": "2022-06-15T20:59:08.643Z"
   },
   {
    "duration": 12,
    "start_time": "2022-06-15T20:59:33.462Z"
   },
   {
    "duration": 10,
    "start_time": "2022-06-15T20:59:51.319Z"
   },
   {
    "duration": 14,
    "start_time": "2022-06-15T21:00:13.283Z"
   },
   {
    "duration": 10,
    "start_time": "2022-06-15T21:00:22.461Z"
   },
   {
    "duration": 136,
    "start_time": "2022-06-15T21:00:51.655Z"
   },
   {
    "duration": 36,
    "start_time": "2022-06-15T21:01:41.820Z"
   },
   {
    "duration": 11,
    "start_time": "2022-06-15T21:02:02.136Z"
   },
   {
    "duration": 17,
    "start_time": "2022-06-15T21:02:15.151Z"
   },
   {
    "duration": 21,
    "start_time": "2022-06-15T21:03:16.739Z"
   },
   {
    "duration": 36,
    "start_time": "2022-06-15T21:03:57.446Z"
   },
   {
    "duration": 21,
    "start_time": "2022-06-15T21:04:53.764Z"
   },
   {
    "duration": 23,
    "start_time": "2022-06-15T21:05:11.999Z"
   },
   {
    "duration": 25,
    "start_time": "2022-06-15T21:08:56.304Z"
   },
   {
    "duration": 32,
    "start_time": "2022-06-15T21:09:10.604Z"
   },
   {
    "duration": 29,
    "start_time": "2022-06-15T21:09:54.420Z"
   },
   {
    "duration": 3,
    "start_time": "2022-06-15T21:10:28.743Z"
   },
   {
    "duration": 1243,
    "start_time": "2022-06-15T21:10:28.751Z"
   },
   {
    "duration": 3,
    "start_time": "2022-06-15T21:10:29.996Z"
   },
   {
    "duration": 293,
    "start_time": "2022-06-15T21:10:30.000Z"
   },
   {
    "duration": 16,
    "start_time": "2022-06-15T21:10:30.295Z"
   },
   {
    "duration": 61,
    "start_time": "2022-06-15T21:10:30.313Z"
   },
   {
    "duration": 22,
    "start_time": "2022-06-15T21:10:30.376Z"
   },
   {
    "duration": 29,
    "start_time": "2022-06-15T21:10:30.399Z"
   },
   {
    "duration": 9,
    "start_time": "2022-06-15T21:10:30.430Z"
   },
   {
    "duration": 112,
    "start_time": "2022-06-15T21:10:30.441Z"
   },
   {
    "duration": 7,
    "start_time": "2022-06-15T21:10:30.556Z"
   },
   {
    "duration": 30,
    "start_time": "2022-06-15T21:10:30.565Z"
   },
   {
    "duration": 37,
    "start_time": "2022-06-15T21:10:30.596Z"
   },
   {
    "duration": 9,
    "start_time": "2022-06-15T21:10:30.635Z"
   },
   {
    "duration": 432,
    "start_time": "2022-06-15T21:10:30.646Z"
   },
   {
    "duration": 148,
    "start_time": "2022-06-15T21:10:31.079Z"
   },
   {
    "duration": 23,
    "start_time": "2022-06-15T21:10:31.228Z"
   },
   {
    "duration": 5,
    "start_time": "2022-06-15T21:10:31.252Z"
   },
   {
    "duration": 8,
    "start_time": "2022-06-15T21:10:31.258Z"
   },
   {
    "duration": 12,
    "start_time": "2022-06-15T21:10:31.267Z"
   },
   {
    "duration": 46,
    "start_time": "2022-06-15T21:10:31.280Z"
   },
   {
    "duration": 14,
    "start_time": "2022-06-15T21:10:31.328Z"
   },
   {
    "duration": 7,
    "start_time": "2022-06-15T21:10:31.344Z"
   },
   {
    "duration": 17,
    "start_time": "2022-06-15T21:10:31.352Z"
   },
   {
    "duration": 9,
    "start_time": "2022-06-15T21:10:31.370Z"
   },
   {
    "duration": 10,
    "start_time": "2022-06-15T21:10:31.380Z"
   },
   {
    "duration": 47,
    "start_time": "2022-06-15T21:10:31.392Z"
   },
   {
    "duration": 45,
    "start_time": "2022-06-15T21:10:31.441Z"
   },
   {
    "duration": 239,
    "start_time": "2022-06-15T21:10:31.489Z"
   },
   {
    "duration": 197,
    "start_time": "2022-06-15T21:10:31.729Z"
   },
   {
    "duration": 44,
    "start_time": "2022-06-15T21:10:31.928Z"
   },
   {
    "duration": 9,
    "start_time": "2022-06-15T21:10:31.973Z"
   },
   {
    "duration": 13,
    "start_time": "2022-06-15T21:10:31.984Z"
   },
   {
    "duration": 31,
    "start_time": "2022-06-15T21:10:31.998Z"
   },
   {
    "duration": 30,
    "start_time": "2022-06-15T21:10:32.031Z"
   },
   {
    "duration": 8,
    "start_time": "2022-06-15T21:10:32.063Z"
   },
   {
    "duration": 7,
    "start_time": "2022-06-15T21:10:32.072Z"
   },
   {
    "duration": 67,
    "start_time": "2022-06-15T21:10:32.080Z"
   },
   {
    "duration": 2,
    "start_time": "2022-06-15T21:11:39.138Z"
   },
   {
    "duration": 1211,
    "start_time": "2022-06-15T21:11:39.143Z"
   },
   {
    "duration": 2,
    "start_time": "2022-06-15T21:11:40.356Z"
   },
   {
    "duration": 287,
    "start_time": "2022-06-15T21:11:40.360Z"
   },
   {
    "duration": 16,
    "start_time": "2022-06-15T21:11:40.649Z"
   },
   {
    "duration": 63,
    "start_time": "2022-06-15T21:11:40.667Z"
   },
   {
    "duration": 27,
    "start_time": "2022-06-15T21:11:40.732Z"
   },
   {
    "duration": 6,
    "start_time": "2022-06-15T21:11:40.761Z"
   },
   {
    "duration": 8,
    "start_time": "2022-06-15T21:11:40.769Z"
   },
   {
    "duration": 138,
    "start_time": "2022-06-15T21:11:40.779Z"
   },
   {
    "duration": 13,
    "start_time": "2022-06-15T21:11:40.919Z"
   },
   {
    "duration": 34,
    "start_time": "2022-06-15T21:11:40.934Z"
   },
   {
    "duration": 15,
    "start_time": "2022-06-15T21:11:40.970Z"
   },
   {
    "duration": 8,
    "start_time": "2022-06-15T21:11:40.987Z"
   },
   {
    "duration": 382,
    "start_time": "2022-06-15T21:11:40.997Z"
   },
   {
    "duration": 167,
    "start_time": "2022-06-15T21:11:41.381Z"
   },
   {
    "duration": 21,
    "start_time": "2022-06-15T21:11:41.550Z"
   },
   {
    "duration": 4,
    "start_time": "2022-06-15T21:11:41.573Z"
   },
   {
    "duration": 6,
    "start_time": "2022-06-15T21:11:41.578Z"
   },
   {
    "duration": 40,
    "start_time": "2022-06-15T21:11:41.586Z"
   },
   {
    "duration": 28,
    "start_time": "2022-06-15T21:11:41.628Z"
   },
   {
    "duration": 12,
    "start_time": "2022-06-15T21:11:41.658Z"
   },
   {
    "duration": 5,
    "start_time": "2022-06-15T21:11:41.672Z"
   },
   {
    "duration": 19,
    "start_time": "2022-06-15T21:11:41.678Z"
   },
   {
    "duration": 38,
    "start_time": "2022-06-15T21:11:41.698Z"
   },
   {
    "duration": 14,
    "start_time": "2022-06-15T21:11:41.737Z"
   },
   {
    "duration": 21,
    "start_time": "2022-06-15T21:11:41.753Z"
   },
   {
    "duration": 71,
    "start_time": "2022-06-15T21:11:41.775Z"
   },
   {
    "duration": 276,
    "start_time": "2022-06-15T21:11:41.849Z"
   },
   {
    "duration": 216,
    "start_time": "2022-06-15T21:11:42.127Z"
   },
   {
    "duration": 40,
    "start_time": "2022-06-15T21:11:42.345Z"
   },
   {
    "duration": 10,
    "start_time": "2022-06-15T21:11:42.387Z"
   },
   {
    "duration": 37,
    "start_time": "2022-06-15T21:11:42.398Z"
   },
   {
    "duration": 9,
    "start_time": "2022-06-15T21:11:42.437Z"
   },
   {
    "duration": 32,
    "start_time": "2022-06-15T21:11:42.448Z"
   },
   {
    "duration": 11,
    "start_time": "2022-06-15T21:11:42.482Z"
   },
   {
    "duration": 36,
    "start_time": "2022-06-15T21:11:42.495Z"
   },
   {
    "duration": 55,
    "start_time": "2022-06-15T21:11:42.533Z"
   },
   {
    "duration": 1875,
    "start_time": "2022-06-16T18:09:18.334Z"
   },
   {
    "duration": 1223,
    "start_time": "2022-06-16T18:09:20.211Z"
   },
   {
    "duration": 2,
    "start_time": "2022-06-16T18:09:21.436Z"
   },
   {
    "duration": 339,
    "start_time": "2022-06-16T18:09:21.440Z"
   },
   {
    "duration": 19,
    "start_time": "2022-06-16T18:09:21.782Z"
   },
   {
    "duration": 77,
    "start_time": "2022-06-16T18:09:21.803Z"
   },
   {
    "duration": 23,
    "start_time": "2022-06-16T18:09:21.882Z"
   },
   {
    "duration": 8,
    "start_time": "2022-06-16T18:09:21.907Z"
   },
   {
    "duration": 13,
    "start_time": "2022-06-16T18:09:21.917Z"
   },
   {
    "duration": 128,
    "start_time": "2022-06-16T18:09:21.933Z"
   },
   {
    "duration": 15,
    "start_time": "2022-06-16T18:09:22.066Z"
   },
   {
    "duration": 28,
    "start_time": "2022-06-16T18:09:22.083Z"
   },
   {
    "duration": 17,
    "start_time": "2022-06-16T18:09:22.113Z"
   },
   {
    "duration": 8,
    "start_time": "2022-06-16T18:09:22.131Z"
   },
   {
    "duration": 470,
    "start_time": "2022-06-16T18:09:22.141Z"
   },
   {
    "duration": 176,
    "start_time": "2022-06-16T18:09:22.612Z"
   },
   {
    "duration": 22,
    "start_time": "2022-06-16T18:09:22.790Z"
   },
   {
    "duration": 4,
    "start_time": "2022-06-16T18:09:22.814Z"
   },
   {
    "duration": 9,
    "start_time": "2022-06-16T18:09:22.820Z"
   },
   {
    "duration": 47,
    "start_time": "2022-06-16T18:09:22.831Z"
   },
   {
    "duration": 24,
    "start_time": "2022-06-16T18:09:22.879Z"
   },
   {
    "duration": 13,
    "start_time": "2022-06-16T18:09:22.905Z"
   },
   {
    "duration": 5,
    "start_time": "2022-06-16T18:09:22.919Z"
   },
   {
    "duration": 46,
    "start_time": "2022-06-16T18:09:22.926Z"
   },
   {
    "duration": 19,
    "start_time": "2022-06-16T18:09:22.973Z"
   },
   {
    "duration": 11,
    "start_time": "2022-06-16T18:09:22.994Z"
   },
   {
    "duration": 248,
    "start_time": "2022-06-16T18:09:23.007Z"
   },
   {
    "duration": 113,
    "start_time": "2022-06-16T18:09:23.259Z"
   },
   {
    "duration": 282,
    "start_time": "2022-06-16T18:09:23.373Z"
   },
   {
    "duration": 235,
    "start_time": "2022-06-16T18:09:23.657Z"
   },
   {
    "duration": 153,
    "start_time": "2022-06-16T18:09:23.895Z"
   },
   {
    "duration": 20,
    "start_time": "2022-06-16T18:09:24.049Z"
   },
   {
    "duration": 20,
    "start_time": "2022-06-16T18:09:24.071Z"
   },
   {
    "duration": 10,
    "start_time": "2022-06-16T18:09:24.093Z"
   },
   {
    "duration": 31,
    "start_time": "2022-06-16T18:09:24.105Z"
   },
   {
    "duration": 35,
    "start_time": "2022-06-16T18:09:24.138Z"
   },
   {
    "duration": 15,
    "start_time": "2022-06-16T18:09:24.175Z"
   },
   {
    "duration": 62,
    "start_time": "2022-06-16T18:09:24.192Z"
   }
  ],
  "kernelspec": {
   "display_name": "Python 3 (ipykernel)",
   "language": "python",
   "name": "python3"
  },
  "language_info": {
   "codemirror_mode": {
    "name": "ipython",
    "version": 3
   },
   "file_extension": ".py",
   "mimetype": "text/x-python",
   "name": "python",
   "nbconvert_exporter": "python",
   "pygments_lexer": "ipython3",
   "version": "3.9.13"
  },
  "toc": {
   "base_numbering": 1,
   "nav_menu": {},
   "number_sections": true,
   "sideBar": true,
   "skip_h1_title": true,
   "title_cell": "Table of Contents",
   "title_sidebar": "Contents",
   "toc_cell": false,
   "toc_position": {},
   "toc_section_display": true,
   "toc_window_display": true
  }
 },
 "nbformat": 4,
 "nbformat_minor": 2
}
